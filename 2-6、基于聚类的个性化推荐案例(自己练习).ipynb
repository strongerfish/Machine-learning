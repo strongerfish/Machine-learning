{
 "cells": [
  {
   "cell_type": "markdown",
   "metadata": {},
   "source": [
    "# 分析思路梳理：\n",
    "\n",
    "一、基于用户的数据进行聚类\n",
    "- 1、数据的读取\n",
    "\n",
    "- 2、数据的探索（目的是为数据预处理做准备）\n",
    "\n",
    "- 3、数据的预处理（变量的选择、缺失值、异常值、数据类型、标准化处理）\n",
    "\n",
    "- 4、模型的搭建（确定最优K值-聚类）\n",
    "\n",
    "- 5、依据模型划分用户群\n",
    "\n",
    "二、基于用户聚类的结果进行个性化推荐\n",
    "将用户没有购买过的商品，同一类群中其他用户又都喜欢的，推荐给用户：\n",
    "- 1、用户没买过的商品信息列表【用户-商品（notbuy）】\n",
    "- 2、【用户-商品（notbuy）】匹配用户类群【用户-商品（notbuy）-类群】\n",
    "- 3、定义喜欢（用户对商品的购买次数表示喜好度），构建用户对商品的喜好度【用户-商品-喜好度】\n",
    "- 4、【用户-商品-喜好度】匹配用户类群【用户-商品-喜好度-类群】\n",
    "- 5、同一类群中的用户对同一种商品的喜好度进行聚合，得到，用户类群对每一个商品的喜好度【类群-商品-平均喜好度】\n",
    "- 6、将2与5进行合并（商品-类群），得到【用户-商品（notbuy）-类群-类群平均喜好度】\n",
    "- 7、对用户进行分组排序，推荐\n",
    "\n",
    "三、导出结果"
   ]
  },
  {
   "cell_type": "markdown",
   "metadata": {},
   "source": [
    "导入库和文件位置"
   ]
  },
  {
   "cell_type": "code",
   "execution_count": 1,
   "metadata": {},
   "outputs": [],
   "source": [
    "import numpy as np\n",
    "import pandas as pd "
   ]
  },
  {
   "cell_type": "code",
   "execution_count": 2,
   "metadata": {},
   "outputs": [],
   "source": [
    "import os\n",
    "os.chdir(r'E:\\Data analysis\\CDA\\learning\\0、python自己练习\\6、机器学习\\data\\推荐系统')"
   ]
  },
  {
   "cell_type": "markdown",
   "metadata": {},
   "source": [
    "# 基于用户的数据进行聚类"
   ]
  },
  {
   "cell_type": "markdown",
   "metadata": {},
   "source": [
    "## 读取数据"
   ]
  },
  {
   "cell_type": "code",
   "execution_count": 86,
   "metadata": {},
   "outputs": [],
   "source": [
    "df_order = pd.read_csv(\"orders.csv\")                          #读取订单数据\n",
    "df_item = pd.read_csv(\"Items_orders.csv\")                     #读取商品交易数据\n",
    "df_atrr = pd.read_csv(\"Items_attribute.csv\",encoding='gbk')   #读取商品属性数据"
   ]
  },
  {
   "cell_type": "code",
   "execution_count": 4,
   "metadata": {},
   "outputs": [],
   "source": [
    "pd.set_option('max_columns',200)    #尽量展示所有列信息"
   ]
  },
  {
   "cell_type": "markdown",
   "metadata": {},
   "source": [
    "## 数据的探索（目的是为数据预处理做准备）"
   ]
  },
  {
   "cell_type": "markdown",
   "metadata": {},
   "source": [
    "### 先观察三个表之间的关联性"
   ]
  },
  {
   "cell_type": "code",
   "execution_count": 5,
   "metadata": {
    "collapsed": true
   },
   "outputs": [
    {
     "data": {
      "text/html": [
       "<div>\n",
       "<style scoped>\n",
       "    .dataframe tbody tr th:only-of-type {\n",
       "        vertical-align: middle;\n",
       "    }\n",
       "\n",
       "    .dataframe tbody tr th {\n",
       "        vertical-align: top;\n",
       "    }\n",
       "\n",
       "    .dataframe thead th {\n",
       "        text-align: right;\n",
       "    }\n",
       "</style>\n",
       "<table border=\"1\" class=\"dataframe\">\n",
       "  <thead>\n",
       "    <tr style=\"text-align: right;\">\n",
       "      <th></th>\n",
       "      <th>订单编号</th>\n",
       "      <th>买家会员名</th>\n",
       "      <th>买家支付宝账号</th>\n",
       "      <th>买家应付货款</th>\n",
       "      <th>买家应付邮费</th>\n",
       "      <th>买家支付积分</th>\n",
       "      <th>总金额</th>\n",
       "      <th>返点积分</th>\n",
       "      <th>买家实际支付金额</th>\n",
       "      <th>买家实际支付积分</th>\n",
       "      <th>订单状态</th>\n",
       "      <th>买家留言</th>\n",
       "      <th>收货人姓名</th>\n",
       "      <th>收货地址</th>\n",
       "      <th>运送方式</th>\n",
       "      <th>联系电话</th>\n",
       "      <th>联系手机</th>\n",
       "      <th>订单创建时间</th>\n",
       "      <th>订单付款时间</th>\n",
       "      <th>宝贝标题</th>\n",
       "      <th>宝贝种类</th>\n",
       "      <th>物流单号</th>\n",
       "      <th>物流公司</th>\n",
       "      <th>订单备注</th>\n",
       "      <th>宝贝总数量</th>\n",
       "      <th>店铺Id</th>\n",
       "      <th>店铺名称</th>\n",
       "      <th>订单关闭原因</th>\n",
       "      <th>卖家服务费</th>\n",
       "      <th>买家服务费</th>\n",
       "      <th>发票抬头</th>\n",
       "      <th>是否手机订单</th>\n",
       "      <th>分阶段订单信息</th>\n",
       "      <th>特权订金订单id</th>\n",
       "      <th>是否上传合同照片</th>\n",
       "      <th>是否上传小票</th>\n",
       "      <th>是否代付</th>\n",
       "      <th>定金排名</th>\n",
       "      <th>修改后的sku</th>\n",
       "      <th>修改后的收货地址</th>\n",
       "      <th>异常信息</th>\n",
       "      <th>天猫卡券抵扣</th>\n",
       "      <th>集分宝抵扣</th>\n",
       "      <th>是否是O2O交易</th>\n",
       "      <th>退款金额</th>\n",
       "      <th>预约门店</th>\n",
       "    </tr>\n",
       "  </thead>\n",
       "  <tbody>\n",
       "    <tr>\n",
       "      <th>0</th>\n",
       "      <td>21407300627014900</td>\n",
       "      <td>1425</td>\n",
       "      <td>yorzikyA6C</td>\n",
       "      <td>58.51</td>\n",
       "      <td>0.0</td>\n",
       "      <td>0</td>\n",
       "      <td>58.51</td>\n",
       "      <td>0</td>\n",
       "      <td>58.51</td>\n",
       "      <td>0</td>\n",
       "      <td>交易成功</td>\n",
       "      <td>NaN</td>\n",
       "      <td>33</td>\n",
       "      <td>广东省 广州市 越秀区 华乐街道环市东路华侨新村光明路28号3a楼（即原文化假日酒店，后易名...</td>\n",
       "      <td>快递</td>\n",
       "      <td>NaN</td>\n",
       "      <td>AC5CCC66557</td>\n",
       "      <td>2017/5/30 23:18</td>\n",
       "      <td>2017/5/30 23:18</td>\n",
       "      <td>发光玩具批发光纤手指灯闪光夜市热卖货源儿童玩具地摊义乌厂家，特价5号AA普通干电池 电动玩具...</td>\n",
       "      <td>5</td>\n",
       "      <td>No:3330622150731</td>\n",
       "      <td>申通快递</td>\n",
       "      <td>NaN</td>\n",
       "      <td>59</td>\n",
       "      <td>0</td>\n",
       "      <td>0</td>\n",
       "      <td>订单未关闭</td>\n",
       "      <td>0</td>\n",
       "      <td>0元</td>\n",
       "      <td>NaN</td>\n",
       "      <td>NaN</td>\n",
       "      <td>NaN</td>\n",
       "      <td>NaN</td>\n",
       "      <td>否</td>\n",
       "      <td>否</td>\n",
       "      <td>否</td>\n",
       "      <td>NaN</td>\n",
       "      <td>NaN</td>\n",
       "      <td>NaN</td>\n",
       "      <td>NaN</td>\n",
       "      <td>NaN</td>\n",
       "      <td>NaN</td>\n",
       "      <td>NaN</td>\n",
       "      <td>0.0</td>\n",
       "      <td>NaN</td>\n",
       "    </tr>\n",
       "    <tr>\n",
       "      <th>1</th>\n",
       "      <td>24270488269081200</td>\n",
       "      <td>2163</td>\n",
       "      <td>AC870BA5860</td>\n",
       "      <td>15.70</td>\n",
       "      <td>5.0</td>\n",
       "      <td>0</td>\n",
       "      <td>20.70</td>\n",
       "      <td>0</td>\n",
       "      <td>20.70</td>\n",
       "      <td>0</td>\n",
       "      <td>交易成功</td>\n",
       "      <td>NaN</td>\n",
       "      <td>1532</td>\n",
       "      <td>江西省 九江市 浔阳区 甘棠街道浔阳东路108号儿童保健康复中心亲子园(332000)</td>\n",
       "      <td>快递</td>\n",
       "      <td>NaN</td>\n",
       "      <td>AC870BA5860</td>\n",
       "      <td>2017/5/30 23:08</td>\n",
       "      <td>2017/5/30 23:08</td>\n",
       "      <td>创意新款回力小车惯性坦克 军事儿童玩具模型地摊货源玩具车批发，创意新款回力小车惯性坦克 军事...</td>\n",
       "      <td>2</td>\n",
       "      <td>No:71157010281123</td>\n",
       "      <td>百世快递</td>\n",
       "      <td>NaN</td>\n",
       "      <td>2</td>\n",
       "      <td>0</td>\n",
       "      <td>0</td>\n",
       "      <td>订单未关闭</td>\n",
       "      <td>0</td>\n",
       "      <td>0元</td>\n",
       "      <td>NaN</td>\n",
       "      <td>手机订单</td>\n",
       "      <td>NaN</td>\n",
       "      <td>NaN</td>\n",
       "      <td>否</td>\n",
       "      <td>否</td>\n",
       "      <td>否</td>\n",
       "      <td>NaN</td>\n",
       "      <td>NaN</td>\n",
       "      <td>NaN</td>\n",
       "      <td>NaN</td>\n",
       "      <td>NaN</td>\n",
       "      <td>NaN</td>\n",
       "      <td>NaN</td>\n",
       "      <td>0.0</td>\n",
       "      <td>NaN</td>\n",
       "    </tr>\n",
       "  </tbody>\n",
       "</table>\n",
       "</div>"
      ],
      "text/plain": [
       "                订单编号  买家会员名      买家支付宝账号  买家应付货款  买家应付邮费  买家支付积分    总金额  返点积分  \\\n",
       "0  21407300627014900   1425   yorzikyA6C   58.51     0.0       0  58.51     0   \n",
       "1  24270488269081200   2163  AC870BA5860   15.70     5.0       0  20.70     0   \n",
       "\n",
       "   买家实际支付金额  买家实际支付积分  订单状态 买家留言  收货人姓名  \\\n",
       "0     58.51         0  交易成功  NaN     33   \n",
       "1     20.70         0  交易成功  NaN   1532   \n",
       "\n",
       "                                                收货地址 运送方式 联系电话          联系手机  \\\n",
       "0  广东省 广州市 越秀区 华乐街道环市东路华侨新村光明路28号3a楼（即原文化假日酒店，后易名...   快递   NaN  AC5CCC66557   \n",
       "1        江西省 九江市 浔阳区 甘棠街道浔阳东路108号儿童保健康复中心亲子园(332000)   快递   NaN  AC870BA5860   \n",
       "\n",
       "            订单创建时间          订单付款时间   \\\n",
       "0  2017/5/30 23:18  2017/5/30 23:18   \n",
       "1  2017/5/30 23:08  2017/5/30 23:08   \n",
       "\n",
       "                                               宝贝标题   宝贝种类              物流单号   \\\n",
       "0  发光玩具批发光纤手指灯闪光夜市热卖货源儿童玩具地摊义乌厂家，特价5号AA普通干电池 电动玩具...     5   No:3330622150731   \n",
       "1  创意新款回力小车惯性坦克 军事儿童玩具模型地摊货源玩具车批发，创意新款回力小车惯性坦克 军事...     2  No:71157010281123   \n",
       "\n",
       "   物流公司 订单备注  宝贝总数量  店铺Id  店铺名称 订单关闭原因  卖家服务费 买家服务费  发票抬头 是否手机订单  分阶段订单信息  \\\n",
       "0  申通快递  NaN     59     0     0  订单未关闭      0    0元   NaN    NaN      NaN   \n",
       "1  百世快递  NaN      2     0     0  订单未关闭      0    0元   NaN   手机订单      NaN   \n",
       "\n",
       "   特权订金订单id 是否上传合同照片 是否上传小票 是否代付  定金排名  修改后的sku 修改后的收货地址  异常信息  天猫卡券抵扣  集分宝抵扣  \\\n",
       "0       NaN        否      否    否   NaN      NaN      NaN   NaN     NaN    NaN   \n",
       "1       NaN        否      否    否   NaN      NaN      NaN   NaN     NaN    NaN   \n",
       "\n",
       "   是否是O2O交易  退款金额  预约门店  \n",
       "0       NaN   0.0   NaN  \n",
       "1       NaN   0.0   NaN  "
      ]
     },
     "execution_count": 5,
     "metadata": {},
     "output_type": "execute_result"
    }
   ],
   "source": [
    "df_order.head(2)  #查看表数据"
   ]
  },
  {
   "cell_type": "code",
   "execution_count": 6,
   "metadata": {},
   "outputs": [
    {
     "data": {
      "text/plain": [
       "((3989, 46), (3989,))"
      ]
     },
     "execution_count": 6,
     "metadata": {},
     "output_type": "execute_result"
    }
   ],
   "source": [
    "df_order.shape,np.unique(df_order.订单编号).shape  #可以看出没有重复数据"
   ]
  },
  {
   "cell_type": "code",
   "execution_count": 8,
   "metadata": {
    "collapsed": true
   },
   "outputs": [
    {
     "data": {
      "text/html": [
       "<div>\n",
       "<style scoped>\n",
       "    .dataframe tbody tr th:only-of-type {\n",
       "        vertical-align: middle;\n",
       "    }\n",
       "\n",
       "    .dataframe tbody tr th {\n",
       "        vertical-align: top;\n",
       "    }\n",
       "\n",
       "    .dataframe thead th {\n",
       "        text-align: right;\n",
       "    }\n",
       "</style>\n",
       "<table border=\"1\" class=\"dataframe\">\n",
       "  <thead>\n",
       "    <tr style=\"text-align: right;\">\n",
       "      <th></th>\n",
       "      <th>订单编号</th>\n",
       "      <th>标题</th>\n",
       "      <th>价格</th>\n",
       "      <th>购买数量</th>\n",
       "      <th>外部系统编号</th>\n",
       "      <th>商品属性</th>\n",
       "      <th>套餐信息</th>\n",
       "      <th>备注</th>\n",
       "      <th>订单状态</th>\n",
       "      <th>商家编码</th>\n",
       "    </tr>\n",
       "  </thead>\n",
       "  <tbody>\n",
       "    <tr>\n",
       "      <th>0</th>\n",
       "      <td>21407300627014900</td>\n",
       "      <td>发光玩具批发光纤手指灯闪光夜市热卖货源儿童玩具地摊义乌厂家</td>\n",
       "      <td>0.58</td>\n",
       "      <td>12</td>\n",
       "      <td>WY013-2SZD0426</td>\n",
       "      <td>颜色分类：小号</td>\n",
       "      <td>NaN</td>\n",
       "      <td>NaN</td>\n",
       "      <td>交易成功</td>\n",
       "      <td>WY013-2SZD0426</td>\n",
       "    </tr>\n",
       "    <tr>\n",
       "      <th>1</th>\n",
       "      <td>21407300627014900</td>\n",
       "      <td>特价5号AA普通干电池 电动玩具配件 厂家直销批</td>\n",
       "      <td>1.00</td>\n",
       "      <td>20</td>\n",
       "      <td>HT-5H0094</td>\n",
       "      <td>NaN</td>\n",
       "      <td>NaN</td>\n",
       "      <td>NaN</td>\n",
       "      <td>交易成功</td>\n",
       "      <td>HT-5H0094</td>\n",
       "    </tr>\n",
       "    <tr>\n",
       "      <th>2</th>\n",
       "      <td>21407300627014900</td>\n",
       "      <td>大号泡泡棒沙滩小铲子工具泡泡枪公园吹泡泡户外亲子游戏玩具热卖</td>\n",
       "      <td>1.20</td>\n",
       "      <td>16</td>\n",
       "      <td>GC018005</td>\n",
       "      <td>NaN</td>\n",
       "      <td>NaN</td>\n",
       "      <td>NaN</td>\n",
       "      <td>交易成功</td>\n",
       "      <td>GC018005</td>\n",
       "    </tr>\n",
       "    <tr>\n",
       "      <th>3</th>\n",
       "      <td>21407300627014900</td>\n",
       "      <td>特价正品7号电池儿童电动玩具电源配件 厂家直销1元4节地摊货批发</td>\n",
       "      <td>1.00</td>\n",
       "      <td>10</td>\n",
       "      <td>HT-7H0093</td>\n",
       "      <td>NaN</td>\n",
       "      <td>NaN</td>\n",
       "      <td>NaN</td>\n",
       "      <td>交易成功</td>\n",
       "      <td>HT-7H0093</td>\n",
       "    </tr>\n",
       "    <tr>\n",
       "      <th>4</th>\n",
       "      <td>21407300627014900</td>\n",
       "      <td>儿童沙滩玩具水枪 宝宝玩水玩具户外洗澡游泳漂流戏大号水枪批发</td>\n",
       "      <td>6.79</td>\n",
       "      <td>1</td>\n",
       "      <td>GC080003</td>\n",
       "      <td>套餐类型：标准配置;颜色分类：33000蓝色水枪</td>\n",
       "      <td>NaN</td>\n",
       "      <td>NaN</td>\n",
       "      <td>交易成功</td>\n",
       "      <td>GC080003</td>\n",
       "    </tr>\n",
       "  </tbody>\n",
       "</table>\n",
       "</div>"
      ],
      "text/plain": [
       "                订单编号                                标题    价格  购买数量  \\\n",
       "0  21407300627014900     发光玩具批发光纤手指灯闪光夜市热卖货源儿童玩具地摊义乌厂家  0.58    12   \n",
       "1  21407300627014900          特价5号AA普通干电池 电动玩具配件 厂家直销批  1.00    20   \n",
       "2  21407300627014900    大号泡泡棒沙滩小铲子工具泡泡枪公园吹泡泡户外亲子游戏玩具热卖  1.20    16   \n",
       "3  21407300627014900  特价正品7号电池儿童电动玩具电源配件 厂家直销1元4节地摊货批发  1.00    10   \n",
       "4  21407300627014900    儿童沙滩玩具水枪 宝宝玩水玩具户外洗澡游泳漂流戏大号水枪批发  6.79     1   \n",
       "\n",
       "           外部系统编号                      商品属性  套餐信息   备注  订单状态            商家编码  \n",
       "0  WY013-2SZD0426                   颜色分类：小号   NaN  NaN  交易成功  WY013-2SZD0426  \n",
       "1       HT-5H0094                       NaN   NaN  NaN  交易成功       HT-5H0094  \n",
       "2        GC018005                       NaN   NaN  NaN  交易成功        GC018005  \n",
       "3       HT-7H0093                       NaN   NaN  NaN  交易成功       HT-7H0093  \n",
       "4        GC080003  套餐类型：标准配置;颜色分类：33000蓝色水枪   NaN  NaN  交易成功        GC080003  "
      ]
     },
     "execution_count": 8,
     "metadata": {},
     "output_type": "execute_result"
    }
   ],
   "source": [
    "df_item.head()     #查看表数据"
   ]
  },
  {
   "cell_type": "code",
   "execution_count": 9,
   "metadata": {},
   "outputs": [
    {
     "data": {
      "text/plain": [
       "((21897, 10), (3989,))"
      ]
     },
     "execution_count": 9,
     "metadata": {},
     "output_type": "execute_result"
    }
   ],
   "source": [
    "df_item.shape,np.unique(df_item.订单编号).shape  \n",
    "#订单编号去重后与df_order的行数一致\n",
    "#结合数据，我们可以肯定df_item是订单明细表，df_order是订单表，两个表需要合并成一张表"
   ]
  },
  {
   "cell_type": "code",
   "execution_count": 10,
   "metadata": {
    "collapsed": true
   },
   "outputs": [
    {
     "data": {
      "text/html": [
       "<div>\n",
       "<style scoped>\n",
       "    .dataframe tbody tr th:only-of-type {\n",
       "        vertical-align: middle;\n",
       "    }\n",
       "\n",
       "    .dataframe tbody tr th {\n",
       "        vertical-align: top;\n",
       "    }\n",
       "\n",
       "    .dataframe thead th {\n",
       "        text-align: right;\n",
       "    }\n",
       "</style>\n",
       "<table border=\"1\" class=\"dataframe\">\n",
       "  <thead>\n",
       "    <tr style=\"text-align: right;\">\n",
       "      <th></th>\n",
       "      <th>宝贝ID</th>\n",
       "      <th>标题</th>\n",
       "      <th>价格</th>\n",
       "      <th>玩具类型</th>\n",
       "      <th>适用年龄</th>\n",
       "      <th>品牌</th>\n",
       "    </tr>\n",
       "  </thead>\n",
       "  <tbody>\n",
       "    <tr>\n",
       "      <th>0</th>\n",
       "      <td>537396783238</td>\n",
       "      <td>创意新款回力小车惯性坦克 军事儿童玩具模型地摊货源玩具车批发</td>\n",
       "      <td>8.90</td>\n",
       "      <td>塑胶玩具</td>\n",
       "      <td>3岁,4岁,5岁,6岁</td>\n",
       "      <td>3</td>\n",
       "    </tr>\n",
       "    <tr>\n",
       "      <th>1</th>\n",
       "      <td>36286235128</td>\n",
       "      <td>2017热卖大号仿真惯性挖土机儿童益智礼品创意义乌地摊货玩具批发</td>\n",
       "      <td>3.90</td>\n",
       "      <td>其它玩具</td>\n",
       "      <td>3岁,4岁,5岁,6岁</td>\n",
       "      <td>3</td>\n",
       "    </tr>\n",
       "    <tr>\n",
       "      <th>2</th>\n",
       "      <td>35722000205</td>\n",
       "      <td>创意发光球闪光透明发光水晶弹力球儿童小玩具 夜市地摊货源批发</td>\n",
       "      <td>1.65</td>\n",
       "      <td>其它玩具</td>\n",
       "      <td>3岁,4岁,5岁,6岁,7岁,8岁,9岁,10岁,11岁,12岁</td>\n",
       "      <td>3</td>\n",
       "    </tr>\n",
       "    <tr>\n",
       "      <th>3</th>\n",
       "      <td>550659732532</td>\n",
       "      <td>新款创意六一儿童节礼物音乐投影电动枪夜市地摊货源批发男孩玩具</td>\n",
       "      <td>9.90</td>\n",
       "      <td>其它玩具</td>\n",
       "      <td>3岁,4岁,5岁,6岁,7岁,8岁,9岁,10岁,11岁,12岁,13岁,14岁</td>\n",
       "      <td>3</td>\n",
       "    </tr>\n",
       "    <tr>\n",
       "      <th>4</th>\n",
       "      <td>531877266868</td>\n",
       "      <td>发条玩具批发上链卡通动物青蛙儿童礼物宝宝玩具经典80后益智地摊</td>\n",
       "      <td>1.85</td>\n",
       "      <td>其它玩具</td>\n",
       "      <td>3岁,4岁</td>\n",
       "      <td>3</td>\n",
       "    </tr>\n",
       "  </tbody>\n",
       "</table>\n",
       "</div>"
      ],
      "text/plain": [
       "           宝贝ID                                标题    价格  玩具类型  \\\n",
       "0  537396783238    创意新款回力小车惯性坦克 军事儿童玩具模型地摊货源玩具车批发  8.90  塑胶玩具   \n",
       "1   36286235128  2017热卖大号仿真惯性挖土机儿童益智礼品创意义乌地摊货玩具批发  3.90  其它玩具   \n",
       "2   35722000205    创意发光球闪光透明发光水晶弹力球儿童小玩具 夜市地摊货源批发  1.65  其它玩具   \n",
       "3  550659732532    新款创意六一儿童节礼物音乐投影电动枪夜市地摊货源批发男孩玩具  9.90  其它玩具   \n",
       "4  531877266868   发条玩具批发上链卡通动物青蛙儿童礼物宝宝玩具经典80后益智地摊  1.85  其它玩具   \n",
       "\n",
       "                                       适用年龄  品牌  \n",
       "0                               3岁,4岁,5岁,6岁   3  \n",
       "1                               3岁,4岁,5岁,6岁   3  \n",
       "2          3岁,4岁,5岁,6岁,7岁,8岁,9岁,10岁,11岁,12岁   3  \n",
       "3  3岁,4岁,5岁,6岁,7岁,8岁,9岁,10岁,11岁,12岁,13岁,14岁   3  \n",
       "4                                     3岁,4岁   3  "
      ]
     },
     "execution_count": 10,
     "metadata": {},
     "output_type": "execute_result"
    }
   ],
   "source": [
    "df_atrr.head()        #查看表数据"
   ]
  },
  {
   "cell_type": "code",
   "execution_count": 11,
   "metadata": {},
   "outputs": [
    {
     "data": {
      "text/plain": [
       "((288, 6), (288,))"
      ]
     },
     "execution_count": 11,
     "metadata": {},
     "output_type": "execute_result"
    }
   ],
   "source": [
    "df_atrr.shape,np.unique(df_atrr.宝贝ID).shape   #可以看出没有重复数据\n",
    "#和df_item表对照看，这张表是商品信息表。\n",
    "#需要和df_item表合并，把商品属性信息补充到df_item表中\n",
    "#应该用宝贝ID作为连接字段，因df_item表中无宝贝ID字段;只有标题是共同字段；所以我们考虑用标题作为连接字段"
   ]
  },
  {
   "cell_type": "code",
   "execution_count": 12,
   "metadata": {},
   "outputs": [
    {
     "data": {
      "text/plain": [
       "((288,), (327,))"
      ]
     },
     "execution_count": 12,
     "metadata": {},
     "output_type": "execute_result"
    }
   ],
   "source": [
    "np.unique(df_atrr.标题).shape,np.unique(df_item.标题).shape \n",
    "#发现df_item表中有部分标题在df_atrr中没有"
   ]
  },
  {
   "cell_type": "markdown",
   "metadata": {},
   "source": [
    "### 检查导入的列名是否需要预处理"
   ]
  },
  {
   "cell_type": "code",
   "execution_count": 13,
   "metadata": {},
   "outputs": [
    {
     "data": {
      "text/plain": [
       "Index(['宝贝ID', '标题', '价格', '玩具类型', '适用年龄', '品牌'], dtype='object')"
      ]
     },
     "execution_count": 13,
     "metadata": {},
     "output_type": "execute_result"
    }
   ],
   "source": [
    "df_atrr.columns"
   ]
  },
  {
   "cell_type": "code",
   "execution_count": 14,
   "metadata": {},
   "outputs": [
    {
     "data": {
      "text/plain": [
       "Index(['订单编号', '标题', '价格', '购买数量', '外部系统编号', '商品属性', '套餐信息', '备注', '订单状态',\n",
       "       '商家编码'],\n",
       "      dtype='object')"
      ]
     },
     "execution_count": 14,
     "metadata": {},
     "output_type": "execute_result"
    }
   ],
   "source": [
    "df_item.columns"
   ]
  },
  {
   "cell_type": "code",
   "execution_count": 15,
   "metadata": {},
   "outputs": [
    {
     "data": {
      "text/plain": [
       "Index(['订单编号', '买家会员名', '买家支付宝账号', '买家应付货款', '买家应付邮费', '买家支付积分', '总金额', '返点积分',\n",
       "       '买家实际支付金额', '买家实际支付积分', '订单状态', '买家留言', '收货人姓名', '收货地址', '运送方式',\n",
       "       '联系电话 ', '联系手机', '订单创建时间', '订单付款时间 ', '宝贝标题 ', '宝贝种类', '物流单号 ', '物流公司',\n",
       "       '订单备注', '宝贝总数量', '店铺Id', '店铺名称', '订单关闭原因', '卖家服务费', '买家服务费', '发票抬头',\n",
       "       '是否手机订单', '分阶段订单信息', '特权订金订单id', '是否上传合同照片', '是否上传小票', '是否代付', '定金排名',\n",
       "       '修改后的sku', '修改后的收货地址', '异常信息', '天猫卡券抵扣', '集分宝抵扣', '是否是O2O交易', '退款金额',\n",
       "       '预约门店'],\n",
       "      dtype='object')"
      ]
     },
     "execution_count": 15,
     "metadata": {},
     "output_type": "execute_result"
    }
   ],
   "source": [
    "df_order.columns\n",
    "#发现部分列名中带有空格"
   ]
  },
  {
   "cell_type": "code",
   "execution_count": 19,
   "metadata": {},
   "outputs": [
    {
     "ename": "AttributeError",
     "evalue": "'DataFrame' object has no attribute '宝贝标题'",
     "output_type": "error",
     "traceback": [
      "\u001b[1;31m---------------------------------------------------------------------------\u001b[0m",
      "\u001b[1;31mAttributeError\u001b[0m                            Traceback (most recent call last)",
      "\u001b[1;32m<ipython-input-19-409c078d645d>\u001b[0m in \u001b[0;36m<module>\u001b[1;34m\u001b[0m\n\u001b[1;32m----> 1\u001b[1;33m \u001b[0mdf_order\u001b[0m\u001b[1;33m.\u001b[0m\u001b[0m宝贝标题\u001b[0m\u001b[1;33m\u001b[0m\u001b[1;33m\u001b[0m\u001b[0m\n\u001b[0m",
      "\u001b[1;32mD:\\tool\\anaconda\\lib\\site-packages\\pandas\\core\\generic.py\u001b[0m in \u001b[0;36m__getattr__\u001b[1;34m(self, name)\u001b[0m\n\u001b[0;32m   5065\u001b[0m             \u001b[1;32mif\u001b[0m \u001b[0mself\u001b[0m\u001b[1;33m.\u001b[0m\u001b[0m_info_axis\u001b[0m\u001b[1;33m.\u001b[0m\u001b[0m_can_hold_identifiers_and_holds_name\u001b[0m\u001b[1;33m(\u001b[0m\u001b[0mname\u001b[0m\u001b[1;33m)\u001b[0m\u001b[1;33m:\u001b[0m\u001b[1;33m\u001b[0m\u001b[1;33m\u001b[0m\u001b[0m\n\u001b[0;32m   5066\u001b[0m                 \u001b[1;32mreturn\u001b[0m \u001b[0mself\u001b[0m\u001b[1;33m[\u001b[0m\u001b[0mname\u001b[0m\u001b[1;33m]\u001b[0m\u001b[1;33m\u001b[0m\u001b[1;33m\u001b[0m\u001b[0m\n\u001b[1;32m-> 5067\u001b[1;33m             \u001b[1;32mreturn\u001b[0m \u001b[0mobject\u001b[0m\u001b[1;33m.\u001b[0m\u001b[0m__getattribute__\u001b[0m\u001b[1;33m(\u001b[0m\u001b[0mself\u001b[0m\u001b[1;33m,\u001b[0m \u001b[0mname\u001b[0m\u001b[1;33m)\u001b[0m\u001b[1;33m\u001b[0m\u001b[1;33m\u001b[0m\u001b[0m\n\u001b[0m\u001b[0;32m   5068\u001b[0m \u001b[1;33m\u001b[0m\u001b[0m\n\u001b[0;32m   5069\u001b[0m     \u001b[1;32mdef\u001b[0m \u001b[0m__setattr__\u001b[0m\u001b[1;33m(\u001b[0m\u001b[0mself\u001b[0m\u001b[1;33m,\u001b[0m \u001b[0mname\u001b[0m\u001b[1;33m,\u001b[0m \u001b[0mvalue\u001b[0m\u001b[1;33m)\u001b[0m\u001b[1;33m:\u001b[0m\u001b[1;33m\u001b[0m\u001b[1;33m\u001b[0m\u001b[0m\n",
      "\u001b[1;31mAttributeError\u001b[0m: 'DataFrame' object has no attribute '宝贝标题'"
     ]
    }
   ],
   "source": [
    "df_order.宝贝标题    #进一步验证df_order表的列名存在空格"
   ]
  },
  {
   "cell_type": "markdown",
   "metadata": {},
   "source": [
    "### 处理列名中的空格"
   ]
  },
  {
   "cell_type": "code",
   "execution_count": 87,
   "metadata": {},
   "outputs": [],
   "source": [
    "for df in [df_order,df_atrr,df_item]:\n",
    "    df.columns=df.columns.map(lambda x:x.strip())\n",
    "#把所有表列名中的空格去除"
   ]
  },
  {
   "cell_type": "code",
   "execution_count": 22,
   "metadata": {
    "collapsed": true
   },
   "outputs": [
    {
     "data": {
      "text/plain": [
       "0       发光玩具批发光纤手指灯闪光夜市热卖货源儿童玩具地摊义乌厂家，特价5号AA普通干电池 电动玩具...\n",
       "1       创意新款回力小车惯性坦克 军事儿童玩具模型地摊货源玩具车批发，创意新款回力小车惯性坦克 军事...\n",
       "2                           创意恐龙玩具卡装仿真恐龙模型小孩礼物宝宝玩具地摊货批发免邮\n",
       "3                          创意新款发光翅膀背带儿童演出服装天使蝴蝶翅膀地摊货源玩具批发\n",
       "4                          新品 儿童玩具四驱车男孩玩具车四驱赛车玩具电动车地摊货源批发\n",
       "5       创意儿童发光刀玩具刀闪光刀剑男生礼物义乌货源地摊玩具批发免邮，新奇创意炫彩飞碟枪飞盘射击枪 ...\n",
       "6       儿童玩具车卡通惯性工程车宝宝礼物小车男孩创意新奇地摊货源批发，创意音乐电动发光卡通仿真电锯儿...\n",
       "7       特价5号AA普通干电池 电动玩具配件 厂家直销批，正版电动泡泡枪儿童卡通动物吹泡泡机全自动玩...\n",
       "8                          创意发光球闪光透明发光水晶弹力球儿童小玩具 夜市地摊货源批发\n",
       "9       儿童地摊小玩具批发经典创意幼儿园礼物100只装竹蜻蜓飞天小玩意，2017新款儿童水枪玩具3岁...\n",
       "10      创意拉线工程车3款新奇特惯性滑行小车儿童玩具礼物地摊货源批发，创意大号惯性工程车挖土机挖掘机...\n",
       "11      创意发光球闪光透明发光水晶弹力球儿童小玩具 夜市地摊货源批发，创意新款回力小车惯性坦克 军事...\n",
       "12      卡通动物彩虹圈创意弹簧圈叠叠乐3-6岁儿童发光玩具地摊货源批发，惯性玩具车大巴卡通玩具车公交...\n",
       "13                        遥控坦克车越野车玩具军事模型可充电动汽车大炮儿童男孩3-6周岁\n",
       "14                         特价创意变形大号套装模型发光礼物地摊货源义乌热卖儿童玩具批发\n",
       "15      创意新款发光翅膀背带儿童演出服装天使蝴蝶翅膀地摊货源玩具批发，创意新款发光翅膀背带儿童演出服...\n",
       "16                         特价创意变形大号套装模型发光礼物地摊货源义乌热卖儿童玩具批发\n",
       "17                         创意回力套装12个装消防救援车飞机消防车小汽车益智小玩具批发\n",
       "18                         创意益智公主玩具女孩生日礼物礼盒单个婚纱新娘女童玩具娃娃热卖\n",
       "19      热卖无毒卡通猪泡泡枪义乌公园吹泡泡地摊货源儿童泡泡水玩具批发，创意热卖吸卡超人套装义乌小商品...\n",
       "20      遥控警车可充电儿童电动玩具车大方向盘重力感应漂移赛车男孩礼物，新款创意六一儿童节礼物音乐投影...\n",
       "21      儿童沙滩玩具车套装批发挖沙玩具 宝宝沙漏洗澡戏水 铲子沙子工具，创意新款回力小车惯性坦克 军...\n",
       "22                         正版电动泡泡枪儿童卡通动物吹泡泡机全自动玩具热卖地摊货源批发\n",
       "23      新款蜜蜂车翻斗车特技电动玩具车自动翻儿童玩具批发地摊货源新奇，新款蜜蜂车翻斗车特技电动玩具车...\n",
       "24                         创意新款回力小车惯性坦克 军事儿童玩具模型地摊货源玩具车批发\n",
       "25                         创意新款发光翅膀背带儿童演出服装天使蝴蝶翅膀地摊货源玩具批发\n",
       "26                         创意警车飞机轮公交车卡通车套装儿童礼品地摊货源热卖小玩具批发\n",
       "27      婴儿摇铃玩具益智软胶发声可爱动物手摇铃耐摔牙胶0-1岁宝宝玩具，儿童惯性工程车铲车挖掘机新款...\n",
       "28      四通遥控车电动玩具汽车模型遥控赛车警车赛车儿童益智玩具车男孩，儿童拍拍球玩具幼儿园球类宝宝新...\n",
       "29      创意恐龙玩具卡装仿真恐龙模型小孩礼物宝宝玩具地摊货批发免邮，创意音乐电动发光卡通仿真电锯儿童...\n",
       "                              ...                        \n",
       "3959    无线遥控电动二通汽车模型遥控赛车 车模警车儿童益智玩具车批发，创意卡通音乐手机儿童益智男孩宝...\n",
       "3960    儿童沙滩玩具车套装批发挖沙玩具 宝宝沙漏洗澡戏水 铲子沙子工具，创意儿童卡通手敲琴拖拉小车宝...\n",
       "3961    特价正品7号电池儿童电动玩具电源配件 厂家直销1元4节地摊货批发，捏捏叫小鸭子游泳圈海洋球婴...\n",
       "3962    创意泡泡棒吹泡泡机泡泡枪不漏水宝宝礼物 地摊货源儿童玩具批发，创意泡泡棒吹泡泡机泡泡枪不漏水...\n",
       "3963    创意电动玩具仿真拉磨小马儿童好玩的小孩礼物地摊货免邮玩具批发，发条玩具批发上链卡通动物青蛙儿...\n",
       "3964    10元以下儿童小玩具批发创意棒棒糖发光棒女孩闪光棒夜市地摊货源，创意泡泡棒吹泡泡机泡泡枪不漏...\n",
       "3965    创意地摊热卖儿童整蛊稀奇古怪整人发泄鸡惨叫鸡新奇 小玩具批发，创意泡泡棒吹泡泡机泡泡枪不漏水...\n",
       "3966    创意儿童电动闪光玩具旋转风车手表小孩发光手腕带地摊货源批发，创意发光球闪光透明发光水晶弹力球...\n",
       "3967                        创意儿童玩具枪电动模型玩具枪音乐发光枪大号地摊玩具批 男孩\n",
       "3968                       创意儿童玩具手指旋转陀螺金属三叶成人解压指尖陀螺地摊货源批发\n",
       "3969                       创意发光飞机闪光玩具好玩的 儿童礼物地摊货源免邮儿童玩具批发\n",
       "3970                       创意新品电动枪音乐玩具枪发光玩具地摊货源批发热卖儿童礼物厂家\n",
       "3971    新品 彩色儿童电动音乐玩具枪儿童仿真枪地摊货源发光玩具批发，创意6-12个月宝宝手拍鼓套装3...\n",
       "3972                       创意发光球闪光透明发光水晶弹力球儿童小玩具 夜市地摊货源批发\n",
       "3973                       创意儿童玩具手指旋转陀螺金属三叶成人解压指尖陀螺地摊货源批发\n",
       "3974    创意拼图拼板数字拼音儿童益智早教玩具3-6岁 地摊货源小玩具批发，2017热卖大号仿真惯性挖...\n",
       "3975                       创意新款发光翅膀背带儿童演出服装天使蝴蝶翅膀地摊货源玩具批发\n",
       "3976                       创意回力方程车卡丁车 儿童玩具汽车男孩地摊货源小汽车玩具批发\n",
       "3977                       创意大号惯性工程车新奇特男孩礼物好玩的儿童玩具车地摊货源批发\n",
       "3978                       创意过家家女孩玩具迷你小家电模型儿童礼物仿真洗衣机单只装特价\n",
       "3979    2017热卖大号仿真惯性挖土机儿童益智礼品创意义乌地摊货玩具批发，2017热卖大号仿真惯性挖...\n",
       "3980    创意儿童发光刀玩具刀闪光刀剑男生礼物义乌货源地摊玩具批发免邮，创意卡通音乐手机儿童益智男孩宝...\n",
       "3981    儿童宝宝电话玩具卡通灯光音乐蘑菇电话机益智玩具0-3岁地摊货源，创意电动飞机发光音乐万向车儿...\n",
       "3982                       创意儿童玩具手指旋转陀螺金属三叶成人解压指尖陀螺地摊货源批发\n",
       "3983    儿童过家家仿真切蔬菜益智早教认知切切乐套装男女孩切水果玩具，2017创意新款拉线110警车好...\n",
       "3984                      创意手工益智儿童玩具DIY项链手链串珠材料包男女孩地摊货源批发\n",
       "3985    新款蜜蜂车翻斗车特技电动玩具车自动翻儿童玩具批发地摊货源新奇，创意儿童玩具批发礼物大号吸盘软...\n",
       "3986    儿童沙滩玩具车套装批发挖沙玩具 宝宝沙漏洗澡戏水 铲子沙子工具，儿童沙滩玩具车套装批发挖沙玩...\n",
       "3987                       创意新款发光翅膀背带儿童演出服装天使蝴蝶翅膀地摊货源玩具批发\n",
       "3988    创意宝宝玩具婴儿摇铃中号小喇叭安全材质0-1岁早教儿童玩具批，创意回力方程车卡丁车 儿童玩具...\n",
       "Name: 宝贝标题, Length: 3989, dtype: object"
      ]
     },
     "execution_count": 22,
     "metadata": {},
     "output_type": "execute_result"
    }
   ],
   "source": [
    "df_order.宝贝标题    #说明空格去除干净"
   ]
  },
  {
   "cell_type": "code",
   "execution_count": 23,
   "metadata": {},
   "outputs": [
    {
     "name": "stdout",
     "output_type": "stream",
     "text": [
      "<class 'pandas.core.frame.DataFrame'>\n",
      "RangeIndex: 3989 entries, 0 to 3988\n",
      "Data columns (total 46 columns):\n",
      "订单编号        3989 non-null int64\n",
      "买家会员名       3989 non-null int64\n",
      "买家支付宝账号     3988 non-null object\n",
      "买家应付货款      3989 non-null float64\n",
      "买家应付邮费      3989 non-null float64\n",
      "买家支付积分      3989 non-null int64\n",
      "总金额         3989 non-null float64\n",
      "返点积分        3989 non-null int64\n",
      "买家实际支付金额    3989 non-null float64\n",
      "买家实际支付积分    3989 non-null int64\n",
      "订单状态        3989 non-null object\n",
      "买家留言        384 non-null object\n",
      "收货人姓名       3989 non-null int64\n",
      "收货地址        3989 non-null object\n",
      "运送方式        3989 non-null object\n",
      "联系电话        142 non-null object\n",
      "联系手机        3986 non-null object\n",
      "订单创建时间      3989 non-null object\n",
      "订单付款时间      3989 non-null object\n",
      "宝贝标题        3989 non-null object\n",
      "宝贝种类        3989 non-null int64\n",
      "物流单号        3988 non-null object\n",
      "物流公司        3988 non-null object\n",
      "订单备注        460 non-null object\n",
      "宝贝总数量       3989 non-null int64\n",
      "店铺Id        3989 non-null int64\n",
      "店铺名称        3989 non-null int64\n",
      "订单关闭原因      3989 non-null object\n",
      "卖家服务费       3989 non-null int64\n",
      "买家服务费       3989 non-null object\n",
      "发票抬头        0 non-null float64\n",
      "是否手机订单      3728 non-null object\n",
      "分阶段订单信息     0 non-null float64\n",
      "特权订金订单id    0 non-null float64\n",
      "是否上传合同照片    3989 non-null object\n",
      "是否上传小票      3989 non-null object\n",
      "是否代付        3989 non-null object\n",
      "定金排名        0 non-null float64\n",
      "修改后的sku     0 non-null float64\n",
      "修改后的收货地址    61 non-null object\n",
      "异常信息        0 non-null float64\n",
      "天猫卡券抵扣      0 non-null float64\n",
      "集分宝抵扣       12 non-null float64\n",
      "是否是O2O交易    0 non-null float64\n",
      "退款金额        3989 non-null float64\n",
      "预约门店        0 non-null float64\n",
      "dtypes: float64(15), int64(11), object(20)\n",
      "memory usage: 1.4+ MB\n"
     ]
    }
   ],
   "source": [
    "df_order.info()"
   ]
  },
  {
   "cell_type": "code",
   "execution_count": 24,
   "metadata": {},
   "outputs": [
    {
     "name": "stdout",
     "output_type": "stream",
     "text": [
      "<class 'pandas.core.frame.DataFrame'>\n",
      "RangeIndex: 21897 entries, 0 to 21896\n",
      "Data columns (total 10 columns):\n",
      "订单编号      21897 non-null int64\n",
      "标题        21897 non-null object\n",
      "价格        21897 non-null float64\n",
      "购买数量      21897 non-null int64\n",
      "外部系统编号    21897 non-null object\n",
      "商品属性      12636 non-null object\n",
      "套餐信息      0 non-null float64\n",
      "备注        130 non-null object\n",
      "订单状态      21897 non-null object\n",
      "商家编码      21897 non-null object\n",
      "dtypes: float64(2), int64(2), object(6)\n",
      "memory usage: 1.7+ MB\n"
     ]
    }
   ],
   "source": [
    "df_item.info()"
   ]
  },
  {
   "cell_type": "code",
   "execution_count": 25,
   "metadata": {},
   "outputs": [
    {
     "name": "stdout",
     "output_type": "stream",
     "text": [
      "<class 'pandas.core.frame.DataFrame'>\n",
      "RangeIndex: 288 entries, 0 to 287\n",
      "Data columns (total 6 columns):\n",
      "宝贝ID    288 non-null int64\n",
      "标题      288 non-null object\n",
      "价格      288 non-null float64\n",
      "玩具类型    252 non-null object\n",
      "适用年龄    284 non-null object\n",
      "品牌      288 non-null int64\n",
      "dtypes: float64(1), int64(2), object(3)\n",
      "memory usage: 13.6+ KB\n"
     ]
    }
   ],
   "source": [
    "df_atrr.info()"
   ]
  },
  {
   "cell_type": "markdown",
   "metadata": {},
   "source": [
    "## 基于业务评估对字段进行选择"
   ]
  },
  {
   "cell_type": "markdown",
   "metadata": {},
   "source": [
    "### 探索df_order表"
   ]
  },
  {
   "cell_type": "code",
   "execution_count": 26,
   "metadata": {
    "collapsed": true
   },
   "outputs": [
    {
     "data": {
      "text/html": [
       "<div>\n",
       "<style scoped>\n",
       "    .dataframe tbody tr th:only-of-type {\n",
       "        vertical-align: middle;\n",
       "    }\n",
       "\n",
       "    .dataframe tbody tr th {\n",
       "        vertical-align: top;\n",
       "    }\n",
       "\n",
       "    .dataframe thead th {\n",
       "        text-align: right;\n",
       "    }\n",
       "</style>\n",
       "<table border=\"1\" class=\"dataframe\">\n",
       "  <thead>\n",
       "    <tr style=\"text-align: right;\">\n",
       "      <th></th>\n",
       "      <th>联系电话</th>\n",
       "      <th>联系手机</th>\n",
       "    </tr>\n",
       "  </thead>\n",
       "  <tbody>\n",
       "    <tr>\n",
       "      <th>32</th>\n",
       "      <td>'010-58758375</td>\n",
       "      <td>A56AA8980CB</td>\n",
       "    </tr>\n",
       "    <tr>\n",
       "      <th>41</th>\n",
       "      <td>'010-63036426</td>\n",
       "      <td>AC8A0ACD009</td>\n",
       "    </tr>\n",
       "    <tr>\n",
       "      <th>73</th>\n",
       "      <td>'182217-1822177212</td>\n",
       "      <td>A8BBA77BAB6</td>\n",
       "    </tr>\n",
       "    <tr>\n",
       "      <th>88</th>\n",
       "      <td>'0760-23860692</td>\n",
       "      <td>NaN</td>\n",
       "    </tr>\n",
       "    <tr>\n",
       "      <th>98</th>\n",
       "      <td>'0438-6180034</td>\n",
       "      <td>AC9DC878DA7</td>\n",
       "    </tr>\n",
       "    <tr>\n",
       "      <th>156</th>\n",
       "      <td>'0593-2082566</td>\n",
       "      <td>ACCB895CA77</td>\n",
       "    </tr>\n",
       "    <tr>\n",
       "      <th>198</th>\n",
       "      <td>'0663-2558099</td>\n",
       "      <td>A5975A7A8B8</td>\n",
       "    </tr>\n",
       "    <tr>\n",
       "      <th>201</th>\n",
       "      <td>'0771-8536777</td>\n",
       "      <td>A8577AB9586</td>\n",
       "    </tr>\n",
       "    <tr>\n",
       "      <th>210</th>\n",
       "      <td>'0535-1510657-4707</td>\n",
       "      <td>A5A0657D707</td>\n",
       "    </tr>\n",
       "    <tr>\n",
       "      <th>250</th>\n",
       "      <td>'0793-1507933137</td>\n",
       "      <td>A5079CCAC7D</td>\n",
       "    </tr>\n",
       "    <tr>\n",
       "      <th>277</th>\n",
       "      <td>'0755-84834158</td>\n",
       "      <td>AC6CA670055</td>\n",
       "    </tr>\n",
       "    <tr>\n",
       "      <th>317</th>\n",
       "      <td>'0317-2751811</td>\n",
       "      <td>A5A00770795</td>\n",
       "    </tr>\n",
       "    <tr>\n",
       "      <th>329</th>\n",
       "      <td>'0317-2751811</td>\n",
       "      <td>A5A00770795</td>\n",
       "    </tr>\n",
       "    <tr>\n",
       "      <th>330</th>\n",
       "      <td>'0510-87931120</td>\n",
       "      <td>AC58DA0777A</td>\n",
       "    </tr>\n",
       "    <tr>\n",
       "      <th>331</th>\n",
       "      <td>'0858-3118757</td>\n",
       "      <td>A778585967B</td>\n",
       "    </tr>\n",
       "    <tr>\n",
       "      <th>403</th>\n",
       "      <td>'0553-7766668</td>\n",
       "      <td>AC69567A875</td>\n",
       "    </tr>\n",
       "    <tr>\n",
       "      <th>448</th>\n",
       "      <td>'0539-8089911</td>\n",
       "      <td>A5B699B9BA8</td>\n",
       "    </tr>\n",
       "    <tr>\n",
       "      <th>485</th>\n",
       "      <td>'0527-84512883</td>\n",
       "      <td>A50505A0566</td>\n",
       "    </tr>\n",
       "    <tr>\n",
       "      <th>529</th>\n",
       "      <td>'0593-2082566</td>\n",
       "      <td>ACCB895CA77</td>\n",
       "    </tr>\n",
       "    <tr>\n",
       "      <th>550</th>\n",
       "      <td>'0663-3651884</td>\n",
       "      <td>ACC5B7AA0A8</td>\n",
       "    </tr>\n",
       "    <tr>\n",
       "      <th>569</th>\n",
       "      <td>'0794-37150000</td>\n",
       "      <td>A80079DC6D9</td>\n",
       "    </tr>\n",
       "    <tr>\n",
       "      <th>573</th>\n",
       "      <td>'0755-83556557</td>\n",
       "      <td>A5768B788A5</td>\n",
       "    </tr>\n",
       "    <tr>\n",
       "      <th>594</th>\n",
       "      <td>'021-58479162</td>\n",
       "      <td>A86BAC5ABC8</td>\n",
       "    </tr>\n",
       "    <tr>\n",
       "      <th>599</th>\n",
       "      <td>'0527-84218281</td>\n",
       "      <td>AC95AC655DA</td>\n",
       "    </tr>\n",
       "    <tr>\n",
       "      <th>610</th>\n",
       "      <td>'010-88850526</td>\n",
       "      <td>A86AAD006DC</td>\n",
       "    </tr>\n",
       "    <tr>\n",
       "      <th>644</th>\n",
       "      <td>'0571-83781837</td>\n",
       "      <td>ACCB6AC9B56</td>\n",
       "    </tr>\n",
       "    <tr>\n",
       "      <th>702</th>\n",
       "      <td>'0574-63017029</td>\n",
       "      <td>AC77799AB80</td>\n",
       "    </tr>\n",
       "    <tr>\n",
       "      <th>704</th>\n",
       "      <td>'0574-63017029</td>\n",
       "      <td>AC77799AB80</td>\n",
       "    </tr>\n",
       "    <tr>\n",
       "      <th>766</th>\n",
       "      <td>'0599-6320026</td>\n",
       "      <td>A89506CB706</td>\n",
       "    </tr>\n",
       "    <tr>\n",
       "      <th>866</th>\n",
       "      <td>'0553-7766668</td>\n",
       "      <td>AC69567A875</td>\n",
       "    </tr>\n",
       "    <tr>\n",
       "      <th>...</th>\n",
       "      <td>...</td>\n",
       "      <td>...</td>\n",
       "    </tr>\n",
       "    <tr>\n",
       "      <th>2995</th>\n",
       "      <td>'0512-53107475</td>\n",
       "      <td>AC8AB60C7DB</td>\n",
       "    </tr>\n",
       "    <tr>\n",
       "      <th>3034</th>\n",
       "      <td>'028-61713742</td>\n",
       "      <td>A868C5B6678</td>\n",
       "    </tr>\n",
       "    <tr>\n",
       "      <th>3063</th>\n",
       "      <td>'0476-8282937</td>\n",
       "      <td>A87D76800BC</td>\n",
       "    </tr>\n",
       "    <tr>\n",
       "      <th>3082</th>\n",
       "      <td>'010-62555528</td>\n",
       "      <td>AC7A89D0669</td>\n",
       "    </tr>\n",
       "    <tr>\n",
       "      <th>3104</th>\n",
       "      <td>'0532-82205932</td>\n",
       "      <td>ACD55B59BA8</td>\n",
       "    </tr>\n",
       "    <tr>\n",
       "      <th>3165</th>\n",
       "      <td>'0577-25609737</td>\n",
       "      <td>AC86779A9CD</td>\n",
       "    </tr>\n",
       "    <tr>\n",
       "      <th>3233</th>\n",
       "      <td>'0512-53107475</td>\n",
       "      <td>AC8AB60C7DB</td>\n",
       "    </tr>\n",
       "    <tr>\n",
       "      <th>3273</th>\n",
       "      <td>'0575-87397171</td>\n",
       "      <td>AC75DC9C750</td>\n",
       "    </tr>\n",
       "    <tr>\n",
       "      <th>3292</th>\n",
       "      <td>'0594-2391421</td>\n",
       "      <td>A5080C88AAB</td>\n",
       "    </tr>\n",
       "    <tr>\n",
       "      <th>3331</th>\n",
       "      <td>'0875-7186277</td>\n",
       "      <td>AC98750BAB8</td>\n",
       "    </tr>\n",
       "    <tr>\n",
       "      <th>3336</th>\n",
       "      <td>'0572-8240730</td>\n",
       "      <td>AC867B676C9</td>\n",
       "    </tr>\n",
       "    <tr>\n",
       "      <th>3434</th>\n",
       "      <td>'0575-88280767</td>\n",
       "      <td>AC90675CDD6</td>\n",
       "    </tr>\n",
       "    <tr>\n",
       "      <th>3441</th>\n",
       "      <td>'0577-86372950</td>\n",
       "      <td>AC86880B59D</td>\n",
       "    </tr>\n",
       "    <tr>\n",
       "      <th>3623</th>\n",
       "      <td>'0283-7546165</td>\n",
       "      <td>AC778857CB0</td>\n",
       "    </tr>\n",
       "    <tr>\n",
       "      <th>3646</th>\n",
       "      <td>'0512-53107475</td>\n",
       "      <td>AC8AB60C7DB</td>\n",
       "    </tr>\n",
       "    <tr>\n",
       "      <th>3658</th>\n",
       "      <td>'022-68585138</td>\n",
       "      <td>ACBAB0A5D5A</td>\n",
       "    </tr>\n",
       "    <tr>\n",
       "      <th>3664</th>\n",
       "      <td>'010-88470981-805</td>\n",
       "      <td>AC5BACC88C6</td>\n",
       "    </tr>\n",
       "    <tr>\n",
       "      <th>3677</th>\n",
       "      <td>'0576-1358605695</td>\n",
       "      <td>AC58605695D</td>\n",
       "    </tr>\n",
       "    <tr>\n",
       "      <th>3807</th>\n",
       "      <td>'0577-85391884</td>\n",
       "      <td>A59687C666D</td>\n",
       "    </tr>\n",
       "    <tr>\n",
       "      <th>3824</th>\n",
       "      <td>'028-26554023</td>\n",
       "      <td>ACC98CA7B80</td>\n",
       "    </tr>\n",
       "    <tr>\n",
       "      <th>3870</th>\n",
       "      <td>'0571-89201263</td>\n",
       "      <td>A5A588CC0C0</td>\n",
       "    </tr>\n",
       "    <tr>\n",
       "      <th>3900</th>\n",
       "      <td>'0793-3381679</td>\n",
       "      <td>A5707085BAB</td>\n",
       "    </tr>\n",
       "    <tr>\n",
       "      <th>3902</th>\n",
       "      <td>'021-62598336-2309</td>\n",
       "      <td>ACD0BA5B890</td>\n",
       "    </tr>\n",
       "    <tr>\n",
       "      <th>3907</th>\n",
       "      <td>'0755-84660290</td>\n",
       "      <td>AC5A0BD8DDA</td>\n",
       "    </tr>\n",
       "    <tr>\n",
       "      <th>3920</th>\n",
       "      <td>'0576-85159719</td>\n",
       "      <td>A56576A9A89</td>\n",
       "    </tr>\n",
       "    <tr>\n",
       "      <th>3942</th>\n",
       "      <td>'0753-4811888</td>\n",
       "      <td>AC7A998DA9A</td>\n",
       "    </tr>\n",
       "    <tr>\n",
       "      <th>3968</th>\n",
       "      <td>'020-66854056</td>\n",
       "      <td>6685D056</td>\n",
       "    </tr>\n",
       "    <tr>\n",
       "      <th>3973</th>\n",
       "      <td>'020-66854056</td>\n",
       "      <td>6685D056</td>\n",
       "    </tr>\n",
       "    <tr>\n",
       "      <th>3982</th>\n",
       "      <td>'0755-83556557</td>\n",
       "      <td>A5768B788A5</td>\n",
       "    </tr>\n",
       "    <tr>\n",
       "      <th>3986</th>\n",
       "      <td>'0755-66858233</td>\n",
       "      <td>AC9B65A5866</td>\n",
       "    </tr>\n",
       "  </tbody>\n",
       "</table>\n",
       "<p>142 rows × 2 columns</p>\n",
       "</div>"
      ],
      "text/plain": [
       "                    联系电话         联系手机\n",
       "32         '010-58758375  A56AA8980CB\n",
       "41         '010-63036426  AC8A0ACD009\n",
       "73    '182217-1822177212  A8BBA77BAB6\n",
       "88        '0760-23860692          NaN\n",
       "98         '0438-6180034  AC9DC878DA7\n",
       "156        '0593-2082566  ACCB895CA77\n",
       "198        '0663-2558099  A5975A7A8B8\n",
       "201        '0771-8536777  A8577AB9586\n",
       "210   '0535-1510657-4707  A5A0657D707\n",
       "250     '0793-1507933137  A5079CCAC7D\n",
       "277       '0755-84834158  AC6CA670055\n",
       "317        '0317-2751811  A5A00770795\n",
       "329        '0317-2751811  A5A00770795\n",
       "330       '0510-87931120  AC58DA0777A\n",
       "331        '0858-3118757  A778585967B\n",
       "403        '0553-7766668  AC69567A875\n",
       "448        '0539-8089911  A5B699B9BA8\n",
       "485       '0527-84512883  A50505A0566\n",
       "529        '0593-2082566  ACCB895CA77\n",
       "550        '0663-3651884  ACC5B7AA0A8\n",
       "569       '0794-37150000  A80079DC6D9\n",
       "573       '0755-83556557  A5768B788A5\n",
       "594        '021-58479162  A86BAC5ABC8\n",
       "599       '0527-84218281  AC95AC655DA\n",
       "610        '010-88850526  A86AAD006DC\n",
       "644       '0571-83781837  ACCB6AC9B56\n",
       "702       '0574-63017029  AC77799AB80\n",
       "704       '0574-63017029  AC77799AB80\n",
       "766        '0599-6320026  A89506CB706\n",
       "866        '0553-7766668  AC69567A875\n",
       "...                  ...          ...\n",
       "2995      '0512-53107475  AC8AB60C7DB\n",
       "3034       '028-61713742  A868C5B6678\n",
       "3063       '0476-8282937  A87D76800BC\n",
       "3082       '010-62555528  AC7A89D0669\n",
       "3104      '0532-82205932  ACD55B59BA8\n",
       "3165      '0577-25609737  AC86779A9CD\n",
       "3233      '0512-53107475  AC8AB60C7DB\n",
       "3273      '0575-87397171  AC75DC9C750\n",
       "3292       '0594-2391421  A5080C88AAB\n",
       "3331       '0875-7186277  AC98750BAB8\n",
       "3336       '0572-8240730  AC867B676C9\n",
       "3434      '0575-88280767  AC90675CDD6\n",
       "3441      '0577-86372950  AC86880B59D\n",
       "3623       '0283-7546165  AC778857CB0\n",
       "3646      '0512-53107475  AC8AB60C7DB\n",
       "3658       '022-68585138  ACBAB0A5D5A\n",
       "3664   '010-88470981-805  AC5BACC88C6\n",
       "3677    '0576-1358605695  AC58605695D\n",
       "3807      '0577-85391884  A59687C666D\n",
       "3824       '028-26554023  ACC98CA7B80\n",
       "3870      '0571-89201263  A5A588CC0C0\n",
       "3900       '0793-3381679  A5707085BAB\n",
       "3902  '021-62598336-2309  ACD0BA5B890\n",
       "3907      '0755-84660290  AC5A0BD8DDA\n",
       "3920      '0576-85159719  A56576A9A89\n",
       "3942       '0753-4811888  AC7A998DA9A\n",
       "3968       '020-66854056     6685D056\n",
       "3973       '020-66854056     6685D056\n",
       "3982      '0755-83556557  A5768B788A5\n",
       "3986      '0755-66858233  AC9B65A5866\n",
       "\n",
       "[142 rows x 2 columns]"
      ]
     },
     "execution_count": 26,
     "metadata": {},
     "output_type": "execute_result"
    }
   ],
   "source": [
    "#先看联系电话和联系手机特征\n",
    "df_order[df_order.联系电话.notnull()][['联系电话','联系手机']]\n",
    "#从数据上看，不能给我们提供有用的信息，可以考虑删除"
   ]
  },
  {
   "cell_type": "code",
   "execution_count": 27,
   "metadata": {},
   "outputs": [
    {
     "data": {
      "text/plain": [
       "True     3943\n",
       "False      46\n",
       "dtype: int64"
      ]
     },
     "execution_count": 27,
     "metadata": {},
     "output_type": "execute_result"
    }
   ],
   "source": [
    "(df_order.总金额==df_order.买家实际支付金额).value_counts()\n",
    "#查看总金额是否与买家实际支付金额一致\n",
    "#可以看出大部分数据是一致的，此时我们可以考虑把总金额特征删除\n",
    "#从结果看，有46条记录不一致。为什么不一致？我们进一步探索"
   ]
  },
  {
   "cell_type": "code",
   "execution_count": 28,
   "metadata": {
    "collapsed": true
   },
   "outputs": [
    {
     "data": {
      "text/html": [
       "<div>\n",
       "<style scoped>\n",
       "    .dataframe tbody tr th:only-of-type {\n",
       "        vertical-align: middle;\n",
       "    }\n",
       "\n",
       "    .dataframe tbody tr th {\n",
       "        vertical-align: top;\n",
       "    }\n",
       "\n",
       "    .dataframe thead th {\n",
       "        text-align: right;\n",
       "    }\n",
       "</style>\n",
       "<table border=\"1\" class=\"dataframe\">\n",
       "  <thead>\n",
       "    <tr style=\"text-align: right;\">\n",
       "      <th></th>\n",
       "      <th>订单编号</th>\n",
       "      <th>买家会员名</th>\n",
       "      <th>买家支付宝账号</th>\n",
       "      <th>买家应付货款</th>\n",
       "      <th>买家应付邮费</th>\n",
       "      <th>买家支付积分</th>\n",
       "      <th>总金额</th>\n",
       "      <th>返点积分</th>\n",
       "      <th>买家实际支付金额</th>\n",
       "      <th>买家实际支付积分</th>\n",
       "      <th>订单状态</th>\n",
       "      <th>买家留言</th>\n",
       "      <th>收货人姓名</th>\n",
       "      <th>收货地址</th>\n",
       "      <th>运送方式</th>\n",
       "      <th>联系电话</th>\n",
       "      <th>联系手机</th>\n",
       "      <th>订单创建时间</th>\n",
       "      <th>订单付款时间</th>\n",
       "      <th>宝贝标题</th>\n",
       "      <th>宝贝种类</th>\n",
       "      <th>物流单号</th>\n",
       "      <th>物流公司</th>\n",
       "      <th>订单备注</th>\n",
       "      <th>宝贝总数量</th>\n",
       "      <th>店铺Id</th>\n",
       "      <th>店铺名称</th>\n",
       "      <th>订单关闭原因</th>\n",
       "      <th>卖家服务费</th>\n",
       "      <th>买家服务费</th>\n",
       "      <th>发票抬头</th>\n",
       "      <th>是否手机订单</th>\n",
       "      <th>分阶段订单信息</th>\n",
       "      <th>特权订金订单id</th>\n",
       "      <th>是否上传合同照片</th>\n",
       "      <th>是否上传小票</th>\n",
       "      <th>是否代付</th>\n",
       "      <th>定金排名</th>\n",
       "      <th>修改后的sku</th>\n",
       "      <th>修改后的收货地址</th>\n",
       "      <th>异常信息</th>\n",
       "      <th>天猫卡券抵扣</th>\n",
       "      <th>集分宝抵扣</th>\n",
       "      <th>是否是O2O交易</th>\n",
       "      <th>退款金额</th>\n",
       "      <th>预约门店</th>\n",
       "    </tr>\n",
       "  </thead>\n",
       "  <tbody>\n",
       "    <tr>\n",
       "      <th>112</th>\n",
       "      <td>21072763406286400</td>\n",
       "      <td>1803</td>\n",
       "      <td>A77BB74B7B0</td>\n",
       "      <td>107.08</td>\n",
       "      <td>0.0</td>\n",
       "      <td>0</td>\n",
       "      <td>107.08</td>\n",
       "      <td>0</td>\n",
       "      <td>104.10</td>\n",
       "      <td>0</td>\n",
       "      <td>交易成功</td>\n",
       "      <td>NaN</td>\n",
       "      <td>463</td>\n",
       "      <td>广东省 佛山市 高明区 更合万和电气(528500)</td>\n",
       "      <td>快递</td>\n",
       "      <td>NaN</td>\n",
       "      <td>A77BB7DB7B0</td>\n",
       "      <td>2017/5/30 0:08</td>\n",
       "      <td>2017/5/30 10:14</td>\n",
       "      <td>创意发条玩具上链火车头发条3岁宝宝益智儿童玩具批发 地摊货源，创意恐龙玩具卡装仿真恐龙模型小...</td>\n",
       "      <td>13</td>\n",
       "      <td>No:3330572900905</td>\n",
       "      <td>申通快递</td>\n",
       "      <td>'发申通  送一个小气筒</td>\n",
       "      <td>42</td>\n",
       "      <td>0</td>\n",
       "      <td>0</td>\n",
       "      <td>订单未关闭</td>\n",
       "      <td>0</td>\n",
       "      <td>0元</td>\n",
       "      <td>NaN</td>\n",
       "      <td>手机订单</td>\n",
       "      <td>NaN</td>\n",
       "      <td>NaN</td>\n",
       "      <td>否</td>\n",
       "      <td>否</td>\n",
       "      <td>否</td>\n",
       "      <td>NaN</td>\n",
       "      <td>NaN</td>\n",
       "      <td>NaN</td>\n",
       "      <td>NaN</td>\n",
       "      <td>NaN</td>\n",
       "      <td>NaN</td>\n",
       "      <td>NaN</td>\n",
       "      <td>2.98</td>\n",
       "      <td>NaN</td>\n",
       "    </tr>\n",
       "    <tr>\n",
       "      <th>228</th>\n",
       "      <td>23794310267368000</td>\n",
       "      <td>466</td>\n",
       "      <td>A5766C68B85</td>\n",
       "      <td>75.50</td>\n",
       "      <td>0.0</td>\n",
       "      <td>0</td>\n",
       "      <td>75.50</td>\n",
       "      <td>0</td>\n",
       "      <td>59.10</td>\n",
       "      <td>0</td>\n",
       "      <td>交易成功</td>\n",
       "      <td>NaN</td>\n",
       "      <td>3028</td>\n",
       "      <td>广东省 广州市 萝岗区 永和街道广州市萝岗永和开发区横迳5街日盛百货(510530)</td>\n",
       "      <td>快递</td>\n",
       "      <td>NaN</td>\n",
       "      <td>A5766C68B85</td>\n",
       "      <td>2017/5/29 1:00</td>\n",
       "      <td>2017/5/29 1:00</td>\n",
       "      <td>创意音乐电动发光卡通仿真电锯儿童礼物地摊3-6岁小玩具货源批发，特价5号AA普通干电池 电动...</td>\n",
       "      <td>10</td>\n",
       "      <td>No:3330529398922</td>\n",
       "      <td>申通快递</td>\n",
       "      <td>NaN</td>\n",
       "      <td>16</td>\n",
       "      <td>0</td>\n",
       "      <td>0</td>\n",
       "      <td>订单未关闭</td>\n",
       "      <td>0</td>\n",
       "      <td>0元</td>\n",
       "      <td>NaN</td>\n",
       "      <td>手机订单</td>\n",
       "      <td>NaN</td>\n",
       "      <td>NaN</td>\n",
       "      <td>否</td>\n",
       "      <td>否</td>\n",
       "      <td>否</td>\n",
       "      <td>NaN</td>\n",
       "      <td>NaN</td>\n",
       "      <td>NaN</td>\n",
       "      <td>NaN</td>\n",
       "      <td>NaN</td>\n",
       "      <td>NaN</td>\n",
       "      <td>NaN</td>\n",
       "      <td>16.40</td>\n",
       "      <td>NaN</td>\n",
       "    </tr>\n",
       "    <tr>\n",
       "      <th>470</th>\n",
       "      <td>23300528991848400</td>\n",
       "      <td>2672</td>\n",
       "      <td>A5C8AAA0AA0</td>\n",
       "      <td>91.78</td>\n",
       "      <td>0.0</td>\n",
       "      <td>0</td>\n",
       "      <td>91.78</td>\n",
       "      <td>0</td>\n",
       "      <td>52.45</td>\n",
       "      <td>0</td>\n",
       "      <td>交易成功</td>\n",
       "      <td>NaN</td>\n",
       "      <td>1845</td>\n",
       "      <td>浙江省 金华市 婺城区 城北街道九章路48号西单元501室(321051)</td>\n",
       "      <td>快递</td>\n",
       "      <td>NaN</td>\n",
       "      <td>ACC5579DDCC</td>\n",
       "      <td>2017/5/27 9:27</td>\n",
       "      <td>2017/5/27 9:27</td>\n",
       "      <td>创意新款回力小车惯性坦克 军事儿童玩具模型地摊货源玩具车批发，创意万向电动音乐车发光儿童汽车...</td>\n",
       "      <td>10</td>\n",
       "      <td>No:3330370672007</td>\n",
       "      <td>申通快递</td>\n",
       "      <td>'地址：杭州市江干区丁桥镇后珠家苑东区3幢2单元201室   童云  13732205129</td>\n",
       "      <td>38</td>\n",
       "      <td>0</td>\n",
       "      <td>0</td>\n",
       "      <td>订单未关闭</td>\n",
       "      <td>0</td>\n",
       "      <td>0元</td>\n",
       "      <td>NaN</td>\n",
       "      <td>手机订单</td>\n",
       "      <td>NaN</td>\n",
       "      <td>NaN</td>\n",
       "      <td>否</td>\n",
       "      <td>否</td>\n",
       "      <td>否</td>\n",
       "      <td>NaN</td>\n",
       "      <td>NaN</td>\n",
       "      <td>NaN</td>\n",
       "      <td>NaN</td>\n",
       "      <td>NaN</td>\n",
       "      <td>NaN</td>\n",
       "      <td>NaN</td>\n",
       "      <td>39.33</td>\n",
       "      <td>NaN</td>\n",
       "    </tr>\n",
       "    <tr>\n",
       "      <th>540</th>\n",
       "      <td>23186468899456700</td>\n",
       "      <td>1407</td>\n",
       "      <td>A564BB7678C</td>\n",
       "      <td>96.47</td>\n",
       "      <td>0.0</td>\n",
       "      <td>0</td>\n",
       "      <td>96.47</td>\n",
       "      <td>0</td>\n",
       "      <td>20.88</td>\n",
       "      <td>0</td>\n",
       "      <td>交易成功</td>\n",
       "      <td>NaN</td>\n",
       "      <td>2831</td>\n",
       "      <td>辽宁省 朝阳市 双塔区 红旗街道黄河路三段2#万达广场一楼1F_05佐卡伊柜组(122000)</td>\n",
       "      <td>快递</td>\n",
       "      <td>NaN</td>\n",
       "      <td>A56DBB7678C</td>\n",
       "      <td>2017/5/26 18:41</td>\n",
       "      <td>2017/5/26 18:41</td>\n",
       "      <td>特价发条玩具会跑会跳创意上链发条玩具动物儿童好玩的地摊货批发，特价发条玩具会跑会跳创意上链发...</td>\n",
       "      <td>23</td>\n",
       "      <td>No:3330340209741</td>\n",
       "      <td>申通快递</td>\n",
       "      <td>NaN</td>\n",
       "      <td>41</td>\n",
       "      <td>0</td>\n",
       "      <td>0</td>\n",
       "      <td>订单未关闭</td>\n",
       "      <td>0</td>\n",
       "      <td>0元</td>\n",
       "      <td>NaN</td>\n",
       "      <td>手机订单</td>\n",
       "      <td>NaN</td>\n",
       "      <td>NaN</td>\n",
       "      <td>否</td>\n",
       "      <td>否</td>\n",
       "      <td>否</td>\n",
       "      <td>NaN</td>\n",
       "      <td>NaN</td>\n",
       "      <td>NaN</td>\n",
       "      <td>NaN</td>\n",
       "      <td>NaN</td>\n",
       "      <td>NaN</td>\n",
       "      <td>NaN</td>\n",
       "      <td>75.59</td>\n",
       "      <td>NaN</td>\n",
       "    </tr>\n",
       "    <tr>\n",
       "      <th>563</th>\n",
       "      <td>23157190921251600</td>\n",
       "      <td>2319</td>\n",
       "      <td>AC67BBA8ACB</td>\n",
       "      <td>56.15</td>\n",
       "      <td>0.0</td>\n",
       "      <td>0</td>\n",
       "      <td>56.15</td>\n",
       "      <td>0</td>\n",
       "      <td>53.64</td>\n",
       "      <td>0</td>\n",
       "      <td>交易成功</td>\n",
       "      <td>NaN</td>\n",
       "      <td>2654</td>\n",
       "      <td>江西省 南昌市 湾里区 站前街道东方红老湾里一中宿舍楼旁前150米大力神洗车店三楼收(330...</td>\n",
       "      <td>快递</td>\n",
       "      <td>NaN</td>\n",
       "      <td>AC67BBA8ACB</td>\n",
       "      <td>2017/5/26 15:30</td>\n",
       "      <td>2017/5/26 15:30</td>\n",
       "      <td>热卖儿童创意玩具超人卡装模型生日礼物 义乌玩具批地摊货源，六一新品恐龙玩具模型回力小车迷你玩...</td>\n",
       "      <td>7</td>\n",
       "      <td>No:71157004659119</td>\n",
       "      <td>百世快递</td>\n",
       "      <td>NaN</td>\n",
       "      <td>8</td>\n",
       "      <td>0</td>\n",
       "      <td>0</td>\n",
       "      <td>订单未关闭</td>\n",
       "      <td>0</td>\n",
       "      <td>0元</td>\n",
       "      <td>NaN</td>\n",
       "      <td>手机订单</td>\n",
       "      <td>NaN</td>\n",
       "      <td>NaN</td>\n",
       "      <td>否</td>\n",
       "      <td>否</td>\n",
       "      <td>否</td>\n",
       "      <td>NaN</td>\n",
       "      <td>NaN</td>\n",
       "      <td>NaN</td>\n",
       "      <td>NaN</td>\n",
       "      <td>NaN</td>\n",
       "      <td>NaN</td>\n",
       "      <td>NaN</td>\n",
       "      <td>2.51</td>\n",
       "      <td>NaN</td>\n",
       "    </tr>\n",
       "  </tbody>\n",
       "</table>\n",
       "</div>"
      ],
      "text/plain": [
       "                  订单编号  买家会员名      买家支付宝账号  买家应付货款  买家应付邮费  买家支付积分     总金额  \\\n",
       "112  21072763406286400   1803  A77BB74B7B0  107.08     0.0       0  107.08   \n",
       "228  23794310267368000    466  A5766C68B85   75.50     0.0       0   75.50   \n",
       "470  23300528991848400   2672  A5C8AAA0AA0   91.78     0.0       0   91.78   \n",
       "540  23186468899456700   1407  A564BB7678C   96.47     0.0       0   96.47   \n",
       "563  23157190921251600   2319  AC67BBA8ACB   56.15     0.0       0   56.15   \n",
       "\n",
       "     返点积分  买家实际支付金额  买家实际支付积分  订单状态 买家留言  收货人姓名  \\\n",
       "112     0    104.10         0  交易成功  NaN    463   \n",
       "228     0     59.10         0  交易成功  NaN   3028   \n",
       "470     0     52.45         0  交易成功  NaN   1845   \n",
       "540     0     20.88         0  交易成功  NaN   2831   \n",
       "563     0     53.64         0  交易成功  NaN   2654   \n",
       "\n",
       "                                                  收货地址 运送方式 联系电话         联系手机  \\\n",
       "112                         广东省 佛山市 高明区 更合万和电气(528500)   快递  NaN  A77BB7DB7B0   \n",
       "228         广东省 广州市 萝岗区 永和街道广州市萝岗永和开发区横迳5街日盛百货(510530)   快递  NaN  A5766C68B85   \n",
       "470              浙江省 金华市 婺城区 城北街道九章路48号西单元501室(321051)   快递  NaN  ACC5579DDCC   \n",
       "540    辽宁省 朝阳市 双塔区 红旗街道黄河路三段2#万达广场一楼1F_05佐卡伊柜组(122000)   快递  NaN  A56DBB7678C   \n",
       "563  江西省 南昌市 湾里区 站前街道东方红老湾里一中宿舍楼旁前150米大力神洗车店三楼收(330...   快递  NaN  AC67BBA8ACB   \n",
       "\n",
       "              订单创建时间           订单付款时间  \\\n",
       "112   2017/5/30 0:08  2017/5/30 10:14   \n",
       "228   2017/5/29 1:00   2017/5/29 1:00   \n",
       "470   2017/5/27 9:27   2017/5/27 9:27   \n",
       "540  2017/5/26 18:41  2017/5/26 18:41   \n",
       "563  2017/5/26 15:30  2017/5/26 15:30   \n",
       "\n",
       "                                                  宝贝标题  宝贝种类  \\\n",
       "112  创意发条玩具上链火车头发条3岁宝宝益智儿童玩具批发 地摊货源，创意恐龙玩具卡装仿真恐龙模型小...    13   \n",
       "228  创意音乐电动发光卡通仿真电锯儿童礼物地摊3-6岁小玩具货源批发，特价5号AA普通干电池 电动...    10   \n",
       "470  创意新款回力小车惯性坦克 军事儿童玩具模型地摊货源玩具车批发，创意万向电动音乐车发光儿童汽车...    10   \n",
       "540  特价发条玩具会跑会跳创意上链发条玩具动物儿童好玩的地摊货批发，特价发条玩具会跑会跳创意上链发...    23   \n",
       "563  热卖儿童创意玩具超人卡装模型生日礼物 义乌玩具批地摊货源，六一新品恐龙玩具模型回力小车迷你玩...     7   \n",
       "\n",
       "                  物流单号  物流公司                                            订单备注  \\\n",
       "112   No:3330572900905  申通快递                                    '发申通  送一个小气筒   \n",
       "228   No:3330529398922  申通快递                                             NaN   \n",
       "470   No:3330370672007  申通快递  '地址：杭州市江干区丁桥镇后珠家苑东区3幢2单元201室   童云  13732205129   \n",
       "540   No:3330340209741  申通快递                                             NaN   \n",
       "563  No:71157004659119  百世快递                                             NaN   \n",
       "\n",
       "     宝贝总数量  店铺Id  店铺名称 订单关闭原因  卖家服务费 买家服务费  发票抬头 是否手机订单  分阶段订单信息  特权订金订单id  \\\n",
       "112     42     0     0  订单未关闭      0    0元   NaN   手机订单      NaN       NaN   \n",
       "228     16     0     0  订单未关闭      0    0元   NaN   手机订单      NaN       NaN   \n",
       "470     38     0     0  订单未关闭      0    0元   NaN   手机订单      NaN       NaN   \n",
       "540     41     0     0  订单未关闭      0    0元   NaN   手机订单      NaN       NaN   \n",
       "563      8     0     0  订单未关闭      0    0元   NaN   手机订单      NaN       NaN   \n",
       "\n",
       "    是否上传合同照片 是否上传小票 是否代付  定金排名  修改后的sku 修改后的收货地址  异常信息  天猫卡券抵扣  集分宝抵扣  \\\n",
       "112        否      否    否   NaN      NaN      NaN   NaN     NaN    NaN   \n",
       "228        否      否    否   NaN      NaN      NaN   NaN     NaN    NaN   \n",
       "470        否      否    否   NaN      NaN      NaN   NaN     NaN    NaN   \n",
       "540        否      否    否   NaN      NaN      NaN   NaN     NaN    NaN   \n",
       "563        否      否    否   NaN      NaN      NaN   NaN     NaN    NaN   \n",
       "\n",
       "     是否是O2O交易   退款金额  预约门店  \n",
       "112       NaN   2.98   NaN  \n",
       "228       NaN  16.40   NaN  \n",
       "470       NaN  39.33   NaN  \n",
       "540       NaN  75.59   NaN  \n",
       "563       NaN   2.51   NaN  "
      ]
     },
     "execution_count": 28,
     "metadata": {},
     "output_type": "execute_result"
    }
   ],
   "source": [
    "df_order[df_order.总金额!=df_order.买家实际支付金额].head()\n",
    "#我们发现不一致的是因为退款金额的产生。\n",
    "#为什么产生这种现象？\n",
    "#原因有可能是用户在付费时使用优惠券或出现退款现象或者商家人工让利"
   ]
  },
  {
   "cell_type": "code",
   "execution_count": 30,
   "metadata": {
    "collapsed": true
   },
   "outputs": [
    {
     "data": {
      "text/html": [
       "<div>\n",
       "<style scoped>\n",
       "    .dataframe tbody tr th:only-of-type {\n",
       "        vertical-align: middle;\n",
       "    }\n",
       "\n",
       "    .dataframe tbody tr th {\n",
       "        vertical-align: top;\n",
       "    }\n",
       "\n",
       "    .dataframe thead th {\n",
       "        text-align: right;\n",
       "    }\n",
       "</style>\n",
       "<table border=\"1\" class=\"dataframe\">\n",
       "  <thead>\n",
       "    <tr style=\"text-align: right;\">\n",
       "      <th></th>\n",
       "      <th>总金额</th>\n",
       "      <th>集分宝抵扣</th>\n",
       "      <th>买家实际支付金额</th>\n",
       "      <th>退款金额</th>\n",
       "    </tr>\n",
       "  </thead>\n",
       "  <tbody>\n",
       "    <tr>\n",
       "      <th>112</th>\n",
       "      <td>107.08</td>\n",
       "      <td>NaN</td>\n",
       "      <td>104.10</td>\n",
       "      <td>2.98</td>\n",
       "    </tr>\n",
       "    <tr>\n",
       "      <th>228</th>\n",
       "      <td>75.50</td>\n",
       "      <td>NaN</td>\n",
       "      <td>59.10</td>\n",
       "      <td>16.40</td>\n",
       "    </tr>\n",
       "    <tr>\n",
       "      <th>470</th>\n",
       "      <td>91.78</td>\n",
       "      <td>NaN</td>\n",
       "      <td>52.45</td>\n",
       "      <td>39.33</td>\n",
       "    </tr>\n",
       "    <tr>\n",
       "      <th>540</th>\n",
       "      <td>96.47</td>\n",
       "      <td>NaN</td>\n",
       "      <td>20.88</td>\n",
       "      <td>75.59</td>\n",
       "    </tr>\n",
       "    <tr>\n",
       "      <th>563</th>\n",
       "      <td>56.15</td>\n",
       "      <td>NaN</td>\n",
       "      <td>53.64</td>\n",
       "      <td>2.51</td>\n",
       "    </tr>\n",
       "    <tr>\n",
       "      <th>595</th>\n",
       "      <td>195.00</td>\n",
       "      <td>NaN</td>\n",
       "      <td>120.90</td>\n",
       "      <td>74.10</td>\n",
       "    </tr>\n",
       "    <tr>\n",
       "      <th>599</th>\n",
       "      <td>13.90</td>\n",
       "      <td>NaN</td>\n",
       "      <td>0.00</td>\n",
       "      <td>13.90</td>\n",
       "    </tr>\n",
       "    <tr>\n",
       "      <th>782</th>\n",
       "      <td>169.28</td>\n",
       "      <td>NaN</td>\n",
       "      <td>84.04</td>\n",
       "      <td>85.24</td>\n",
       "    </tr>\n",
       "    <tr>\n",
       "      <th>799</th>\n",
       "      <td>119.57</td>\n",
       "      <td>NaN</td>\n",
       "      <td>113.73</td>\n",
       "      <td>5.84</td>\n",
       "    </tr>\n",
       "    <tr>\n",
       "      <th>1080</th>\n",
       "      <td>36.80</td>\n",
       "      <td>NaN</td>\n",
       "      <td>35.21</td>\n",
       "      <td>1.59</td>\n",
       "    </tr>\n",
       "    <tr>\n",
       "      <th>1287</th>\n",
       "      <td>208.00</td>\n",
       "      <td>NaN</td>\n",
       "      <td>75.38</td>\n",
       "      <td>132.62</td>\n",
       "    </tr>\n",
       "    <tr>\n",
       "      <th>1328</th>\n",
       "      <td>162.00</td>\n",
       "      <td>NaN</td>\n",
       "      <td>155.46</td>\n",
       "      <td>6.54</td>\n",
       "    </tr>\n",
       "    <tr>\n",
       "      <th>1646</th>\n",
       "      <td>175.83</td>\n",
       "      <td>NaN</td>\n",
       "      <td>150.67</td>\n",
       "      <td>25.16</td>\n",
       "    </tr>\n",
       "    <tr>\n",
       "      <th>1686</th>\n",
       "      <td>150.00</td>\n",
       "      <td>NaN</td>\n",
       "      <td>148.20</td>\n",
       "      <td>1.80</td>\n",
       "    </tr>\n",
       "    <tr>\n",
       "      <th>1688</th>\n",
       "      <td>360.75</td>\n",
       "      <td>NaN</td>\n",
       "      <td>45.26</td>\n",
       "      <td>315.49</td>\n",
       "    </tr>\n",
       "    <tr>\n",
       "      <th>1744</th>\n",
       "      <td>44.85</td>\n",
       "      <td>NaN</td>\n",
       "      <td>43.16</td>\n",
       "      <td>1.69</td>\n",
       "    </tr>\n",
       "    <tr>\n",
       "      <th>1789</th>\n",
       "      <td>152.28</td>\n",
       "      <td>NaN</td>\n",
       "      <td>134.48</td>\n",
       "      <td>17.80</td>\n",
       "    </tr>\n",
       "    <tr>\n",
       "      <th>1801</th>\n",
       "      <td>66.46</td>\n",
       "      <td>NaN</td>\n",
       "      <td>34.56</td>\n",
       "      <td>31.90</td>\n",
       "    </tr>\n",
       "    <tr>\n",
       "      <th>1852</th>\n",
       "      <td>212.81</td>\n",
       "      <td>NaN</td>\n",
       "      <td>209.29</td>\n",
       "      <td>3.52</td>\n",
       "    </tr>\n",
       "    <tr>\n",
       "      <th>1920</th>\n",
       "      <td>54.09</td>\n",
       "      <td>NaN</td>\n",
       "      <td>42.09</td>\n",
       "      <td>12.00</td>\n",
       "    </tr>\n",
       "    <tr>\n",
       "      <th>2013</th>\n",
       "      <td>58.23</td>\n",
       "      <td>NaN</td>\n",
       "      <td>26.77</td>\n",
       "      <td>31.46</td>\n",
       "    </tr>\n",
       "    <tr>\n",
       "      <th>2044</th>\n",
       "      <td>141.27</td>\n",
       "      <td>NaN</td>\n",
       "      <td>126.05</td>\n",
       "      <td>15.22</td>\n",
       "    </tr>\n",
       "    <tr>\n",
       "      <th>2113</th>\n",
       "      <td>40.44</td>\n",
       "      <td>NaN</td>\n",
       "      <td>38.14</td>\n",
       "      <td>2.30</td>\n",
       "    </tr>\n",
       "    <tr>\n",
       "      <th>2161</th>\n",
       "      <td>66.29</td>\n",
       "      <td>NaN</td>\n",
       "      <td>31.28</td>\n",
       "      <td>35.01</td>\n",
       "    </tr>\n",
       "    <tr>\n",
       "      <th>2209</th>\n",
       "      <td>31.18</td>\n",
       "      <td>NaN</td>\n",
       "      <td>30.19</td>\n",
       "      <td>0.99</td>\n",
       "    </tr>\n",
       "    <tr>\n",
       "      <th>2283</th>\n",
       "      <td>92.91</td>\n",
       "      <td>NaN</td>\n",
       "      <td>66.75</td>\n",
       "      <td>26.16</td>\n",
       "    </tr>\n",
       "    <tr>\n",
       "      <th>2298</th>\n",
       "      <td>76.56</td>\n",
       "      <td>NaN</td>\n",
       "      <td>62.41</td>\n",
       "      <td>14.15</td>\n",
       "    </tr>\n",
       "    <tr>\n",
       "      <th>2316</th>\n",
       "      <td>33.95</td>\n",
       "      <td>NaN</td>\n",
       "      <td>32.96</td>\n",
       "      <td>0.99</td>\n",
       "    </tr>\n",
       "    <tr>\n",
       "      <th>2334</th>\n",
       "      <td>234.55</td>\n",
       "      <td>NaN</td>\n",
       "      <td>126.16</td>\n",
       "      <td>108.39</td>\n",
       "    </tr>\n",
       "    <tr>\n",
       "      <th>2456</th>\n",
       "      <td>61.97</td>\n",
       "      <td>NaN</td>\n",
       "      <td>46.91</td>\n",
       "      <td>15.06</td>\n",
       "    </tr>\n",
       "    <tr>\n",
       "      <th>2558</th>\n",
       "      <td>83.19</td>\n",
       "      <td>NaN</td>\n",
       "      <td>79.51</td>\n",
       "      <td>3.68</td>\n",
       "    </tr>\n",
       "    <tr>\n",
       "      <th>2597</th>\n",
       "      <td>330.00</td>\n",
       "      <td>NaN</td>\n",
       "      <td>310.05</td>\n",
       "      <td>19.95</td>\n",
       "    </tr>\n",
       "    <tr>\n",
       "      <th>2728</th>\n",
       "      <td>61.86</td>\n",
       "      <td>NaN</td>\n",
       "      <td>25.00</td>\n",
       "      <td>36.86</td>\n",
       "    </tr>\n",
       "    <tr>\n",
       "      <th>2848</th>\n",
       "      <td>35.37</td>\n",
       "      <td>NaN</td>\n",
       "      <td>33.88</td>\n",
       "      <td>1.49</td>\n",
       "    </tr>\n",
       "    <tr>\n",
       "      <th>2902</th>\n",
       "      <td>40.40</td>\n",
       "      <td>NaN</td>\n",
       "      <td>37.73</td>\n",
       "      <td>2.67</td>\n",
       "    </tr>\n",
       "    <tr>\n",
       "      <th>2960</th>\n",
       "      <td>72.00</td>\n",
       "      <td>NaN</td>\n",
       "      <td>70.84</td>\n",
       "      <td>1.16</td>\n",
       "    </tr>\n",
       "    <tr>\n",
       "      <th>3008</th>\n",
       "      <td>58.50</td>\n",
       "      <td>NaN</td>\n",
       "      <td>10.00</td>\n",
       "      <td>48.50</td>\n",
       "    </tr>\n",
       "    <tr>\n",
       "      <th>3014</th>\n",
       "      <td>100.90</td>\n",
       "      <td>NaN</td>\n",
       "      <td>70.81</td>\n",
       "      <td>30.09</td>\n",
       "    </tr>\n",
       "    <tr>\n",
       "      <th>3236</th>\n",
       "      <td>62.23</td>\n",
       "      <td>NaN</td>\n",
       "      <td>58.33</td>\n",
       "      <td>3.90</td>\n",
       "    </tr>\n",
       "    <tr>\n",
       "      <th>3383</th>\n",
       "      <td>65.30</td>\n",
       "      <td>NaN</td>\n",
       "      <td>58.40</td>\n",
       "      <td>6.90</td>\n",
       "    </tr>\n",
       "    <tr>\n",
       "      <th>3441</th>\n",
       "      <td>86.19</td>\n",
       "      <td>NaN</td>\n",
       "      <td>50.29</td>\n",
       "      <td>35.90</td>\n",
       "    </tr>\n",
       "    <tr>\n",
       "      <th>3458</th>\n",
       "      <td>69.66</td>\n",
       "      <td>NaN</td>\n",
       "      <td>48.78</td>\n",
       "      <td>20.88</td>\n",
       "    </tr>\n",
       "    <tr>\n",
       "      <th>3487</th>\n",
       "      <td>59.07</td>\n",
       "      <td>NaN</td>\n",
       "      <td>44.46</td>\n",
       "      <td>14.61</td>\n",
       "    </tr>\n",
       "    <tr>\n",
       "      <th>3500</th>\n",
       "      <td>20.80</td>\n",
       "      <td>NaN</td>\n",
       "      <td>19.90</td>\n",
       "      <td>0.90</td>\n",
       "    </tr>\n",
       "    <tr>\n",
       "      <th>3697</th>\n",
       "      <td>60.35</td>\n",
       "      <td>NaN</td>\n",
       "      <td>54.98</td>\n",
       "      <td>5.37</td>\n",
       "    </tr>\n",
       "    <tr>\n",
       "      <th>3834</th>\n",
       "      <td>78.43</td>\n",
       "      <td>NaN</td>\n",
       "      <td>71.53</td>\n",
       "      <td>6.90</td>\n",
       "    </tr>\n",
       "  </tbody>\n",
       "</table>\n",
       "</div>"
      ],
      "text/plain": [
       "         总金额  集分宝抵扣  买家实际支付金额    退款金额\n",
       "112   107.08    NaN    104.10    2.98\n",
       "228    75.50    NaN     59.10   16.40\n",
       "470    91.78    NaN     52.45   39.33\n",
       "540    96.47    NaN     20.88   75.59\n",
       "563    56.15    NaN     53.64    2.51\n",
       "595   195.00    NaN    120.90   74.10\n",
       "599    13.90    NaN      0.00   13.90\n",
       "782   169.28    NaN     84.04   85.24\n",
       "799   119.57    NaN    113.73    5.84\n",
       "1080   36.80    NaN     35.21    1.59\n",
       "1287  208.00    NaN     75.38  132.62\n",
       "1328  162.00    NaN    155.46    6.54\n",
       "1646  175.83    NaN    150.67   25.16\n",
       "1686  150.00    NaN    148.20    1.80\n",
       "1688  360.75    NaN     45.26  315.49\n",
       "1744   44.85    NaN     43.16    1.69\n",
       "1789  152.28    NaN    134.48   17.80\n",
       "1801   66.46    NaN     34.56   31.90\n",
       "1852  212.81    NaN    209.29    3.52\n",
       "1920   54.09    NaN     42.09   12.00\n",
       "2013   58.23    NaN     26.77   31.46\n",
       "2044  141.27    NaN    126.05   15.22\n",
       "2113   40.44    NaN     38.14    2.30\n",
       "2161   66.29    NaN     31.28   35.01\n",
       "2209   31.18    NaN     30.19    0.99\n",
       "2283   92.91    NaN     66.75   26.16\n",
       "2298   76.56    NaN     62.41   14.15\n",
       "2316   33.95    NaN     32.96    0.99\n",
       "2334  234.55    NaN    126.16  108.39\n",
       "2456   61.97    NaN     46.91   15.06\n",
       "2558   83.19    NaN     79.51    3.68\n",
       "2597  330.00    NaN    310.05   19.95\n",
       "2728   61.86    NaN     25.00   36.86\n",
       "2848   35.37    NaN     33.88    1.49\n",
       "2902   40.40    NaN     37.73    2.67\n",
       "2960   72.00    NaN     70.84    1.16\n",
       "3008   58.50    NaN     10.00   48.50\n",
       "3014  100.90    NaN     70.81   30.09\n",
       "3236   62.23    NaN     58.33    3.90\n",
       "3383   65.30    NaN     58.40    6.90\n",
       "3441   86.19    NaN     50.29   35.90\n",
       "3458   69.66    NaN     48.78   20.88\n",
       "3487   59.07    NaN     44.46   14.61\n",
       "3500   20.80    NaN     19.90    0.90\n",
       "3697   60.35    NaN     54.98    5.37\n",
       "3834   78.43    NaN     71.53    6.90"
      ]
     },
     "execution_count": 30,
     "metadata": {},
     "output_type": "execute_result"
    }
   ],
   "source": [
    "df_order[df_order.总金额!=df_order.买家实际支付金额][['总金额','集分宝抵扣','买家实际支付金额','退款金额']]\n",
    "#为什么会出现这种情况，还需要跟退货清单进行核对确认\n",
    "#因我们没有数据证明退货金额是由用户不满意退货产生的，总金额和买家实际支付金额两个字段可以考虑舍弃其一"
   ]
  },
  {
   "cell_type": "code",
   "execution_count": 88,
   "metadata": {},
   "outputs": [
    {
     "data": {
      "text/plain": [
       "['买家支付宝账号',\n",
       " '买家应付货款',\n",
       " '买家应付邮费',\n",
       " '买家支付积分',\n",
       " '总金额',\n",
       " '返点积分',\n",
       " '运送方式',\n",
       " '联系电话',\n",
       " '联系手机',\n",
       " '物流单号',\n",
       " '物流公司',\n",
       " '店铺Id',\n",
       " '店铺名称',\n",
       " '退款金额']"
      ]
     },
     "execution_count": 88,
     "metadata": {},
     "output_type": "execute_result"
    }
   ],
   "source": [
    "#基于业务对字段进行评估\n",
    "col1 = ['买家支付宝账号', '买家应付货款', '买家应付邮费', '买家支付积分', '总金额', '返点积分', \n",
    "        '运送方式', '联系电话', '联系手机', '物流单号', '物流公司', '店铺Id', '店铺名称','退款金额']\n",
    "col1\n",
    "#这些字段对我们本次分析没有影响，可以删除"
   ]
  },
  {
   "cell_type": "code",
   "execution_count": 89,
   "metadata": {
    "collapsed": true
   },
   "outputs": [
    {
     "data": {
      "text/html": [
       "<div>\n",
       "<style scoped>\n",
       "    .dataframe tbody tr th:only-of-type {\n",
       "        vertical-align: middle;\n",
       "    }\n",
       "\n",
       "    .dataframe tbody tr th {\n",
       "        vertical-align: top;\n",
       "    }\n",
       "\n",
       "    .dataframe thead th {\n",
       "        text-align: right;\n",
       "    }\n",
       "</style>\n",
       "<table border=\"1\" class=\"dataframe\">\n",
       "  <thead>\n",
       "    <tr style=\"text-align: right;\">\n",
       "      <th></th>\n",
       "      <th>订单编号</th>\n",
       "      <th>买家会员名</th>\n",
       "      <th>买家实际支付金额</th>\n",
       "      <th>买家实际支付积分</th>\n",
       "      <th>订单状态</th>\n",
       "      <th>买家留言</th>\n",
       "      <th>收货人姓名</th>\n",
       "      <th>收货地址</th>\n",
       "      <th>订单创建时间</th>\n",
       "      <th>订单付款时间</th>\n",
       "      <th>宝贝标题</th>\n",
       "      <th>宝贝种类</th>\n",
       "      <th>订单备注</th>\n",
       "      <th>宝贝总数量</th>\n",
       "      <th>订单关闭原因</th>\n",
       "      <th>卖家服务费</th>\n",
       "      <th>买家服务费</th>\n",
       "      <th>发票抬头</th>\n",
       "      <th>是否手机订单</th>\n",
       "      <th>分阶段订单信息</th>\n",
       "      <th>特权订金订单id</th>\n",
       "      <th>是否上传合同照片</th>\n",
       "      <th>是否上传小票</th>\n",
       "      <th>是否代付</th>\n",
       "      <th>定金排名</th>\n",
       "      <th>修改后的sku</th>\n",
       "      <th>修改后的收货地址</th>\n",
       "      <th>异常信息</th>\n",
       "      <th>天猫卡券抵扣</th>\n",
       "      <th>集分宝抵扣</th>\n",
       "      <th>是否是O2O交易</th>\n",
       "      <th>预约门店</th>\n",
       "    </tr>\n",
       "  </thead>\n",
       "  <tbody>\n",
       "    <tr>\n",
       "      <th>0</th>\n",
       "      <td>21407300627014900</td>\n",
       "      <td>1425</td>\n",
       "      <td>58.51</td>\n",
       "      <td>0</td>\n",
       "      <td>交易成功</td>\n",
       "      <td>NaN</td>\n",
       "      <td>33</td>\n",
       "      <td>广东省 广州市 越秀区 华乐街道环市东路华侨新村光明路28号3a楼（即原文化假日酒店，后易名...</td>\n",
       "      <td>2017/5/30 23:18</td>\n",
       "      <td>2017/5/30 23:18</td>\n",
       "      <td>发光玩具批发光纤手指灯闪光夜市热卖货源儿童玩具地摊义乌厂家，特价5号AA普通干电池 电动玩具...</td>\n",
       "      <td>5</td>\n",
       "      <td>NaN</td>\n",
       "      <td>59</td>\n",
       "      <td>订单未关闭</td>\n",
       "      <td>0</td>\n",
       "      <td>0元</td>\n",
       "      <td>NaN</td>\n",
       "      <td>NaN</td>\n",
       "      <td>NaN</td>\n",
       "      <td>NaN</td>\n",
       "      <td>否</td>\n",
       "      <td>否</td>\n",
       "      <td>否</td>\n",
       "      <td>NaN</td>\n",
       "      <td>NaN</td>\n",
       "      <td>NaN</td>\n",
       "      <td>NaN</td>\n",
       "      <td>NaN</td>\n",
       "      <td>NaN</td>\n",
       "      <td>NaN</td>\n",
       "      <td>NaN</td>\n",
       "    </tr>\n",
       "    <tr>\n",
       "      <th>1</th>\n",
       "      <td>24270488269081200</td>\n",
       "      <td>2163</td>\n",
       "      <td>20.70</td>\n",
       "      <td>0</td>\n",
       "      <td>交易成功</td>\n",
       "      <td>NaN</td>\n",
       "      <td>1532</td>\n",
       "      <td>江西省 九江市 浔阳区 甘棠街道浔阳东路108号儿童保健康复中心亲子园(332000)</td>\n",
       "      <td>2017/5/30 23:08</td>\n",
       "      <td>2017/5/30 23:08</td>\n",
       "      <td>创意新款回力小车惯性坦克 军事儿童玩具模型地摊货源玩具车批发，创意新款回力小车惯性坦克 军事...</td>\n",
       "      <td>2</td>\n",
       "      <td>NaN</td>\n",
       "      <td>2</td>\n",
       "      <td>订单未关闭</td>\n",
       "      <td>0</td>\n",
       "      <td>0元</td>\n",
       "      <td>NaN</td>\n",
       "      <td>手机订单</td>\n",
       "      <td>NaN</td>\n",
       "      <td>NaN</td>\n",
       "      <td>否</td>\n",
       "      <td>否</td>\n",
       "      <td>否</td>\n",
       "      <td>NaN</td>\n",
       "      <td>NaN</td>\n",
       "      <td>NaN</td>\n",
       "      <td>NaN</td>\n",
       "      <td>NaN</td>\n",
       "      <td>NaN</td>\n",
       "      <td>NaN</td>\n",
       "      <td>NaN</td>\n",
       "    </tr>\n",
       "  </tbody>\n",
       "</table>\n",
       "</div>"
      ],
      "text/plain": [
       "                订单编号  买家会员名  买家实际支付金额  买家实际支付积分  订单状态 买家留言  收货人姓名  \\\n",
       "0  21407300627014900   1425     58.51         0  交易成功  NaN     33   \n",
       "1  24270488269081200   2163     20.70         0  交易成功  NaN   1532   \n",
       "\n",
       "                                                收货地址           订单创建时间  \\\n",
       "0  广东省 广州市 越秀区 华乐街道环市东路华侨新村光明路28号3a楼（即原文化假日酒店，后易名...  2017/5/30 23:18   \n",
       "1        江西省 九江市 浔阳区 甘棠街道浔阳东路108号儿童保健康复中心亲子园(332000)  2017/5/30 23:08   \n",
       "\n",
       "            订单付款时间                                               宝贝标题  宝贝种类  \\\n",
       "0  2017/5/30 23:18  发光玩具批发光纤手指灯闪光夜市热卖货源儿童玩具地摊义乌厂家，特价5号AA普通干电池 电动玩具...     5   \n",
       "1  2017/5/30 23:08  创意新款回力小车惯性坦克 军事儿童玩具模型地摊货源玩具车批发，创意新款回力小车惯性坦克 军事...     2   \n",
       "\n",
       "  订单备注  宝贝总数量 订单关闭原因  卖家服务费 买家服务费  发票抬头 是否手机订单  分阶段订单信息  特权订金订单id 是否上传合同照片  \\\n",
       "0  NaN     59  订单未关闭      0    0元   NaN    NaN      NaN       NaN        否   \n",
       "1  NaN      2  订单未关闭      0    0元   NaN   手机订单      NaN       NaN        否   \n",
       "\n",
       "  是否上传小票 是否代付  定金排名  修改后的sku 修改后的收货地址  异常信息  天猫卡券抵扣  集分宝抵扣  是否是O2O交易  预约门店  \n",
       "0      否    否   NaN      NaN      NaN   NaN     NaN    NaN       NaN   NaN  \n",
       "1      否    否   NaN      NaN      NaN   NaN     NaN    NaN       NaN   NaN  "
      ]
     },
     "execution_count": 89,
     "metadata": {},
     "output_type": "execute_result"
    }
   ],
   "source": [
    "df_order_d1=df_order.drop(col1,axis=1)\n",
    "df_order_d1.head(2)"
   ]
  },
  {
   "cell_type": "code",
   "execution_count": 33,
   "metadata": {},
   "outputs": [
    {
     "name": "stdout",
     "output_type": "stream",
     "text": [
      "<class 'pandas.core.frame.DataFrame'>\n",
      "RangeIndex: 3989 entries, 0 to 3988\n",
      "Data columns (total 32 columns):\n",
      "订单编号        3989 non-null int64\n",
      "买家会员名       3989 non-null int64\n",
      "买家实际支付金额    3989 non-null float64\n",
      "买家实际支付积分    3989 non-null int64\n",
      "订单状态        3989 non-null object\n",
      "买家留言        384 non-null object\n",
      "收货人姓名       3989 non-null int64\n",
      "收货地址        3989 non-null object\n",
      "订单创建时间      3989 non-null object\n",
      "订单付款时间      3989 non-null object\n",
      "宝贝标题        3989 non-null object\n",
      "宝贝种类        3989 non-null int64\n",
      "订单备注        460 non-null object\n",
      "宝贝总数量       3989 non-null int64\n",
      "订单关闭原因      3989 non-null object\n",
      "卖家服务费       3989 non-null int64\n",
      "买家服务费       3989 non-null object\n",
      "发票抬头        0 non-null float64\n",
      "是否手机订单      3728 non-null object\n",
      "分阶段订单信息     0 non-null float64\n",
      "特权订金订单id    0 non-null float64\n",
      "是否上传合同照片    3989 non-null object\n",
      "是否上传小票      3989 non-null object\n",
      "是否代付        3989 non-null object\n",
      "定金排名        0 non-null float64\n",
      "修改后的sku     0 non-null float64\n",
      "修改后的收货地址    61 non-null object\n",
      "异常信息        0 non-null float64\n",
      "天猫卡券抵扣      0 non-null float64\n",
      "集分宝抵扣       12 non-null float64\n",
      "是否是O2O交易    0 non-null float64\n",
      "预约门店        0 non-null float64\n",
      "dtypes: float64(11), int64(7), object(14)\n",
      "memory usage: 997.3+ KB\n"
     ]
    }
   ],
   "source": [
    "df_order_d1.info()"
   ]
  },
  {
   "cell_type": "markdown",
   "metadata": {},
   "source": [
    "####  针对缺失值过多的字段进行分析"
   ]
  },
  {
   "cell_type": "code",
   "execution_count": 34,
   "metadata": {},
   "outputs": [
    {
     "data": {
      "text/plain": [
       "订单编号        False\n",
       "买家会员名       False\n",
       "买家实际支付金额    False\n",
       "买家实际支付积分    False\n",
       "订单状态        False\n",
       "买家留言         True\n",
       "收货人姓名       False\n",
       "收货地址        False\n",
       "订单创建时间      False\n",
       "订单付款时间      False\n",
       "宝贝标题        False\n",
       "宝贝种类        False\n",
       "订单备注         True\n",
       "宝贝总数量       False\n",
       "订单关闭原因      False\n",
       "卖家服务费       False\n",
       "买家服务费       False\n",
       "发票抬头         True\n",
       "是否手机订单      False\n",
       "分阶段订单信息      True\n",
       "特权订金订单id     True\n",
       "是否上传合同照片    False\n",
       "是否上传小票      False\n",
       "是否代付        False\n",
       "定金排名         True\n",
       "修改后的sku      True\n",
       "修改后的收货地址     True\n",
       "异常信息         True\n",
       "天猫卡券抵扣       True\n",
       "集分宝抵扣        True\n",
       "是否是O2O交易     True\n",
       "预约门店         True\n",
       "dtype: bool"
      ]
     },
     "execution_count": 34,
     "metadata": {},
     "output_type": "execute_result"
    }
   ],
   "source": [
    "#找到缺失值大于80%的字段进行分析\n",
    "df_order_d1.isnull().mean()>0.8\n",
    "#df_order_d1.isnull().sum()/df_order_d1.shape[0]#这两者相同"
   ]
  },
  {
   "cell_type": "code",
   "execution_count": 90,
   "metadata": {},
   "outputs": [
    {
     "name": "stdout",
     "output_type": "stream",
     "text": [
      "买家留言\n",
      "0.9037352719979945\n",
      "---------------------------------\n",
      "订单备注\n",
      "0.8846828779142643\n",
      "---------------------------------\n",
      "发票抬头\n",
      "1.0\n",
      "---------------------------------\n",
      "分阶段订单信息\n",
      "1.0\n",
      "---------------------------------\n",
      "特权订金订单id\n",
      "1.0\n",
      "---------------------------------\n",
      "定金排名\n",
      "1.0\n",
      "---------------------------------\n",
      "修改后的sku\n",
      "1.0\n",
      "---------------------------------\n",
      "修改后的收货地址\n",
      "0.9847079468538481\n",
      "---------------------------------\n",
      "异常信息\n",
      "1.0\n",
      "---------------------------------\n",
      "天猫卡券抵扣\n",
      "1.0\n",
      "---------------------------------\n",
      "集分宝抵扣\n",
      "0.9969917272499373\n",
      "---------------------------------\n",
      "是否是O2O交易\n",
      "1.0\n",
      "---------------------------------\n",
      "预约门店\n",
      "1.0\n",
      "---------------------------------\n"
     ]
    }
   ],
   "source": [
    "for column in df_order_d1.columns:\n",
    "    if df_order_d1[column].isnull().mean()>0.8:\n",
    "        print(column)\n",
    "        print(df_order_d1[column].isnull().mean())\n",
    "        #print(df_order_d1[column].value_counts())\n",
    "        print('---------------------------------')"
   ]
  },
  {
   "cell_type": "code",
   "execution_count": 36,
   "metadata": {},
   "outputs": [
    {
     "data": {
      "text/plain": [
       "1294.0    1\n",
       "103.0     1\n",
       "647.0     1\n",
       "196.0     1\n",
       "574.0     1\n",
       "712.0     1\n",
       "2291.0    1\n",
       "22.0      1\n",
       "13.0      1\n",
       "54.0      1\n",
       "14.0      1\n",
       "218.0     1\n",
       "Name: 集分宝抵扣, dtype: int64"
      ]
     },
     "execution_count": 36,
     "metadata": {},
     "output_type": "execute_result"
    }
   ],
   "source": [
    "df_order_d1['集分宝抵扣'].value_counts()\n",
    "\n",
    "#这个字段也是无用的，可以考虑删除"
   ]
  },
  {
   "cell_type": "code",
   "execution_count": 91,
   "metadata": {},
   "outputs": [],
   "source": [
    "#需要做客户区域分群，我们可以按照这个方式处理地址数据，不过用户常驻地的地址才有意义\n",
    "#观察发现收获地址是无缺失值的，而修改后的地址有缺失，说明有部分用户的修改后的地址为最准确的数据\n",
    "#将修改后的地址更新到收货地址中去\n",
    "#使用填充缺失值方法\n",
    "# df_order_d1['修改后的收货地址']=df_order_d1['修改后的收货地址'].fillna(df_order_d1['收货地址'],axis=0)\n",
    "# df_order_d1['修改后的收货地址'].isnull().mean()\n",
    "# df_order_d1.drop(columns='收货地址',axis=1,inplace=True)\n",
    "# df_order_d1.rename(columns={'修改后的收货地址':'收货地址'},inplace=True)\n",
    "\n",
    "#我们选择删除地址数据\n",
    "del df_order_d1['收货地址']\n",
    "del df_order_d1['修改后的收货地址']"
   ]
  },
  {
   "cell_type": "code",
   "execution_count": 92,
   "metadata": {},
   "outputs": [],
   "source": [
    "#把其余缺失值多余80%的数据删除\n",
    "isna_columns=df_order_d1.isnull().mean()>0.8\n",
    "df_order_d1.drop(columns=isna_columns[isna_columns].index.tolist(),axis=1,inplace=True)"
   ]
  },
  {
   "cell_type": "code",
   "execution_count": 93,
   "metadata": {},
   "outputs": [
    {
     "name": "stdout",
     "output_type": "stream",
     "text": [
      "<class 'pandas.core.frame.DataFrame'>\n",
      "RangeIndex: 3989 entries, 0 to 3988\n",
      "Data columns (total 18 columns):\n",
      "订单编号        3989 non-null int64\n",
      "买家会员名       3989 non-null int64\n",
      "买家实际支付金额    3989 non-null float64\n",
      "买家实际支付积分    3989 non-null int64\n",
      "订单状态        3989 non-null object\n",
      "收货人姓名       3989 non-null int64\n",
      "订单创建时间      3989 non-null object\n",
      "订单付款时间      3989 non-null object\n",
      "宝贝标题        3989 non-null object\n",
      "宝贝种类        3989 non-null int64\n",
      "宝贝总数量       3989 non-null int64\n",
      "订单关闭原因      3989 non-null object\n",
      "卖家服务费       3989 non-null int64\n",
      "买家服务费       3989 non-null object\n",
      "是否手机订单      3728 non-null object\n",
      "是否上传合同照片    3989 non-null object\n",
      "是否上传小票      3989 non-null object\n",
      "是否代付        3989 non-null object\n",
      "dtypes: float64(1), int64(7), object(10)\n",
      "memory usage: 561.0+ KB\n"
     ]
    }
   ],
   "source": [
    "df_order_d1.info()"
   ]
  },
  {
   "cell_type": "markdown",
   "metadata": {},
   "source": [
    "#### 继续探索剩余字段"
   ]
  },
  {
   "cell_type": "code",
   "execution_count": 40,
   "metadata": {
    "collapsed": true
   },
   "outputs": [
    {
     "data": {
      "text/plain": [
       "12.90     124\n",
       "11.90      58\n",
       "34.90      44\n",
       "20.90      33\n",
       "13.90      28\n",
       "10.90      23\n",
       "14.90      21\n",
       "12.80      20\n",
       "24.90      19\n",
       "16.80      19\n",
       "21.90      18\n",
       "20.80      16\n",
       "9.90       16\n",
       "58.00      15\n",
       "18.80      15\n",
       "12.75      14\n",
       "54.00      14\n",
       "44.90      13\n",
       "38.80      13\n",
       "59.00      13\n",
       "16.70      12\n",
       "17.90      11\n",
       "24.80      11\n",
       "100.00     10\n",
       "7.90       10\n",
       "14.80      10\n",
       "18.90      10\n",
       "90.00      10\n",
       "25.70      10\n",
       "44.00       9\n",
       "         ... \n",
       "62.24       1\n",
       "56.98       1\n",
       "420.60      1\n",
       "11.45       1\n",
       "72.20       1\n",
       "64.68       1\n",
       "36.15       1\n",
       "53.14       1\n",
       "165.32      1\n",
       "59.36       1\n",
       "87.91       1\n",
       "46.87       1\n",
       "99.60       1\n",
       "30.26       1\n",
       "26.77       1\n",
       "92.79       1\n",
       "33.37       1\n",
       "161.60      1\n",
       "97.84       1\n",
       "53.53       1\n",
       "83.11       1\n",
       "69.87       1\n",
       "24.33       1\n",
       "43.34       1\n",
       "31.35       1\n",
       "46.20       1\n",
       "26.97       1\n",
       "83.42       1\n",
       "56.90       1\n",
       "185.41      1\n",
       "Name: 买家实际支付金额, Length: 2451, dtype: int64"
      ]
     },
     "execution_count": 40,
     "metadata": {},
     "output_type": "execute_result"
    }
   ],
   "source": [
    "df_order_d1.买家实际支付金额.value_counts()"
   ]
  },
  {
   "cell_type": "code",
   "execution_count": 41,
   "metadata": {},
   "outputs": [],
   "source": [
    "import matplotlib.pyplot as plt\n",
    "import seaborn as sns\n",
    "plt.rcParams['font.sans-serif']='SimHei'\n",
    "plt.rcParams['axes.unicode_minus']=False"
   ]
  },
  {
   "cell_type": "code",
   "execution_count": 42,
   "metadata": {},
   "outputs": [
    {
     "data": {
      "image/png": "[encoded data removed]",
      "text/plain": [
       "<Figure size 864x432 with 2 Axes>"
      ]
     },
     "metadata": {
      "needs_background": "light"
     },
     "output_type": "display_data"
    }
   ],
   "source": [
    "f,(ax1,ax2)=plt.subplots(1,2,figsize=(12,6))\n",
    "sns.distplot(df_order_d1.买家实际支付金额,ax=ax1)\n",
    "sns.boxplot(y='买家实际支付金额',data=df_order_d1,ax=ax2)\n",
    "plt.show()\n",
    "#从两张图看出，存在异常值"
   ]
  },
  {
   "cell_type": "code",
   "execution_count": 43,
   "metadata": {},
   "outputs": [
    {
     "name": "stdout",
     "output_type": "stream",
     "text": [
      "          买家实际支付金额\n",
      "count  3989.000000\n",
      "mean     72.613673\n",
      "std     112.279791\n",
      "min       0.000000\n",
      "25%      22.080000\n",
      "50%      52.320000\n",
      "75%      77.000000\n",
      "max    3521.000000\n",
      "上限界： 买家实际支付金额    159.38\n",
      "dtype: float64\n",
      "下限界： 买家实际支付金额   -60.3\n",
      "dtype: float64\n"
     ]
    }
   ],
   "source": [
    "a=pd.DataFrame(df_order_d1.买家实际支付金额.describe()).T\n",
    "IQR=a['75%']-a['25%']\n",
    "extreme_outlier=IQR*1.5+a['75%']\n",
    "mild_outlier=a['25%']-IQR*1.5\n",
    "print(a.T)\n",
    "print('上限界：',extreme_outlier)\n",
    "print('下限界：',mild_outlier)"
   ]
  },
  {
   "cell_type": "code",
   "execution_count": 44,
   "metadata": {},
   "outputs": [
    {
     "data": {
      "text/plain": [
       "(284,)"
      ]
     },
     "execution_count": 44,
     "metadata": {},
     "output_type": "execute_result"
    }
   ],
   "source": [
    "df_order_d1[(df_order_d1.买家实际支付金额<1500)&(df_order_d1.买家实际支付金额>159.5)]['买家实际支付金额'].value_counts().shape"
   ]
  },
  {
   "cell_type": "code",
   "execution_count": 45,
   "metadata": {},
   "outputs": [
    {
     "data": {
      "text/plain": [
       "1245.0    1\n",
       "1250.0    1\n",
       "Name: 买家实际支付金额, dtype: int64"
      ]
     },
     "execution_count": 45,
     "metadata": {},
     "output_type": "execute_result"
    }
   ],
   "source": [
    "df_order_d1[(df_order_d1.买家实际支付金额<1500)&(df_order_d1.买家实际支付金额>1200)]['买家实际支付金额'].value_counts()"
   ]
  },
  {
   "cell_type": "code",
   "execution_count": 46,
   "metadata": {},
   "outputs": [
    {
     "data": {
      "text/plain": [
       "3521.0    1\n",
       "Name: 买家实际支付金额, dtype: int64"
      ]
     },
     "execution_count": 46,
     "metadata": {},
     "output_type": "execute_result"
    }
   ],
   "source": [
    "df_order_d1[df_order_d1.买家实际支付金额>1500]['买家实际支付金额'].value_counts()\n",
    "\n",
    "#对于该字段的异常值处理方案\n",
    "#1、1200以下的不予处理。数据量大且连续，自成一类特征\n",
    "#2、120以上的就两条记录，考虑聚类效果，予以删除"
   ]
  },
  {
   "cell_type": "code",
   "execution_count": 94,
   "metadata": {},
   "outputs": [],
   "source": [
    "df_order_d2=df_order_d1[df_order_d1.买家实际支付金额<1200]\n",
    "#删除买家实际支付金额的异常值数据"
   ]
  },
  {
   "cell_type": "code",
   "execution_count": 95,
   "metadata": {},
   "outputs": [
    {
     "data": {
      "image/png": "[encoded data removed]",
      "text/plain": [
       "<Figure size 864x432 with 2 Axes>"
      ]
     },
     "metadata": {
      "needs_background": "light"
     },
     "output_type": "display_data"
    }
   ],
   "source": [
    "#再次看看我们把异常值删除后的效果图\n",
    "f,(ax1,ax2)=plt.subplots(1,2,figsize=(12,6))\n",
    "sns.distplot(df_order_d2.买家实际支付金额,ax=ax1)\n",
    "sns.boxplot(y='买家实际支付金额',data=df_order_d2,ax=ax2)\n",
    "plt.show()\n",
    "#从图形看，获得了我们想要的数据"
   ]
  },
  {
   "cell_type": "code",
   "execution_count": 51,
   "metadata": {},
   "outputs": [
    {
     "data": {
      "text/plain": [
       "((3986, 19), (3989, 19))"
      ]
     },
     "execution_count": 51,
     "metadata": {},
     "output_type": "execute_result"
    }
   ],
   "source": [
    "df_order_d2.shape,df_order_d1.shape  #删除了3个异常值"
   ]
  },
  {
   "cell_type": "code",
   "execution_count": 53,
   "metadata": {},
   "outputs": [
    {
     "data": {
      "text/plain": [
       "0    3986\n",
       "Name: 买家实际支付积分, dtype: int64"
      ]
     },
     "execution_count": 53,
     "metadata": {},
     "output_type": "execute_result"
    }
   ],
   "source": [
    "#探索买家实际支付积分特征数据\n",
    "df_order_d2.买家实际支付积分.value_counts()\n",
    "\n",
    "#可以看出，这个特征的值只有一个；只包含一种信息的特征，对我们做聚类没有意义。\n",
    "#我们选择把所有这种特征删除"
   ]
  },
  {
   "cell_type": "code",
   "execution_count": 96,
   "metadata": {},
   "outputs": [],
   "source": [
    "#删除只表达一种信息的特征\n",
    "for column in df_order_d2.columns:\n",
    "    cate_count=df_order_d2[column].value_counts().shape[0]    \n",
    "    #或者cate_count=len(df_order_d2[column].value_counts())\n",
    "    #或者cate_count=len(set(df_order_d2[column][df_order_d2[column].notnull()].tolist()))\n",
    "    if cate_count==1:\n",
    "        del df_order_d2[column]"
   ]
  },
  {
   "cell_type": "code",
   "execution_count": 97,
   "metadata": {
    "collapsed": true
   },
   "outputs": [
    {
     "data": {
      "text/plain": [
       "1     3076\n",
       "2      266\n",
       "3       55\n",
       "4       20\n",
       "5        8\n",
       "7        5\n",
       "6        4\n",
       "16       1\n",
       "10       1\n",
       "8        1\n",
       "Name: 订单编号, dtype: int64"
      ]
     },
     "execution_count": 97,
     "metadata": {},
     "output_type": "execute_result"
    }
   ],
   "source": [
    "#探索收货人姓名特征\n",
    "df_order_d2.groupby(by=['买家会员名','收货人姓名']).count()['订单编号'].value_counts()\n",
    "\n",
    "#收货人姓名大部分还是用户本人，我们可以删除收货人姓名特征"
   ]
  },
  {
   "cell_type": "code",
   "execution_count": 98,
   "metadata": {},
   "outputs": [],
   "source": [
    "del df_order_d2['收货人姓名'] #删除收货人姓名特征"
   ]
  },
  {
   "cell_type": "code",
   "execution_count": 57,
   "metadata": {},
   "outputs": [
    {
     "data": {
      "text/plain": [
       "(2041, 9)"
      ]
     },
     "execution_count": 57,
     "metadata": {},
     "output_type": "execute_result"
    }
   ],
   "source": [
    "df_order_d2[df_order_d2.订单创建时间!=df_order_d2.订单付款时间].shape"
   ]
  },
  {
   "cell_type": "code",
   "execution_count": 58,
   "metadata": {},
   "outputs": [
    {
     "data": {
      "text/plain": [
       "(1945, 9)"
      ]
     },
     "execution_count": 58,
     "metadata": {},
     "output_type": "execute_result"
    }
   ],
   "source": [
    "df_order_d2[df_order_d2.订单创建时间==df_order_d2.订单付款时间].shape"
   ]
  },
  {
   "cell_type": "code",
   "execution_count": 59,
   "metadata": {
    "collapsed": true
   },
   "outputs": [
    {
     "data": {
      "text/plain": [
       "2017/5/9 8:54      4\n",
       "2017/5/8 20:32     3\n",
       "2017/5/14 12:51    3\n",
       "2017/5/8 10:02     3\n",
       "2017/5/2 8:55      3\n",
       "2017/5/15 23:00    3\n",
       "2017/5/12 12:41    3\n",
       "2017/5/1 17:19     3\n",
       "2017/5/14 13:03    3\n",
       "2017/5/25 22:50    3\n",
       "2017/5/22 17:16    3\n",
       "2017/5/20 15:17    3\n",
       "2017/5/26 16:00    3\n",
       "2017/5/27 11:54    3\n",
       "2017/5/25 22:22    2\n",
       "2017/5/1 18:25     2\n",
       "2017/5/20 10:06    2\n",
       "2017/5/12 14:25    2\n",
       "2017/5/29 22:22    2\n",
       "2017/5/16 13:04    2\n",
       "2017/5/17 14:16    2\n",
       "2017/5/24 15:06    2\n",
       "2017/5/23 11:21    2\n",
       "2017/5/2 15:14     2\n",
       "2017/5/23 8:54     2\n",
       "2017/5/1 15:19     2\n",
       "2017/5/2 8:51      2\n",
       "2017/5/24 16:16    2\n",
       "2017/5/27 14:41    2\n",
       "2017/5/16 14:43    2\n",
       "                  ..\n",
       "2017/5/23 20:16    1\n",
       "2017/5/25 7:45     1\n",
       "2017/5/11 22:57    1\n",
       "2017/5/24 13:09    1\n",
       "2017/5/13 7:51     1\n",
       "2017/5/26 8:17     1\n",
       "2017/5/11 21:03    1\n",
       "2017/5/27 22:37    1\n",
       "2017/5/12 10:41    1\n",
       "2017/5/17 17:25    1\n",
       "2017/5/12 8:12     1\n",
       "2017/5/1 0:00      1\n",
       "2017/5/20 21:09    1\n",
       "2017/5/11 22:32    1\n",
       "2017/5/6 19:18     1\n",
       "2017/5/1 11:22     1\n",
       "2017/5/16 21:47    1\n",
       "2017/5/27 17:26    1\n",
       "2017/5/8 19:16     1\n",
       "2017/5/30 14:49    1\n",
       "2017/5/20 13:34    1\n",
       "2017/5/29 9:04     1\n",
       "2017/5/30 20:24    1\n",
       "2017/5/12 14:43    1\n",
       "2017/5/10 12:44    1\n",
       "2017/5/23 20:25    1\n",
       "2017/5/5 11:36     1\n",
       "2017/5/20 6:57     1\n",
       "2017/5/18 18:33    1\n",
       "2017/5/16 15:53    1\n",
       "Name: 订单创建时间, Length: 3743, dtype: int64"
      ]
     },
     "execution_count": 59,
     "metadata": {},
     "output_type": "execute_result"
    }
   ],
   "source": [
    "df_order_d2.订单创建时间.value_counts()"
   ]
  },
  {
   "cell_type": "code",
   "execution_count": 99,
   "metadata": {},
   "outputs": [],
   "source": [
    "#时间序列数据分析较复杂，对于我们聚类处理没有多大影响，我们选择删除订单创建时间和订单付款时间特征\n",
    "del df_order_d2['订单创建时间']\n",
    "del df_order_d2['订单付款时间']"
   ]
  },
  {
   "cell_type": "code",
   "execution_count": 61,
   "metadata": {
    "collapsed": true
   },
   "outputs": [
    {
     "data": {
      "text/html": [
       "<div>\n",
       "<style scoped>\n",
       "    .dataframe tbody tr th:only-of-type {\n",
       "        vertical-align: middle;\n",
       "    }\n",
       "\n",
       "    .dataframe tbody tr th {\n",
       "        vertical-align: top;\n",
       "    }\n",
       "\n",
       "    .dataframe thead th {\n",
       "        text-align: right;\n",
       "    }\n",
       "</style>\n",
       "<table border=\"1\" class=\"dataframe\">\n",
       "  <thead>\n",
       "    <tr style=\"text-align: right;\">\n",
       "      <th></th>\n",
       "      <th>订单编号</th>\n",
       "      <th>买家会员名</th>\n",
       "      <th>买家实际支付金额</th>\n",
       "      <th>宝贝标题</th>\n",
       "      <th>宝贝种类</th>\n",
       "      <th>宝贝总数量</th>\n",
       "      <th>收货地址</th>\n",
       "    </tr>\n",
       "  </thead>\n",
       "  <tbody>\n",
       "    <tr>\n",
       "      <th>0</th>\n",
       "      <td>21407300627014900</td>\n",
       "      <td>1425</td>\n",
       "      <td>58.51</td>\n",
       "      <td>发光玩具批发光纤手指灯闪光夜市热卖货源儿童玩具地摊义乌厂家，特价5号AA普通干电池 电动玩具...</td>\n",
       "      <td>5</td>\n",
       "      <td>59</td>\n",
       "      <td>广东省 广州市 越秀区 华乐街道环市东路华侨新村光明路28号3a楼（即原文化假日酒店，后易名...</td>\n",
       "    </tr>\n",
       "    <tr>\n",
       "      <th>1</th>\n",
       "      <td>24270488269081200</td>\n",
       "      <td>2163</td>\n",
       "      <td>20.70</td>\n",
       "      <td>创意新款回力小车惯性坦克 军事儿童玩具模型地摊货源玩具车批发，创意新款回力小车惯性坦克 军事...</td>\n",
       "      <td>2</td>\n",
       "      <td>2</td>\n",
       "      <td>江西省 九江市 浔阳区 甘棠街道浔阳东路108号儿童保健康复中心亲子园(332000)</td>\n",
       "    </tr>\n",
       "  </tbody>\n",
       "</table>\n",
       "</div>"
      ],
      "text/plain": [
       "                订单编号  买家会员名  买家实际支付金额  \\\n",
       "0  21407300627014900   1425     58.51   \n",
       "1  24270488269081200   2163     20.70   \n",
       "\n",
       "                                                宝贝标题  宝贝种类  宝贝总数量  \\\n",
       "0  发光玩具批发光纤手指灯闪光夜市热卖货源儿童玩具地摊义乌厂家，特价5号AA普通干电池 电动玩具...     5     59   \n",
       "1  创意新款回力小车惯性坦克 军事儿童玩具模型地摊货源玩具车批发，创意新款回力小车惯性坦克 军事...     2      2   \n",
       "\n",
       "                                                收货地址  \n",
       "0  广东省 广州市 越秀区 华乐街道环市东路华侨新村光明路28号3a楼（即原文化假日酒店，后易名...  \n",
       "1        江西省 九江市 浔阳区 甘棠街道浔阳东路108号儿童保健康复中心亲子园(332000)  "
      ]
     },
     "execution_count": 61,
     "metadata": {},
     "output_type": "execute_result"
    }
   ],
   "source": [
    "df_order_d2.head(2)"
   ]
  },
  {
   "cell_type": "code",
   "execution_count": 62,
   "metadata": {},
   "outputs": [
    {
     "data": {
      "text/plain": [
       "0    发光玩具批发光纤手指灯闪光夜市热卖货源儿童玩具地摊义乌厂家，特价5号AA普通干电池 电动玩具...\n",
       "1    创意新款回力小车惯性坦克 军事儿童玩具模型地摊货源玩具车批发，创意新款回力小车惯性坦克 军事...\n",
       "2                        创意恐龙玩具卡装仿真恐龙模型小孩礼物宝宝玩具地摊货批发免邮\n",
       "Name: 宝贝标题, dtype: object"
      ]
     },
     "execution_count": 62,
     "metadata": {},
     "output_type": "execute_result"
    }
   ],
   "source": [
    "df_order_d2.宝贝标题[:3]"
   ]
  },
  {
   "cell_type": "code",
   "execution_count": 100,
   "metadata": {},
   "outputs": [],
   "source": [
    "#宝贝标题特征中没有我们需要的信息，选择删除；另df_order订单信息中的宝贝标题不准\n",
    "del df_order_d2['宝贝标题']"
   ]
  },
  {
   "cell_type": "code",
   "execution_count": 64,
   "metadata": {
    "collapsed": true
   },
   "outputs": [
    {
     "data": {
      "text/html": [
       "<div>\n",
       "<style scoped>\n",
       "    .dataframe tbody tr th:only-of-type {\n",
       "        vertical-align: middle;\n",
       "    }\n",
       "\n",
       "    .dataframe tbody tr th {\n",
       "        vertical-align: top;\n",
       "    }\n",
       "\n",
       "    .dataframe thead th {\n",
       "        text-align: right;\n",
       "    }\n",
       "</style>\n",
       "<table border=\"1\" class=\"dataframe\">\n",
       "  <thead>\n",
       "    <tr style=\"text-align: right;\">\n",
       "      <th></th>\n",
       "      <th>订单编号</th>\n",
       "      <th>买家会员名</th>\n",
       "      <th>买家实际支付金额</th>\n",
       "      <th>宝贝种类</th>\n",
       "      <th>宝贝总数量</th>\n",
       "      <th>收货地址</th>\n",
       "    </tr>\n",
       "  </thead>\n",
       "  <tbody>\n",
       "    <tr>\n",
       "      <th>0</th>\n",
       "      <td>21407300627014900</td>\n",
       "      <td>1425</td>\n",
       "      <td>58.51</td>\n",
       "      <td>5</td>\n",
       "      <td>59</td>\n",
       "      <td>广东省 广州市 越秀区 华乐街道环市东路华侨新村光明路28号3a楼（即原文化假日酒店，后易名...</td>\n",
       "    </tr>\n",
       "    <tr>\n",
       "      <th>1</th>\n",
       "      <td>24270488269081200</td>\n",
       "      <td>2163</td>\n",
       "      <td>20.70</td>\n",
       "      <td>2</td>\n",
       "      <td>2</td>\n",
       "      <td>江西省 九江市 浔阳区 甘棠街道浔阳东路108号儿童保健康复中心亲子园(332000)</td>\n",
       "    </tr>\n",
       "    <tr>\n",
       "      <th>2</th>\n",
       "      <td>21402600386365500</td>\n",
       "      <td>375</td>\n",
       "      <td>12.90</td>\n",
       "      <td>1</td>\n",
       "      <td>1</td>\n",
       "      <td>浙江省 宁波市 江东区 新明街道明晨紫月227弄25号401室(315040)</td>\n",
       "    </tr>\n",
       "    <tr>\n",
       "      <th>3</th>\n",
       "      <td>21398820349555700</td>\n",
       "      <td>2618</td>\n",
       "      <td>9.81</td>\n",
       "      <td>1</td>\n",
       "      <td>1</td>\n",
       "      <td>湖南省 邵阳市 其它区 湖南省邵阳市双清区铁砂岭小学后面(422000)</td>\n",
       "    </tr>\n",
       "    <tr>\n",
       "      <th>4</th>\n",
       "      <td>21446781606162100</td>\n",
       "      <td>2012</td>\n",
       "      <td>28.92</td>\n",
       "      <td>1</td>\n",
       "      <td>8</td>\n",
       "      <td>安徽省 阜阳市 颍东区 新华街道尚武艺术培训中心(236058)</td>\n",
       "    </tr>\n",
       "  </tbody>\n",
       "</table>\n",
       "</div>"
      ],
      "text/plain": [
       "                订单编号  买家会员名  买家实际支付金额  宝贝种类  宝贝总数量  \\\n",
       "0  21407300627014900   1425     58.51     5     59   \n",
       "1  24270488269081200   2163     20.70     2      2   \n",
       "2  21402600386365500    375     12.90     1      1   \n",
       "3  21398820349555700   2618      9.81     1      1   \n",
       "4  21446781606162100   2012     28.92     1      8   \n",
       "\n",
       "                                                收货地址  \n",
       "0  广东省 广州市 越秀区 华乐街道环市东路华侨新村光明路28号3a楼（即原文化假日酒店，后易名...  \n",
       "1        江西省 九江市 浔阳区 甘棠街道浔阳东路108号儿童保健康复中心亲子园(332000)  \n",
       "2            浙江省 宁波市 江东区 新明街道明晨紫月227弄25号401室(315040)  \n",
       "3               湖南省 邵阳市 其它区 湖南省邵阳市双清区铁砂岭小学后面(422000)  \n",
       "4                   安徽省 阜阳市 颍东区 新华街道尚武艺术培训中心(236058)  "
      ]
     },
     "execution_count": 64,
     "metadata": {},
     "output_type": "execute_result"
    }
   ],
   "source": [
    "df_order_d2.head()"
   ]
  },
  {
   "cell_type": "code",
   "execution_count": 101,
   "metadata": {},
   "outputs": [],
   "source": [
    "#地址需要做分析可以按照这种方式提取信息\n",
    "#收货地址特征，我们只需省份\n",
    "#df_order_d2['收货地址']=df_order_d2['收货地址'].apply(lambda x:x.split()[0])"
   ]
  },
  {
   "cell_type": "code",
   "execution_count": 66,
   "metadata": {
    "collapsed": true
   },
   "outputs": [
    {
     "data": {
      "text/html": [
       "<div>\n",
       "<style scoped>\n",
       "    .dataframe tbody tr th:only-of-type {\n",
       "        vertical-align: middle;\n",
       "    }\n",
       "\n",
       "    .dataframe tbody tr th {\n",
       "        vertical-align: top;\n",
       "    }\n",
       "\n",
       "    .dataframe thead th {\n",
       "        text-align: right;\n",
       "    }\n",
       "</style>\n",
       "<table border=\"1\" class=\"dataframe\">\n",
       "  <thead>\n",
       "    <tr style=\"text-align: right;\">\n",
       "      <th></th>\n",
       "      <th>订单编号</th>\n",
       "      <th>买家会员名</th>\n",
       "      <th>买家实际支付金额</th>\n",
       "      <th>宝贝种类</th>\n",
       "      <th>宝贝总数量</th>\n",
       "      <th>收货地址</th>\n",
       "    </tr>\n",
       "  </thead>\n",
       "  <tbody>\n",
       "    <tr>\n",
       "      <th>0</th>\n",
       "      <td>21407300627014900</td>\n",
       "      <td>1425</td>\n",
       "      <td>58.51</td>\n",
       "      <td>5</td>\n",
       "      <td>59</td>\n",
       "      <td>广东省</td>\n",
       "    </tr>\n",
       "    <tr>\n",
       "      <th>1</th>\n",
       "      <td>24270488269081200</td>\n",
       "      <td>2163</td>\n",
       "      <td>20.70</td>\n",
       "      <td>2</td>\n",
       "      <td>2</td>\n",
       "      <td>江西省</td>\n",
       "    </tr>\n",
       "    <tr>\n",
       "      <th>2</th>\n",
       "      <td>21402600386365500</td>\n",
       "      <td>375</td>\n",
       "      <td>12.90</td>\n",
       "      <td>1</td>\n",
       "      <td>1</td>\n",
       "      <td>浙江省</td>\n",
       "    </tr>\n",
       "    <tr>\n",
       "      <th>3</th>\n",
       "      <td>21398820349555700</td>\n",
       "      <td>2618</td>\n",
       "      <td>9.81</td>\n",
       "      <td>1</td>\n",
       "      <td>1</td>\n",
       "      <td>湖南省</td>\n",
       "    </tr>\n",
       "    <tr>\n",
       "      <th>4</th>\n",
       "      <td>21446781606162100</td>\n",
       "      <td>2012</td>\n",
       "      <td>28.92</td>\n",
       "      <td>1</td>\n",
       "      <td>8</td>\n",
       "      <td>安徽省</td>\n",
       "    </tr>\n",
       "  </tbody>\n",
       "</table>\n",
       "</div>"
      ],
      "text/plain": [
       "                订单编号  买家会员名  买家实际支付金额  宝贝种类  宝贝总数量 收货地址\n",
       "0  21407300627014900   1425     58.51     5     59  广东省\n",
       "1  24270488269081200   2163     20.70     2      2  江西省\n",
       "2  21402600386365500    375     12.90     1      1  浙江省\n",
       "3  21398820349555700   2618      9.81     1      1  湖南省\n",
       "4  21446781606162100   2012     28.92     1      8  安徽省"
      ]
     },
     "execution_count": 66,
     "metadata": {},
     "output_type": "execute_result"
    }
   ],
   "source": [
    "df_order_d2.head()"
   ]
  },
  {
   "cell_type": "code",
   "execution_count": 67,
   "metadata": {
    "collapsed": true
   },
   "outputs": [
    {
     "data": {
      "text/plain": [
       "1     1528\n",
       "2      299\n",
       "3      254\n",
       "4      244\n",
       "5      233\n",
       "6      218\n",
       "8      157\n",
       "7      147\n",
       "9      136\n",
       "10     121\n",
       "12      98\n",
       "11      96\n",
       "13      72\n",
       "14      60\n",
       "15      58\n",
       "16      39\n",
       "17      35\n",
       "18      28\n",
       "19      25\n",
       "21      22\n",
       "20      20\n",
       "23      14\n",
       "24      11\n",
       "22       8\n",
       "25       7\n",
       "26       6\n",
       "27       5\n",
       "38       5\n",
       "28       5\n",
       "29       4\n",
       "33       4\n",
       "49       4\n",
       "36       3\n",
       "30       3\n",
       "40       2\n",
       "37       2\n",
       "41       2\n",
       "45       1\n",
       "32       1\n",
       "34       1\n",
       "46       1\n",
       "48       1\n",
       "43       1\n",
       "47       1\n",
       "31       1\n",
       "35       1\n",
       "39       1\n",
       "50       1\n",
       "Name: 宝贝种类, dtype: int64"
      ]
     },
     "execution_count": 67,
     "metadata": {},
     "output_type": "execute_result"
    }
   ],
   "source": [
    "df_order_d2.宝贝种类.value_counts()"
   ]
  },
  {
   "cell_type": "code",
   "execution_count": 68,
   "metadata": {},
   "outputs": [
    {
     "data": {
      "text/plain": [
       "count      48.000000\n",
       "mean       83.041667\n",
       "std       227.618471\n",
       "min         1.000000\n",
       "25%         2.000000\n",
       "50%         7.500000\n",
       "75%        78.000000\n",
       "max      1528.000000\n",
       "Name: 宝贝种类, dtype: float64"
      ]
     },
     "execution_count": 68,
     "metadata": {},
     "output_type": "execute_result"
    }
   ],
   "source": [
    "df_order_d2.宝贝种类.value_counts().describe()"
   ]
  },
  {
   "cell_type": "code",
   "execution_count": 69,
   "metadata": {},
   "outputs": [
    {
     "data": {
      "text/plain": [
       "192.0"
      ]
     },
     "execution_count": 69,
     "metadata": {},
     "output_type": "execute_result"
    }
   ],
   "source": [
    "78+(78-2)*1.5"
   ]
  },
  {
   "cell_type": "code",
   "execution_count": 102,
   "metadata": {},
   "outputs": [
    {
     "data": {
      "image/png": "[encoded data removed]",
      "text/plain": [
       "<Figure size 864x432 with 2 Axes>"
      ]
     },
     "metadata": {
      "needs_background": "light"
     },
     "output_type": "display_data"
    }
   ],
   "source": [
    "f,(ax1,ax2)=plt.subplots(1,2,figsize=(12,6))\n",
    "sns.distplot(df_order_d2.宝贝种类,ax=ax1)\n",
    "sns.boxplot(y='宝贝种类',data=df_order_d2,ax=ax2)\n",
    "plt.show()\n",
    "\n",
    "#从数据和图形看，数据分布比较均匀，异常值有意义的不能删除。"
   ]
  },
  {
   "cell_type": "code",
   "execution_count": 71,
   "metadata": {},
   "outputs": [
    {
     "data": {
      "text/plain": [
       "count    3986.000000\n",
       "mean       23.839940\n",
       "std        44.951522\n",
       "min         1.000000\n",
       "25%         4.000000\n",
       "50%        10.000000\n",
       "75%        26.000000\n",
       "max       820.000000\n",
       "Name: 宝贝总数量, dtype: float64"
      ]
     },
     "execution_count": 71,
     "metadata": {},
     "output_type": "execute_result"
    }
   ],
   "source": [
    "df_order_d2.宝贝总数量.describe()"
   ]
  },
  {
   "cell_type": "code",
   "execution_count": 103,
   "metadata": {},
   "outputs": [
    {
     "data": {
      "image/png": "[encoded data removed]",
      "text/plain": [
       "<Figure size 864x432 with 2 Axes>"
      ]
     },
     "metadata": {
      "needs_background": "light"
     },
     "output_type": "display_data"
    }
   ],
   "source": [
    "f,(ax1,ax2)=plt.subplots(1,2,figsize=(12,6))\n",
    "sns.distplot(df_order_d2.宝贝总数量,ax=ax1)\n",
    "sns.boxplot(y='宝贝总数量',data=df_order_d2,ax=ax2)\n",
    "plt.show()\n",
    "#从数据和图形看，出现长尾数据，出现较少的离群数据。我们再细分析删除少量异常值"
   ]
  },
  {
   "cell_type": "code",
   "execution_count": 104,
   "metadata": {},
   "outputs": [],
   "source": [
    "#为了保证聚类效果，删除数量大于500的数值\n",
    "df_order_d3=df_order_d2[df_order_d2.宝贝总数量<500]"
   ]
  },
  {
   "cell_type": "code",
   "execution_count": 105,
   "metadata": {
    "collapsed": true
   },
   "outputs": [
    {
     "data": {
      "text/html": [
       "<div>\n",
       "<style scoped>\n",
       "    .dataframe tbody tr th:only-of-type {\n",
       "        vertical-align: middle;\n",
       "    }\n",
       "\n",
       "    .dataframe tbody tr th {\n",
       "        vertical-align: top;\n",
       "    }\n",
       "\n",
       "    .dataframe thead th {\n",
       "        text-align: right;\n",
       "    }\n",
       "</style>\n",
       "<table border=\"1\" class=\"dataframe\">\n",
       "  <thead>\n",
       "    <tr style=\"text-align: right;\">\n",
       "      <th></th>\n",
       "      <th>订单编号</th>\n",
       "      <th>买家会员名</th>\n",
       "      <th>买家实际支付金额</th>\n",
       "      <th>宝贝种类</th>\n",
       "      <th>宝贝总数量</th>\n",
       "    </tr>\n",
       "  </thead>\n",
       "  <tbody>\n",
       "    <tr>\n",
       "      <th>0</th>\n",
       "      <td>21407300627014900</td>\n",
       "      <td>1425</td>\n",
       "      <td>58.51</td>\n",
       "      <td>5</td>\n",
       "      <td>59</td>\n",
       "    </tr>\n",
       "    <tr>\n",
       "      <th>1</th>\n",
       "      <td>24270488269081200</td>\n",
       "      <td>2163</td>\n",
       "      <td>20.70</td>\n",
       "      <td>2</td>\n",
       "      <td>2</td>\n",
       "    </tr>\n",
       "    <tr>\n",
       "      <th>2</th>\n",
       "      <td>21402600386365500</td>\n",
       "      <td>375</td>\n",
       "      <td>12.90</td>\n",
       "      <td>1</td>\n",
       "      <td>1</td>\n",
       "    </tr>\n",
       "    <tr>\n",
       "      <th>3</th>\n",
       "      <td>21398820349555700</td>\n",
       "      <td>2618</td>\n",
       "      <td>9.81</td>\n",
       "      <td>1</td>\n",
       "      <td>1</td>\n",
       "    </tr>\n",
       "    <tr>\n",
       "      <th>4</th>\n",
       "      <td>21446781606162100</td>\n",
       "      <td>2012</td>\n",
       "      <td>28.92</td>\n",
       "      <td>1</td>\n",
       "      <td>8</td>\n",
       "    </tr>\n",
       "  </tbody>\n",
       "</table>\n",
       "</div>"
      ],
      "text/plain": [
       "                订单编号  买家会员名  买家实际支付金额  宝贝种类  宝贝总数量\n",
       "0  21407300627014900   1425     58.51     5     59\n",
       "1  24270488269081200   2163     20.70     2      2\n",
       "2  21402600386365500    375     12.90     1      1\n",
       "3  21398820349555700   2618      9.81     1      1\n",
       "4  21446781606162100   2012     28.92     1      8"
      ]
     },
     "execution_count": 105,
     "metadata": {},
     "output_type": "execute_result"
    }
   ],
   "source": [
    "df_order_d3.head()"
   ]
  },
  {
   "cell_type": "code",
   "execution_count": 106,
   "metadata": {},
   "outputs": [
    {
     "data": {
      "text/plain": [
       "((3978, 5), (3986, 5))"
      ]
     },
     "execution_count": 106,
     "metadata": {},
     "output_type": "execute_result"
    }
   ],
   "source": [
    "df_order_d3.shape,df_order_d2.shape    #删除了8个异常值"
   ]
  },
  {
   "cell_type": "code",
   "execution_count": 107,
   "metadata": {},
   "outputs": [
    {
     "data": {
      "text/plain": [
       "订单编号        0.0\n",
       "买家会员名       0.0\n",
       "买家实际支付金额    0.0\n",
       "宝贝种类        0.0\n",
       "宝贝总数量       0.0\n",
       "dtype: float64"
      ]
     },
     "execution_count": 107,
     "metadata": {},
     "output_type": "execute_result"
    }
   ],
   "source": [
    "df_order_d3.isnull().mean()  \n"
   ]
  },
  {
   "cell_type": "code",
   "execution_count": 108,
   "metadata": {},
   "outputs": [
    {
     "data": {
      "text/plain": [
       "(3402,)"
      ]
     },
     "execution_count": 108,
     "metadata": {},
     "output_type": "execute_result"
    }
   ],
   "source": [
    "np.unique(df_order_d3.买家会员名).shape   #说明有576条订单是用户多次下单"
   ]
  },
  {
   "cell_type": "code",
   "execution_count": 109,
   "metadata": {
    "collapsed": true
   },
   "outputs": [
    {
     "data": {
      "text/plain": [
       "1631    16\n",
       "2148    10\n",
       "2989     9\n",
       "2926     8\n",
       "2174     8\n",
       "943      7\n",
       "1782     7\n",
       "327      7\n",
       "2236     7\n",
       "908      7\n",
       "930      7\n",
       "2263     6\n",
       "1479     6\n",
       "1874     6\n",
       "2471     5\n",
       "1977     5\n",
       "1873     5\n",
       "772      5\n",
       "1603     5\n",
       "68       5\n",
       "3377     5\n",
       "2270     5\n",
       "3034     4\n",
       "1913     4\n",
       "815      4\n",
       "2833     4\n",
       "2278     4\n",
       "1942     4\n",
       "884      4\n",
       "533      4\n",
       "        ..\n",
       "954      1\n",
       "2999     1\n",
       "950      1\n",
       "946      1\n",
       "3039     1\n",
       "3043     1\n",
       "3091     1\n",
       "998      1\n",
       "1042     1\n",
       "3087     1\n",
       "1038     1\n",
       "3083     1\n",
       "1034     1\n",
       "3079     1\n",
       "1030     1\n",
       "3075     1\n",
       "1026     1\n",
       "3071     1\n",
       "3067     1\n",
       "1018     1\n",
       "3063     1\n",
       "1014     1\n",
       "3059     1\n",
       "1010     1\n",
       "3055     1\n",
       "1006     1\n",
       "3051     1\n",
       "1002     1\n",
       "3047     1\n",
       "0        1\n",
       "Name: 买家会员名, Length: 3402, dtype: int64"
      ]
     },
     "execution_count": 109,
     "metadata": {},
     "output_type": "execute_result"
    }
   ],
   "source": [
    "df_order_d3.买家会员名.value_counts()"
   ]
  },
  {
   "cell_type": "markdown",
   "metadata": {},
   "source": [
    "#### 获取用户订单行为数据"
   ]
  },
  {
   "cell_type": "code",
   "execution_count": 110,
   "metadata": {
    "collapsed": true
   },
   "outputs": [
    {
     "data": {
      "text/html": [
       "<div>\n",
       "<style scoped>\n",
       "    .dataframe tbody tr th:only-of-type {\n",
       "        vertical-align: middle;\n",
       "    }\n",
       "\n",
       "    .dataframe tbody tr th {\n",
       "        vertical-align: top;\n",
       "    }\n",
       "\n",
       "    .dataframe thead th {\n",
       "        text-align: right;\n",
       "    }\n",
       "</style>\n",
       "<table border=\"1\" class=\"dataframe\">\n",
       "  <thead>\n",
       "    <tr style=\"text-align: right;\">\n",
       "      <th></th>\n",
       "      <th>买家会员名</th>\n",
       "      <th>买家实际支付金额</th>\n",
       "      <th>宝贝种类</th>\n",
       "      <th>宝贝总数量</th>\n",
       "    </tr>\n",
       "  </thead>\n",
       "  <tbody>\n",
       "    <tr>\n",
       "      <th>0</th>\n",
       "      <td>0</td>\n",
       "      <td>14.90</td>\n",
       "      <td>1.0</td>\n",
       "      <td>1.0</td>\n",
       "    </tr>\n",
       "    <tr>\n",
       "      <th>1</th>\n",
       "      <td>1</td>\n",
       "      <td>37.56</td>\n",
       "      <td>4.0</td>\n",
       "      <td>8.0</td>\n",
       "    </tr>\n",
       "    <tr>\n",
       "      <th>2</th>\n",
       "      <td>2</td>\n",
       "      <td>58.50</td>\n",
       "      <td>2.0</td>\n",
       "      <td>15.0</td>\n",
       "    </tr>\n",
       "    <tr>\n",
       "      <th>3</th>\n",
       "      <td>3</td>\n",
       "      <td>13.39</td>\n",
       "      <td>2.0</td>\n",
       "      <td>2.0</td>\n",
       "    </tr>\n",
       "    <tr>\n",
       "      <th>4</th>\n",
       "      <td>4</td>\n",
       "      <td>30.87</td>\n",
       "      <td>6.0</td>\n",
       "      <td>6.0</td>\n",
       "    </tr>\n",
       "  </tbody>\n",
       "</table>\n",
       "</div>"
      ],
      "text/plain": [
       "   买家会员名  买家实际支付金额  宝贝种类  宝贝总数量\n",
       "0      0     14.90   1.0    1.0\n",
       "1      1     37.56   4.0    8.0\n",
       "2      2     58.50   2.0   15.0\n",
       "3      3     13.39   2.0    2.0\n",
       "4      4     30.87   6.0    6.0"
      ]
     },
     "execution_count": 110,
     "metadata": {},
     "output_type": "execute_result"
    }
   ],
   "source": [
    "user_info1=df_order_d3.groupby(['买家会员名']).mean()\n",
    "del user_info1['订单编号']\n",
    "user_info1.reset_index(inplace=True)\n",
    "user_info1.head()\n",
    "#我们获得用户订单行为最终数据"
   ]
  },
  {
   "cell_type": "code",
   "execution_count": 111,
   "metadata": {},
   "outputs": [
    {
     "data": {
      "text/plain": [
       "((3402, 4), (3402,))"
      ]
     },
     "execution_count": 111,
     "metadata": {},
     "output_type": "execute_result"
    }
   ],
   "source": [
    "user_info1.shape,np.unique(user_info1.买家会员名).shape   #没有重复数据"
   ]
  },
  {
   "cell_type": "markdown",
   "metadata": {},
   "source": [
    "### 基于用户交易数据，挖掘用户特征\n",
    "- 探索df_item表"
   ]
  },
  {
   "cell_type": "markdown",
   "metadata": {},
   "source": [
    "#### 探索表和特征"
   ]
  },
  {
   "cell_type": "code",
   "execution_count": 112,
   "metadata": {},
   "outputs": [
    {
     "name": "stdout",
     "output_type": "stream",
     "text": [
      "<class 'pandas.core.frame.DataFrame'>\n",
      "RangeIndex: 21897 entries, 0 to 21896\n",
      "Data columns (total 10 columns):\n",
      "订单编号      21897 non-null int64\n",
      "标题        21897 non-null object\n",
      "价格        21897 non-null float64\n",
      "购买数量      21897 non-null int64\n",
      "外部系统编号    21897 non-null object\n",
      "商品属性      12636 non-null object\n",
      "套餐信息      0 non-null float64\n",
      "备注        130 non-null object\n",
      "订单状态      21897 non-null object\n",
      "商家编码      21897 non-null object\n",
      "dtypes: float64(2), int64(2), object(6)\n",
      "memory usage: 1.7+ MB\n"
     ]
    }
   ],
   "source": [
    "df_item.info()"
   ]
  },
  {
   "cell_type": "code",
   "execution_count": 113,
   "metadata": {
    "collapsed": true
   },
   "outputs": [
    {
     "data": {
      "text/html": [
       "<div>\n",
       "<style scoped>\n",
       "    .dataframe tbody tr th:only-of-type {\n",
       "        vertical-align: middle;\n",
       "    }\n",
       "\n",
       "    .dataframe tbody tr th {\n",
       "        vertical-align: top;\n",
       "    }\n",
       "\n",
       "    .dataframe thead th {\n",
       "        text-align: right;\n",
       "    }\n",
       "</style>\n",
       "<table border=\"1\" class=\"dataframe\">\n",
       "  <thead>\n",
       "    <tr style=\"text-align: right;\">\n",
       "      <th></th>\n",
       "      <th>订单编号</th>\n",
       "      <th>买家会员名</th>\n",
       "      <th>买家实际支付金额</th>\n",
       "      <th>宝贝种类</th>\n",
       "      <th>宝贝总数量</th>\n",
       "    </tr>\n",
       "  </thead>\n",
       "  <tbody>\n",
       "    <tr>\n",
       "      <th>0</th>\n",
       "      <td>21407300627014900</td>\n",
       "      <td>1425</td>\n",
       "      <td>58.51</td>\n",
       "      <td>5</td>\n",
       "      <td>59</td>\n",
       "    </tr>\n",
       "    <tr>\n",
       "      <th>1</th>\n",
       "      <td>24270488269081200</td>\n",
       "      <td>2163</td>\n",
       "      <td>20.70</td>\n",
       "      <td>2</td>\n",
       "      <td>2</td>\n",
       "    </tr>\n",
       "    <tr>\n",
       "      <th>2</th>\n",
       "      <td>21402600386365500</td>\n",
       "      <td>375</td>\n",
       "      <td>12.90</td>\n",
       "      <td>1</td>\n",
       "      <td>1</td>\n",
       "    </tr>\n",
       "    <tr>\n",
       "      <th>3</th>\n",
       "      <td>21398820349555700</td>\n",
       "      <td>2618</td>\n",
       "      <td>9.81</td>\n",
       "      <td>1</td>\n",
       "      <td>1</td>\n",
       "    </tr>\n",
       "    <tr>\n",
       "      <th>4</th>\n",
       "      <td>21446781606162100</td>\n",
       "      <td>2012</td>\n",
       "      <td>28.92</td>\n",
       "      <td>1</td>\n",
       "      <td>8</td>\n",
       "    </tr>\n",
       "  </tbody>\n",
       "</table>\n",
       "</div>"
      ],
      "text/plain": [
       "                订单编号  买家会员名  买家实际支付金额  宝贝种类  宝贝总数量\n",
       "0  21407300627014900   1425     58.51     5     59\n",
       "1  24270488269081200   2163     20.70     2      2\n",
       "2  21402600386365500    375     12.90     1      1\n",
       "3  21398820349555700   2618      9.81     1      1\n",
       "4  21446781606162100   2012     28.92     1      8"
      ]
     },
     "execution_count": 113,
     "metadata": {},
     "output_type": "execute_result"
    }
   ],
   "source": [
    "df_order_d3.head()"
   ]
  },
  {
   "cell_type": "code",
   "execution_count": 114,
   "metadata": {},
   "outputs": [
    {
     "data": {
      "text/plain": [
       "((3978, 5), (3978,))"
      ]
     },
     "execution_count": 114,
     "metadata": {},
     "output_type": "execute_result"
    }
   ],
   "source": [
    "df_order_d3.shape,np.unique(df_order_d3.订单编号).shape  #没有重复数据"
   ]
  },
  {
   "cell_type": "code",
   "execution_count": 115,
   "metadata": {
    "collapsed": true
   },
   "outputs": [
    {
     "data": {
      "text/html": [
       "<div>\n",
       "<style scoped>\n",
       "    .dataframe tbody tr th:only-of-type {\n",
       "        vertical-align: middle;\n",
       "    }\n",
       "\n",
       "    .dataframe tbody tr th {\n",
       "        vertical-align: top;\n",
       "    }\n",
       "\n",
       "    .dataframe thead th {\n",
       "        text-align: right;\n",
       "    }\n",
       "</style>\n",
       "<table border=\"1\" class=\"dataframe\">\n",
       "  <thead>\n",
       "    <tr style=\"text-align: right;\">\n",
       "      <th></th>\n",
       "      <th>订单编号</th>\n",
       "      <th>标题</th>\n",
       "      <th>价格</th>\n",
       "      <th>购买数量</th>\n",
       "      <th>外部系统编号</th>\n",
       "      <th>商品属性</th>\n",
       "      <th>套餐信息</th>\n",
       "      <th>备注</th>\n",
       "      <th>订单状态</th>\n",
       "      <th>商家编码</th>\n",
       "    </tr>\n",
       "  </thead>\n",
       "  <tbody>\n",
       "    <tr>\n",
       "      <th>0</th>\n",
       "      <td>21407300627014900</td>\n",
       "      <td>发光玩具批发光纤手指灯闪光夜市热卖货源儿童玩具地摊义乌厂家</td>\n",
       "      <td>0.58</td>\n",
       "      <td>12</td>\n",
       "      <td>WY013-2SZD0426</td>\n",
       "      <td>颜色分类：小号</td>\n",
       "      <td>NaN</td>\n",
       "      <td>NaN</td>\n",
       "      <td>交易成功</td>\n",
       "      <td>WY013-2SZD0426</td>\n",
       "    </tr>\n",
       "    <tr>\n",
       "      <th>1</th>\n",
       "      <td>21407300627014900</td>\n",
       "      <td>特价5号AA普通干电池 电动玩具配件 厂家直销批</td>\n",
       "      <td>1.00</td>\n",
       "      <td>20</td>\n",
       "      <td>HT-5H0094</td>\n",
       "      <td>NaN</td>\n",
       "      <td>NaN</td>\n",
       "      <td>NaN</td>\n",
       "      <td>交易成功</td>\n",
       "      <td>HT-5H0094</td>\n",
       "    </tr>\n",
       "    <tr>\n",
       "      <th>2</th>\n",
       "      <td>21407300627014900</td>\n",
       "      <td>大号泡泡棒沙滩小铲子工具泡泡枪公园吹泡泡户外亲子游戏玩具热卖</td>\n",
       "      <td>1.20</td>\n",
       "      <td>16</td>\n",
       "      <td>GC018005</td>\n",
       "      <td>NaN</td>\n",
       "      <td>NaN</td>\n",
       "      <td>NaN</td>\n",
       "      <td>交易成功</td>\n",
       "      <td>GC018005</td>\n",
       "    </tr>\n",
       "    <tr>\n",
       "      <th>3</th>\n",
       "      <td>21407300627014900</td>\n",
       "      <td>特价正品7号电池儿童电动玩具电源配件 厂家直销1元4节地摊货批发</td>\n",
       "      <td>1.00</td>\n",
       "      <td>10</td>\n",
       "      <td>HT-7H0093</td>\n",
       "      <td>NaN</td>\n",
       "      <td>NaN</td>\n",
       "      <td>NaN</td>\n",
       "      <td>交易成功</td>\n",
       "      <td>HT-7H0093</td>\n",
       "    </tr>\n",
       "    <tr>\n",
       "      <th>4</th>\n",
       "      <td>21407300627014900</td>\n",
       "      <td>儿童沙滩玩具水枪 宝宝玩水玩具户外洗澡游泳漂流戏大号水枪批发</td>\n",
       "      <td>6.79</td>\n",
       "      <td>1</td>\n",
       "      <td>GC080003</td>\n",
       "      <td>套餐类型：标准配置;颜色分类：33000蓝色水枪</td>\n",
       "      <td>NaN</td>\n",
       "      <td>NaN</td>\n",
       "      <td>交易成功</td>\n",
       "      <td>GC080003</td>\n",
       "    </tr>\n",
       "  </tbody>\n",
       "</table>\n",
       "</div>"
      ],
      "text/plain": [
       "                订单编号                                标题    价格  购买数量  \\\n",
       "0  21407300627014900     发光玩具批发光纤手指灯闪光夜市热卖货源儿童玩具地摊义乌厂家  0.58    12   \n",
       "1  21407300627014900          特价5号AA普通干电池 电动玩具配件 厂家直销批  1.00    20   \n",
       "2  21407300627014900    大号泡泡棒沙滩小铲子工具泡泡枪公园吹泡泡户外亲子游戏玩具热卖  1.20    16   \n",
       "3  21407300627014900  特价正品7号电池儿童电动玩具电源配件 厂家直销1元4节地摊货批发  1.00    10   \n",
       "4  21407300627014900    儿童沙滩玩具水枪 宝宝玩水玩具户外洗澡游泳漂流戏大号水枪批发  6.79     1   \n",
       "\n",
       "           外部系统编号                      商品属性  套餐信息   备注  订单状态            商家编码  \n",
       "0  WY013-2SZD0426                   颜色分类：小号   NaN  NaN  交易成功  WY013-2SZD0426  \n",
       "1       HT-5H0094                       NaN   NaN  NaN  交易成功       HT-5H0094  \n",
       "2        GC018005                       NaN   NaN  NaN  交易成功        GC018005  \n",
       "3       HT-7H0093                       NaN   NaN  NaN  交易成功       HT-7H0093  \n",
       "4        GC080003  套餐类型：标准配置;颜色分类：33000蓝色水枪   NaN  NaN  交易成功        GC080003  "
      ]
     },
     "execution_count": 115,
     "metadata": {},
     "output_type": "execute_result"
    }
   ],
   "source": [
    "df_item.head()"
   ]
  },
  {
   "cell_type": "code",
   "execution_count": 116,
   "metadata": {},
   "outputs": [
    {
     "data": {
      "text/plain": [
       "((21897, 10), (3989,))"
      ]
     },
     "execution_count": 116,
     "metadata": {},
     "output_type": "execute_result"
    }
   ],
   "source": [
    "df_item.shape, np.unique(df_item.订单编号).shape"
   ]
  },
  {
   "cell_type": "code",
   "execution_count": 117,
   "metadata": {
    "collapsed": true
   },
   "outputs": [
    {
     "data": {
      "text/plain": [
       "颜色分类：发光翅膀;大小描述：大号                   354\n",
       "颜色分类：带绳水晶球5.5CM                     282\n",
       "颜色分类：黑色电动枪A;大小描述：均码                 221\n",
       "颜色分类：398-13挖掘机                      219\n",
       "颜色分类：2385新款挖掘机                      196\n",
       "颜色分类：发条铁皮青蛙                         175\n",
       "颜色分类：小兔子故事机;大小描述：均码                 160\n",
       "套餐类型：标准配置;颜色分类：射击水枪                 149\n",
       "颜色分类：极速陀螺                           146\n",
       "颜色分类：磁性钓鱼（6条鱼）;大小描述：均码              144\n",
       "颜色分类：混合战车套装                         136\n",
       "颜色分类：孔雀开屏变色手指灯                      134\n",
       "颜色分类：A380飞机;套餐类型：官方标配               132\n",
       "颜色分类：蜜蜂翻斗车;套餐类型：官方标配                126\n",
       "颜色分类：802沙滩车                         126\n",
       "颜色分类：蘑菇电话机                          118\n",
       "颜色分类：4个装奥特曼;大小描述：均码                 117\n",
       "颜色分类：平毛倒退狗;大小描述：颜色随机                111\n",
       "颜色分类：866铲车挖机                        108\n",
       "颜色分类：拉线警车                           101\n",
       "颜色分类：小鸭子手推车                         101\n",
       "颜色分类：不发光翅膀;大小描述：大号                   98\n",
       "颜色分类：电子小刀                            95\n",
       "颜色分类：闪光透明星星蝴蝶                        90\n",
       "颜色分类：鲨鱼小刀                            85\n",
       "颜色分类：卡通水机;大小描述：选好款式，颜色随机             85\n",
       "颜色分类：带裙子倒退狗;大小描述：颜色随机                84\n",
       "颜色分类：867工程车                          84\n",
       "颜色分类：粉色KT猫手腕带                        83\n",
       "颜色分类：4个装网鸭                           82\n",
       "                                   ... \n",
       "颜色分类：单杆15件套（带水池）                      2\n",
       "颜色分类：发条跳绳水果人                          2\n",
       "颜色分类：手表风车;大小描述：均码                     2\n",
       "颜色分类：拉线飞机                             2\n",
       "颜色分类：大型山地攀爬车（可充电）;套餐类型：选好款式，颜色随机      2\n",
       "颜色分类：6914百变魔法轨道积木;套餐类型：官方标配           2\n",
       "颜色分类：K1-12手工包                         2\n",
       "颜色分类：婴儿床（带娃娃）                         2\n",
       "颜色分类：回力迷你小车                           2\n",
       "颜色分类：拉线装水车                            2\n",
       "颜色分类：大号沙锤                             2\n",
       "颜色分类：乌龟投影手表;大小描述：均码                   1\n",
       "颜色分类：甲虫遥控特技车（可充电）;套餐类型：选好款式，颜色随机      1\n",
       "颜色分类：架子鼓D款                            1\n",
       "颜色分类：喜娃娃A;高度：颜色随机                     1\n",
       "颜色分类：羊角球红色                            1\n",
       "颜色分类：叮叮电动车;套餐类型：套装礼盒+小车               1\n",
       "颜色分类：手柄球红色                            1\n",
       "颜色分类：喜娃娃B;高度：颜色随机                     1\n",
       "颜色分类：小号立体贴画相框                         1\n",
       "颜色分类：梦想女孩;高度：颜色随机                     1\n",
       "颜色分类：大号3鼓架子鼓+凳子                       1\n",
       "颜色分类：迷你小厨房A;高度：颜色随机                   1\n",
       "颜色分类：万向吉普车;套餐类型：官方标配                  1\n",
       "颜色分类：拉线响铃坦克                           1\n",
       "颜色分类：舞动公主遥控娃娃;高度：颜色随机                 1\n",
       "颜色分类：拉线海豚鱼飞机                          1\n",
       "颜色分类：超级停车场A;套餐类型：套装礼盒+小车              1\n",
       "颜色分类：拉线特技车                            1\n",
       "套餐类型：标准配置;颜色分类：沙滩船                    1\n",
       "Name: 商品属性, Length: 439, dtype: int64"
      ]
     },
     "execution_count": 117,
     "metadata": {},
     "output_type": "execute_result"
    }
   ],
   "source": [
    "df_item.商品属性.value_counts()"
   ]
  },
  {
   "cell_type": "code",
   "execution_count": 118,
   "metadata": {},
   "outputs": [
    {
     "data": {
      "text/plain": [
       "Series([], Name: 套餐信息, dtype: int64)"
      ]
     },
     "execution_count": 118,
     "metadata": {},
     "output_type": "execute_result"
    }
   ],
   "source": [
    "df_item.套餐信息.value_counts()"
   ]
  },
  {
   "cell_type": "code",
   "execution_count": 119,
   "metadata": {},
   "outputs": [
    {
     "data": {
      "text/plain": [
       "21897"
      ]
     },
     "execution_count": 119,
     "metadata": {},
     "output_type": "execute_result"
    }
   ],
   "source": [
    "df_item.套餐信息.isnull().sum()  #21897=df_item.shape[0]"
   ]
  },
  {
   "cell_type": "code",
   "execution_count": 120,
   "metadata": {
    "collapsed": true
   },
   "outputs": [
    {
     "data": {
      "text/plain": [
       "邮政                          18\n",
       "不要放任何发货清单和与产品有关的宣传页。         8\n",
       "开收据                          2\n",
       "发邮政                          2\n",
       "邮政快递                         2\n",
       "发邮政。                         2\n",
       "亲开收据                         1\n",
       "要279个，质量要好，不要漏发了，谢谢！         1\n",
       "补发一条电动鱼！发申通                  1\n",
       "开张收据给我                       1\n",
       "开张收据  需要报销                   1\n",
       "掌柜，记得补3个球                    1\n",
       "两个颜色不一样，帮忙开个收据，谢谢            1\n",
       "开收据:顺儿乐托儿所                   1\n",
       "老板：请开张收据                     1\n",
       "请发邮政！                        1\n",
       "选一个粉色的                       1\n",
       "收据，广州乐奇积教育咨询有限公司             1\n",
       "我要深绿色                        1\n",
       "一个红色一个黄色                     1\n",
       "3个粉   3个蓝                    1\n",
       "希望尽快发货，谢谢！                   1\n",
       "请发顺丰到付                       1\n",
       "开收据谢谢                        1\n",
       "多送两个吧！万一有不亮的，孩子们就不够分了！       1\n",
       "补发赠品                         1\n",
       "一个蓝色，一个紫色                    1\n",
       ":发好的                         1\n",
       "请检查好质量，多送几个尾巴，多送几个孔雀，谢谢      1\n",
       "发申通                          1\n",
       "                            ..\n",
       "要红色！                         1\n",
       "记得写张收据给我，谢谢！！                1\n",
       "开发票或者收据                      1\n",
       "颜色款式混搭                       1\n",
       "几个颜色均分，谢谢                    1\n",
       "发申通吧                         1\n",
       "蓝色，黄色，粉色，各10个                1\n",
       "汇通，送小礼物                      1\n",
       "数量不要发错                       1\n",
       "搭配好颜色                        1\n",
       "混色发                          1\n",
       "发两个颜色                        1\n",
       "红的四个其它均分                     1\n",
       "申通快递                         1\n",
       "发邮政，谢谢                       1\n",
       "各十五个                         1\n",
       "发中通                          1\n",
       "要收据                          1\n",
       "发好的亲                         1\n",
       "我要绿色的，不要发错奥亲                 1\n",
       "需要开收据                        1\n",
       "请发不同形象的眼镜材料包                 1\n",
       "要一个红色一个蓝色一个黑色                1\n",
       "发汇通快递                        1\n",
       "记得发收据    小车颜色均匀              1\n",
       "请给发金色的，谢谢                    1\n",
       "亲开收据   金色阳光国际幼儿园演出道具发光翅膀     1\n",
       "需要发货明细清单                     1\n",
       "请必须开收据，写名星幼儿园！！！             1\n",
       "全部要粉红色                       1\n",
       "Name: 备注, Length: 102, dtype: int64"
      ]
     },
     "execution_count": 120,
     "metadata": {},
     "output_type": "execute_result"
    }
   ],
   "source": [
    "df_item.备注.value_counts()"
   ]
  },
  {
   "cell_type": "markdown",
   "metadata": {},
   "source": [
    "#### 提取重要信息"
   ]
  },
  {
   "cell_type": "code",
   "execution_count": 121,
   "metadata": {},
   "outputs": [],
   "source": [
    "#通过查看数据订单编号,标题,价格才是我们想要的数据\n",
    "df_item_d1=df_item.loc[:,['订单编号','标题','价格']]"
   ]
  },
  {
   "cell_type": "code",
   "execution_count": 122,
   "metadata": {},
   "outputs": [
    {
     "name": "stdout",
     "output_type": "stream",
     "text": [
      "<class 'pandas.core.frame.DataFrame'>\n",
      "RangeIndex: 21897 entries, 0 to 21896\n",
      "Data columns (total 3 columns):\n",
      "订单编号    21897 non-null int64\n",
      "标题      21897 non-null object\n",
      "价格      21897 non-null float64\n",
      "dtypes: float64(1), int64(1), object(1)\n",
      "memory usage: 513.3+ KB\n"
     ]
    }
   ],
   "source": [
    "df_item_d1.info()  #没有缺失值"
   ]
  },
  {
   "cell_type": "markdown",
   "metadata": {},
   "source": [
    "#### 合并数据"
   ]
  },
  {
   "cell_type": "code",
   "execution_count": 123,
   "metadata": {
    "collapsed": true
   },
   "outputs": [
    {
     "data": {
      "text/html": [
       "<div>\n",
       "<style scoped>\n",
       "    .dataframe tbody tr th:only-of-type {\n",
       "        vertical-align: middle;\n",
       "    }\n",
       "\n",
       "    .dataframe tbody tr th {\n",
       "        vertical-align: top;\n",
       "    }\n",
       "\n",
       "    .dataframe thead th {\n",
       "        text-align: right;\n",
       "    }\n",
       "</style>\n",
       "<table border=\"1\" class=\"dataframe\">\n",
       "  <thead>\n",
       "    <tr style=\"text-align: right;\">\n",
       "      <th></th>\n",
       "      <th>订单编号</th>\n",
       "      <th>买家会员名</th>\n",
       "      <th>买家实际支付金额</th>\n",
       "      <th>宝贝种类</th>\n",
       "      <th>宝贝总数量</th>\n",
       "      <th>标题</th>\n",
       "      <th>价格</th>\n",
       "    </tr>\n",
       "  </thead>\n",
       "  <tbody>\n",
       "    <tr>\n",
       "      <th>0</th>\n",
       "      <td>21407300627014900</td>\n",
       "      <td>1425</td>\n",
       "      <td>58.51</td>\n",
       "      <td>5</td>\n",
       "      <td>59</td>\n",
       "      <td>发光玩具批发光纤手指灯闪光夜市热卖货源儿童玩具地摊义乌厂家</td>\n",
       "      <td>0.58</td>\n",
       "    </tr>\n",
       "    <tr>\n",
       "      <th>1</th>\n",
       "      <td>21407300627014900</td>\n",
       "      <td>1425</td>\n",
       "      <td>58.51</td>\n",
       "      <td>5</td>\n",
       "      <td>59</td>\n",
       "      <td>特价5号AA普通干电池 电动玩具配件 厂家直销批</td>\n",
       "      <td>1.00</td>\n",
       "    </tr>\n",
       "    <tr>\n",
       "      <th>2</th>\n",
       "      <td>21407300627014900</td>\n",
       "      <td>1425</td>\n",
       "      <td>58.51</td>\n",
       "      <td>5</td>\n",
       "      <td>59</td>\n",
       "      <td>大号泡泡棒沙滩小铲子工具泡泡枪公园吹泡泡户外亲子游戏玩具热卖</td>\n",
       "      <td>1.20</td>\n",
       "    </tr>\n",
       "    <tr>\n",
       "      <th>3</th>\n",
       "      <td>21407300627014900</td>\n",
       "      <td>1425</td>\n",
       "      <td>58.51</td>\n",
       "      <td>5</td>\n",
       "      <td>59</td>\n",
       "      <td>特价正品7号电池儿童电动玩具电源配件 厂家直销1元4节地摊货批发</td>\n",
       "      <td>1.00</td>\n",
       "    </tr>\n",
       "    <tr>\n",
       "      <th>4</th>\n",
       "      <td>21407300627014900</td>\n",
       "      <td>1425</td>\n",
       "      <td>58.51</td>\n",
       "      <td>5</td>\n",
       "      <td>59</td>\n",
       "      <td>儿童沙滩玩具水枪 宝宝玩水玩具户外洗澡游泳漂流戏大号水枪批发</td>\n",
       "      <td>6.79</td>\n",
       "    </tr>\n",
       "  </tbody>\n",
       "</table>\n",
       "</div>"
      ],
      "text/plain": [
       "                订单编号  买家会员名  买家实际支付金额  宝贝种类  宝贝总数量  \\\n",
       "0  21407300627014900   1425     58.51     5     59   \n",
       "1  21407300627014900   1425     58.51     5     59   \n",
       "2  21407300627014900   1425     58.51     5     59   \n",
       "3  21407300627014900   1425     58.51     5     59   \n",
       "4  21407300627014900   1425     58.51     5     59   \n",
       "\n",
       "                                 标题    价格  \n",
       "0     发光玩具批发光纤手指灯闪光夜市热卖货源儿童玩具地摊义乌厂家  0.58  \n",
       "1          特价5号AA普通干电池 电动玩具配件 厂家直销批  1.00  \n",
       "2    大号泡泡棒沙滩小铲子工具泡泡枪公园吹泡泡户外亲子游戏玩具热卖  1.20  \n",
       "3  特价正品7号电池儿童电动玩具电源配件 厂家直销1元4节地摊货批发  1.00  \n",
       "4    儿童沙滩玩具水枪 宝宝玩水玩具户外洗澡游泳漂流戏大号水枪批发  6.79  "
      ]
     },
     "execution_count": 123,
     "metadata": {},
     "output_type": "execute_result"
    }
   ],
   "source": [
    "#合并df_order_d3和df_item_d1两个表\n",
    "item_order=pd.merge(df_order_d3,df_item_d1,on='订单编号',how='left')\n",
    "item_order.head()"
   ]
  },
  {
   "cell_type": "code",
   "execution_count": 124,
   "metadata": {},
   "outputs": [
    {
     "data": {
      "text/plain": [
       "(21847, 7)"
      ]
     },
     "execution_count": 124,
     "metadata": {},
     "output_type": "execute_result"
    }
   ],
   "source": [
    "item_order.shape"
   ]
  },
  {
   "cell_type": "code",
   "execution_count": 125,
   "metadata": {},
   "outputs": [
    {
     "name": "stdout",
     "output_type": "stream",
     "text": [
      "<class 'pandas.core.frame.DataFrame'>\n",
      "Int64Index: 21847 entries, 0 to 21846\n",
      "Data columns (total 7 columns):\n",
      "订单编号        21847 non-null int64\n",
      "买家会员名       21847 non-null int64\n",
      "买家实际支付金额    21847 non-null float64\n",
      "宝贝种类        21847 non-null int64\n",
      "宝贝总数量       21847 non-null int64\n",
      "标题          21847 non-null object\n",
      "价格          21847 non-null float64\n",
      "dtypes: float64(2), int64(4), object(1)\n",
      "memory usage: 1.3+ MB\n"
     ]
    }
   ],
   "source": [
    "item_order.info()"
   ]
  },
  {
   "cell_type": "code",
   "execution_count": 127,
   "metadata": {},
   "outputs": [
    {
     "data": {
      "text/plain": [
       "订单编号        0.0\n",
       "买家会员名       0.0\n",
       "买家实际支付金额    0.0\n",
       "宝贝种类        0.0\n",
       "宝贝总数量       0.0\n",
       "标题          0.0\n",
       "价格          0.0\n",
       "dtype: float64"
      ]
     },
     "execution_count": 127,
     "metadata": {},
     "output_type": "execute_result"
    }
   ],
   "source": [
    "pd.isna(item_order).mean()  #没有缺失值"
   ]
  },
  {
   "cell_type": "markdown",
   "metadata": {},
   "source": [
    "#### 获取用户交易行为数据"
   ]
  },
  {
   "cell_type": "code",
   "execution_count": 128,
   "metadata": {
    "collapsed": true
   },
   "outputs": [
    {
     "data": {
      "text/html": [
       "<div>\n",
       "<style scoped>\n",
       "    .dataframe tbody tr th:only-of-type {\n",
       "        vertical-align: middle;\n",
       "    }\n",
       "\n",
       "    .dataframe tbody tr th {\n",
       "        vertical-align: top;\n",
       "    }\n",
       "\n",
       "    .dataframe thead th {\n",
       "        text-align: right;\n",
       "    }\n",
       "</style>\n",
       "<table border=\"1\" class=\"dataframe\">\n",
       "  <thead>\n",
       "    <tr style=\"text-align: right;\">\n",
       "      <th></th>\n",
       "      <th>买家会员名</th>\n",
       "      <th>价格</th>\n",
       "    </tr>\n",
       "  </thead>\n",
       "  <tbody>\n",
       "    <tr>\n",
       "      <th>0</th>\n",
       "      <td>0</td>\n",
       "      <td>9.900000</td>\n",
       "    </tr>\n",
       "    <tr>\n",
       "      <th>1</th>\n",
       "      <td>1</td>\n",
       "      <td>4.957500</td>\n",
       "    </tr>\n",
       "    <tr>\n",
       "      <th>2</th>\n",
       "      <td>2</td>\n",
       "      <td>3.725000</td>\n",
       "    </tr>\n",
       "    <tr>\n",
       "      <th>3</th>\n",
       "      <td>3</td>\n",
       "      <td>4.520000</td>\n",
       "    </tr>\n",
       "    <tr>\n",
       "      <th>4</th>\n",
       "      <td>4</td>\n",
       "      <td>4.651667</td>\n",
       "    </tr>\n",
       "  </tbody>\n",
       "</table>\n",
       "</div>"
      ],
      "text/plain": [
       "   买家会员名        价格\n",
       "0      0  9.900000\n",
       "1      1  4.957500\n",
       "2      2  3.725000\n",
       "3      3  4.520000\n",
       "4      4  4.651667"
      ]
     },
     "execution_count": 128,
     "metadata": {},
     "output_type": "execute_result"
    }
   ],
   "source": [
    "#获取用户平均购买商品的单价\n",
    "user_info2=item_order.groupby(by='买家会员名').mean().reset_index()[['买家会员名','价格']]\n",
    "user_info2.head()"
   ]
  },
  {
   "cell_type": "code",
   "execution_count": 129,
   "metadata": {},
   "outputs": [
    {
     "data": {
      "text/plain": [
       "((3402,), (3402, 2))"
      ]
     },
     "execution_count": 129,
     "metadata": {},
     "output_type": "execute_result"
    }
   ],
   "source": [
    "np.unique(user_info2.买家会员名).shape,user_info2.shape"
   ]
  },
  {
   "cell_type": "markdown",
   "metadata": {},
   "source": [
    "### 基于用户所购买的商品属性特征，挖掘用户特征\n",
    "- 探索df_atrr表"
   ]
  },
  {
   "cell_type": "markdown",
   "metadata": {},
   "source": [
    "#### 探索商品重要属性特征"
   ]
  },
  {
   "cell_type": "code",
   "execution_count": 131,
   "metadata": {
    "collapsed": true
   },
   "outputs": [
    {
     "data": {
      "text/html": [
       "<div>\n",
       "<style scoped>\n",
       "    .dataframe tbody tr th:only-of-type {\n",
       "        vertical-align: middle;\n",
       "    }\n",
       "\n",
       "    .dataframe tbody tr th {\n",
       "        vertical-align: top;\n",
       "    }\n",
       "\n",
       "    .dataframe thead th {\n",
       "        text-align: right;\n",
       "    }\n",
       "</style>\n",
       "<table border=\"1\" class=\"dataframe\">\n",
       "  <thead>\n",
       "    <tr style=\"text-align: right;\">\n",
       "      <th></th>\n",
       "      <th>宝贝ID</th>\n",
       "      <th>标题</th>\n",
       "      <th>价格</th>\n",
       "      <th>玩具类型</th>\n",
       "      <th>适用年龄</th>\n",
       "      <th>品牌</th>\n",
       "    </tr>\n",
       "  </thead>\n",
       "  <tbody>\n",
       "    <tr>\n",
       "      <th>0</th>\n",
       "      <td>537396783238</td>\n",
       "      <td>创意新款回力小车惯性坦克 军事儿童玩具模型地摊货源玩具车批发</td>\n",
       "      <td>8.90</td>\n",
       "      <td>塑胶玩具</td>\n",
       "      <td>3岁,4岁,5岁,6岁</td>\n",
       "      <td>3</td>\n",
       "    </tr>\n",
       "    <tr>\n",
       "      <th>1</th>\n",
       "      <td>36286235128</td>\n",
       "      <td>2017热卖大号仿真惯性挖土机儿童益智礼品创意义乌地摊货玩具批发</td>\n",
       "      <td>3.90</td>\n",
       "      <td>其它玩具</td>\n",
       "      <td>3岁,4岁,5岁,6岁</td>\n",
       "      <td>3</td>\n",
       "    </tr>\n",
       "    <tr>\n",
       "      <th>2</th>\n",
       "      <td>35722000205</td>\n",
       "      <td>创意发光球闪光透明发光水晶弹力球儿童小玩具 夜市地摊货源批发</td>\n",
       "      <td>1.65</td>\n",
       "      <td>其它玩具</td>\n",
       "      <td>3岁,4岁,5岁,6岁,7岁,8岁,9岁,10岁,11岁,12岁</td>\n",
       "      <td>3</td>\n",
       "    </tr>\n",
       "    <tr>\n",
       "      <th>3</th>\n",
       "      <td>550659732532</td>\n",
       "      <td>新款创意六一儿童节礼物音乐投影电动枪夜市地摊货源批发男孩玩具</td>\n",
       "      <td>9.90</td>\n",
       "      <td>其它玩具</td>\n",
       "      <td>3岁,4岁,5岁,6岁,7岁,8岁,9岁,10岁,11岁,12岁,13岁,14岁</td>\n",
       "      <td>3</td>\n",
       "    </tr>\n",
       "    <tr>\n",
       "      <th>4</th>\n",
       "      <td>531877266868</td>\n",
       "      <td>发条玩具批发上链卡通动物青蛙儿童礼物宝宝玩具经典80后益智地摊</td>\n",
       "      <td>1.85</td>\n",
       "      <td>其它玩具</td>\n",
       "      <td>3岁,4岁</td>\n",
       "      <td>3</td>\n",
       "    </tr>\n",
       "  </tbody>\n",
       "</table>\n",
       "</div>"
      ],
      "text/plain": [
       "           宝贝ID                                标题    价格  玩具类型  \\\n",
       "0  537396783238    创意新款回力小车惯性坦克 军事儿童玩具模型地摊货源玩具车批发  8.90  塑胶玩具   \n",
       "1   36286235128  2017热卖大号仿真惯性挖土机儿童益智礼品创意义乌地摊货玩具批发  3.90  其它玩具   \n",
       "2   35722000205    创意发光球闪光透明发光水晶弹力球儿童小玩具 夜市地摊货源批发  1.65  其它玩具   \n",
       "3  550659732532    新款创意六一儿童节礼物音乐投影电动枪夜市地摊货源批发男孩玩具  9.90  其它玩具   \n",
       "4  531877266868   发条玩具批发上链卡通动物青蛙儿童礼物宝宝玩具经典80后益智地摊  1.85  其它玩具   \n",
       "\n",
       "                                       适用年龄  品牌  \n",
       "0                               3岁,4岁,5岁,6岁   3  \n",
       "1                               3岁,4岁,5岁,6岁   3  \n",
       "2          3岁,4岁,5岁,6岁,7岁,8岁,9岁,10岁,11岁,12岁   3  \n",
       "3  3岁,4岁,5岁,6岁,7岁,8岁,9岁,10岁,11岁,12岁,13岁,14岁   3  \n",
       "4                                     3岁,4岁   3  "
      ]
     },
     "execution_count": 131,
     "metadata": {},
     "output_type": "execute_result"
    }
   ],
   "source": [
    "df_atrr.head()"
   ]
  },
  {
   "cell_type": "code",
   "execution_count": 132,
   "metadata": {
    "collapsed": true
   },
   "outputs": [
    {
     "data": {
      "text/plain": [
       "3     137\n",
       "2      71\n",
       "4      14\n",
       "22     11\n",
       "0      10\n",
       "20      8\n",
       "10      8\n",
       "14      4\n",
       "17      3\n",
       "15      3\n",
       "9       3\n",
       "13      2\n",
       "16      2\n",
       "7       2\n",
       "19      2\n",
       "18      1\n",
       "1       1\n",
       "8       1\n",
       "5       1\n",
       "6       1\n",
       "21      1\n",
       "12      1\n",
       "11      1\n",
       "Name: 品牌, dtype: int64"
      ]
     },
     "execution_count": 132,
     "metadata": {},
     "output_type": "execute_result"
    }
   ],
   "source": [
    "df_atrr.品牌.value_counts()  #现在的用户对品牌的敏感度没有品类的敏感度高，商品同质化现象是一种因素"
   ]
  },
  {
   "cell_type": "code",
   "execution_count": 133,
   "metadata": {},
   "outputs": [
    {
     "data": {
      "text/plain": [
       "其它玩具       165\n",
       "塑胶玩具        27\n",
       "其他          24\n",
       "电玩具         11\n",
       "仿真生活家电       9\n",
       "普通娃娃         5\n",
       "拼搭积木         3\n",
       "单杆手推玩具       2\n",
       "仿真医生玩具       1\n",
       "发泄           1\n",
       "娃娃玩具         1\n",
       "仿真厨房类        1\n",
       "陀螺           1\n",
       "仿真房间/家具      1\n",
       "Name: 玩具类型, dtype: int64"
      ]
     },
     "execution_count": 133,
     "metadata": {},
     "output_type": "execute_result"
    }
   ],
   "source": [
    "df_atrr.玩具类型.value_counts()"
   ]
  },
  {
   "cell_type": "code",
   "execution_count": 134,
   "metadata": {},
   "outputs": [
    {
     "data": {
      "text/plain": [
       "3岁,4岁,5岁,6岁,7岁,8岁,9岁,10岁,11岁,12岁,13岁,14岁             54\n",
       "3岁,4岁,5岁,6岁                                          36\n",
       "3岁,4岁,5岁,6岁,7岁,8岁,9岁,10岁,11岁,12岁                     36\n",
       "2岁,3岁,4岁,5岁,6岁                                       30\n",
       "3岁,4岁,5岁,6岁,7岁,8岁,9岁,10岁                             19\n",
       "3岁,4岁,5岁,6岁,7岁,8岁                                    16\n",
       "3岁,4岁,5岁                                             11\n",
       "3岁,4岁,5岁,6岁,7岁,8岁,9岁                                 11\n",
       "3岁,4岁,5岁,6岁,7岁,8岁,9岁,10岁,11岁,12岁,13岁                  7\n",
       "3岁,4岁,5岁,6岁,7岁                                        6\n",
       "3岁,4岁,5岁,6岁,7岁,8岁,9岁,10岁,11岁                          5\n",
       "2岁,3岁,4岁,5岁,6岁,7岁,8岁,9岁,10岁,11岁,12岁,13岁,14岁           4\n",
       "12个月,18个月,2岁,3岁,4岁,5岁,6岁                              3\n",
       "2岁,3岁,4岁,5岁,6岁,7岁,8岁,9岁                               3\n",
       "2岁,3岁,4岁,5岁                                           3\n",
       "2岁,3岁,4岁,5岁,6岁,7岁,8岁                                  3\n",
       "3个月,6个月,12个月,18个月                                     3\n",
       "2岁,3岁,4岁,5岁,6岁,7岁,8岁,9岁,10岁                           2\n",
       "2岁,3岁,4岁                                              2\n",
       "18个月,2岁,3岁,4岁,5岁,6岁,7岁                                2\n",
       "6个月,12个月,18个月                                         2\n",
       "12个月,18个月,2岁                                          2\n",
       "6岁,7岁,8岁,9岁,10岁,11岁,12岁,13岁,14岁                       2\n",
       "3个月,6个月,12个月,18个月,2岁,3岁                               2\n",
       "3岁,4岁                                                 2\n",
       "12个月,18个月,2岁,3岁                                       1\n",
       "6个月,12个月,18个月,2岁,3岁                                   1\n",
       "6岁,7岁,8岁,9岁                                           1\n",
       "3岁,4岁,5岁,6岁,7岁,8岁,9岁,10岁,11岁,12岁,13岁,14岁,14岁以上        1\n",
       "2岁,3岁,4岁,5岁,6岁,7岁,8岁,9岁,10岁,11岁,12岁                   1\n",
       "2岁,3岁,4岁,5岁,6岁,7岁                                     1\n",
       "6岁,7岁,8岁,9岁,10岁                                       1\n",
       "3岁,5岁,6岁,7岁,8岁,9岁,10岁,11岁,12岁,13岁                     1\n",
       "7岁,8岁,9岁,10岁,11岁,12岁,13岁,14岁,14岁以上                    1\n",
       "7岁,8岁,9岁,10岁                                          1\n",
       "12个月,18个月,2岁,3岁,4岁,5岁,6岁,7岁                           1\n",
       "18个月,2岁,3岁,4岁,5岁,6岁,7岁,8岁,9岁,10岁                      1\n",
       "18个月,2岁,3岁,4岁,5岁,6岁,7岁,8岁,9岁                          1\n",
       "2岁,3岁,4岁,5岁,6岁,7岁,8岁,9岁,10岁,11岁,12岁,13岁,14岁,14岁以上     1\n",
       "2岁,3岁                                                 1\n",
       "3岁,4岁,6岁,7岁,8岁,9岁,10岁                                 1\n",
       "2岁,3岁,4岁,5岁,6岁,7岁,8岁,9岁,10岁,11岁,12岁,13岁               1\n",
       "18个月,2岁                                               1\n",
       "Name: 适用年龄, dtype: int64"
      ]
     },
     "execution_count": 134,
     "metadata": {},
     "output_type": "execute_result"
    }
   ],
   "source": [
    "df_atrr.适用年龄.value_counts()"
   ]
  },
  {
   "cell_type": "code",
   "execution_count": 135,
   "metadata": {},
   "outputs": [
    {
     "data": {
      "text/plain": [
       "0                                 3岁,4岁,5岁,6岁\n",
       "1                                 3岁,4岁,5岁,6岁\n",
       "2            3岁,4岁,5岁,6岁,7岁,8岁,9岁,10岁,11岁,12岁\n",
       "3    3岁,4岁,5岁,6岁,7岁,8岁,9岁,10岁,11岁,12岁,13岁,14岁\n",
       "4                                       3岁,4岁\n",
       "Name: 适用年龄, dtype: object"
      ]
     },
     "execution_count": 135,
     "metadata": {},
     "output_type": "execute_result"
    }
   ],
   "source": [
    "df_atrr.适用年龄.head()"
   ]
  },
  {
   "cell_type": "code",
   "execution_count": 136,
   "metadata": {},
   "outputs": [
    {
     "name": "stdout",
     "output_type": "stream",
     "text": [
      "<class 'pandas.core.frame.DataFrame'>\n",
      "RangeIndex: 288 entries, 0 to 287\n",
      "Data columns (total 6 columns):\n",
      "宝贝ID    288 non-null int64\n",
      "标题      288 non-null object\n",
      "价格      288 non-null float64\n",
      "玩具类型    252 non-null object\n",
      "适用年龄    284 non-null object\n",
      "品牌      288 non-null int64\n",
      "dtypes: float64(1), int64(2), object(3)\n",
      "memory usage: 13.6+ KB\n"
     ]
    }
   ],
   "source": [
    "df_atrr.info()"
   ]
  },
  {
   "cell_type": "code",
   "execution_count": 137,
   "metadata": {},
   "outputs": [],
   "source": [
    "#处理适用年龄缺失值\n",
    "df_atrr.适用年龄.fillna(value='missing',inplace=True)"
   ]
  },
  {
   "cell_type": "code",
   "execution_count": 138,
   "metadata": {},
   "outputs": [],
   "source": [
    "#定义一个商品适用年龄的标签结构\n",
    "#2岁以下不包含2岁，定义为婴儿，包含月\n",
    "#2岁-4岁定义为幼儿\n",
    "#5岁-7岁-定义儿童\n",
    "#8岁以上定义为学生\n",
    "def addTag(x):\n",
    "    tag=''\n",
    "    if '月' in x:\n",
    "        tag+='婴儿'\n",
    "    x=x.split(',')\n",
    "    if '2岁' in x or '3岁' in x or '4岁' in x:\n",
    "        tag+='幼儿|'\n",
    "    if '5岁' in x or '6岁' in x or '7岁' in x:\n",
    "        tag+='儿童|'\n",
    "    if '8岁' in x or '9岁' in x or '10岁' in x or  '11岁' in x or '12岁' in x or '13岁'in x or '14岁' in x:\n",
    "        tag+='学生|'\n",
    "    if 'missing' in x:\n",
    "        tag+='missing'\n",
    "    return tag"
   ]
  },
  {
   "cell_type": "code",
   "execution_count": 140,
   "metadata": {
    "collapsed": true
   },
   "outputs": [
    {
     "data": {
      "text/html": [
       "<div>\n",
       "<style scoped>\n",
       "    .dataframe tbody tr th:only-of-type {\n",
       "        vertical-align: middle;\n",
       "    }\n",
       "\n",
       "    .dataframe tbody tr th {\n",
       "        vertical-align: top;\n",
       "    }\n",
       "\n",
       "    .dataframe thead th {\n",
       "        text-align: right;\n",
       "    }\n",
       "</style>\n",
       "<table border=\"1\" class=\"dataframe\">\n",
       "  <thead>\n",
       "    <tr style=\"text-align: right;\">\n",
       "      <th></th>\n",
       "      <th>宝贝ID</th>\n",
       "      <th>标题</th>\n",
       "      <th>价格</th>\n",
       "      <th>玩具类型</th>\n",
       "      <th>适用年龄</th>\n",
       "      <th>品牌</th>\n",
       "      <th>tag</th>\n",
       "    </tr>\n",
       "  </thead>\n",
       "  <tbody>\n",
       "    <tr>\n",
       "      <th>0</th>\n",
       "      <td>537396783238</td>\n",
       "      <td>创意新款回力小车惯性坦克 军事儿童玩具模型地摊货源玩具车批发</td>\n",
       "      <td>8.90</td>\n",
       "      <td>塑胶玩具</td>\n",
       "      <td>3岁,4岁,5岁,6岁</td>\n",
       "      <td>3</td>\n",
       "      <td>幼儿|儿童|</td>\n",
       "    </tr>\n",
       "    <tr>\n",
       "      <th>1</th>\n",
       "      <td>36286235128</td>\n",
       "      <td>2017热卖大号仿真惯性挖土机儿童益智礼品创意义乌地摊货玩具批发</td>\n",
       "      <td>3.90</td>\n",
       "      <td>其它玩具</td>\n",
       "      <td>3岁,4岁,5岁,6岁</td>\n",
       "      <td>3</td>\n",
       "      <td>幼儿|儿童|</td>\n",
       "    </tr>\n",
       "    <tr>\n",
       "      <th>2</th>\n",
       "      <td>35722000205</td>\n",
       "      <td>创意发光球闪光透明发光水晶弹力球儿童小玩具 夜市地摊货源批发</td>\n",
       "      <td>1.65</td>\n",
       "      <td>其它玩具</td>\n",
       "      <td>3岁,4岁,5岁,6岁,7岁,8岁,9岁,10岁,11岁,12岁</td>\n",
       "      <td>3</td>\n",
       "      <td>幼儿|儿童|学生|</td>\n",
       "    </tr>\n",
       "    <tr>\n",
       "      <th>3</th>\n",
       "      <td>550659732532</td>\n",
       "      <td>新款创意六一儿童节礼物音乐投影电动枪夜市地摊货源批发男孩玩具</td>\n",
       "      <td>9.90</td>\n",
       "      <td>其它玩具</td>\n",
       "      <td>3岁,4岁,5岁,6岁,7岁,8岁,9岁,10岁,11岁,12岁,13岁,14岁</td>\n",
       "      <td>3</td>\n",
       "      <td>幼儿|儿童|学生|</td>\n",
       "    </tr>\n",
       "    <tr>\n",
       "      <th>4</th>\n",
       "      <td>531877266868</td>\n",
       "      <td>发条玩具批发上链卡通动物青蛙儿童礼物宝宝玩具经典80后益智地摊</td>\n",
       "      <td>1.85</td>\n",
       "      <td>其它玩具</td>\n",
       "      <td>3岁,4岁</td>\n",
       "      <td>3</td>\n",
       "      <td>幼儿|</td>\n",
       "    </tr>\n",
       "  </tbody>\n",
       "</table>\n",
       "</div>"
      ],
      "text/plain": [
       "           宝贝ID                                标题    价格  玩具类型  \\\n",
       "0  537396783238    创意新款回力小车惯性坦克 军事儿童玩具模型地摊货源玩具车批发  8.90  塑胶玩具   \n",
       "1   36286235128  2017热卖大号仿真惯性挖土机儿童益智礼品创意义乌地摊货玩具批发  3.90  其它玩具   \n",
       "2   35722000205    创意发光球闪光透明发光水晶弹力球儿童小玩具 夜市地摊货源批发  1.65  其它玩具   \n",
       "3  550659732532    新款创意六一儿童节礼物音乐投影电动枪夜市地摊货源批发男孩玩具  9.90  其它玩具   \n",
       "4  531877266868   发条玩具批发上链卡通动物青蛙儿童礼物宝宝玩具经典80后益智地摊  1.85  其它玩具   \n",
       "\n",
       "                                       适用年龄  品牌        tag  \n",
       "0                               3岁,4岁,5岁,6岁   3     幼儿|儿童|  \n",
       "1                               3岁,4岁,5岁,6岁   3     幼儿|儿童|  \n",
       "2          3岁,4岁,5岁,6岁,7岁,8岁,9岁,10岁,11岁,12岁   3  幼儿|儿童|学生|  \n",
       "3  3岁,4岁,5岁,6岁,7岁,8岁,9岁,10岁,11岁,12岁,13岁,14岁   3  幼儿|儿童|学生|  \n",
       "4                                     3岁,4岁   3        幼儿|  "
      ]
     },
     "execution_count": 140,
     "metadata": {},
     "output_type": "execute_result"
    }
   ],
   "source": [
    "df_atrr['tag']=df_atrr.适用年龄.apply(addTag)\n",
    "#通过适用年龄对于各玩具商品划分类别\n",
    "df_atrr.head()"
   ]
  },
  {
   "cell_type": "code",
   "execution_count": 141,
   "metadata": {
    "collapsed": true
   },
   "outputs": [
    {
     "data": {
      "text/html": [
       "<div>\n",
       "<style scoped>\n",
       "    .dataframe tbody tr th:only-of-type {\n",
       "        vertical-align: middle;\n",
       "    }\n",
       "\n",
       "    .dataframe tbody tr th {\n",
       "        vertical-align: top;\n",
       "    }\n",
       "\n",
       "    .dataframe thead th {\n",
       "        text-align: right;\n",
       "    }\n",
       "</style>\n",
       "<table border=\"1\" class=\"dataframe\">\n",
       "  <thead>\n",
       "    <tr style=\"text-align: right;\">\n",
       "      <th></th>\n",
       "      <th>宝贝ID</th>\n",
       "      <th>标题</th>\n",
       "      <th>价格</th>\n",
       "      <th>玩具类型</th>\n",
       "      <th>适用年龄</th>\n",
       "      <th>品牌</th>\n",
       "      <th>tag</th>\n",
       "    </tr>\n",
       "  </thead>\n",
       "  <tbody>\n",
       "    <tr>\n",
       "      <th>45</th>\n",
       "      <td>531145857565</td>\n",
       "      <td>儿童玩具学生魔方三阶百变魔方益智比赛减压玩具地摊货源热卖批发</td>\n",
       "      <td>5.55</td>\n",
       "      <td>塑胶玩具</td>\n",
       "      <td>6岁,7岁,8岁,9岁,10岁,11岁,12岁,13岁,14岁</td>\n",
       "      <td>16</td>\n",
       "      <td>儿童|学生|</td>\n",
       "    </tr>\n",
       "    <tr>\n",
       "      <th>169</th>\n",
       "      <td>552179640607</td>\n",
       "      <td>异形益智魔方三阶减压魔方金字塔3阶五魔方镜面比赛解压玩具套装</td>\n",
       "      <td>4.99</td>\n",
       "      <td>塑胶玩具</td>\n",
       "      <td>6岁,7岁,8岁,9岁,10岁,11岁,12岁,13岁,14岁</td>\n",
       "      <td>16</td>\n",
       "      <td>儿童|学生|</td>\n",
       "    </tr>\n",
       "  </tbody>\n",
       "</table>\n",
       "</div>"
      ],
      "text/plain": [
       "             宝贝ID                              标题    价格  玩具类型  \\\n",
       "45   531145857565  儿童玩具学生魔方三阶百变魔方益智比赛减压玩具地摊货源热卖批发  5.55  塑胶玩具   \n",
       "169  552179640607  异形益智魔方三阶减压魔方金字塔3阶五魔方镜面比赛解压玩具套装  4.99  塑胶玩具   \n",
       "\n",
       "                                适用年龄  品牌     tag  \n",
       "45   6岁,7岁,8岁,9岁,10岁,11岁,12岁,13岁,14岁  16  儿童|学生|  \n",
       "169  6岁,7岁,8岁,9岁,10岁,11岁,12岁,13岁,14岁  16  儿童|学生|  "
      ]
     },
     "execution_count": 141,
     "metadata": {},
     "output_type": "execute_result"
    }
   ],
   "source": [
    "#6岁,7岁,8岁,9岁,10岁,11岁,12岁,13岁,14岁\n",
    "#儿童|学生\n",
    "df_atrr[df_atrr.适用年龄=='6岁,7岁,8岁,9岁,10岁,11岁,12岁,13岁,14岁']\n",
    "#随机抽样验证数据截取是否正确"
   ]
  },
  {
   "cell_type": "markdown",
   "metadata": {},
   "source": [
    "#### 提取重要特征信息"
   ]
  },
  {
   "cell_type": "code",
   "execution_count": 143,
   "metadata": {
    "collapsed": true
   },
   "outputs": [
    {
     "data": {
      "text/html": [
       "<div>\n",
       "<style scoped>\n",
       "    .dataframe tbody tr th:only-of-type {\n",
       "        vertical-align: middle;\n",
       "    }\n",
       "\n",
       "    .dataframe tbody tr th {\n",
       "        vertical-align: top;\n",
       "    }\n",
       "\n",
       "    .dataframe thead th {\n",
       "        text-align: right;\n",
       "    }\n",
       "</style>\n",
       "<table border=\"1\" class=\"dataframe\">\n",
       "  <thead>\n",
       "    <tr style=\"text-align: right;\">\n",
       "      <th></th>\n",
       "      <th>标题</th>\n",
       "      <th>tag</th>\n",
       "    </tr>\n",
       "  </thead>\n",
       "  <tbody>\n",
       "    <tr>\n",
       "      <th>0</th>\n",
       "      <td>创意新款回力小车惯性坦克 军事儿童玩具模型地摊货源玩具车批发</td>\n",
       "      <td>幼儿|儿童|</td>\n",
       "    </tr>\n",
       "    <tr>\n",
       "      <th>1</th>\n",
       "      <td>2017热卖大号仿真惯性挖土机儿童益智礼品创意义乌地摊货玩具批发</td>\n",
       "      <td>幼儿|儿童|</td>\n",
       "    </tr>\n",
       "    <tr>\n",
       "      <th>2</th>\n",
       "      <td>创意发光球闪光透明发光水晶弹力球儿童小玩具 夜市地摊货源批发</td>\n",
       "      <td>幼儿|儿童|学生|</td>\n",
       "    </tr>\n",
       "    <tr>\n",
       "      <th>3</th>\n",
       "      <td>新款创意六一儿童节礼物音乐投影电动枪夜市地摊货源批发男孩玩具</td>\n",
       "      <td>幼儿|儿童|学生|</td>\n",
       "    </tr>\n",
       "    <tr>\n",
       "      <th>4</th>\n",
       "      <td>发条玩具批发上链卡通动物青蛙儿童礼物宝宝玩具经典80后益智地摊</td>\n",
       "      <td>幼儿|</td>\n",
       "    </tr>\n",
       "  </tbody>\n",
       "</table>\n",
       "</div>"
      ],
      "text/plain": [
       "                                 标题        tag\n",
       "0    创意新款回力小车惯性坦克 军事儿童玩具模型地摊货源玩具车批发     幼儿|儿童|\n",
       "1  2017热卖大号仿真惯性挖土机儿童益智礼品创意义乌地摊货玩具批发     幼儿|儿童|\n",
       "2    创意发光球闪光透明发光水晶弹力球儿童小玩具 夜市地摊货源批发  幼儿|儿童|学生|\n",
       "3    新款创意六一儿童节礼物音乐投影电动枪夜市地摊货源批发男孩玩具  幼儿|儿童|学生|\n",
       "4   发条玩具批发上链卡通动物青蛙儿童礼物宝宝玩具经典80后益智地摊        幼儿|"
      ]
     },
     "execution_count": 143,
     "metadata": {},
     "output_type": "execute_result"
    }
   ],
   "source": [
    "#提取我们需要的标题和tag特征信息\n",
    "df_atrr_d1=df_atrr.loc[:,['标题','tag']]\n",
    "df_atrr_d1.head()"
   ]
  },
  {
   "cell_type": "markdown",
   "metadata": {},
   "source": [
    "#### 合并数据"
   ]
  },
  {
   "cell_type": "code",
   "execution_count": 144,
   "metadata": {},
   "outputs": [
    {
     "data": {
      "text/plain": [
       "((21897, 3), (327,))"
      ]
     },
     "execution_count": 144,
     "metadata": {},
     "output_type": "execute_result"
    }
   ],
   "source": [
    "df_item_d1.shape,np.unique(df_item_d1.标题).shape"
   ]
  },
  {
   "cell_type": "code",
   "execution_count": 145,
   "metadata": {},
   "outputs": [
    {
     "data": {
      "text/plain": [
       "((288, 2), (288,))"
      ]
     },
     "execution_count": 145,
     "metadata": {},
     "output_type": "execute_result"
    }
   ],
   "source": [
    "df_atrr_d1.shape,np.unique(df_atrr_d1.标题).shape"
   ]
  },
  {
   "cell_type": "code",
   "execution_count": 146,
   "metadata": {
    "collapsed": true
   },
   "outputs": [
    {
     "data": {
      "text/html": [
       "<div>\n",
       "<style scoped>\n",
       "    .dataframe tbody tr th:only-of-type {\n",
       "        vertical-align: middle;\n",
       "    }\n",
       "\n",
       "    .dataframe tbody tr th {\n",
       "        vertical-align: top;\n",
       "    }\n",
       "\n",
       "    .dataframe thead th {\n",
       "        text-align: right;\n",
       "    }\n",
       "</style>\n",
       "<table border=\"1\" class=\"dataframe\">\n",
       "  <thead>\n",
       "    <tr style=\"text-align: right;\">\n",
       "      <th></th>\n",
       "      <th>订单编号</th>\n",
       "      <th>标题</th>\n",
       "      <th>价格</th>\n",
       "      <th>tag</th>\n",
       "    </tr>\n",
       "  </thead>\n",
       "  <tbody>\n",
       "    <tr>\n",
       "      <th>0</th>\n",
       "      <td>21407300627014900</td>\n",
       "      <td>发光玩具批发光纤手指灯闪光夜市热卖货源儿童玩具地摊义乌厂家</td>\n",
       "      <td>0.58</td>\n",
       "      <td>幼儿|儿童|学生|</td>\n",
       "    </tr>\n",
       "    <tr>\n",
       "      <th>1</th>\n",
       "      <td>24043728806509300</td>\n",
       "      <td>发光玩具批发光纤手指灯闪光夜市热卖货源儿童玩具地摊义乌厂家</td>\n",
       "      <td>0.58</td>\n",
       "      <td>幼儿|儿童|学生|</td>\n",
       "    </tr>\n",
       "    <tr>\n",
       "      <th>2</th>\n",
       "      <td>24043728806509300</td>\n",
       "      <td>发光玩具批发光纤手指灯闪光夜市热卖货源儿童玩具地摊义乌厂家</td>\n",
       "      <td>0.68</td>\n",
       "      <td>幼儿|儿童|学生|</td>\n",
       "    </tr>\n",
       "    <tr>\n",
       "      <th>3</th>\n",
       "      <td>20885882368182100</td>\n",
       "      <td>发光玩具批发光纤手指灯闪光夜市热卖货源儿童玩具地摊义乌厂家</td>\n",
       "      <td>0.68</td>\n",
       "      <td>幼儿|儿童|学生|</td>\n",
       "    </tr>\n",
       "    <tr>\n",
       "      <th>4</th>\n",
       "      <td>20885882368182100</td>\n",
       "      <td>发光玩具批发光纤手指灯闪光夜市热卖货源儿童玩具地摊义乌厂家</td>\n",
       "      <td>0.58</td>\n",
       "      <td>幼儿|儿童|学生|</td>\n",
       "    </tr>\n",
       "  </tbody>\n",
       "</table>\n",
       "</div>"
      ],
      "text/plain": [
       "                订单编号                             标题    价格        tag\n",
       "0  21407300627014900  发光玩具批发光纤手指灯闪光夜市热卖货源儿童玩具地摊义乌厂家  0.58  幼儿|儿童|学生|\n",
       "1  24043728806509300  发光玩具批发光纤手指灯闪光夜市热卖货源儿童玩具地摊义乌厂家  0.58  幼儿|儿童|学生|\n",
       "2  24043728806509300  发光玩具批发光纤手指灯闪光夜市热卖货源儿童玩具地摊义乌厂家  0.68  幼儿|儿童|学生|\n",
       "3  20885882368182100  发光玩具批发光纤手指灯闪光夜市热卖货源儿童玩具地摊义乌厂家  0.68  幼儿|儿童|学生|\n",
       "4  20885882368182100  发光玩具批发光纤手指灯闪光夜市热卖货源儿童玩具地摊义乌厂家  0.58  幼儿|儿童|学生|"
      ]
     },
     "execution_count": 146,
     "metadata": {},
     "output_type": "execute_result"
    }
   ],
   "source": [
    "#将df_atrr_d1表与df_item_d1表合并\n",
    "item_attr=pd.merge(df_item_d1,df_atrr_d1,on='标题',how='inner')\n",
    "item_attr.head()\n",
    "#获得订单商品信息"
   ]
  },
  {
   "cell_type": "code",
   "execution_count": 147,
   "metadata": {},
   "outputs": [
    {
     "name": "stdout",
     "output_type": "stream",
     "text": [
      "<class 'pandas.core.frame.DataFrame'>\n",
      "Int64Index: 19943 entries, 0 to 19942\n",
      "Data columns (total 4 columns):\n",
      "订单编号    19943 non-null int64\n",
      "标题      19943 non-null object\n",
      "价格      19943 non-null float64\n",
      "tag     19943 non-null object\n",
      "dtypes: float64(1), int64(1), object(2)\n",
      "memory usage: 779.0+ KB\n"
     ]
    }
   ],
   "source": [
    "item_attr.info()  #无缺失值"
   ]
  },
  {
   "cell_type": "code",
   "execution_count": 148,
   "metadata": {},
   "outputs": [],
   "source": [
    "#删除标题特征\n",
    "del item_attr['标题']"
   ]
  },
  {
   "cell_type": "code",
   "execution_count": 150,
   "metadata": {
    "collapsed": true
   },
   "outputs": [
    {
     "data": {
      "text/html": [
       "<div>\n",
       "<style scoped>\n",
       "    .dataframe tbody tr th:only-of-type {\n",
       "        vertical-align: middle;\n",
       "    }\n",
       "\n",
       "    .dataframe tbody tr th {\n",
       "        vertical-align: top;\n",
       "    }\n",
       "\n",
       "    .dataframe thead th {\n",
       "        text-align: right;\n",
       "    }\n",
       "</style>\n",
       "<table border=\"1\" class=\"dataframe\">\n",
       "  <thead>\n",
       "    <tr style=\"text-align: right;\">\n",
       "      <th></th>\n",
       "      <th>订单编号</th>\n",
       "      <th>买家会员名</th>\n",
       "      <th>买家实际支付金额</th>\n",
       "      <th>宝贝种类</th>\n",
       "      <th>宝贝总数量</th>\n",
       "      <th>价格</th>\n",
       "      <th>tag</th>\n",
       "    </tr>\n",
       "  </thead>\n",
       "  <tbody>\n",
       "    <tr>\n",
       "      <th>0</th>\n",
       "      <td>21407300627014900</td>\n",
       "      <td>1425</td>\n",
       "      <td>58.51</td>\n",
       "      <td>5</td>\n",
       "      <td>59</td>\n",
       "      <td>0.58</td>\n",
       "      <td>幼儿|儿童|学生|</td>\n",
       "    </tr>\n",
       "    <tr>\n",
       "      <th>1</th>\n",
       "      <td>21407300627014900</td>\n",
       "      <td>1425</td>\n",
       "      <td>58.51</td>\n",
       "      <td>5</td>\n",
       "      <td>59</td>\n",
       "      <td>1.00</td>\n",
       "      <td>missing</td>\n",
       "    </tr>\n",
       "    <tr>\n",
       "      <th>2</th>\n",
       "      <td>21407300627014900</td>\n",
       "      <td>1425</td>\n",
       "      <td>58.51</td>\n",
       "      <td>5</td>\n",
       "      <td>59</td>\n",
       "      <td>1.20</td>\n",
       "      <td>幼儿|儿童|学生|</td>\n",
       "    </tr>\n",
       "    <tr>\n",
       "      <th>3</th>\n",
       "      <td>21407300627014900</td>\n",
       "      <td>1425</td>\n",
       "      <td>58.51</td>\n",
       "      <td>5</td>\n",
       "      <td>59</td>\n",
       "      <td>1.00</td>\n",
       "      <td>missing</td>\n",
       "    </tr>\n",
       "    <tr>\n",
       "      <th>4</th>\n",
       "      <td>21407300627014900</td>\n",
       "      <td>1425</td>\n",
       "      <td>58.51</td>\n",
       "      <td>5</td>\n",
       "      <td>59</td>\n",
       "      <td>6.79</td>\n",
       "      <td>幼儿|儿童|学生|</td>\n",
       "    </tr>\n",
       "  </tbody>\n",
       "</table>\n",
       "</div>"
      ],
      "text/plain": [
       "                订单编号  买家会员名  买家实际支付金额  宝贝种类  宝贝总数量    价格        tag\n",
       "0  21407300627014900   1425     58.51     5     59  0.58  幼儿|儿童|学生|\n",
       "1  21407300627014900   1425     58.51     5     59  1.00    missing\n",
       "2  21407300627014900   1425     58.51     5     59  1.20  幼儿|儿童|学生|\n",
       "3  21407300627014900   1425     58.51     5     59  1.00    missing\n",
       "4  21407300627014900   1425     58.51     5     59  6.79  幼儿|儿童|学生|"
      ]
     },
     "execution_count": 150,
     "metadata": {},
     "output_type": "execute_result"
    }
   ],
   "source": [
    "#将item_attr表和df_order_d3表合并\n",
    "item_attr_user=pd.merge(df_order_d3,item_attr,on='订单编号',how='left')\n",
    "item_attr_user.head()\n",
    "#获得用户-订单-商品信息"
   ]
  },
  {
   "cell_type": "markdown",
   "metadata": {},
   "source": [
    "#### 获取用户-商品类别行为数据"
   ]
  },
  {
   "cell_type": "code",
   "execution_count": 151,
   "metadata": {
    "collapsed": true
   },
   "outputs": [
    {
     "data": {
      "text/html": [
       "<div>\n",
       "<style scoped>\n",
       "    .dataframe tbody tr th:only-of-type {\n",
       "        vertical-align: middle;\n",
       "    }\n",
       "\n",
       "    .dataframe tbody tr th {\n",
       "        vertical-align: top;\n",
       "    }\n",
       "\n",
       "    .dataframe thead th {\n",
       "        text-align: right;\n",
       "    }\n",
       "</style>\n",
       "<table border=\"1\" class=\"dataframe\">\n",
       "  <thead>\n",
       "    <tr style=\"text-align: right;\">\n",
       "      <th></th>\n",
       "      <th>买家会员名</th>\n",
       "      <th>tag</th>\n",
       "    </tr>\n",
       "  </thead>\n",
       "  <tbody>\n",
       "    <tr>\n",
       "      <th>0</th>\n",
       "      <td>1425</td>\n",
       "      <td>幼儿|儿童|学生|</td>\n",
       "    </tr>\n",
       "    <tr>\n",
       "      <th>1</th>\n",
       "      <td>1425</td>\n",
       "      <td>missing</td>\n",
       "    </tr>\n",
       "    <tr>\n",
       "      <th>2</th>\n",
       "      <td>1425</td>\n",
       "      <td>幼儿|儿童|学生|</td>\n",
       "    </tr>\n",
       "    <tr>\n",
       "      <th>3</th>\n",
       "      <td>1425</td>\n",
       "      <td>missing</td>\n",
       "    </tr>\n",
       "    <tr>\n",
       "      <th>4</th>\n",
       "      <td>1425</td>\n",
       "      <td>幼儿|儿童|学生|</td>\n",
       "    </tr>\n",
       "  </tbody>\n",
       "</table>\n",
       "</div>"
      ],
      "text/plain": [
       "   买家会员名        tag\n",
       "0   1425  幼儿|儿童|学生|\n",
       "1   1425    missing\n",
       "2   1425  幼儿|儿童|学生|\n",
       "3   1425    missing\n",
       "4   1425  幼儿|儿童|学生|"
      ]
     },
     "execution_count": 151,
     "metadata": {},
     "output_type": "execute_result"
    }
   ],
   "source": [
    "#筛选出用户和tag\n",
    "user_tag=item_attr_user.loc[:,['买家会员名','tag']]\n",
    "user_tag.head()"
   ]
  },
  {
   "cell_type": "code",
   "execution_count": 152,
   "metadata": {
    "collapsed": true
   },
   "outputs": [
    {
     "data": {
      "text/html": [
       "<div>\n",
       "<style scoped>\n",
       "    .dataframe tbody tr th:only-of-type {\n",
       "        vertical-align: middle;\n",
       "    }\n",
       "\n",
       "    .dataframe tbody tr th {\n",
       "        vertical-align: top;\n",
       "    }\n",
       "\n",
       "    .dataframe thead th {\n",
       "        text-align: right;\n",
       "    }\n",
       "</style>\n",
       "<table border=\"1\" class=\"dataframe\">\n",
       "  <thead>\n",
       "    <tr style=\"text-align: right;\">\n",
       "      <th>tag</th>\n",
       "      <th>买家会员名</th>\n",
       "      <th>missing</th>\n",
       "      <th>儿童|学生|</th>\n",
       "      <th>婴儿</th>\n",
       "      <th>婴儿幼儿|</th>\n",
       "      <th>婴儿幼儿|儿童|</th>\n",
       "      <th>婴儿幼儿|儿童|学生|</th>\n",
       "      <th>幼儿|</th>\n",
       "      <th>幼儿|儿童|</th>\n",
       "      <th>幼儿|儿童|学生|</th>\n",
       "    </tr>\n",
       "  </thead>\n",
       "  <tbody>\n",
       "    <tr>\n",
       "      <th>0</th>\n",
       "      <td>0</td>\n",
       "      <td>0.0</td>\n",
       "      <td>0.0</td>\n",
       "      <td>0.0</td>\n",
       "      <td>0.0</td>\n",
       "      <td>0.0</td>\n",
       "      <td>0.0</td>\n",
       "      <td>0.0</td>\n",
       "      <td>1.0</td>\n",
       "      <td>0.0</td>\n",
       "    </tr>\n",
       "    <tr>\n",
       "      <th>1</th>\n",
       "      <td>1</td>\n",
       "      <td>0.0</td>\n",
       "      <td>0.0</td>\n",
       "      <td>0.0</td>\n",
       "      <td>0.0</td>\n",
       "      <td>0.0</td>\n",
       "      <td>0.0</td>\n",
       "      <td>0.0</td>\n",
       "      <td>1.0</td>\n",
       "      <td>3.0</td>\n",
       "    </tr>\n",
       "    <tr>\n",
       "      <th>2</th>\n",
       "      <td>2</td>\n",
       "      <td>0.0</td>\n",
       "      <td>0.0</td>\n",
       "      <td>0.0</td>\n",
       "      <td>0.0</td>\n",
       "      <td>0.0</td>\n",
       "      <td>0.0</td>\n",
       "      <td>0.0</td>\n",
       "      <td>0.0</td>\n",
       "      <td>2.0</td>\n",
       "    </tr>\n",
       "    <tr>\n",
       "      <th>3</th>\n",
       "      <td>3</td>\n",
       "      <td>0.0</td>\n",
       "      <td>0.0</td>\n",
       "      <td>0.0</td>\n",
       "      <td>0.0</td>\n",
       "      <td>0.0</td>\n",
       "      <td>0.0</td>\n",
       "      <td>0.0</td>\n",
       "      <td>0.0</td>\n",
       "      <td>2.0</td>\n",
       "    </tr>\n",
       "    <tr>\n",
       "      <th>4</th>\n",
       "      <td>4</td>\n",
       "      <td>0.0</td>\n",
       "      <td>0.0</td>\n",
       "      <td>0.0</td>\n",
       "      <td>0.0</td>\n",
       "      <td>0.0</td>\n",
       "      <td>0.0</td>\n",
       "      <td>0.0</td>\n",
       "      <td>0.0</td>\n",
       "      <td>6.0</td>\n",
       "    </tr>\n",
       "  </tbody>\n",
       "</table>\n",
       "</div>"
      ],
      "text/plain": [
       "tag  买家会员名  missing  儿童|学生|   婴儿  婴儿幼儿|  婴儿幼儿|儿童|  婴儿幼儿|儿童|学生|  幼儿|  幼儿|儿童|  \\\n",
       "0        0      0.0     0.0  0.0    0.0       0.0          0.0  0.0     1.0   \n",
       "1        1      0.0     0.0  0.0    0.0       0.0          0.0  0.0     1.0   \n",
       "2        2      0.0     0.0  0.0    0.0       0.0          0.0  0.0     0.0   \n",
       "3        3      0.0     0.0  0.0    0.0       0.0          0.0  0.0     0.0   \n",
       "4        4      0.0     0.0  0.0    0.0       0.0          0.0  0.0     0.0   \n",
       "\n",
       "tag  幼儿|儿童|学生|  \n",
       "0          0.0  \n",
       "1          3.0  \n",
       "2          2.0  \n",
       "3          2.0  \n",
       "4          6.0  "
      ]
     },
     "execution_count": 152,
     "metadata": {},
     "output_type": "execute_result"
    }
   ],
   "source": [
    "#新增一列\n",
    "user_tag['购买次数']=0\n",
    "#汇总计算每位用户每种类型玩具购买次数\n",
    "user_info3=user_tag.groupby(['买家会员名','tag']).count()\n",
    "user_info3.head()\n",
    "#把tag属性值转化为特征\n",
    "user_info3=user_info3.unstack('tag').fillna(0)\n",
    "#删除多重列中第一行的列\n",
    "user_info3.columns=user_info3.columns.droplevel()\n",
    "#重新生成index把买家会员名升为列名\n",
    "user_info3.reset_index(inplace=True)\n",
    "user_info3.head()\n",
    "#获得用户和玩具类别行为数据"
   ]
  },
  {
   "cell_type": "code",
   "execution_count": 153,
   "metadata": {
    "collapsed": true
   },
   "outputs": [
    {
     "data": {
      "text/html": [
       "<div>\n",
       "<style scoped>\n",
       "    .dataframe tbody tr th:only-of-type {\n",
       "        vertical-align: middle;\n",
       "    }\n",
       "\n",
       "    .dataframe tbody tr th {\n",
       "        vertical-align: top;\n",
       "    }\n",
       "\n",
       "    .dataframe thead th {\n",
       "        text-align: right;\n",
       "    }\n",
       "</style>\n",
       "<table border=\"1\" class=\"dataframe\">\n",
       "  <thead>\n",
       "    <tr style=\"text-align: right;\">\n",
       "      <th></th>\n",
       "      <th>买家会员名</th>\n",
       "      <th>买家实际支付金额</th>\n",
       "      <th>宝贝种类</th>\n",
       "      <th>宝贝总数量</th>\n",
       "    </tr>\n",
       "  </thead>\n",
       "  <tbody>\n",
       "    <tr>\n",
       "      <th>0</th>\n",
       "      <td>0</td>\n",
       "      <td>14.90</td>\n",
       "      <td>1.0</td>\n",
       "      <td>1.0</td>\n",
       "    </tr>\n",
       "    <tr>\n",
       "      <th>1</th>\n",
       "      <td>1</td>\n",
       "      <td>37.56</td>\n",
       "      <td>4.0</td>\n",
       "      <td>8.0</td>\n",
       "    </tr>\n",
       "    <tr>\n",
       "      <th>2</th>\n",
       "      <td>2</td>\n",
       "      <td>58.50</td>\n",
       "      <td>2.0</td>\n",
       "      <td>15.0</td>\n",
       "    </tr>\n",
       "    <tr>\n",
       "      <th>3</th>\n",
       "      <td>3</td>\n",
       "      <td>13.39</td>\n",
       "      <td>2.0</td>\n",
       "      <td>2.0</td>\n",
       "    </tr>\n",
       "    <tr>\n",
       "      <th>4</th>\n",
       "      <td>4</td>\n",
       "      <td>30.87</td>\n",
       "      <td>6.0</td>\n",
       "      <td>6.0</td>\n",
       "    </tr>\n",
       "  </tbody>\n",
       "</table>\n",
       "</div>"
      ],
      "text/plain": [
       "   买家会员名  买家实际支付金额  宝贝种类  宝贝总数量\n",
       "0      0     14.90   1.0    1.0\n",
       "1      1     37.56   4.0    8.0\n",
       "2      2     58.50   2.0   15.0\n",
       "3      3     13.39   2.0    2.0\n",
       "4      4     30.87   6.0    6.0"
      ]
     },
     "execution_count": 153,
     "metadata": {},
     "output_type": "execute_result"
    }
   ],
   "source": [
    "user_info1.head()"
   ]
  },
  {
   "cell_type": "code",
   "execution_count": 154,
   "metadata": {},
   "outputs": [
    {
     "data": {
      "text/plain": [
       "((3402, 4), (3402,))"
      ]
     },
     "execution_count": 154,
     "metadata": {},
     "output_type": "execute_result"
    }
   ],
   "source": [
    "user_info1.shape, np.unique(user_info1.买家会员名).shape"
   ]
  },
  {
   "cell_type": "code",
   "execution_count": 155,
   "metadata": {},
   "outputs": [
    {
     "data": {
      "text/plain": [
       "((3309, 10), (3309,))"
      ]
     },
     "execution_count": 155,
     "metadata": {},
     "output_type": "execute_result"
    }
   ],
   "source": [
    "user_info3.shape, np.unique(user_info3.买家会员名).shape"
   ]
  },
  {
   "cell_type": "code",
   "execution_count": 156,
   "metadata": {},
   "outputs": [
    {
     "data": {
      "text/plain": [
       "((3402, 2), (3402,))"
      ]
     },
     "execution_count": 156,
     "metadata": {},
     "output_type": "execute_result"
    }
   ],
   "source": [
    "user_info2.shape, np.unique(user_info2.买家会员名).shape"
   ]
  },
  {
   "cell_type": "markdown",
   "metadata": {},
   "source": [
    "### 合并三张表信息"
   ]
  },
  {
   "cell_type": "code",
   "execution_count": 159,
   "metadata": {
    "collapsed": true
   },
   "outputs": [
    {
     "data": {
      "text/html": [
       "<div>\n",
       "<style scoped>\n",
       "    .dataframe tbody tr th:only-of-type {\n",
       "        vertical-align: middle;\n",
       "    }\n",
       "\n",
       "    .dataframe tbody tr th {\n",
       "        vertical-align: top;\n",
       "    }\n",
       "\n",
       "    .dataframe thead th {\n",
       "        text-align: right;\n",
       "    }\n",
       "</style>\n",
       "<table border=\"1\" class=\"dataframe\">\n",
       "  <thead>\n",
       "    <tr style=\"text-align: right;\">\n",
       "      <th></th>\n",
       "      <th>买家会员名</th>\n",
       "      <th>买家实际支付金额</th>\n",
       "      <th>宝贝种类</th>\n",
       "      <th>宝贝总数量</th>\n",
       "      <th>价格</th>\n",
       "      <th>missing</th>\n",
       "      <th>儿童|学生|</th>\n",
       "      <th>婴儿</th>\n",
       "      <th>婴儿幼儿|</th>\n",
       "      <th>婴儿幼儿|儿童|</th>\n",
       "      <th>婴儿幼儿|儿童|学生|</th>\n",
       "      <th>幼儿|</th>\n",
       "      <th>幼儿|儿童|</th>\n",
       "      <th>幼儿|儿童|学生|</th>\n",
       "    </tr>\n",
       "  </thead>\n",
       "  <tbody>\n",
       "    <tr>\n",
       "      <th>0</th>\n",
       "      <td>0</td>\n",
       "      <td>14.90</td>\n",
       "      <td>1.0</td>\n",
       "      <td>1.0</td>\n",
       "      <td>9.900000</td>\n",
       "      <td>0.0</td>\n",
       "      <td>0.0</td>\n",
       "      <td>0.0</td>\n",
       "      <td>0.0</td>\n",
       "      <td>0.0</td>\n",
       "      <td>0.0</td>\n",
       "      <td>0.0</td>\n",
       "      <td>1.0</td>\n",
       "      <td>0.0</td>\n",
       "    </tr>\n",
       "    <tr>\n",
       "      <th>1</th>\n",
       "      <td>1</td>\n",
       "      <td>37.56</td>\n",
       "      <td>4.0</td>\n",
       "      <td>8.0</td>\n",
       "      <td>4.957500</td>\n",
       "      <td>0.0</td>\n",
       "      <td>0.0</td>\n",
       "      <td>0.0</td>\n",
       "      <td>0.0</td>\n",
       "      <td>0.0</td>\n",
       "      <td>0.0</td>\n",
       "      <td>0.0</td>\n",
       "      <td>1.0</td>\n",
       "      <td>3.0</td>\n",
       "    </tr>\n",
       "    <tr>\n",
       "      <th>2</th>\n",
       "      <td>2</td>\n",
       "      <td>58.50</td>\n",
       "      <td>2.0</td>\n",
       "      <td>15.0</td>\n",
       "      <td>3.725000</td>\n",
       "      <td>0.0</td>\n",
       "      <td>0.0</td>\n",
       "      <td>0.0</td>\n",
       "      <td>0.0</td>\n",
       "      <td>0.0</td>\n",
       "      <td>0.0</td>\n",
       "      <td>0.0</td>\n",
       "      <td>0.0</td>\n",
       "      <td>2.0</td>\n",
       "    </tr>\n",
       "    <tr>\n",
       "      <th>3</th>\n",
       "      <td>3</td>\n",
       "      <td>13.39</td>\n",
       "      <td>2.0</td>\n",
       "      <td>2.0</td>\n",
       "      <td>4.520000</td>\n",
       "      <td>0.0</td>\n",
       "      <td>0.0</td>\n",
       "      <td>0.0</td>\n",
       "      <td>0.0</td>\n",
       "      <td>0.0</td>\n",
       "      <td>0.0</td>\n",
       "      <td>0.0</td>\n",
       "      <td>0.0</td>\n",
       "      <td>2.0</td>\n",
       "    </tr>\n",
       "    <tr>\n",
       "      <th>4</th>\n",
       "      <td>4</td>\n",
       "      <td>30.87</td>\n",
       "      <td>6.0</td>\n",
       "      <td>6.0</td>\n",
       "      <td>4.651667</td>\n",
       "      <td>0.0</td>\n",
       "      <td>0.0</td>\n",
       "      <td>0.0</td>\n",
       "      <td>0.0</td>\n",
       "      <td>0.0</td>\n",
       "      <td>0.0</td>\n",
       "      <td>0.0</td>\n",
       "      <td>0.0</td>\n",
       "      <td>6.0</td>\n",
       "    </tr>\n",
       "  </tbody>\n",
       "</table>\n",
       "</div>"
      ],
      "text/plain": [
       "   买家会员名  买家实际支付金额  宝贝种类  宝贝总数量        价格  missing  儿童|学生|   婴儿  婴儿幼儿|  \\\n",
       "0      0     14.90   1.0    1.0  9.900000      0.0     0.0  0.0    0.0   \n",
       "1      1     37.56   4.0    8.0  4.957500      0.0     0.0  0.0    0.0   \n",
       "2      2     58.50   2.0   15.0  3.725000      0.0     0.0  0.0    0.0   \n",
       "3      3     13.39   2.0    2.0  4.520000      0.0     0.0  0.0    0.0   \n",
       "4      4     30.87   6.0    6.0  4.651667      0.0     0.0  0.0    0.0   \n",
       "\n",
       "   婴儿幼儿|儿童|  婴儿幼儿|儿童|学生|  幼儿|  幼儿|儿童|  幼儿|儿童|学生|  \n",
       "0       0.0          0.0  0.0     1.0        0.0  \n",
       "1       0.0          0.0  0.0     1.0        3.0  \n",
       "2       0.0          0.0  0.0     0.0        2.0  \n",
       "3       0.0          0.0  0.0     0.0        2.0  \n",
       "4       0.0          0.0  0.0     0.0        6.0  "
      ]
     },
     "execution_count": 159,
     "metadata": {},
     "output_type": "execute_result"
    }
   ],
   "source": [
    "#先合并user_info1和user_info2两张表\n",
    "user_info4=pd.merge(user_info1,user_info2,on='买家会员名',how='left')\n",
    "#合并user_info4和user_info3两张表\n",
    "user_info5=pd.merge(user_info4,user_info3,on='买家会员名',how='left').fillna(0)\n",
    "user_info5.head()"
   ]
  },
  {
   "cell_type": "code",
   "execution_count": 160,
   "metadata": {},
   "outputs": [
    {
     "data": {
      "text/plain": [
       "((3402, 14), (3402,))"
      ]
     },
     "execution_count": 160,
     "metadata": {},
     "output_type": "execute_result"
    }
   ],
   "source": [
    "user_info5.shape, np.unique(user_info5.买家会员名).shape"
   ]
  },
  {
   "cell_type": "markdown",
   "metadata": {},
   "source": [
    "### 标准化处理"
   ]
  },
  {
   "cell_type": "code",
   "execution_count": 162,
   "metadata": {
    "collapsed": true
   },
   "outputs": [
    {
     "data": {
      "text/html": [
       "<div>\n",
       "<style scoped>\n",
       "    .dataframe tbody tr th:only-of-type {\n",
       "        vertical-align: middle;\n",
       "    }\n",
       "\n",
       "    .dataframe tbody tr th {\n",
       "        vertical-align: top;\n",
       "    }\n",
       "\n",
       "    .dataframe thead th {\n",
       "        text-align: right;\n",
       "    }\n",
       "</style>\n",
       "<table border=\"1\" class=\"dataframe\">\n",
       "  <thead>\n",
       "    <tr style=\"text-align: right;\">\n",
       "      <th></th>\n",
       "      <th>买家会员名</th>\n",
       "      <th>买家实际支付金额</th>\n",
       "      <th>宝贝种类</th>\n",
       "      <th>宝贝总数量</th>\n",
       "      <th>价格</th>\n",
       "      <th>missing</th>\n",
       "      <th>儿童|学生|</th>\n",
       "      <th>婴儿</th>\n",
       "      <th>婴儿幼儿|</th>\n",
       "      <th>婴儿幼儿|儿童|</th>\n",
       "      <th>婴儿幼儿|儿童|学生|</th>\n",
       "      <th>幼儿|</th>\n",
       "      <th>幼儿|儿童|</th>\n",
       "      <th>幼儿|儿童|学生|</th>\n",
       "    </tr>\n",
       "  </thead>\n",
       "  <tbody>\n",
       "    <tr>\n",
       "      <th>0</th>\n",
       "      <td>0</td>\n",
       "      <td>14.90</td>\n",
       "      <td>1.0</td>\n",
       "      <td>1.0</td>\n",
       "      <td>9.900000</td>\n",
       "      <td>0.0</td>\n",
       "      <td>0.0</td>\n",
       "      <td>0.0</td>\n",
       "      <td>0.0</td>\n",
       "      <td>0.0</td>\n",
       "      <td>0.0</td>\n",
       "      <td>0.0</td>\n",
       "      <td>1.0</td>\n",
       "      <td>0.0</td>\n",
       "    </tr>\n",
       "    <tr>\n",
       "      <th>1</th>\n",
       "      <td>1</td>\n",
       "      <td>37.56</td>\n",
       "      <td>4.0</td>\n",
       "      <td>8.0</td>\n",
       "      <td>4.957500</td>\n",
       "      <td>0.0</td>\n",
       "      <td>0.0</td>\n",
       "      <td>0.0</td>\n",
       "      <td>0.0</td>\n",
       "      <td>0.0</td>\n",
       "      <td>0.0</td>\n",
       "      <td>0.0</td>\n",
       "      <td>1.0</td>\n",
       "      <td>3.0</td>\n",
       "    </tr>\n",
       "    <tr>\n",
       "      <th>2</th>\n",
       "      <td>2</td>\n",
       "      <td>58.50</td>\n",
       "      <td>2.0</td>\n",
       "      <td>15.0</td>\n",
       "      <td>3.725000</td>\n",
       "      <td>0.0</td>\n",
       "      <td>0.0</td>\n",
       "      <td>0.0</td>\n",
       "      <td>0.0</td>\n",
       "      <td>0.0</td>\n",
       "      <td>0.0</td>\n",
       "      <td>0.0</td>\n",
       "      <td>0.0</td>\n",
       "      <td>2.0</td>\n",
       "    </tr>\n",
       "    <tr>\n",
       "      <th>3</th>\n",
       "      <td>3</td>\n",
       "      <td>13.39</td>\n",
       "      <td>2.0</td>\n",
       "      <td>2.0</td>\n",
       "      <td>4.520000</td>\n",
       "      <td>0.0</td>\n",
       "      <td>0.0</td>\n",
       "      <td>0.0</td>\n",
       "      <td>0.0</td>\n",
       "      <td>0.0</td>\n",
       "      <td>0.0</td>\n",
       "      <td>0.0</td>\n",
       "      <td>0.0</td>\n",
       "      <td>2.0</td>\n",
       "    </tr>\n",
       "    <tr>\n",
       "      <th>4</th>\n",
       "      <td>4</td>\n",
       "      <td>30.87</td>\n",
       "      <td>6.0</td>\n",
       "      <td>6.0</td>\n",
       "      <td>4.651667</td>\n",
       "      <td>0.0</td>\n",
       "      <td>0.0</td>\n",
       "      <td>0.0</td>\n",
       "      <td>0.0</td>\n",
       "      <td>0.0</td>\n",
       "      <td>0.0</td>\n",
       "      <td>0.0</td>\n",
       "      <td>0.0</td>\n",
       "      <td>6.0</td>\n",
       "    </tr>\n",
       "  </tbody>\n",
       "</table>\n",
       "</div>"
      ],
      "text/plain": [
       "   买家会员名  买家实际支付金额  宝贝种类  宝贝总数量        价格  missing  儿童|学生|   婴儿  婴儿幼儿|  \\\n",
       "0      0     14.90   1.0    1.0  9.900000      0.0     0.0  0.0    0.0   \n",
       "1      1     37.56   4.0    8.0  4.957500      0.0     0.0  0.0    0.0   \n",
       "2      2     58.50   2.0   15.0  3.725000      0.0     0.0  0.0    0.0   \n",
       "3      3     13.39   2.0    2.0  4.520000      0.0     0.0  0.0    0.0   \n",
       "4      4     30.87   6.0    6.0  4.651667      0.0     0.0  0.0    0.0   \n",
       "\n",
       "   婴儿幼儿|儿童|  婴儿幼儿|儿童|学生|  幼儿|  幼儿|儿童|  幼儿|儿童|学生|  \n",
       "0       0.0          0.0  0.0     1.0        0.0  \n",
       "1       0.0          0.0  0.0     1.0        3.0  \n",
       "2       0.0          0.0  0.0     0.0        2.0  \n",
       "3       0.0          0.0  0.0     0.0        2.0  \n",
       "4       0.0          0.0  0.0     0.0        6.0  "
      ]
     },
     "execution_count": 162,
     "metadata": {},
     "output_type": "execute_result"
    }
   ],
   "source": [
    "user_info5.head()"
   ]
  },
  {
   "cell_type": "code",
   "execution_count": 163,
   "metadata": {
    "collapsed": true
   },
   "outputs": [
    {
     "data": {
      "text/html": [
       "<div>\n",
       "<style scoped>\n",
       "    .dataframe tbody tr th:only-of-type {\n",
       "        vertical-align: middle;\n",
       "    }\n",
       "\n",
       "    .dataframe tbody tr th {\n",
       "        vertical-align: top;\n",
       "    }\n",
       "\n",
       "    .dataframe thead th {\n",
       "        text-align: right;\n",
       "    }\n",
       "</style>\n",
       "<table border=\"1\" class=\"dataframe\">\n",
       "  <thead>\n",
       "    <tr style=\"text-align: right;\">\n",
       "      <th></th>\n",
       "      <th>0</th>\n",
       "      <th>1</th>\n",
       "      <th>2</th>\n",
       "      <th>3</th>\n",
       "      <th>4</th>\n",
       "      <th>5</th>\n",
       "      <th>6</th>\n",
       "      <th>7</th>\n",
       "      <th>8</th>\n",
       "      <th>9</th>\n",
       "      <th>10</th>\n",
       "      <th>11</th>\n",
       "      <th>12</th>\n",
       "    </tr>\n",
       "  </thead>\n",
       "  <tbody>\n",
       "    <tr>\n",
       "      <th>0</th>\n",
       "      <td>0.014424</td>\n",
       "      <td>0.000000</td>\n",
       "      <td>0.000000</td>\n",
       "      <td>0.164019</td>\n",
       "      <td>0.0</td>\n",
       "      <td>0.0</td>\n",
       "      <td>0.0</td>\n",
       "      <td>0.0</td>\n",
       "      <td>0.0</td>\n",
       "      <td>0.0</td>\n",
       "      <td>0.0</td>\n",
       "      <td>0.033333</td>\n",
       "      <td>0.000000</td>\n",
       "    </tr>\n",
       "    <tr>\n",
       "      <th>1</th>\n",
       "      <td>0.036360</td>\n",
       "      <td>0.062500</td>\n",
       "      <td>0.015086</td>\n",
       "      <td>0.081383</td>\n",
       "      <td>0.0</td>\n",
       "      <td>0.0</td>\n",
       "      <td>0.0</td>\n",
       "      <td>0.0</td>\n",
       "      <td>0.0</td>\n",
       "      <td>0.0</td>\n",
       "      <td>0.0</td>\n",
       "      <td>0.033333</td>\n",
       "      <td>0.058824</td>\n",
       "    </tr>\n",
       "    <tr>\n",
       "      <th>2</th>\n",
       "      <td>0.056631</td>\n",
       "      <td>0.020833</td>\n",
       "      <td>0.030172</td>\n",
       "      <td>0.060776</td>\n",
       "      <td>0.0</td>\n",
       "      <td>0.0</td>\n",
       "      <td>0.0</td>\n",
       "      <td>0.0</td>\n",
       "      <td>0.0</td>\n",
       "      <td>0.0</td>\n",
       "      <td>0.0</td>\n",
       "      <td>0.000000</td>\n",
       "      <td>0.039216</td>\n",
       "    </tr>\n",
       "    <tr>\n",
       "      <th>3</th>\n",
       "      <td>0.012962</td>\n",
       "      <td>0.020833</td>\n",
       "      <td>0.002155</td>\n",
       "      <td>0.074068</td>\n",
       "      <td>0.0</td>\n",
       "      <td>0.0</td>\n",
       "      <td>0.0</td>\n",
       "      <td>0.0</td>\n",
       "      <td>0.0</td>\n",
       "      <td>0.0</td>\n",
       "      <td>0.0</td>\n",
       "      <td>0.000000</td>\n",
       "      <td>0.039216</td>\n",
       "    </tr>\n",
       "    <tr>\n",
       "      <th>4</th>\n",
       "      <td>0.029884</td>\n",
       "      <td>0.104167</td>\n",
       "      <td>0.010776</td>\n",
       "      <td>0.076269</td>\n",
       "      <td>0.0</td>\n",
       "      <td>0.0</td>\n",
       "      <td>0.0</td>\n",
       "      <td>0.0</td>\n",
       "      <td>0.0</td>\n",
       "      <td>0.0</td>\n",
       "      <td>0.0</td>\n",
       "      <td>0.000000</td>\n",
       "      <td>0.117647</td>\n",
       "    </tr>\n",
       "  </tbody>\n",
       "</table>\n",
       "</div>"
      ],
      "text/plain": [
       "         0         1         2         3    4    5    6    7    8    9    10  \\\n",
       "0  0.014424  0.000000  0.000000  0.164019  0.0  0.0  0.0  0.0  0.0  0.0  0.0   \n",
       "1  0.036360  0.062500  0.015086  0.081383  0.0  0.0  0.0  0.0  0.0  0.0  0.0   \n",
       "2  0.056631  0.020833  0.030172  0.060776  0.0  0.0  0.0  0.0  0.0  0.0  0.0   \n",
       "3  0.012962  0.020833  0.002155  0.074068  0.0  0.0  0.0  0.0  0.0  0.0  0.0   \n",
       "4  0.029884  0.104167  0.010776  0.076269  0.0  0.0  0.0  0.0  0.0  0.0  0.0   \n",
       "\n",
       "         11        12  \n",
       "0  0.033333  0.000000  \n",
       "1  0.033333  0.058824  \n",
       "2  0.000000  0.039216  \n",
       "3  0.000000  0.039216  \n",
       "4  0.000000  0.117647  "
      ]
     },
     "execution_count": 163,
     "metadata": {},
     "output_type": "execute_result"
    }
   ],
   "source": [
    "from sklearn.preprocessing import MinMaxScaler  #导入标准处理包\n",
    "#获取分析数据\n",
    "data_pre=user_info5.iloc[:,1:].values\n",
    "mms=MinMaxScaler()\n",
    "data_norm=mms.fit_transform(data_pre)   #标准化处理消除量纲影响\n",
    "pd.DataFrame(data_norm).head()"
   ]
  },
  {
   "cell_type": "markdown",
   "metadata": {},
   "source": [
    "## 模型搭建"
   ]
  },
  {
   "cell_type": "markdown",
   "metadata": {},
   "source": [
    "### 最优K值的确定"
   ]
  },
  {
   "cell_type": "code",
   "execution_count": 164,
   "metadata": {},
   "outputs": [
    {
     "name": "stdout",
     "output_type": "stream",
     "text": [
      "sse: [313.9159002415082, 242.00424182924445, 221.2834704877529, 203.98960029210164, 184.59964879464513, 171.18832213589468, 155.68736670306217, 145.95181468022537, 139.3994783828433, 132.87342950365027, 127.8275103494699, 123.9530604097679, 119.77018189159436, 115.89131474587074, 112.85084118209967]\n"
     ]
    },
    {
     "data": {
      "image/png": "[encoded data removed]",
      "text/plain": [
       "<Figure size 432x288 with 1 Axes>"
      ]
     },
     "metadata": {
      "needs_background": "light"
     },
     "output_type": "display_data"
    }
   ],
   "source": [
    "from sklearn.cluster import KMeans\n",
    "\n",
    "#查看sse值——这不是寻找最优K的最佳指标\n",
    "#我们先看下图形\n",
    "sse=[]\n",
    "for k in range(1,16):\n",
    "    km=KMeans(n_clusters=k)\n",
    "    km.fit(data_norm)\n",
    "    sse.append(km.inertia_)\n",
    "print('sse:',sse)\n",
    "plt.plot(range(1,16),sse,marker='o');"
   ]
  },
  {
   "cell_type": "code",
   "execution_count": 165,
   "metadata": {},
   "outputs": [
    {
     "data": {
      "text/plain": [
       "[<matplotlib.lines.Line2D at 0x2b25488fb70>]"
      ]
     },
     "execution_count": 165,
     "metadata": {},
     "output_type": "execute_result"
    },
    {
     "data": {
      "image/png": "[encoded data removed]",
      "text/plain": [
       "<Figure size 432x288 with 1 Axes>"
      ]
     },
     "metadata": {
      "needs_background": "light"
     },
     "output_type": "display_data"
    }
   ],
   "source": [
    "from sklearn.metrics import silhouette_score  #导入轮廓系数计算包\n",
    "\n",
    "#通过轮廓系数寻找最优的k\n",
    "score=[]\n",
    "for k in range(2,16):\n",
    "    km=KMeans(n_clusters=k)\n",
    "    res_km=km.fit(data_norm)\n",
    "    score.append(silhouette_score(data_norm,res_km.labels_))\n",
    "\n",
    "plt.plot(range(2,16),score,marker='o')"
   ]
  },
  {
   "cell_type": "markdown",
   "metadata": {},
   "source": [
    "从图形看，K=2模型效果最佳，从业务角度出发，k=2类别划分欠细致；我们排除2再观察其他数据最高点是8，得分也不错，与业务需求相拟合。所以，我们选择的最优K值为8"
   ]
  },
  {
   "cell_type": "markdown",
   "metadata": {},
   "source": [
    "### 聚类建模"
   ]
  },
  {
   "cell_type": "code",
   "execution_count": 166,
   "metadata": {},
   "outputs": [
    {
     "data": {
      "text/plain": [
       "KMeans(algorithm='auto', copy_x=True, init='k-means++', max_iter=300,\n",
       "    n_clusters=8, n_init=10, n_jobs=None, precompute_distances='auto',\n",
       "    random_state=None, tol=0.0001, verbose=0)"
      ]
     },
     "execution_count": 166,
     "metadata": {},
     "output_type": "execute_result"
    }
   ],
   "source": [
    "km=KMeans(n_clusters=8)\n",
    "km.fit(data_norm)"
   ]
  },
  {
   "cell_type": "code",
   "execution_count": 167,
   "metadata": {},
   "outputs": [
    {
     "data": {
      "text/plain": [
       "8"
      ]
     },
     "execution_count": 167,
     "metadata": {},
     "output_type": "execute_result"
    }
   ],
   "source": [
    "km.n_clusters #看分类数"
   ]
  },
  {
   "cell_type": "code",
   "execution_count": 168,
   "metadata": {},
   "outputs": [
    {
     "data": {
      "text/plain": [
       "array([1, 1, 1, ..., 1, 1, 1])"
      ]
     },
     "execution_count": 168,
     "metadata": {},
     "output_type": "execute_result"
    }
   ],
   "source": [
    "km.labels_  #查看分类结果数据"
   ]
  },
  {
   "cell_type": "code",
   "execution_count": 169,
   "metadata": {
    "collapsed": true
   },
   "outputs": [
    {
     "data": {
      "text/html": [
       "<div>\n",
       "<style scoped>\n",
       "    .dataframe tbody tr th:only-of-type {\n",
       "        vertical-align: middle;\n",
       "    }\n",
       "\n",
       "    .dataframe tbody tr th {\n",
       "        vertical-align: top;\n",
       "    }\n",
       "\n",
       "    .dataframe thead th {\n",
       "        text-align: right;\n",
       "    }\n",
       "</style>\n",
       "<table border=\"1\" class=\"dataframe\">\n",
       "  <thead>\n",
       "    <tr style=\"text-align: right;\">\n",
       "      <th></th>\n",
       "      <th>买家会员名</th>\n",
       "      <th>买家实际支付金额</th>\n",
       "      <th>宝贝种类</th>\n",
       "      <th>宝贝总数量</th>\n",
       "      <th>价格</th>\n",
       "      <th>missing</th>\n",
       "      <th>儿童|学生|</th>\n",
       "      <th>婴儿</th>\n",
       "      <th>婴儿幼儿|</th>\n",
       "      <th>婴儿幼儿|儿童|</th>\n",
       "      <th>婴儿幼儿|儿童|学生|</th>\n",
       "      <th>幼儿|</th>\n",
       "      <th>幼儿|儿童|</th>\n",
       "      <th>幼儿|儿童|学生|</th>\n",
       "      <th>类别</th>\n",
       "    </tr>\n",
       "  </thead>\n",
       "  <tbody>\n",
       "    <tr>\n",
       "      <th>0</th>\n",
       "      <td>0</td>\n",
       "      <td>14.90</td>\n",
       "      <td>1.0</td>\n",
       "      <td>1.0</td>\n",
       "      <td>9.900000</td>\n",
       "      <td>0.0</td>\n",
       "      <td>0.0</td>\n",
       "      <td>0.0</td>\n",
       "      <td>0.0</td>\n",
       "      <td>0.0</td>\n",
       "      <td>0.0</td>\n",
       "      <td>0.0</td>\n",
       "      <td>1.0</td>\n",
       "      <td>0.0</td>\n",
       "      <td>1</td>\n",
       "    </tr>\n",
       "    <tr>\n",
       "      <th>1</th>\n",
       "      <td>1</td>\n",
       "      <td>37.56</td>\n",
       "      <td>4.0</td>\n",
       "      <td>8.0</td>\n",
       "      <td>4.957500</td>\n",
       "      <td>0.0</td>\n",
       "      <td>0.0</td>\n",
       "      <td>0.0</td>\n",
       "      <td>0.0</td>\n",
       "      <td>0.0</td>\n",
       "      <td>0.0</td>\n",
       "      <td>0.0</td>\n",
       "      <td>1.0</td>\n",
       "      <td>3.0</td>\n",
       "      <td>1</td>\n",
       "    </tr>\n",
       "    <tr>\n",
       "      <th>2</th>\n",
       "      <td>2</td>\n",
       "      <td>58.50</td>\n",
       "      <td>2.0</td>\n",
       "      <td>15.0</td>\n",
       "      <td>3.725000</td>\n",
       "      <td>0.0</td>\n",
       "      <td>0.0</td>\n",
       "      <td>0.0</td>\n",
       "      <td>0.0</td>\n",
       "      <td>0.0</td>\n",
       "      <td>0.0</td>\n",
       "      <td>0.0</td>\n",
       "      <td>0.0</td>\n",
       "      <td>2.0</td>\n",
       "      <td>1</td>\n",
       "    </tr>\n",
       "    <tr>\n",
       "      <th>3</th>\n",
       "      <td>3</td>\n",
       "      <td>13.39</td>\n",
       "      <td>2.0</td>\n",
       "      <td>2.0</td>\n",
       "      <td>4.520000</td>\n",
       "      <td>0.0</td>\n",
       "      <td>0.0</td>\n",
       "      <td>0.0</td>\n",
       "      <td>0.0</td>\n",
       "      <td>0.0</td>\n",
       "      <td>0.0</td>\n",
       "      <td>0.0</td>\n",
       "      <td>0.0</td>\n",
       "      <td>2.0</td>\n",
       "      <td>1</td>\n",
       "    </tr>\n",
       "    <tr>\n",
       "      <th>4</th>\n",
       "      <td>4</td>\n",
       "      <td>30.87</td>\n",
       "      <td>6.0</td>\n",
       "      <td>6.0</td>\n",
       "      <td>4.651667</td>\n",
       "      <td>0.0</td>\n",
       "      <td>0.0</td>\n",
       "      <td>0.0</td>\n",
       "      <td>0.0</td>\n",
       "      <td>0.0</td>\n",
       "      <td>0.0</td>\n",
       "      <td>0.0</td>\n",
       "      <td>0.0</td>\n",
       "      <td>6.0</td>\n",
       "      <td>1</td>\n",
       "    </tr>\n",
       "  </tbody>\n",
       "</table>\n",
       "</div>"
      ],
      "text/plain": [
       "   买家会员名  买家实际支付金额  宝贝种类  宝贝总数量        价格  missing  儿童|学生|   婴儿  婴儿幼儿|  \\\n",
       "0      0     14.90   1.0    1.0  9.900000      0.0     0.0  0.0    0.0   \n",
       "1      1     37.56   4.0    8.0  4.957500      0.0     0.0  0.0    0.0   \n",
       "2      2     58.50   2.0   15.0  3.725000      0.0     0.0  0.0    0.0   \n",
       "3      3     13.39   2.0    2.0  4.520000      0.0     0.0  0.0    0.0   \n",
       "4      4     30.87   6.0    6.0  4.651667      0.0     0.0  0.0    0.0   \n",
       "\n",
       "   婴儿幼儿|儿童|  婴儿幼儿|儿童|学生|  幼儿|  幼儿|儿童|  幼儿|儿童|学生|  类别  \n",
       "0       0.0          0.0  0.0     1.0        0.0   1  \n",
       "1       0.0          0.0  0.0     1.0        3.0   1  \n",
       "2       0.0          0.0  0.0     0.0        2.0   1  \n",
       "3       0.0          0.0  0.0     0.0        2.0   1  \n",
       "4       0.0          0.0  0.0     0.0        6.0   1  "
      ]
     },
     "execution_count": 169,
     "metadata": {},
     "output_type": "execute_result"
    }
   ],
   "source": [
    "#把结果加入user_info5表中\n",
    "user_info5['类别']=km.labels_\n",
    "user_info5.head()"
   ]
  },
  {
   "cell_type": "markdown",
   "metadata": {},
   "source": [
    "## 依据模型划分用户群"
   ]
  },
  {
   "cell_type": "markdown",
   "metadata": {},
   "source": [
    "### 获取聚类后的用户分类"
   ]
  },
  {
   "cell_type": "code",
   "execution_count": 171,
   "metadata": {},
   "outputs": [
    {
     "data": {
      "text/html": [
       "<div>\n",
       "<style scoped>\n",
       "    .dataframe tbody tr th:only-of-type {\n",
       "        vertical-align: middle;\n",
       "    }\n",
       "\n",
       "    .dataframe tbody tr th {\n",
       "        vertical-align: top;\n",
       "    }\n",
       "\n",
       "    .dataframe thead th {\n",
       "        text-align: right;\n",
       "    }\n",
       "</style>\n",
       "<table border=\"1\" class=\"dataframe\">\n",
       "  <thead>\n",
       "    <tr style=\"text-align: right;\">\n",
       "      <th></th>\n",
       "      <th>买家会员名</th>\n",
       "      <th>类别</th>\n",
       "    </tr>\n",
       "  </thead>\n",
       "  <tbody>\n",
       "    <tr>\n",
       "      <th>0</th>\n",
       "      <td>0</td>\n",
       "      <td>1</td>\n",
       "    </tr>\n",
       "    <tr>\n",
       "      <th>1</th>\n",
       "      <td>1</td>\n",
       "      <td>1</td>\n",
       "    </tr>\n",
       "    <tr>\n",
       "      <th>2</th>\n",
       "      <td>2</td>\n",
       "      <td>1</td>\n",
       "    </tr>\n",
       "    <tr>\n",
       "      <th>3</th>\n",
       "      <td>3</td>\n",
       "      <td>1</td>\n",
       "    </tr>\n",
       "    <tr>\n",
       "      <th>4</th>\n",
       "      <td>4</td>\n",
       "      <td>1</td>\n",
       "    </tr>\n",
       "  </tbody>\n",
       "</table>\n",
       "</div>"
      ],
      "text/plain": [
       "   买家会员名  类别\n",
       "0      0   1\n",
       "1      1   1\n",
       "2      2   1\n",
       "3      3   1\n",
       "4      4   1"
      ]
     },
     "execution_count": 171,
     "metadata": {},
     "output_type": "execute_result"
    }
   ],
   "source": [
    "cluster_result=user_info5.loc[:,['买家会员名','类别']]\n",
    "cluster_result.head()"
   ]
  },
  {
   "cell_type": "code",
   "execution_count": 172,
   "metadata": {},
   "outputs": [
    {
     "data": {
      "text/plain": [
       "((3402, 2), (3402,))"
      ]
     },
     "execution_count": 172,
     "metadata": {},
     "output_type": "execute_result"
    }
   ],
   "source": [
    "cluster_result.shape,np.unique(cluster_result.买家会员名).shape"
   ]
  },
  {
   "cell_type": "markdown",
   "metadata": {},
   "source": [
    "### 导出用户分类结果"
   ]
  },
  {
   "cell_type": "code",
   "execution_count": 173,
   "metadata": {},
   "outputs": [],
   "source": [
    "if not os.path.exists('save_result'):\n",
    "    os.makedirs('save_result') #文件夹不存在，创建文件夹\n",
    "\n",
    "cluster_result.to_csv('save_result/User_Classifier_data.csv',index=False,encoding='GBK')"
   ]
  },
  {
   "cell_type": "markdown",
   "metadata": {},
   "source": [
    "# 基于用户聚类的结果进行个性化推荐"
   ]
  },
  {
   "cell_type": "markdown",
   "metadata": {},
   "source": [
    "## 用户没买过的商品信息列表【用户-商品（notbuy）】"
   ]
  },
  {
   "cell_type": "code",
   "execution_count": 174,
   "metadata": {
    "collapsed": true
   },
   "outputs": [
    {
     "data": {
      "text/html": [
       "<div>\n",
       "<style scoped>\n",
       "    .dataframe tbody tr th:only-of-type {\n",
       "        vertical-align: middle;\n",
       "    }\n",
       "\n",
       "    .dataframe tbody tr th {\n",
       "        vertical-align: top;\n",
       "    }\n",
       "\n",
       "    .dataframe thead th {\n",
       "        text-align: right;\n",
       "    }\n",
       "</style>\n",
       "<table border=\"1\" class=\"dataframe\">\n",
       "  <thead>\n",
       "    <tr style=\"text-align: right;\">\n",
       "      <th></th>\n",
       "      <th>买家会员名</th>\n",
       "      <th>标题</th>\n",
       "    </tr>\n",
       "  </thead>\n",
       "  <tbody>\n",
       "    <tr>\n",
       "      <th>0</th>\n",
       "      <td>0</td>\n",
       "      <td>0-1岁婴幼儿摇铃3-6个月宝宝拼接动物手摇铃牙胶男女孩玩具袋装</td>\n",
       "    </tr>\n",
       "    <tr>\n",
       "      <th>1</th>\n",
       "      <td>0</td>\n",
       "      <td>10元以下儿童小玩具批发创意棒棒糖发光棒女孩闪光棒夜市地摊货源</td>\n",
       "    </tr>\n",
       "    <tr>\n",
       "      <th>2</th>\n",
       "      <td>0</td>\n",
       "      <td>2017创意发光玩具七彩闪光飞轮拉哨旋转男孩儿童玩具地摊货源批发</td>\n",
       "    </tr>\n",
       "    <tr>\n",
       "      <th>3</th>\n",
       "      <td>0</td>\n",
       "      <td>2017创意台球桌小玩具儿童礼物男孩义乌玩具批发地摊货源免邮好玩</td>\n",
       "    </tr>\n",
       "    <tr>\n",
       "      <th>4</th>\n",
       "      <td>0</td>\n",
       "      <td>2017创意惯性工程车推土机男孩儿童玩具车批发新奇礼物地摊热卖</td>\n",
       "    </tr>\n",
       "  </tbody>\n",
       "</table>\n",
       "</div>"
      ],
      "text/plain": [
       "   买家会员名                                标题\n",
       "0      0  0-1岁婴幼儿摇铃3-6个月宝宝拼接动物手摇铃牙胶男女孩玩具袋装\n",
       "1      0   10元以下儿童小玩具批发创意棒棒糖发光棒女孩闪光棒夜市地摊货源\n",
       "2      0  2017创意发光玩具七彩闪光飞轮拉哨旋转男孩儿童玩具地摊货源批发\n",
       "3      0  2017创意台球桌小玩具儿童礼物男孩义乌玩具批发地摊货源免邮好玩\n",
       "4      0   2017创意惯性工程车推土机男孩儿童玩具车批发新奇礼物地摊热卖"
      ]
     },
     "execution_count": 174,
     "metadata": {},
     "output_type": "execute_result"
    }
   ],
   "source": [
    "total=pd.merge(df_order,df_item,on='订单编号',how='left')\n",
    "user_item=total.loc[:,['买家会员名','标题']]\n",
    "#先获取所有发生交易的用户商品信息\n",
    "user_item['购买次数']=0\n",
    "user_item_freq=user_item.groupby(['买家会员名','标题']).count().reset_index()\n",
    "#计算各用户每个商品购买次数\n",
    "user_item_all=user_item_freq.pivot_table(index='买家会员名',columns='标题',values='购买次数').fillna(0)\n",
    "#获取用户商品关系矩阵\n",
    "user_item_all=user_item_all.stack().reset_index()\n",
    "user_item_all.rename(columns={0:'购买次数'},inplace=True)\n",
    "user_item_notbuy=user_item_all[user_item_all.购买次数==0].drop('购买次数',axis=1)\n",
    "user_item_notbuy.head()\n",
    "#获取用户没有购买其他用户购买的用户商品清单，即用户-商品（notbuy）数据"
   ]
  },
  {
   "cell_type": "markdown",
   "metadata": {},
   "source": [
    "## 【用户-商品（notbuy）】匹配用户类群【用户-商品（notbuy）-类群】"
   ]
  },
  {
   "cell_type": "code",
   "execution_count": 175,
   "metadata": {
    "collapsed": true
   },
   "outputs": [
    {
     "data": {
      "text/html": [
       "<div>\n",
       "<style scoped>\n",
       "    .dataframe tbody tr th:only-of-type {\n",
       "        vertical-align: middle;\n",
       "    }\n",
       "\n",
       "    .dataframe tbody tr th {\n",
       "        vertical-align: top;\n",
       "    }\n",
       "\n",
       "    .dataframe thead th {\n",
       "        text-align: right;\n",
       "    }\n",
       "</style>\n",
       "<table border=\"1\" class=\"dataframe\">\n",
       "  <thead>\n",
       "    <tr style=\"text-align: right;\">\n",
       "      <th></th>\n",
       "      <th>买家会员名</th>\n",
       "      <th>标题</th>\n",
       "      <th>类别</th>\n",
       "    </tr>\n",
       "  </thead>\n",
       "  <tbody>\n",
       "    <tr>\n",
       "      <th>0</th>\n",
       "      <td>0</td>\n",
       "      <td>0-1岁婴幼儿摇铃3-6个月宝宝拼接动物手摇铃牙胶男女孩玩具袋装</td>\n",
       "      <td>1.0</td>\n",
       "    </tr>\n",
       "    <tr>\n",
       "      <th>1</th>\n",
       "      <td>0</td>\n",
       "      <td>10元以下儿童小玩具批发创意棒棒糖发光棒女孩闪光棒夜市地摊货源</td>\n",
       "      <td>1.0</td>\n",
       "    </tr>\n",
       "    <tr>\n",
       "      <th>2</th>\n",
       "      <td>0</td>\n",
       "      <td>2017创意发光玩具七彩闪光飞轮拉哨旋转男孩儿童玩具地摊货源批发</td>\n",
       "      <td>1.0</td>\n",
       "    </tr>\n",
       "    <tr>\n",
       "      <th>3</th>\n",
       "      <td>0</td>\n",
       "      <td>2017创意台球桌小玩具儿童礼物男孩义乌玩具批发地摊货源免邮好玩</td>\n",
       "      <td>1.0</td>\n",
       "    </tr>\n",
       "    <tr>\n",
       "      <th>4</th>\n",
       "      <td>0</td>\n",
       "      <td>2017创意惯性工程车推土机男孩儿童玩具车批发新奇礼物地摊热卖</td>\n",
       "      <td>1.0</td>\n",
       "    </tr>\n",
       "  </tbody>\n",
       "</table>\n",
       "</div>"
      ],
      "text/plain": [
       "   买家会员名                                标题   类别\n",
       "0      0  0-1岁婴幼儿摇铃3-6个月宝宝拼接动物手摇铃牙胶男女孩玩具袋装  1.0\n",
       "1      0   10元以下儿童小玩具批发创意棒棒糖发光棒女孩闪光棒夜市地摊货源  1.0\n",
       "2      0  2017创意发光玩具七彩闪光飞轮拉哨旋转男孩儿童玩具地摊货源批发  1.0\n",
       "3      0  2017创意台球桌小玩具儿童礼物男孩义乌玩具批发地摊货源免邮好玩  1.0\n",
       "4      0   2017创意惯性工程车推土机男孩儿童玩具车批发新奇礼物地摊热卖  1.0"
      ]
     },
     "execution_count": 175,
     "metadata": {},
     "output_type": "execute_result"
    }
   ],
   "source": [
    "user_notbuy_cluster=pd.merge(user_item_notbuy,cluster_result,on='买家会员名',how='left')\n",
    "#构建用户-商品（notbuy）-类群数据\n",
    "user_notbuy_cluster.head()"
   ]
  },
  {
   "cell_type": "markdown",
   "metadata": {},
   "source": [
    "## 定义喜欢（用户对商品的购买次数表示喜好度），构建用户对商品的喜好度【用户-商品-喜好度】"
   ]
  },
  {
   "cell_type": "code",
   "execution_count": 176,
   "metadata": {
    "collapsed": true
   },
   "outputs": [
    {
     "data": {
      "text/html": [
       "<div>\n",
       "<style scoped>\n",
       "    .dataframe tbody tr th:only-of-type {\n",
       "        vertical-align: middle;\n",
       "    }\n",
       "\n",
       "    .dataframe tbody tr th {\n",
       "        vertical-align: top;\n",
       "    }\n",
       "\n",
       "    .dataframe thead th {\n",
       "        text-align: right;\n",
       "    }\n",
       "</style>\n",
       "<table border=\"1\" class=\"dataframe\">\n",
       "  <thead>\n",
       "    <tr style=\"text-align: right;\">\n",
       "      <th></th>\n",
       "      <th>买家会员名</th>\n",
       "      <th>标题</th>\n",
       "      <th>购买次数</th>\n",
       "    </tr>\n",
       "  </thead>\n",
       "  <tbody>\n",
       "    <tr>\n",
       "      <th>0</th>\n",
       "      <td>0</td>\n",
       "      <td>创意电动飞机发光音乐万向车儿童玩具飞机模型拼装 玩具批发地摊</td>\n",
       "      <td>1</td>\n",
       "    </tr>\n",
       "    <tr>\n",
       "      <th>1</th>\n",
       "      <td>1</td>\n",
       "      <td>儿童玩具批发卡通小飞机泡泡枪不漏水手动泡泡机户外吹泡泡地摊货</td>\n",
       "      <td>1</td>\n",
       "    </tr>\n",
       "    <tr>\n",
       "      <th>2</th>\n",
       "      <td>1</td>\n",
       "      <td>创意新款发光翅膀背带儿童演出服装天使蝴蝶翅膀地摊货源玩具批发</td>\n",
       "      <td>1</td>\n",
       "    </tr>\n",
       "    <tr>\n",
       "      <th>3</th>\n",
       "      <td>1</td>\n",
       "      <td>创意新款夏季热卖小象手摇风扇夜市地摊小玩具批发六一儿童节礼物</td>\n",
       "      <td>1</td>\n",
       "    </tr>\n",
       "    <tr>\n",
       "      <th>4</th>\n",
       "      <td>1</td>\n",
       "      <td>创意热卖回力惯性小汽车特警先锋 12辆巴士儿童玩具地摊货源批发</td>\n",
       "      <td>1</td>\n",
       "    </tr>\n",
       "  </tbody>\n",
       "</table>\n",
       "</div>"
      ],
      "text/plain": [
       "   买家会员名                               标题  购买次数\n",
       "0      0   创意电动飞机发光音乐万向车儿童玩具飞机模型拼装 玩具批发地摊     1\n",
       "1      1   儿童玩具批发卡通小飞机泡泡枪不漏水手动泡泡机户外吹泡泡地摊货     1\n",
       "2      1   创意新款发光翅膀背带儿童演出服装天使蝴蝶翅膀地摊货源玩具批发     1\n",
       "3      1   创意新款夏季热卖小象手摇风扇夜市地摊小玩具批发六一儿童节礼物     1\n",
       "4      1  创意热卖回力惯性小汽车特警先锋 12辆巴士儿童玩具地摊货源批发     1"
      ]
     },
     "execution_count": 176,
     "metadata": {},
     "output_type": "execute_result"
    }
   ],
   "source": [
    "user_item_freq.head() #直接使用前面定义过的user_item_freq表即可"
   ]
  },
  {
   "cell_type": "markdown",
   "metadata": {},
   "source": [
    "## 【用户-商品-喜好度】匹配用户类群【用户-商品-喜好度-类群】"
   ]
  },
  {
   "cell_type": "code",
   "execution_count": 177,
   "metadata": {
    "collapsed": true
   },
   "outputs": [
    {
     "data": {
      "text/html": [
       "<div>\n",
       "<style scoped>\n",
       "    .dataframe tbody tr th:only-of-type {\n",
       "        vertical-align: middle;\n",
       "    }\n",
       "\n",
       "    .dataframe tbody tr th {\n",
       "        vertical-align: top;\n",
       "    }\n",
       "\n",
       "    .dataframe thead th {\n",
       "        text-align: right;\n",
       "    }\n",
       "</style>\n",
       "<table border=\"1\" class=\"dataframe\">\n",
       "  <thead>\n",
       "    <tr style=\"text-align: right;\">\n",
       "      <th></th>\n",
       "      <th>买家会员名</th>\n",
       "      <th>标题</th>\n",
       "      <th>购买次数</th>\n",
       "      <th>类别</th>\n",
       "    </tr>\n",
       "  </thead>\n",
       "  <tbody>\n",
       "    <tr>\n",
       "      <th>0</th>\n",
       "      <td>0</td>\n",
       "      <td>创意电动飞机发光音乐万向车儿童玩具飞机模型拼装 玩具批发地摊</td>\n",
       "      <td>1</td>\n",
       "      <td>1.0</td>\n",
       "    </tr>\n",
       "    <tr>\n",
       "      <th>1</th>\n",
       "      <td>1</td>\n",
       "      <td>儿童玩具批发卡通小飞机泡泡枪不漏水手动泡泡机户外吹泡泡地摊货</td>\n",
       "      <td>1</td>\n",
       "      <td>1.0</td>\n",
       "    </tr>\n",
       "    <tr>\n",
       "      <th>2</th>\n",
       "      <td>1</td>\n",
       "      <td>创意新款发光翅膀背带儿童演出服装天使蝴蝶翅膀地摊货源玩具批发</td>\n",
       "      <td>1</td>\n",
       "      <td>1.0</td>\n",
       "    </tr>\n",
       "    <tr>\n",
       "      <th>3</th>\n",
       "      <td>1</td>\n",
       "      <td>创意新款夏季热卖小象手摇风扇夜市地摊小玩具批发六一儿童节礼物</td>\n",
       "      <td>1</td>\n",
       "      <td>1.0</td>\n",
       "    </tr>\n",
       "    <tr>\n",
       "      <th>4</th>\n",
       "      <td>1</td>\n",
       "      <td>创意热卖回力惯性小汽车特警先锋 12辆巴士儿童玩具地摊货源批发</td>\n",
       "      <td>1</td>\n",
       "      <td>1.0</td>\n",
       "    </tr>\n",
       "  </tbody>\n",
       "</table>\n",
       "</div>"
      ],
      "text/plain": [
       "   买家会员名                               标题  购买次数   类别\n",
       "0      0   创意电动飞机发光音乐万向车儿童玩具飞机模型拼装 玩具批发地摊     1  1.0\n",
       "1      1   儿童玩具批发卡通小飞机泡泡枪不漏水手动泡泡机户外吹泡泡地摊货     1  1.0\n",
       "2      1   创意新款发光翅膀背带儿童演出服装天使蝴蝶翅膀地摊货源玩具批发     1  1.0\n",
       "3      1   创意新款夏季热卖小象手摇风扇夜市地摊小玩具批发六一儿童节礼物     1  1.0\n",
       "4      1  创意热卖回力惯性小汽车特警先锋 12辆巴士儿童玩具地摊货源批发     1  1.0"
      ]
     },
     "execution_count": 177,
     "metadata": {},
     "output_type": "execute_result"
    }
   ],
   "source": [
    "user_item_freq_cluster=pd.merge(user_item_freq,cluster_result,on='买家会员名',how='left')\n",
    "#构建用户-商品-喜好度-类群数据\n",
    "user_item_freq_cluster.head()"
   ]
  },
  {
   "cell_type": "markdown",
   "metadata": {},
   "source": [
    "## 同一类群中的用户对同一种商品的喜好度进行聚合，得到，用户类群对每一个商品的喜好度【类群-商品-平均喜好度】"
   ]
  },
  {
   "cell_type": "code",
   "execution_count": 178,
   "metadata": {
    "collapsed": true
   },
   "outputs": [
    {
     "data": {
      "text/html": [
       "<div>\n",
       "<style scoped>\n",
       "    .dataframe tbody tr th:only-of-type {\n",
       "        vertical-align: middle;\n",
       "    }\n",
       "\n",
       "    .dataframe tbody tr th {\n",
       "        vertical-align: top;\n",
       "    }\n",
       "\n",
       "    .dataframe thead th {\n",
       "        text-align: right;\n",
       "    }\n",
       "</style>\n",
       "<table border=\"1\" class=\"dataframe\">\n",
       "  <thead>\n",
       "    <tr style=\"text-align: right;\">\n",
       "      <th></th>\n",
       "      <th>类别</th>\n",
       "      <th>标题</th>\n",
       "      <th>购买次数</th>\n",
       "    </tr>\n",
       "  </thead>\n",
       "  <tbody>\n",
       "    <tr>\n",
       "      <th>0</th>\n",
       "      <td>0.0</td>\n",
       "      <td>10元以下儿童小玩具批发创意棒棒糖发光棒女孩闪光棒夜市地摊货源</td>\n",
       "      <td>1.2</td>\n",
       "    </tr>\n",
       "    <tr>\n",
       "      <th>1</th>\n",
       "      <td>0.0</td>\n",
       "      <td>2017创意发光玩具七彩闪光飞轮拉哨旋转男孩儿童玩具地摊货源批发</td>\n",
       "      <td>1.0</td>\n",
       "    </tr>\n",
       "    <tr>\n",
       "      <th>2</th>\n",
       "      <td>0.0</td>\n",
       "      <td>2017创意台球桌小玩具儿童礼物男孩义乌玩具批发地摊货源免邮好玩</td>\n",
       "      <td>1.0</td>\n",
       "    </tr>\n",
       "    <tr>\n",
       "      <th>3</th>\n",
       "      <td>0.0</td>\n",
       "      <td>2017创意惯性工程车推土机男孩儿童玩具车批发新奇礼物地摊热卖</td>\n",
       "      <td>1.0</td>\n",
       "    </tr>\n",
       "    <tr>\n",
       "      <th>4</th>\n",
       "      <td>0.0</td>\n",
       "      <td>2017创意新款惯性工程车 槽罐水泥车汽车男生礼物儿童玩具车批发</td>\n",
       "      <td>1.0</td>\n",
       "    </tr>\n",
       "  </tbody>\n",
       "</table>\n",
       "</div>"
      ],
      "text/plain": [
       "    类别                                标题  购买次数\n",
       "0  0.0   10元以下儿童小玩具批发创意棒棒糖发光棒女孩闪光棒夜市地摊货源   1.2\n",
       "1  0.0  2017创意发光玩具七彩闪光飞轮拉哨旋转男孩儿童玩具地摊货源批发   1.0\n",
       "2  0.0  2017创意台球桌小玩具儿童礼物男孩义乌玩具批发地摊货源免邮好玩   1.0\n",
       "3  0.0   2017创意惯性工程车推土机男孩儿童玩具车批发新奇礼物地摊热卖   1.0\n",
       "4  0.0  2017创意新款惯性工程车 槽罐水泥车汽车男生礼物儿童玩具车批发   1.0"
      ]
     },
     "execution_count": 178,
     "metadata": {},
     "output_type": "execute_result"
    }
   ],
   "source": [
    "cluster_item_freq=user_item_freq_cluster.groupby(['类别','标题']).mean()\n",
    "cluster_item_freq.reset_index(inplace=True)\n",
    "del cluster_item_freq['买家会员名']\n",
    "cluster_item_freq.head()\n",
    "#构建类群-商品-平均喜好度数据"
   ]
  },
  {
   "cell_type": "markdown",
   "metadata": {},
   "source": [
    "## 将user_notbuy_cluster与cluster_item_freq进行合并，得到【用户-商品（notbuy）-类群-类群平均喜好度】"
   ]
  },
  {
   "cell_type": "code",
   "execution_count": 179,
   "metadata": {
    "collapsed": true
   },
   "outputs": [
    {
     "data": {
      "text/html": [
       "<div>\n",
       "<style scoped>\n",
       "    .dataframe tbody tr th:only-of-type {\n",
       "        vertical-align: middle;\n",
       "    }\n",
       "\n",
       "    .dataframe tbody tr th {\n",
       "        vertical-align: top;\n",
       "    }\n",
       "\n",
       "    .dataframe thead th {\n",
       "        text-align: right;\n",
       "    }\n",
       "</style>\n",
       "<table border=\"1\" class=\"dataframe\">\n",
       "  <thead>\n",
       "    <tr style=\"text-align: right;\">\n",
       "      <th></th>\n",
       "      <th>买家会员名</th>\n",
       "      <th>标题</th>\n",
       "      <th>类别</th>\n",
       "      <th>购买次数</th>\n",
       "    </tr>\n",
       "  </thead>\n",
       "  <tbody>\n",
       "    <tr>\n",
       "      <th>0</th>\n",
       "      <td>0</td>\n",
       "      <td>0-1岁婴幼儿摇铃3-6个月宝宝拼接动物手摇铃牙胶男女孩玩具袋装</td>\n",
       "      <td>1.0</td>\n",
       "      <td>1.0</td>\n",
       "    </tr>\n",
       "    <tr>\n",
       "      <th>1</th>\n",
       "      <td>0</td>\n",
       "      <td>10元以下儿童小玩具批发创意棒棒糖发光棒女孩闪光棒夜市地摊货源</td>\n",
       "      <td>1.0</td>\n",
       "      <td>1.0</td>\n",
       "    </tr>\n",
       "    <tr>\n",
       "      <th>2</th>\n",
       "      <td>0</td>\n",
       "      <td>2017创意发光玩具七彩闪光飞轮拉哨旋转男孩儿童玩具地摊货源批发</td>\n",
       "      <td>1.0</td>\n",
       "      <td>1.0</td>\n",
       "    </tr>\n",
       "    <tr>\n",
       "      <th>3</th>\n",
       "      <td>0</td>\n",
       "      <td>2017创意台球桌小玩具儿童礼物男孩义乌玩具批发地摊货源免邮好玩</td>\n",
       "      <td>1.0</td>\n",
       "      <td>1.0</td>\n",
       "    </tr>\n",
       "    <tr>\n",
       "      <th>4</th>\n",
       "      <td>0</td>\n",
       "      <td>2017创意惯性工程车推土机男孩儿童玩具车批发新奇礼物地摊热卖</td>\n",
       "      <td>1.0</td>\n",
       "      <td>1.0</td>\n",
       "    </tr>\n",
       "  </tbody>\n",
       "</table>\n",
       "</div>"
      ],
      "text/plain": [
       "   买家会员名                                标题   类别  购买次数\n",
       "0      0  0-1岁婴幼儿摇铃3-6个月宝宝拼接动物手摇铃牙胶男女孩玩具袋装  1.0   1.0\n",
       "1      0   10元以下儿童小玩具批发创意棒棒糖发光棒女孩闪光棒夜市地摊货源  1.0   1.0\n",
       "2      0  2017创意发光玩具七彩闪光飞轮拉哨旋转男孩儿童玩具地摊货源批发  1.0   1.0\n",
       "3      0  2017创意台球桌小玩具儿童礼物男孩义乌玩具批发地摊货源免邮好玩  1.0   1.0\n",
       "4      0   2017创意惯性工程车推土机男孩儿童玩具车批发新奇礼物地摊热卖  1.0   1.0"
      ]
     },
     "execution_count": 179,
     "metadata": {},
     "output_type": "execute_result"
    }
   ],
   "source": [
    "res=pd.merge(user_notbuy_cluster,cluster_item_freq,\n",
    "             on=['标题','类别'],how='left').fillna(0)\n",
    "\n",
    "res.head()\n",
    "#构建用户-商品（notbuy）-类群-类群平均喜好度数据"
   ]
  },
  {
   "cell_type": "markdown",
   "metadata": {},
   "source": [
    "## 对用户进行分组排序，推荐"
   ]
  },
  {
   "cell_type": "code",
   "execution_count": 180,
   "metadata": {
    "collapsed": true
   },
   "outputs": [
    {
     "data": {
      "text/html": [
       "<div>\n",
       "<style scoped>\n",
       "    .dataframe tbody tr th:only-of-type {\n",
       "        vertical-align: middle;\n",
       "    }\n",
       "\n",
       "    .dataframe tbody tr th {\n",
       "        vertical-align: top;\n",
       "    }\n",
       "\n",
       "    .dataframe thead th {\n",
       "        text-align: right;\n",
       "    }\n",
       "</style>\n",
       "<table border=\"1\" class=\"dataframe\">\n",
       "  <thead>\n",
       "    <tr style=\"text-align: right;\">\n",
       "      <th></th>\n",
       "      <th>买家会员名</th>\n",
       "      <th>标题</th>\n",
       "      <th>类别</th>\n",
       "      <th>推荐指数</th>\n",
       "    </tr>\n",
       "  </thead>\n",
       "  <tbody>\n",
       "    <tr>\n",
       "      <th>0</th>\n",
       "      <td>0</td>\n",
       "      <td>特价发条玩具会跑会跳创意上链发条玩具动物儿童好玩的地摊货批</td>\n",
       "      <td>1.0</td>\n",
       "      <td>4.250000</td>\n",
       "    </tr>\n",
       "    <tr>\n",
       "      <th>1</th>\n",
       "      <td>0</td>\n",
       "      <td>六一新品恐龙玩具模型回力小车迷你玩具车儿童节礼物地摊货源批</td>\n",
       "      <td>1.0</td>\n",
       "      <td>4.000000</td>\n",
       "    </tr>\n",
       "    <tr>\n",
       "      <th>2</th>\n",
       "      <td>0</td>\n",
       "      <td>过家家厨房玩具仿真小家电电动热卖单只装迷你儿童玩具女孩童创意</td>\n",
       "      <td>1.0</td>\n",
       "      <td>3.111111</td>\n",
       "    </tr>\n",
       "    <tr>\n",
       "      <th>3</th>\n",
       "      <td>0</td>\n",
       "      <td>六一新品恐龙玩具模型回力小车迷你玩具车儿童节礼物地摊货源批发</td>\n",
       "      <td>1.0</td>\n",
       "      <td>2.884615</td>\n",
       "    </tr>\n",
       "    <tr>\n",
       "      <th>4</th>\n",
       "      <td>0</td>\n",
       "      <td>经典发条玩具会跑会跳创意上链发条玩具动物儿童好玩的地摊货批发</td>\n",
       "      <td>1.0</td>\n",
       "      <td>2.666667</td>\n",
       "    </tr>\n",
       "    <tr>\n",
       "      <th>5</th>\n",
       "      <td>1</td>\n",
       "      <td>特价发条玩具会跑会跳创意上链发条玩具动物儿童好玩的地摊货批</td>\n",
       "      <td>1.0</td>\n",
       "      <td>4.250000</td>\n",
       "    </tr>\n",
       "    <tr>\n",
       "      <th>6</th>\n",
       "      <td>1</td>\n",
       "      <td>六一新品恐龙玩具模型回力小车迷你玩具车儿童节礼物地摊货源批</td>\n",
       "      <td>1.0</td>\n",
       "      <td>4.000000</td>\n",
       "    </tr>\n",
       "    <tr>\n",
       "      <th>7</th>\n",
       "      <td>1</td>\n",
       "      <td>过家家厨房玩具仿真小家电电动热卖单只装迷你儿童玩具女孩童创意</td>\n",
       "      <td>1.0</td>\n",
       "      <td>3.111111</td>\n",
       "    </tr>\n",
       "    <tr>\n",
       "      <th>8</th>\n",
       "      <td>1</td>\n",
       "      <td>六一新品恐龙玩具模型回力小车迷你玩具车儿童节礼物地摊货源批发</td>\n",
       "      <td>1.0</td>\n",
       "      <td>2.884615</td>\n",
       "    </tr>\n",
       "    <tr>\n",
       "      <th>9</th>\n",
       "      <td>1</td>\n",
       "      <td>经典发条玩具会跑会跳创意上链发条玩具动物儿童好玩的地摊货批发</td>\n",
       "      <td>1.0</td>\n",
       "      <td>2.666667</td>\n",
       "    </tr>\n",
       "    <tr>\n",
       "      <th>10</th>\n",
       "      <td>2</td>\n",
       "      <td>特价发条玩具会跑会跳创意上链发条玩具动物儿童好玩的地摊货批</td>\n",
       "      <td>1.0</td>\n",
       "      <td>4.250000</td>\n",
       "    </tr>\n",
       "    <tr>\n",
       "      <th>11</th>\n",
       "      <td>2</td>\n",
       "      <td>六一新品恐龙玩具模型回力小车迷你玩具车儿童节礼物地摊货源批</td>\n",
       "      <td>1.0</td>\n",
       "      <td>4.000000</td>\n",
       "    </tr>\n",
       "    <tr>\n",
       "      <th>12</th>\n",
       "      <td>2</td>\n",
       "      <td>过家家厨房玩具仿真小家电电动热卖单只装迷你儿童玩具女孩童创意</td>\n",
       "      <td>1.0</td>\n",
       "      <td>3.111111</td>\n",
       "    </tr>\n",
       "    <tr>\n",
       "      <th>13</th>\n",
       "      <td>2</td>\n",
       "      <td>六一新品恐龙玩具模型回力小车迷你玩具车儿童节礼物地摊货源批发</td>\n",
       "      <td>1.0</td>\n",
       "      <td>2.884615</td>\n",
       "    </tr>\n",
       "    <tr>\n",
       "      <th>14</th>\n",
       "      <td>2</td>\n",
       "      <td>经典发条玩具会跑会跳创意上链发条玩具动物儿童好玩的地摊货批发</td>\n",
       "      <td>1.0</td>\n",
       "      <td>2.666667</td>\n",
       "    </tr>\n",
       "    <tr>\n",
       "      <th>15</th>\n",
       "      <td>3</td>\n",
       "      <td>特价发条玩具会跑会跳创意上链发条玩具动物儿童好玩的地摊货批</td>\n",
       "      <td>1.0</td>\n",
       "      <td>4.250000</td>\n",
       "    </tr>\n",
       "    <tr>\n",
       "      <th>16</th>\n",
       "      <td>3</td>\n",
       "      <td>六一新品恐龙玩具模型回力小车迷你玩具车儿童节礼物地摊货源批</td>\n",
       "      <td>1.0</td>\n",
       "      <td>4.000000</td>\n",
       "    </tr>\n",
       "    <tr>\n",
       "      <th>17</th>\n",
       "      <td>3</td>\n",
       "      <td>过家家厨房玩具仿真小家电电动热卖单只装迷你儿童玩具女孩童创意</td>\n",
       "      <td>1.0</td>\n",
       "      <td>3.111111</td>\n",
       "    </tr>\n",
       "    <tr>\n",
       "      <th>18</th>\n",
       "      <td>3</td>\n",
       "      <td>六一新品恐龙玩具模型回力小车迷你玩具车儿童节礼物地摊货源批发</td>\n",
       "      <td>1.0</td>\n",
       "      <td>2.884615</td>\n",
       "    </tr>\n",
       "    <tr>\n",
       "      <th>19</th>\n",
       "      <td>3</td>\n",
       "      <td>经典发条玩具会跑会跳创意上链发条玩具动物儿童好玩的地摊货批发</td>\n",
       "      <td>1.0</td>\n",
       "      <td>2.666667</td>\n",
       "    </tr>\n",
       "  </tbody>\n",
       "</table>\n",
       "</div>"
      ],
      "text/plain": [
       "    买家会员名                              标题   类别      推荐指数\n",
       "0       0   特价发条玩具会跑会跳创意上链发条玩具动物儿童好玩的地摊货批  1.0  4.250000\n",
       "1       0   六一新品恐龙玩具模型回力小车迷你玩具车儿童节礼物地摊货源批  1.0  4.000000\n",
       "2       0  过家家厨房玩具仿真小家电电动热卖单只装迷你儿童玩具女孩童创意  1.0  3.111111\n",
       "3       0  六一新品恐龙玩具模型回力小车迷你玩具车儿童节礼物地摊货源批发  1.0  2.884615\n",
       "4       0  经典发条玩具会跑会跳创意上链发条玩具动物儿童好玩的地摊货批发  1.0  2.666667\n",
       "5       1   特价发条玩具会跑会跳创意上链发条玩具动物儿童好玩的地摊货批  1.0  4.250000\n",
       "6       1   六一新品恐龙玩具模型回力小车迷你玩具车儿童节礼物地摊货源批  1.0  4.000000\n",
       "7       1  过家家厨房玩具仿真小家电电动热卖单只装迷你儿童玩具女孩童创意  1.0  3.111111\n",
       "8       1  六一新品恐龙玩具模型回力小车迷你玩具车儿童节礼物地摊货源批发  1.0  2.884615\n",
       "9       1  经典发条玩具会跑会跳创意上链发条玩具动物儿童好玩的地摊货批发  1.0  2.666667\n",
       "10      2   特价发条玩具会跑会跳创意上链发条玩具动物儿童好玩的地摊货批  1.0  4.250000\n",
       "11      2   六一新品恐龙玩具模型回力小车迷你玩具车儿童节礼物地摊货源批  1.0  4.000000\n",
       "12      2  过家家厨房玩具仿真小家电电动热卖单只装迷你儿童玩具女孩童创意  1.0  3.111111\n",
       "13      2  六一新品恐龙玩具模型回力小车迷你玩具车儿童节礼物地摊货源批发  1.0  2.884615\n",
       "14      2  经典发条玩具会跑会跳创意上链发条玩具动物儿童好玩的地摊货批发  1.0  2.666667\n",
       "15      3   特价发条玩具会跑会跳创意上链发条玩具动物儿童好玩的地摊货批  1.0  4.250000\n",
       "16      3   六一新品恐龙玩具模型回力小车迷你玩具车儿童节礼物地摊货源批  1.0  4.000000\n",
       "17      3  过家家厨房玩具仿真小家电电动热卖单只装迷你儿童玩具女孩童创意  1.0  3.111111\n",
       "18      3  六一新品恐龙玩具模型回力小车迷你玩具车儿童节礼物地摊货源批发  1.0  2.884615\n",
       "19      3  经典发条玩具会跑会跳创意上链发条玩具动物儿童好玩的地摊货批发  1.0  2.666667"
      ]
     },
     "execution_count": 180,
     "metadata": {},
     "output_type": "execute_result"
    }
   ],
   "source": [
    "k=5  #先设定top值\n",
    "topk=res.groupby('买家会员名').apply(lambda x:x.sort_values('购买次数',\n",
    "                                                       ascending=False)[:k]).drop(columns='买家会员名',axis=1)\n",
    "topk=topk.reset_index().drop(columns='level_1',axis=1)\n",
    "topk.rename(columns={'购买次数':'推荐指数'},inplace=True)\n",
    "topk.head(20)\n",
    "#获得用户前n推荐清单"
   ]
  },
  {
   "cell_type": "markdown",
   "metadata": {},
   "source": [
    "# 导出最终结果"
   ]
  },
  {
   "cell_type": "code",
   "execution_count": 181,
   "metadata": {},
   "outputs": [],
   "source": [
    "if not os.path.exists('save_result'):\n",
    "    os.makedirs('save_result') #文件夹不存在，创建文件夹\n",
    "\n",
    "topk.to_csv('save_result/Cluster_User_Item_Topn_data.csv',index=False,encoding='GBK')"
   ]
  }
 ],
 "metadata": {
  "kernelspec": {
   "display_name": "Python 3",
   "language": "python",
   "name": "python3"
  },
  "language_info": {
   "codemirror_mode": {
    "name": "ipython",
    "version": 3
   },
   "file_extension": ".py",
   "mimetype": "text/x-python",
   "name": "python",
   "nbconvert_exporter": "python",
   "pygments_lexer": "ipython3",
   "version": "3.7.3"
  },
  "toc": {
   "base_numbering": 1,
   "nav_menu": {},
   "number_sections": true,
   "sideBar": true,
   "skip_h1_title": false,
   "title_cell": "Table of Contents",
   "title_sidebar": "Contents",
   "toc_cell": false,
   "toc_position": {
    "height": "566.4px",
    "left": "25px",
    "top": "121.6px",
    "width": "211.2px"
   },
   "toc_section_display": true,
   "toc_window_display": false
  }
 },
 "nbformat": 4,
 "nbformat_minor": 2
}
