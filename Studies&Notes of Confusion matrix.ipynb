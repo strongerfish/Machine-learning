{
 "cells": [
  {
   "cell_type": "markdown",
   "metadata": {},
   "source": [
    "参考文章： https://mp.weixin.qq.com/s/Fi13jaEkM5EGjmS7Mm_Bjw\n",
    "\n",
    "再附带本人曾写过的文章 ：https://blog.csdn.net/sun91019718/article/details/101314545"
   ]
  },
  {
   "cell_type": "markdown",
   "metadata": {},
   "source": [
    "# 混淆矩阵\n",
    "- 分类算法常用评价方法"
   ]
  },
  {
   "cell_type": "markdown",
   "metadata": {},
   "source": [
    "## 基本定义\n",
    "\n",
    "- TP:真实值是1，预测值也是1;True of Positive\n",
    "- FN:真实值是1，预测值是0;False of Negative\n",
    "- TN:真实值是0，预测值也是0;True of Positive\n",
    "- FP:真实值是0，预测值是1;False of Positive\n",
    "\n",
    "- TP+FN：真实1总数；TP+FP:预测1总数"
   ]
  },
  {
   "cell_type": "markdown",
   "metadata": {},
   "source": [
    "## 三个重要指标"
   ]
  },
  {
   "cell_type": "markdown",
   "metadata": {},
   "source": [
    "### 精准率\n",
    "precision=TP/(TP+FP)  也叫 查准率\n",
    "\n",
    "引用饼干Japson的话：为什么管它叫精准率呢？在有偏的数据中，我们通常更关注值为1的特征，比如“患病”，比如“有风险”。\n",
    "在100次结果为患病的预测，平均有40次预测是对的。即精准率为我们关注的那个事件，预测的有多准。"
   ]
  },
  {
   "cell_type": "markdown",
   "metadata": {},
   "source": [
    "### 召回率\n",
    "recall=TP/(TP+FN)  即 TPR\n",
    "\n",
    "也叫：真正率或灵敏度或召回率或查全率或真正率或功效。找出少数类\n",
    "\n",
    "引用饼干Japson的话：所有真实值为1的数据中，预测对了的个数。每当有100个癌症患者，算法可以成功的预测出8个 。也就是我们关注的那个事件真实的发生情况下，我们成功预测的比例是多少。"
   ]
  },
  {
   "cell_type": "markdown",
   "metadata": {},
   "source": [
    "### F1 score\n",
    " 即 F1_measure\n",
    "\n",
    "因召回率和精确度是此消彼⻓长的，两者之间的平衡代表了捕捉少数类的需求和尽量不要误伤多数类的需求的平衡。究竟要偏向于哪一方，\n",
    "取决于我们的业务需求：究竟是误伤多数类的成本更高，还是无法捕捉少数类的代价更高。\n",
    "为了同时兼顾精确度和召回率，我们创造了两者的调和平均数作为考量两者平衡的综合性指标，称之为F1_measure。\n",
    "\n",
    "F1_measure=2/(1/precision +1/recall)=2*precision*recall/(precision+recall)\n",
    "\n",
    "为解决样本不平衡问题，我们常用此指标来评估模型的好坏。"
   ]
  },
  {
   "cell_type": "markdown",
   "metadata": {},
   "source": [
    "## 手工代码实现\n",
    "\n",
    "将以下代码封装入metrics.py文件中"
   ]
  },
  {
   "cell_type": "markdown",
   "metadata": {},
   "source": [
    "### TN"
   ]
  },
  {
   "cell_type": "code",
   "execution_count": 1,
   "metadata": {},
   "outputs": [],
   "source": [
    "def TN(y_true,y_predict):\n",
    "    assert y_true.shape[0]==y_predict.shape[0],\\\n",
    "        \"the size of y_true must be equal to the size of y_predict\"\n",
    "    # (y_true == 0)：向量与数值按位比较，得到的是一个布尔向量\n",
    "    # 向量与向量按位与，结果还是布尔向量\n",
    "    # np.sum 计算布尔向量中True的个数(True记为1，False记为0)\n",
    "    return np.sum((y_true==0)&(y_predict==0)) # 向量与向量按位与，结果还是向量"
   ]
  },
  {
   "cell_type": "markdown",
   "metadata": {},
   "source": [
    "### FP "
   ]
  },
  {
   "cell_type": "code",
   "execution_count": 4,
   "metadata": {},
   "outputs": [],
   "source": [
    "def FP(y_true,y_predict):\n",
    "    assert y_true.shape[0]==y_predict.shape[0],\\\n",
    "        \"the size of y_true must be equal to the size of y_predict\"\n",
    "    # (y_true == 0)：向量与数值按位比较，得到的是一个布尔向量\n",
    "    # 向量与向量按位与，结果还是布尔向量\n",
    "    # np.sum 计算布尔向量中True的个数(True记为1，False记为0)\n",
    "    \n",
    "    return np.sum((y_true==0)&(y_predict==1)) # 向量与向量按位与，结果还是向量"
   ]
  },
  {
   "cell_type": "markdown",
   "metadata": {},
   "source": [
    "### FN"
   ]
  },
  {
   "cell_type": "code",
   "execution_count": 5,
   "metadata": {},
   "outputs": [],
   "source": [
    "def FN(y_true,y_predict):\n",
    "    assert y_true.shape[0]==y_predict.shape[0],\\\n",
    "        \"the size of y_true must be equal to the size of y_predict\"\n",
    "    # (y_true == 1)：向量与数值按位比较，得到的是一个布尔向量\n",
    "    # 向量与向量按位与，结果还是布尔向量\n",
    "    # np.sum 计算布尔向量中True的个数(True记为1，False记为0)\n",
    "    \n",
    "    return np.sum((y_true==1)&(y_predict==0))  # 向量与向量按位与，结果还是向量"
   ]
  },
  {
   "cell_type": "markdown",
   "metadata": {},
   "source": [
    "### TP"
   ]
  },
  {
   "cell_type": "code",
   "execution_count": 6,
   "metadata": {},
   "outputs": [],
   "source": [
    "def TP(y_true,y_predict):\n",
    "    assert y_true.shape[0]==y_predict.shape[0],\\\n",
    "        \"the size of y_true must be equal to the size of y_predict\"\n",
    "    # (y_true == 1)：向量与数值按位比较，得到的是一个布尔向量\n",
    "    # 向量与向量按位与，结果还是布尔向量\n",
    "    # np.sum 计算布尔向量中True的个数(True记为1，False记为0)\n",
    "    \n",
    "    return np.sum((y_true==1)&(y_predict==1))  # 向量与向量按位与，结果还是向量"
   ]
  },
  {
   "cell_type": "markdown",
   "metadata": {},
   "source": [
    "### 构建混淆矩阵"
   ]
  },
  {
   "cell_type": "code",
   "execution_count": 7,
   "metadata": {},
   "outputs": [],
   "source": [
    "def confusion_matrix(y_true,y_predict):\n",
    "    return np.array([\n",
    "        [TN(y_true,y_predict),FP(y_true,y_predict)],\n",
    "        [FN(y_true,y_predict),TP(y_true,y_predict)]\n",
    "    ])"
   ]
  },
  {
   "cell_type": "markdown",
   "metadata": {},
   "source": [
    "### 精准率"
   ]
  },
  {
   "cell_type": "code",
   "execution_count": 9,
   "metadata": {},
   "outputs": [],
   "source": [
    "def precision_score(y_true, y_predict):\n",
    "    tp=TP(y_true, y_predict)\n",
    "    fp=FP(y_true, y_predict)\n",
    "    try:\n",
    "        return tp/(tp+fp)\n",
    "    except:\n",
    "        return 0.0"
   ]
  },
  {
   "cell_type": "markdown",
   "metadata": {},
   "source": [
    "### 召回率"
   ]
  },
  {
   "cell_type": "code",
   "execution_count": 10,
   "metadata": {},
   "outputs": [],
   "source": [
    "def recall_score(y_true, y_predict):\n",
    "    tp=TP(y_true, y_predict)\n",
    "    fn=FN(y_true, y_predict)\n",
    "    try:\n",
    "        return tp/(tp+fn)\n",
    "    except:\n",
    "        return 0.0"
   ]
  },
  {
   "cell_type": "markdown",
   "metadata": {},
   "source": [
    "### F1 score"
   ]
  },
  {
   "cell_type": "code",
   "execution_count": 11,
   "metadata": {},
   "outputs": [],
   "source": [
    "def f1_measure(y_true, y_predict):\n",
    "    recall=recall_score(y_true, y_predict)\n",
    "    precision=precision_score(y_true, y_predict)\n",
    "    try:\n",
    "        return 2*recall*precision/(recall+precision)\n",
    "    except:\n",
    "        return 0.0"
   ]
  },
  {
   "cell_type": "markdown",
   "metadata": {},
   "source": [
    "### 小应用"
   ]
  },
  {
   "cell_type": "code",
   "execution_count": 2,
   "metadata": {},
   "outputs": [
    {
     "name": "stderr",
     "output_type": "stream",
     "text": [
      "D:\\tool\\anaconda\\lib\\site-packages\\sklearn\\linear_model\\logistic.py:433: FutureWarning: Default solver will be changed to 'lbfgs' in 0.22. Specify a solver to silence this warning.\n",
      "  FutureWarning)\n"
     ]
    }
   ],
   "source": [
    "import numpy as np\n",
    "from sklearn import datasets\n",
    "from sklearn.model_selection import train_test_split\n",
    "from sklearn.linear_model import LogisticRegression\n",
    "\n",
    "digits = datasets.load_digits()\n",
    "X = digits.data\n",
    "y = digits.target.copy()\n",
    "\n",
    "# 要构造偏斜数据，将数字9的对应索引的元素设置为1，0～8设置为0\n",
    "y[digits.target==9]=1\n",
    "y[digits.target!=9]=0\n",
    "\n",
    "# 使用逻辑回归做一个分类\n",
    "X_train, X_test, y_train, y_test = train_test_split(X, y, random_state=666)\n",
    "\n",
    "log_reg = LogisticRegression()\n",
    "log_reg.fit(X_train,y_train)\n",
    "# 得到X_test所对应的预测值\n",
    "y_log_predict = log_reg.predict(X_test)"
   ]
  },
  {
   "cell_type": "code",
   "execution_count": 3,
   "metadata": {},
   "outputs": [
    {
     "data": {
      "text/plain": [
       "403"
      ]
     },
     "execution_count": 3,
     "metadata": {},
     "output_type": "execute_result"
    }
   ],
   "source": [
    "TN(y_test,y_log_predict)"
   ]
  },
  {
   "cell_type": "code",
   "execution_count": 14,
   "metadata": {},
   "outputs": [
    {
     "data": {
      "text/plain": [
       "2"
      ]
     },
     "execution_count": 14,
     "metadata": {},
     "output_type": "execute_result"
    }
   ],
   "source": [
    "FP(y_test,y_log_predict)"
   ]
  },
  {
   "cell_type": "code",
   "execution_count": 13,
   "metadata": {},
   "outputs": [
    {
     "data": {
      "text/plain": [
       "9"
      ]
     },
     "execution_count": 13,
     "metadata": {},
     "output_type": "execute_result"
    }
   ],
   "source": [
    "FN(y_test,y_log_predict)"
   ]
  },
  {
   "cell_type": "code",
   "execution_count": 12,
   "metadata": {},
   "outputs": [
    {
     "data": {
      "text/plain": [
       "36"
      ]
     },
     "execution_count": 12,
     "metadata": {},
     "output_type": "execute_result"
    }
   ],
   "source": [
    "TP(y_test,y_log_predict)"
   ]
  },
  {
   "cell_type": "code",
   "execution_count": 15,
   "metadata": {},
   "outputs": [
    {
     "data": {
      "text/plain": [
       "0.9473684210526315"
      ]
     },
     "execution_count": 15,
     "metadata": {},
     "output_type": "execute_result"
    }
   ],
   "source": [
    "precision_score(y_test,y_log_predict)"
   ]
  },
  {
   "cell_type": "code",
   "execution_count": 16,
   "metadata": {},
   "outputs": [
    {
     "data": {
      "text/plain": [
       "0.8"
      ]
     },
     "execution_count": 16,
     "metadata": {},
     "output_type": "execute_result"
    }
   ],
   "source": [
    "recall_score(y_test,y_log_predict)"
   ]
  },
  {
   "cell_type": "code",
   "execution_count": 17,
   "metadata": {
    "scrolled": true
   },
   "outputs": [
    {
     "data": {
      "text/plain": [
       "0.8674698795180723"
      ]
     },
     "execution_count": 17,
     "metadata": {},
     "output_type": "execute_result"
    }
   ],
   "source": [
    "f1_measure(y_test,y_log_predict)"
   ]
  },
  {
   "cell_type": "code",
   "execution_count": 21,
   "metadata": {},
   "outputs": [
    {
     "data": {
      "text/plain": [
       "array([[403,   2],\n",
       "       [  9,  36]], dtype=int64)"
      ]
     },
     "execution_count": 21,
     "metadata": {},
     "output_type": "execute_result"
    }
   ],
   "source": [
    "confusion_matrix(y_test,y_log_predict)"
   ]
  },
  {
   "cell_type": "markdown",
   "metadata": {},
   "source": [
    "## scikit-learn中的混淆矩阵，精准率和召回率"
   ]
  },
  {
   "cell_type": "markdown",
   "metadata": {},
   "source": [
    "### 混淆矩阵"
   ]
  },
  {
   "cell_type": "code",
   "execution_count": 18,
   "metadata": {},
   "outputs": [
    {
     "data": {
      "text/plain": [
       "array([[403,   2],\n",
       "       [  9,  36]], dtype=int64)"
      ]
     },
     "execution_count": 18,
     "metadata": {},
     "output_type": "execute_result"
    }
   ],
   "source": [
    "from sklearn.metrics import confusion_matrix\n",
    "\n",
    "confusion_matrix(y_test,y_log_predict)"
   ]
  },
  {
   "cell_type": "markdown",
   "metadata": {},
   "source": [
    "### 精准率"
   ]
  },
  {
   "cell_type": "code",
   "execution_count": 22,
   "metadata": {},
   "outputs": [
    {
     "data": {
      "text/plain": [
       "0.9473684210526315"
      ]
     },
     "execution_count": 22,
     "metadata": {},
     "output_type": "execute_result"
    }
   ],
   "source": [
    "from sklearn.metrics import precision_score\n",
    "\n",
    "precision_score(y_test,y_log_predict)"
   ]
  },
  {
   "cell_type": "markdown",
   "metadata": {},
   "source": [
    "### 召回率"
   ]
  },
  {
   "cell_type": "code",
   "execution_count": 23,
   "metadata": {},
   "outputs": [
    {
     "data": {
      "text/plain": [
       "0.8"
      ]
     },
     "execution_count": 23,
     "metadata": {},
     "output_type": "execute_result"
    }
   ],
   "source": [
    "from sklearn.metrics import recall_score\n",
    "\n",
    "recall_score(y_test,y_log_predict)"
   ]
  },
  {
   "cell_type": "markdown",
   "metadata": {},
   "source": [
    "###  f1_score"
   ]
  },
  {
   "cell_type": "code",
   "execution_count": 24,
   "metadata": {},
   "outputs": [
    {
     "data": {
      "text/plain": [
       "0.8674698795180723"
      ]
     },
     "execution_count": 24,
     "metadata": {},
     "output_type": "execute_result"
    }
   ],
   "source": [
    "from sklearn.metrics import f1_score\n",
    "f1_score(y_test,y_log_predict)"
   ]
  }
 ],
 "metadata": {
  "kernelspec": {
   "display_name": "Python 3",
   "language": "python",
   "name": "python3"
  },
  "language_info": {
   "codemirror_mode": {
    "name": "ipython",
    "version": 3
   },
   "file_extension": ".py",
   "mimetype": "text/x-python",
   "name": "python",
   "nbconvert_exporter": "python",
   "pygments_lexer": "ipython3",
   "version": "3.7.3"
  },
  "toc": {
   "base_numbering": 1,
   "nav_menu": {},
   "number_sections": true,
   "sideBar": true,
   "skip_h1_title": false,
   "title_cell": "Table of Contents",
   "title_sidebar": "Contents",
   "toc_cell": false,
   "toc_position": {},
   "toc_section_display": true,
   "toc_window_display": true
  }
 },
 "nbformat": 4,
 "nbformat_minor": 2
}
