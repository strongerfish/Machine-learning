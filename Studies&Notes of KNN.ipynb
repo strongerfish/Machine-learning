{
 "cells": [
  {
   "cell_type": "markdown",
   "metadata": {},
   "source": [
    "# KNN 算法原理及实现"
   ]
  },
  {
   "cell_type": "markdown",
   "metadata": {},
   "source": [
    "## 原理\n",
    "    1、kNN(k-NearestNeighbor),即k最近邻算法。先找出与测试样本距离最近的K个训练样本的分类标签数据，然后依据多数表决等决策规则进行对测试样本预测。即选择k个最相似数据中出现次数最多的分类，作为新数据的分类。\n",
    "    2、既可以用来做分类（天然支持多分类），也可以用来做回归。"
   ]
  },
  {
   "cell_type": "markdown",
   "metadata": {},
   "source": [
    "## 实现\n",
    "    1、三个基本要素：\n",
    "        距离度量[欧氏距离、曼哈顿距离、余弦系数]\n",
    "        k值[用几个训练样本]\n",
    "        分类决策规则[一般是多数表决]\n",
    "    2、实现流程:\n",
    "        ①、计算测试对象到训练集中每个对象的距离\n",
    "        ②、按照距离的远近排序(升序)\n",
    "        ③、选取与当前测试对象最近的k的训练对象，作为该测试对象的邻居\n",
    "        ④、统计这k个邻居的类别频次\n",
    "        ⑤、k个邻居里频次最高的类别，即为测试对象的类别\n",
    "       "
   ]
  },
  {
   "cell_type": "markdown",
   "metadata": {},
   "source": [
    "# 代码实现"
   ]
  },
  {
   "cell_type": "markdown",
   "metadata": {},
   "source": [
    "## 手工代码实现"
   ]
  },
  {
   "cell_type": "markdown",
   "metadata": {},
   "source": [
    "### 导入库"
   ]
  },
  {
   "cell_type": "code",
   "execution_count": 6,
   "metadata": {},
   "outputs": [],
   "source": [
    "import numpy as np\n",
    "import matplotlib.pyplot as plt\n",
    "from math import sqrt   \n",
    "from collections import Counter"
   ]
  },
  {
   "cell_type": "markdown",
   "metadata": {},
   "source": [
    "### 训练集"
   ]
  },
  {
   "cell_type": "code",
   "execution_count": 7,
   "metadata": {},
   "outputs": [],
   "source": [
    "# raw_data_x是特征，raw_data_y是标签，0为良性，1为恶性\n",
    "# raw_data_x[:,0]是肿块大小,raw_data_x[:,1]是发现时间\n",
    "raw_data_X = [[3.393533211, 2.331273381],\n",
    "              [3.110073483, 1.781539638],\n",
    "              [1.343853454, 3.368312451],\n",
    "              [3.582294121, 4.679917921],\n",
    "              [2.280362211, 2.866990212],\n",
    "              [7.423436752, 4.685324231],\n",
    "              [5.745231231, 3.532131321],\n",
    "              [9.172112222, 2.511113104],\n",
    "              [7.927841231, 3.421455345],\n",
    "              [7.939831414, 0.791631213]\n",
    "             ]\n",
    "raw_data_y=[0, 0, 0, 0, 0, 1, 1, 1, 1, 1]\n",
    "\n",
    "# 设置训练组\n",
    "\n",
    "X_train=np.array(raw_data_X)\n",
    "y_train=np.array(raw_data_y)"
   ]
  },
  {
   "cell_type": "markdown",
   "metadata": {},
   "source": [
    "### 查看数据\n",
    " - 使用可视化查看数据"
   ]
  },
  {
   "cell_type": "code",
   "execution_count": 9,
   "metadata": {},
   "outputs": [
    {
     "data": {
      "image/png": "[encoded data removed]",
      "text/plain": [
       "<Figure size 432x288 with 1 Axes>"
      ]
     },
     "metadata": {
      "needs_background": "light"
     },
     "output_type": "display_data"
    }
   ],
   "source": [
    "# 数据可视化\n",
    "plt.scatter(X_train[y_train==0,0],X_train[y_train==0,1],color='g',label='Positive')\n",
    "plt.scatter(X_train[y_train==1,0],X_train[y_train==1,1],color='r',label='Negative')\n",
    "plt.xlabel('Tumor Size')\n",
    "plt.ylabel('Time')\n",
    "plt.axis([0,10,0,5])\n",
    "plt.legend()\n",
    "plt.show()"
   ]
  },
  {
   "cell_type": "markdown",
   "metadata": {},
   "source": [
    "### 测试样本 \n",
    "x=[8.90933607318, 3.365731514] "
   ]
  },
  {
   "cell_type": "code",
   "execution_count": 4,
   "metadata": {},
   "outputs": [],
   "source": [
    "x=[8.90933607318, 3.365731514]"
   ]
  },
  {
   "cell_type": "markdown",
   "metadata": {},
   "source": [
    "### 求距离\n",
    "-- 采用欧氏距离计算\n",
    "$$\n",
    "\\sqrt{\\sum (x_i-y_i)^2}\n",
    "$$"
   ]
  },
  {
   "cell_type": "code",
   "execution_count": 24,
   "metadata": {},
   "outputs": [],
   "source": [
    "distances=[]  # 用来记录x到样本数据集中每个点的距离\n",
    "for x_train in X_train:\n",
    "    d=sqrt(np.sum((x_train-x)**2))\n",
    "    distances.append(d)"
   ]
  },
  {
   "cell_type": "code",
   "execution_count": 26,
   "metadata": {},
   "outputs": [],
   "source": [
    "# 使用列表生成器，一行就能搞定，对于X_train中的每一个元素x_train都进行前面的运算，把结果生成一个列表\n",
    "distances=[sqrt(np.sum((x_train-x)**2)) for x_train in X_train]"
   ]
  },
  {
   "cell_type": "code",
   "execution_count": 28,
   "metadata": {},
   "outputs": [
    {
     "data": {
      "text/plain": [
       "[5.611968000921151,\n",
       " 6.011747706769277,\n",
       " 7.565483059418645,\n",
       " 5.486753308891268,\n",
       " 6.647709180746875,\n",
       " 1.9872648870854204,\n",
       " 3.168477291709152,\n",
       " 0.8941051007010301,\n",
       " 0.9830754144862234,\n",
       " 2.7506238644678445]"
      ]
     },
     "execution_count": 28,
     "metadata": {},
     "output_type": "execute_result"
    }
   ],
   "source": [
    "distances"
   ]
  },
  {
   "cell_type": "code",
   "execution_count": 29,
   "metadata": {},
   "outputs": [
    {
     "data": {
      "text/plain": [
       "array([7, 8, 5, 9, 6, 3, 0, 1, 4, 2], dtype=int64)"
      ]
     },
     "execution_count": 29,
     "metadata": {},
     "output_type": "execute_result"
    }
   ],
   "source": [
    "# np.argsort(array) 对一个数组进行排序，返回的是相应的排序后结果的索引,默认是升序排序\n",
    "nearest=np.argsort(distances)\n",
    "nearest\n",
    "# 结果的含义是：距离最小的点在distances数组中的索引是7，第二小的点索引是8... 近到远是哪些点"
   ]
  },
  {
   "cell_type": "markdown",
   "metadata": {},
   "source": [
    "### 选K值"
   ]
  },
  {
   "cell_type": "code",
   "execution_count": 30,
   "metadata": {},
   "outputs": [
    {
     "data": {
      "text/plain": [
       "[1, 1, 1, 1, 1, 0]"
      ]
     },
     "execution_count": 30,
     "metadata": {},
     "output_type": "execute_result"
    }
   ],
   "source": [
    "# 暂定6\n",
    "k=6\n",
    "topK_y=[y_train[i] for i in nearest[:k]]\n",
    "topK_y"
   ]
  },
  {
   "cell_type": "markdown",
   "metadata": {},
   "source": [
    "### 决策规则\n",
    "- 采用少数服从多数"
   ]
  },
  {
   "cell_type": "code",
   "execution_count": 32,
   "metadata": {},
   "outputs": [
    {
     "data": {
      "text/plain": [
       "Counter({1: 5, 0: 1})"
      ]
     },
     "execution_count": 32,
     "metadata": {},
     "output_type": "execute_result"
    }
   ],
   "source": [
    "votes=Counter(topK_y)\n",
    "votes"
   ]
  },
  {
   "cell_type": "code",
   "execution_count": 37,
   "metadata": {},
   "outputs": [
    {
     "data": {
      "text/plain": [
       "[(1, 5)]"
      ]
     },
     "execution_count": 37,
     "metadata": {},
     "output_type": "execute_result"
    }
   ],
   "source": [
    "# Counter.most_common(n) 找出票数最多的n个元素，返回的是一个列表，\n",
    "#    列表中的每个元素是一个元组，元组中第一个元素是对应的元素是谁，第二个元素是频次\n",
    "votes.most_common(1)"
   ]
  },
  {
   "cell_type": "code",
   "execution_count": 43,
   "metadata": {},
   "outputs": [
    {
     "data": {
      "text/plain": [
       "1"
      ]
     },
     "execution_count": 43,
     "metadata": {},
     "output_type": "execute_result"
    }
   ],
   "source": [
    "# 获取预测结果\n",
    "predict_y=votes.most_common(1)[0][0]\n",
    "predict_y"
   ]
  },
  {
   "cell_type": "markdown",
   "metadata": {},
   "source": [
    "### 完整代码\n",
    "- 参考代码：https://github.com/japsonzbz/ML_Algorithms "
   ]
  },
  {
   "cell_type": "markdown",
   "metadata": {},
   "source": [
    "#### 封装kNN算法包"
   ]
  },
  {
   "cell_type": "code",
   "execution_count": 45,
   "metadata": {},
   "outputs": [],
   "source": [
    "import numpy as np\n",
    "from math import sqrt\n",
    "from collections import Counter\n",
    "\n",
    "class kNNClassifier:\n",
    "    \n",
    "    def __init__(self,k):\n",
    "        \"\"\"初始化分类器\"\"\"\n",
    "        assert k>=1,\"k must be valid\" # 设置断言\n",
    "        self.k=k\n",
    "        self._X_train=None  \n",
    "        self._y_train=None\n",
    "        \n",
    "    def fit(self,X_train,y_train):\n",
    "        assert X_train.shape[0]==y_train.shape[0],\\\n",
    "            \"the size of X_train must be equal to the size of y_train\"\n",
    "        assert self.k<=X_train.shape[0],\\\n",
    "            \"the size of X_train must be at least k\"\n",
    "        self._X_train=X_train\n",
    "        self._y_train=y_train\n",
    "        return self\n",
    "    \n",
    "    def predict(self,X_predict):\n",
    "        \"\"\"给定待预测数据集X_predict,返回表示X_predict结果的向量\"\"\"\n",
    "        assert self._X_train is not None and self._y_train is not None,\\\n",
    "            \"must fit before predict!\"\n",
    "        assert X_predict.shape[1]==self._X_train.shape[1],\\\n",
    "            \"the feature number of X_predict must be equal to X_train\"\n",
    "        y_predict=[self._predict(x) for x in X_predict]\n",
    "        return np.array(y_predict)\n",
    "    \n",
    "    def _predict(self,x):\n",
    "        distances=[sqrt(np.sum((x_train-x)**2)) for x_train in self._X_train]\n",
    "        nearest=np.argsort(distances)\n",
    "        topK_y=[self._y_train[i] for i in nearest]\n",
    "        votes=Counter(topK_y)\n",
    "        return votes.most_common(1)[0][0]\n",
    "    \n",
    "    def __repr__(self):\n",
    "        return \"kNN(k=%d)\" % self.k"
   ]
  },
  {
   "cell_type": "markdown",
   "metadata": {},
   "source": [
    "#### 使用算法预测"
   ]
  },
  {
   "cell_type": "code",
   "execution_count": 54,
   "metadata": {},
   "outputs": [
    {
     "data": {
      "text/plain": [
       "array([1])"
      ]
     },
     "execution_count": 54,
     "metadata": {},
     "output_type": "execute_result"
    }
   ],
   "source": [
    "%run myML_Algorithm/kNN.py\n",
    "\n",
    "knn_clf=kNNClassifier(k=6)\n",
    "knn_clf.fit(X_train,y_train)\n",
    "X_predict=np.array(x).reshape(1,-1)\n",
    "y_predict=knn_clf.predict(X_predict)\n",
    "y_predict"
   ]
  },
  {
   "cell_type": "markdown",
   "metadata": {},
   "source": [
    "## sklearn实现kNN\n",
    " - sklearn实现过程先实例一个算法对象->创建模型(用fit方法从训练集数据中学习样本行为并形成模型)->预测(使用predict方法对测试样本预测)->得到结果"
   ]
  },
  {
   "cell_type": "code",
   "execution_count": 10,
   "metadata": {},
   "outputs": [],
   "source": [
    "from sklearn.neighbors import KNeighborsClassifier"
   ]
  },
  {
   "cell_type": "markdown",
   "metadata": {},
   "source": [
    "### 实例算法对象"
   ]
  },
  {
   "cell_type": "code",
   "execution_count": null,
   "metadata": {},
   "outputs": [],
   "source": [
    "# 创建kNN_classifier实例\n",
    "kNN_classifier=KNeighborsClassifier(n_neighbors=6)"
   ]
  },
  {
   "cell_type": "markdown",
   "metadata": {},
   "source": [
    "### 创建模型"
   ]
  },
  {
   "cell_type": "code",
   "execution_count": 11,
   "metadata": {},
   "outputs": [
    {
     "data": {
      "text/plain": [
       "KNeighborsClassifier(algorithm='auto', leaf_size=30, metric='minkowski',\n",
       "           metric_params=None, n_jobs=None, n_neighbors=6, p=2,\n",
       "           weights='uniform')"
      ]
     },
     "execution_count": 11,
     "metadata": {},
     "output_type": "execute_result"
    }
   ],
   "source": [
    "# kNN_classifier做一遍fit(拟合)的过程，没有返回值，模型就存储在kNN_classifier实例中\n",
    "kNN_classifier.fit(X_train,y_train)"
   ]
  },
  {
   "cell_type": "markdown",
   "metadata": {},
   "source": [
    "### 预测并输出结果"
   ]
  },
  {
   "cell_type": "code",
   "execution_count": 15,
   "metadata": {},
   "outputs": [
    {
     "data": {
      "text/plain": [
       "array([1])"
      ]
     },
     "execution_count": 15,
     "metadata": {},
     "output_type": "execute_result"
    }
   ],
   "source": [
    "# kNN进行预测predict，需要传入一个矩阵，而不能是一个数组。\n",
    "#reshape()成一个二维数组，第一个参数是1表示只有一个数据，\n",
    "#  第二个参数-1，numpy自动决定第二维度有多少\n",
    "\n",
    "y_predict=kNN_classifier.predict(np.array(x).reshape(1,-1))\n",
    "y_predict"
   ]
  },
  {
   "cell_type": "markdown",
   "metadata": {},
   "source": [
    "## KNeighborsClassifier 解读"
   ]
  },
  {
   "cell_type": "markdown",
   "metadata": {},
   "source": [
    "### 参数解读\n",
    "- n_neighbors: int, 可选参数(默认为 5)。用于kneighbors查询的默认邻居的数量\n",
    "- weights（权重）: str or callable(自定义类型), 可选参数(默认为 ‘uniform’)。样本存在许多异常值时，需要使用这个参数消除噪音影响。用于预测的权重参数，可选参数如下：\n",
    "        uniform : 统一的权重. 在每一个邻居区域里的点的权重都是一样的。\n",
    "        distance : 权重点等于他们距离的倒数。使用此函数，更近的邻居对于所预测的点的影响更大。\n",
    "        [callable] : 一个用户自定义的方法，此方法接收一个距离的数组，然后返回一个相同形状并且包含权重的数组。\n",
    "- algorithm（算法）: {‘auto’, ‘ball_tree’, ‘kd_tree’, ‘brute’}, 可选参数（默认为 'auto'）。计算最近邻居用的算法：\n",
    "        ball_tree 使用算法BallTree\n",
    "        kd_tree 使用算法KDTree\n",
    "        brute 使用暴力搜索\n",
    "        auto 会基于传入fit方法的内容，选择最合适的算法。注意 : 如果传入fit方法的输入是稀疏的，将会重载参数设置，直接使用暴力搜索。\n",
    "- leaf_size（叶子数量）: int, 可选参数(默认为 30)。传入BallTree或者KDTree算法的叶子数量。此参数会影响构建、查询BallTree或者KDTree的速度，以及存储BallTree或者KDTree所需要的内存大小。此可选参数根据是否是问题所需选择性使用。\n",
    "- p: integer, 可选参数(默认为 2)。用于Minkowski metric（闵可夫斯基空间）的超参数。p = 1, 相当于使用曼哈顿距离，p = 2, 相当于使用欧几里得距离]，对于任何 p ，使用的是闵可夫斯基空间。\n",
    "- metric（矩阵）: string or callable, 默认为 ‘minkowski’。用于树的距离矩阵。默认为闵可夫斯基空间，如果和p=2一块使用相当于使用标准欧几里得矩阵. 所有可用的矩阵列表请查询 DistanceMetric 的文档。\n",
    "- metric_params（矩阵参数）: dict, 可选参数(默认为 None)。给矩阵方法使用的其他的关键词参数。\n",
    "- n_jobs: int, 可选参数(默认为 1)。用于搜索邻居的，可并行运行的任务数量。如果为-1, 任务数量设置为CPU核的数量。不会影响fit"
   ]
  },
  {
   "cell_type": "markdown",
   "metadata": {},
   "source": [
    "### 方法使用说明\n",
    "- fit(X, y)：使用X作为训练数据，y作为目标值（类似于标签）来拟合模型。\n",
    "- get_params([deep])：获取估值器的参数。\n",
    "- neighbors([X, n_neighbors, return_distance])：查找一个或几个点的K个邻居。\n",
    "- kneighbors_graph([X, n_neighbors, mode])：计算在X数组中每个点的k邻居的（权重）图。\n",
    "- predict(X)：给提供的数据预测对应的标签。\n",
    "- predict_proba(X)：返回测试数据X的概率估值。\n",
    "- score(X, y[, sample_weight])：返回给定测试数据和标签的平均准确值。\n",
    "- set_params(**params)：设置估值器的参数。"
   ]
  },
  {
   "cell_type": "markdown",
   "metadata": {},
   "source": [
    "# 问题"
   ]
  },
  {
   "attachments": {
    "%E5%9B%BE%E7%89%87.png": {
     "image/png": "[encoded data removed]"
    }
   },
   "cell_type": "markdown",
   "metadata": {},
   "source": [
    "![%E5%9B%BE%E7%89%87.png](attachment:%E5%9B%BE%E7%89%87.png)"
   ]
  }
 ],
 "metadata": {
  "kernelspec": {
   "display_name": "Python 3",
   "language": "python",
   "name": "python3"
  },
  "language_info": {
   "codemirror_mode": {
    "name": "ipython",
    "version": 3
   },
   "file_extension": ".py",
   "mimetype": "text/x-python",
   "name": "python",
   "nbconvert_exporter": "python",
   "pygments_lexer": "ipython3",
   "version": "3.7.3"
  },
  "toc": {
   "base_numbering": 1,
   "nav_menu": {},
   "number_sections": true,
   "sideBar": true,
   "skip_h1_title": false,
   "title_cell": "Table of Contents",
   "title_sidebar": "Contents",
   "toc_cell": false,
   "toc_position": {},
   "toc_section_display": true,
   "toc_window_display": true
  }
 },
 "nbformat": 4,
 "nbformat_minor": 2
}
