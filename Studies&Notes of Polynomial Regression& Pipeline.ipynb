{
 "cells": [
  {
   "cell_type": "markdown",
   "metadata": {},
   "source": [
    "# Polynomial Regression\n",
    "多项式回归是线性回归模型的一种，其回归函数关于回归系数是线性的。其中自变量x和因变量y之间的关系被建模为n次多项式。"
   ]
  },
  {
   "cell_type": "code",
   "execution_count": 1,
   "metadata": {},
   "outputs": [
    {
     "data": {
      "text/plain": [
       "(5, 2)"
      ]
     },
     "execution_count": 1,
     "metadata": {},
     "output_type": "execute_result"
    }
   ],
   "source": [
    "import numpy as np\n",
    "\n",
    "X = np.arange(1, 11).reshape(5, 2)\n",
    "# 先生成5行2列 10个元素的矩阵\n",
    "X.shape"
   ]
  },
  {
   "cell_type": "code",
   "execution_count": 2,
   "metadata": {},
   "outputs": [
    {
     "data": {
      "text/plain": [
       "array([[ 1,  2],\n",
       "       [ 3,  4],\n",
       "       [ 5,  6],\n",
       "       [ 7,  8],\n",
       "       [ 9, 10]])"
      ]
     },
     "execution_count": 2,
     "metadata": {},
     "output_type": "execute_result"
    }
   ],
   "source": [
    "X"
   ]
  },
  {
   "cell_type": "code",
   "execution_count": 5,
   "metadata": {},
   "outputs": [
    {
     "data": {
      "text/plain": [
       "array([[  1.,   1.,   2.,   1.,   2.,   4.],\n",
       "       [  1.,   3.,   4.,   9.,  12.,  16.],\n",
       "       [  1.,   5.,   6.,  25.,  30.,  36.],\n",
       "       [  1.,   7.,   8.,  49.,  56.,  64.],\n",
       "       [  1.,   9.,  10.,  81.,  90., 100.]])"
      ]
     },
     "execution_count": 5,
     "metadata": {},
     "output_type": "execute_result"
    }
   ],
   "source": [
    "from sklearn.preprocessing import PolynomialFeatures\n",
    "# 升维是数据处理范畴，所以调用的库在preprocessing中\n",
    "\n",
    "poly=PolynomialFeatures()   #degree 参数是设置维度，默认2\n",
    "poly.fit(X)\n",
    "\n",
    "# 将X转换成最多包含X二次幂的数据集\n",
    "X2=poly.transform(X)\n",
    "X2"
   ]
  },
  {
   "cell_type": "markdown",
   "metadata": {},
   "source": [
    "第一列很显然是0次项系数；第二列和第三列就是原本的X矩阵；第四列是第二列（原X的第一列）平方的结果；第五列是第二、三两列相乘的结果；第六列是第三列（原X的第二列）平方的结果。"
   ]
  },
  {
   "cell_type": "code",
   "execution_count": 6,
   "metadata": {},
   "outputs": [
    {
     "data": {
      "text/plain": [
       "array([[   1.,    1.,    2.,    1.,    2.,    4.,    1.,    2.,    4.,\n",
       "           8.],\n",
       "       [   1.,    3.,    4.,    9.,   12.,   16.,   27.,   36.,   48.,\n",
       "          64.],\n",
       "       [   1.,    5.,    6.,   25.,   30.,   36.,  125.,  150.,  180.,\n",
       "         216.],\n",
       "       [   1.,    7.,    8.,   49.,   56.,   64.,  343.,  392.,  448.,\n",
       "         512.],\n",
       "       [   1.,    9.,   10.,   81.,   90.,  100.,  729.,  810.,  900.,\n",
       "        1000.]])"
      ]
     },
     "execution_count": 6,
     "metadata": {},
     "output_type": "execute_result"
    }
   ],
   "source": [
    "# 看下3维\n",
    "\n",
    "poly=PolynomialFeatures(degree=3)   #degree 参数是设置维度，默认2\n",
    "poly.fit(X)\n",
    "\n",
    "# 将X转换成最多包含X二次幂的数据集\n",
    "X3=poly.transform(X)\n",
    "X3"
   ]
  },
  {
   "cell_type": "code",
   "execution_count": 7,
   "metadata": {},
   "outputs": [
    {
     "data": {
      "text/plain": [
       "array([[1.000e+00, 1.000e+00, 2.000e+00, 1.000e+00, 2.000e+00, 4.000e+00,\n",
       "        1.000e+00, 2.000e+00, 4.000e+00, 8.000e+00, 1.000e+00, 2.000e+00,\n",
       "        4.000e+00, 8.000e+00, 1.600e+01],\n",
       "       [1.000e+00, 3.000e+00, 4.000e+00, 9.000e+00, 1.200e+01, 1.600e+01,\n",
       "        2.700e+01, 3.600e+01, 4.800e+01, 6.400e+01, 8.100e+01, 1.080e+02,\n",
       "        1.440e+02, 1.920e+02, 2.560e+02],\n",
       "       [1.000e+00, 5.000e+00, 6.000e+00, 2.500e+01, 3.000e+01, 3.600e+01,\n",
       "        1.250e+02, 1.500e+02, 1.800e+02, 2.160e+02, 6.250e+02, 7.500e+02,\n",
       "        9.000e+02, 1.080e+03, 1.296e+03],\n",
       "       [1.000e+00, 7.000e+00, 8.000e+00, 4.900e+01, 5.600e+01, 6.400e+01,\n",
       "        3.430e+02, 3.920e+02, 4.480e+02, 5.120e+02, 2.401e+03, 2.744e+03,\n",
       "        3.136e+03, 3.584e+03, 4.096e+03],\n",
       "       [1.000e+00, 9.000e+00, 1.000e+01, 8.100e+01, 9.000e+01, 1.000e+02,\n",
       "        7.290e+02, 8.100e+02, 9.000e+02, 1.000e+03, 6.561e+03, 7.290e+03,\n",
       "        8.100e+03, 9.000e+03, 1.000e+04]])"
      ]
     },
     "execution_count": 7,
     "metadata": {},
     "output_type": "execute_result"
    }
   ],
   "source": [
    "# 看下4维\n",
    "\n",
    "poly=PolynomialFeatures(degree=4)   #degree 参数是设置维度，默认2\n",
    "poly.fit(X)\n",
    "\n",
    "# 将X转换成最多包含X二次幂的数据集\n",
    "X4=poly.transform(X)\n",
    "X4"
   ]
  },
  {
   "cell_type": "markdown",
   "metadata": {},
   "source": [
    "升维不是一种最优的方法，也是有局限性，维度太高，数据复杂度增大，会导致模型过拟合。适当的升维是可以的。"
   ]
  },
  {
   "cell_type": "markdown",
   "metadata": {},
   "source": [
    "# Pipeline\n",
    "\n",
    "在使用sklearn建模时，我们可以考虑把简单的数据处理、特征处理、建模做成流水线的形式。此时用到Pipeline功能"
   ]
  },
  {
   "cell_type": "markdown",
   "metadata": {},
   "source": [
    "首先我们回顾多项式回归的过程：\n",
    "\n",
    "    将原始数据通过PolynomialFeatures生成相应的多项式特征\n",
    "    多项式数据可能还要进行特征归一化处理\n",
    "    将数据送给线性回归\n",
    "\n",
    "Pipeline就是将这些步骤都放在一起。参数传入一个列表，列表中的每个元素是管道中的一个步骤。每个元素是一个元组，元组的第一个元素是名字（字符串），第二个元素是实例化。"
   ]
  },
  {
   "cell_type": "code",
   "execution_count": 12,
   "metadata": {},
   "outputs": [
    {
     "data": {
      "image/png": "[encoded data removed]",
      "text/plain": [
       "<Figure size 432x288 with 1 Axes>"
      ]
     },
     "metadata": {
      "needs_background": "light"
     },
     "output_type": "display_data"
    }
   ],
   "source": [
    "import numpy as np\n",
    "import matplotlib.pyplot as plt\n",
    "\n",
    "x = np.random.uniform(-3, 3, size=100)\n",
    "X = x.reshape(-1, 1)\n",
    "y = 0.5 + x**2 + x + 2 + np.random.normal(0, 1, size=100)\n",
    "plt.scatter(x, y)\n",
    "plt.show()"
   ]
  },
  {
   "cell_type": "code",
   "execution_count": 10,
   "metadata": {},
   "outputs": [],
   "source": [
    "from sklearn.pipeline import Pipeline\n",
    "from sklearn.preprocessing import PolynomialFeatures\n",
    "from sklearn.linear_model import LinearRegression\n",
    "from sklearn.preprocessing import StandardScaler\n",
    "\n",
    "poly_reg =Pipeline([('poly',PolynomialFeatures(degree=2)),\n",
    "                   ('scalar',StandardScaler()),\n",
    "                   ('lr_reg',LinearRegression())]\n",
    ")"
   ]
  },
  {
   "cell_type": "code",
   "execution_count": 13,
   "metadata": {},
   "outputs": [],
   "source": [
    "poly_reg.fit(X,y)\n",
    "y_predict = poly_reg.predict(X)"
   ]
  },
  {
   "cell_type": "code",
   "execution_count": 14,
   "metadata": {},
   "outputs": [
    {
     "data": {
      "image/png": "[encoded data removed]",
      "text/plain": [
       "<Figure size 432x288 with 1 Axes>"
      ]
     },
     "metadata": {
      "needs_background": "light"
     },
     "output_type": "display_data"
    }
   ],
   "source": [
    "plt.scatter(x, y)\n",
    "plt.plot(np.sort(x), y_predict[np.argsort(x)], color='r')\n",
    "plt.show()"
   ]
  }
 ],
 "metadata": {
  "kernelspec": {
   "display_name": "Python 3",
   "language": "python",
   "name": "python3"
  },
  "language_info": {
   "codemirror_mode": {
    "name": "ipython",
    "version": 3
   },
   "file_extension": ".py",
   "mimetype": "text/x-python",
   "name": "python",
   "nbconvert_exporter": "python",
   "pygments_lexer": "ipython3",
   "version": "3.7.3"
  },
  "toc": {
   "base_numbering": 1,
   "nav_menu": {},
   "number_sections": true,
   "sideBar": true,
   "skip_h1_title": false,
   "title_cell": "Table of Contents",
   "title_sidebar": "Contents",
   "toc_cell": false,
   "toc_position": {},
   "toc_section_display": true,
   "toc_window_display": false
  }
 },
 "nbformat": 4,
 "nbformat_minor": 2
}
