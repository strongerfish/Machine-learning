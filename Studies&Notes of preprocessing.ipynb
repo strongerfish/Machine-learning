{
 "cells": [
  {
   "cell_type": "markdown",
   "metadata": {},
   "source": [
    "参考文章：\n",
    "- 1、归一化&KD树：https://mp.weixin.qq.com/s/RkenakI_DSXoMLwNNvUAAw\n",
    "- 2、数据清洗：https://mp.weixin.qq.com/s/b2EaZmGT61Gg40qCCxvi1w\n",
    "- 3、特征工程：https://mp.weixin.qq.com/s/Do-QdylYZq1wenmLkIArQA 和 https://mp.weixin.qq.com/s/W8Ub29zEc3IvkdygYp70Lw\n",
    "- 4、归一化与标准化：https://ssjcoding.github.io/2019/03/27/normalization-and-standardization/\n",
    "- 5、sklearn的预处理： https://www.cnblogs.com/juanjiang/archive/2019/05/30/10948849.html"
   ]
  },
  {
   "cell_type": "markdown",
   "metadata": {},
   "source": [
    "# 归一化\n",
    "\n",
    "- 目的：消除量纲，因样本不同特征单位不一定相同\n",
    "- 方法：最值归一化和均值方差归一化两种常用方法\n",
    "- 用途：只要是涉及求距离的算法，都需要用到归一化。如KNN、Kmeans、支持向量机等\n",
    "- 注意：先划分数据集再做归一化，测试集数据依据训练集的处理规则处理(即使用训练集的均值和方差对测试集进行归一化)。因为测试数据是模拟的真实环境，真实环境中可能无法得到均值和方差，对数据进行归一化。"
   ]
  },
  {
   "cell_type": "markdown",
   "metadata": {},
   "source": [
    "## 最值归一化(normalization 又称Min-Max Scaling)\n",
    "- 把所有数据映射到0-1之间\n",
    "- 特征的分布具有明显边界的(分数0～100分、灰度0～255)，受外部因素影响比较大\n",
    "- x\\' = (x-x_min)/(x_max-x_min)"
   ]
  },
  {
   "cell_type": "markdown",
   "metadata": {},
   "source": [
    "### 代码实现"
   ]
  },
  {
   "cell_type": "code",
   "execution_count": 1,
   "metadata": {},
   "outputs": [],
   "source": [
    "import numpy as np\n",
    "import matplotlib.pyplot as plt\n",
    "\n",
    "# 创建100个随机数\n",
    "x=np.random.randint(0,100,size=100)\n",
    "\n",
    "# 最值归一化（向量）\n",
    "# 最值归一化公式，映射到0，1之间\n",
    "x_n1=(x-np.min(x))/(np.max(x)-np.min(x))\n",
    "\n",
    "# 最值归一化（矩阵）\n",
    "# 创建0～100范围内的50*2的矩阵\n",
    "X=np.random.randint(0,100,(50,2))\n",
    "\n",
    "# 最值归一化公式，对于每一个维度（列方向）进行归一化\n",
    "X_n1=np.empty(X.shape)\n",
    "for i in range(0,X.shape[1]):\n",
    "    X_n1[:,i]=(X[:,i]-np.min(X[:,i]))/(np.max(X[:,i])-np.min(X[:,i]))\n"
   ]
  },
  {
   "cell_type": "code",
   "execution_count": 11,
   "metadata": {},
   "outputs": [
    {
     "data": {
      "image/png": "[encoded data removed]",
      "text/plain": [
       "<Figure size 432x288 with 1 Axes>"
      ]
     },
     "metadata": {
      "needs_background": "light"
     },
     "output_type": "display_data"
    }
   ],
   "source": [
    "# 简单绘制样本，看横纵坐标\n",
    "plt.scatter(X_n1[:,0],X_n1[:,1])\n",
    "plt.show()"
   ]
  },
  {
   "cell_type": "markdown",
   "metadata": {},
   "source": [
    "## 均值方差归一化(standardization)\n",
    "-  把所有数据归一到均值为0方差为1的分布中\n",
    "- 适用于数据中没有明显的边界，有可能存在极端数据值的情况\n",
    "- x\\'=(x-μ)/S"
   ]
  },
  {
   "cell_type": "markdown",
   "metadata": {},
   "source": [
    "### 代码实现"
   ]
  },
  {
   "cell_type": "code",
   "execution_count": 12,
   "metadata": {},
   "outputs": [],
   "source": [
    "# 均值方差归一化公式，对于每一个维度（列方向）进行归一化\n",
    "X_s1=np.empty(X.shape)\n",
    "for i in range(0,X.shape[1]):\n",
    "    X_s1[:,i]=(X[:,i]-np.mean(X[:,i]))/np.std(X[:,i])"
   ]
  },
  {
   "cell_type": "code",
   "execution_count": 14,
   "metadata": {},
   "outputs": [
    {
     "data": {
      "image/png": "[encoded data removed]",
      "text/plain": [
       "<Figure size 432x288 with 1 Axes>"
      ]
     },
     "metadata": {
      "needs_background": "light"
     },
     "output_type": "display_data"
    }
   ],
   "source": [
    "# 简单绘制样本，看横纵坐标\n",
    "plt.scatter(X_s1[:,0],X_s1[:,1])\n",
    "plt.show()"
   ]
  },
  {
   "cell_type": "markdown",
   "metadata": {},
   "source": [
    "## 完整代码\n",
    "- 保存至preprocessing.py 文件"
   ]
  },
  {
   "cell_type": "code",
   "execution_count": 30,
   "metadata": {},
   "outputs": [],
   "source": [
    "import numpy as np\n",
    "\n",
    "class StandardScaler:\n",
    "    \n",
    "    def __init__(self):\n",
    "        self.mean_=None\n",
    "        self.scale_=None\n",
    "        \n",
    "    def fit(self,X):\n",
    "        \"\"\"根据数据集X获得数据的均值和方差\"\"\"\n",
    "        assert X.ndim>=2,\"The dimension of X must be greater than or equal to 2\"\n",
    "        \n",
    "        #  求出每个列的均值和方差\n",
    "        self.mean_=np.mean(np.array([X[:,i] for i in range(X.shape[1])]),axis=1)\n",
    "        self.scale_=np.std(np.array([X[:,i] for i in range(X.shape[1])]),axis=1)\n",
    "        \n",
    "        return self\n",
    "    \n",
    "    def transform(self,X):\n",
    "        \"\"\"将X根据StandardScaler进行均值方差归一化处理\"\"\"\n",
    "        assert  X.ndim>=2,\"The dimension of X must be greater than or equal to 2\"\n",
    "        assert self.mean_ is not None and self.scale_ is not None,\\\n",
    "            \"must fit before transform\"\n",
    "        assert X.shape[1]==len(self.mean_),\\\n",
    "            \"the feature number of X must be equal to mean_ and std_\"\n",
    "        \n",
    "        # 创建一个浮点型矩阵，大小和X相同\n",
    "        resX=np.empty(shape=X.shape)\n",
    "        \n",
    "        # 对于每一列（维度）都计算\n",
    "        for col in range(X.shape[1]):\n",
    "            resX[:,col]=(X[:,i]-np.mean_[col])/np.std_[col]\n",
    "            \n",
    "        return resX\n",
    "    \n",
    "class MinMaxScaler:\n",
    "    \n",
    "    def __init__(self):\n",
    "        self.maxnum_=None\n",
    "        self.minnum_=None\n",
    "        \n",
    "    def fit(self,X):\n",
    "        \"\"\"根据数据集X获得数据的均值和方差\"\"\"\n",
    "        assert X.ndim>=2,\"The dimension of X must be greater than or equal to 2\"\n",
    "        \n",
    "        #  求出每个列的最大值和最小值\n",
    "        self.maxnum_=np.max(np.array([X[:,i] for i in range(X.shape[1])]),axis=1)\n",
    "        self.minnum_=np.min(np.array([X[:,i] for i in range(X.shape[1])]),axis=1)\n",
    "        \n",
    "        return self\n",
    "    \n",
    "    def transform(self,X):\n",
    "        \"\"\"将X根据MinMaxScaler进行最值归一化处理\"\"\"\n",
    "        assert  X.ndim>=2,\"The dimension of X must be greater than or equal to 2\"\n",
    "        assert self.maxnum_ is not None and self.minnum_ is not None,\\\n",
    "            \"must fit before transform\"\n",
    "        assert X.shape[1]==len(self.maxnum_),\\\n",
    "            \"the feature number of X must be equal to maxnum_ and minnum_\"\n",
    "        \n",
    "        # 创建一个浮点型矩阵，大小和X相同\n",
    "        resX=np.empty(shape=X.shape)\n",
    "        \n",
    "        # 对于每一列（维度）都计算\n",
    "        for col in range(X.shape[1]):\n",
    "            resX[:,col]=(X[:,i]-np.minnum_[col])/(np.maxnum_[col]-self.minnum_[col])\n",
    "            \n",
    "        return resX\n"
   ]
  },
  {
   "cell_type": "markdown",
   "metadata": {},
   "source": [
    "## sklearn 实现归一化"
   ]
  },
  {
   "cell_type": "code",
   "execution_count": 2,
   "metadata": {},
   "outputs": [],
   "source": [
    "import numpy as np\n",
    "from sklearn import datasets\n",
    "from sklearn.model_selection import train_test_split\n",
    "\n",
    "iris = datasets.load_iris()\n",
    "X = iris.data\n",
    "y = iris.target\n",
    "X_train,X_test,y_train,y_test = train_test_split(iris.data,iris.target,test_size=0.2,random_state=555)"
   ]
  },
  {
   "cell_type": "markdown",
   "metadata": {},
   "source": [
    "### 均值方差归一化"
   ]
  },
  {
   "cell_type": "code",
   "execution_count": 49,
   "metadata": {},
   "outputs": [],
   "source": [
    "from sklearn.preprocessing import StandardScaler \n",
    "\n",
    "standardScaler =StandardScaler()\n",
    "\n",
    "# 归一化的过程跟训练模型一样\n",
    "standardScaler.fit(X_train)\n",
    "standardScaler.mean_\n",
    "standardScaler.scale_   # 表述数据分布范围的变量，替代std_\n",
    "\n",
    "# 使用transform\n",
    "X_train_standard = standardScaler.transform(X_train)\n",
    "X_test_standard = standardScaler.transform(X_test)"
   ]
  },
  {
   "cell_type": "markdown",
   "metadata": {},
   "source": [
    "### 最值归一化"
   ]
  },
  {
   "cell_type": "code",
   "execution_count": 53,
   "metadata": {},
   "outputs": [],
   "source": [
    "from sklearn.preprocessing import MinMaxScaler\n",
    "\n",
    "minmaxScaler=MinMaxScaler()\n",
    "\n",
    "minmaxScaler.fit(X_train)\n",
    "\n",
    "X_train_minmaxstandard=minmaxScaler.transform(X_train)\n",
    "X_test_minmaxstandard=minmaxScaler.transform(X_test)"
   ]
  }
 ],
 "metadata": {
  "kernelspec": {
   "display_name": "Python 3",
   "language": "python",
   "name": "python3"
  },
  "language_info": {
   "codemirror_mode": {
    "name": "ipython",
    "version": 3
   },
   "file_extension": ".py",
   "mimetype": "text/x-python",
   "name": "python",
   "nbconvert_exporter": "python",
   "pygments_lexer": "ipython3",
   "version": "3.7.3"
  },
  "toc": {
   "base_numbering": 1,
   "nav_menu": {},
   "number_sections": true,
   "sideBar": true,
   "skip_h1_title": false,
   "title_cell": "Table of Contents",
   "title_sidebar": "Contents",
   "toc_cell": false,
   "toc_position": {},
   "toc_section_display": true,
   "toc_window_display": false
  }
 },
 "nbformat": 4,
 "nbformat_minor": 2
}
