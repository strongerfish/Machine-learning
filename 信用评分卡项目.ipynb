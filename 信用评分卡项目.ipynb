{
 "cells": [
  {
   "cell_type": "markdown",
   "metadata": {},
   "source": [
    "# 评分卡制作"
   ]
  },
  {
   "cell_type": "markdown",
   "metadata": {},
   "source": [
    "该数据是信贷数据,来自kaggle2011年的竞赛数据:[Give Me Some Credit](https://www.kaggle.com/c/GiveMeSomeCredit/overview),评判指标是AUC\n",
    "\n",
    "- SeriousDlqin2yrs:出现90天或更长时间的逾期行为(即定义好坏客户)\n",
    "- RevolvingUtilizationOfUnsecuredLines:贷款以及信用卡可用额度与总额度比例\n",
    "- age:借款人借款年龄\n",
    "- NumberOfTime30-59DaysPastDueNotWorse:过去两年内出现35-59天逾期但是没有发展的更坏的次数\n",
    "- DebtRatio:每月偿还债务,赡养费,生活费用除以月总收入\n",
    "- MonthlyIncome:月收入\n",
    "- NumberOfOpenCreditLinesAndLoans:开放式贷款和信贷数量\n",
    "- NumberOfTimes90DaysLate:借款者有90天或更高逾期的次数\n",
    "- NumberRealEstateLoansOrLines:抵押贷款和房地产贷款数量,包括房屋净值信贷额度\n",
    "- NumberOfTime60-89DaysPastDueNotWorse:过去两年内出现60-89天逾期但是没有发展的更坏的次数\n",
    "- NumberOfDependents:家庭中不包括自身的家属人数(配偶,子女等)"
   ]
  },
  {
   "cell_type": "markdown",
   "metadata": {},
   "source": [
    "加载所需包"
   ]
  },
  {
   "cell_type": "code",
   "execution_count": 1,
   "metadata": {},
   "outputs": [],
   "source": [
    "%matplotlib inline\n",
    "#图示魔法函数\n",
    "import matplotlib.pyplot as plt\n",
    "import numpy as np\n",
    "import pandas as pd\n",
    "import os\n",
    "from collections import Counter                         #计数器，返回的结果是字典\n",
    "#collections:高性能容量数据类型库\n",
    "from sklearn.model_selection import train_test_split\n",
    "import scipy.stats as stats                             \n",
    "#scipy.stats:统计分析包,包含各种分布\n",
    "import seaborn as sns\n",
    "import statsmodels.api as sm                            #标准回归模型库\n",
    "from statsmodels.stats.outliers_influence import variance_inflation_factor\n",
    "# statsmodels:用于拟合多种统计模型，执行统计测试以及数据探索和可视化\n",
    "# variance_inflation_factor:方差膨胀系数(VIF)计算方法"
   ]
  },
  {
   "cell_type": "code",
   "execution_count": 2,
   "metadata": {},
   "outputs": [],
   "source": [
    "import warnings\n",
    "warnings.filterwarnings(action='once')  \n",
    "# 相同警告只出现一次\n",
    "\n",
    "# warnings.filterwarnings(action='ignore')  #忽略所有警告信息"
   ]
  },
  {
   "cell_type": "code",
   "execution_count": 3,
   "metadata": {},
   "outputs": [],
   "source": [
    "#先定位文件存储位置\n",
    "os.chdir(r'E:\\Data analysis\\CDA\\learning\\0、python自己练习\\6、机器学习')"
   ]
  },
  {
   "cell_type": "markdown",
   "metadata": {},
   "source": [
    "## 读数据,数据描述"
   ]
  },
  {
   "cell_type": "code",
   "execution_count": 4,
   "metadata": {},
   "outputs": [],
   "source": [
    "train_data=pd.read_csv('data/CreditScore_data/cs-training.csv',index_col=0)\n",
    "# index_col指明y的索引是第几列"
   ]
  },
  {
   "cell_type": "code",
   "execution_count": 5,
   "metadata": {},
   "outputs": [
    {
     "data": {
      "text/html": [
       "<div>\n",
       "<style scoped>\n",
       "    .dataframe tbody tr th:only-of-type {\n",
       "        vertical-align: middle;\n",
       "    }\n",
       "\n",
       "    .dataframe tbody tr th {\n",
       "        vertical-align: top;\n",
       "    }\n",
       "\n",
       "    .dataframe thead th {\n",
       "        text-align: right;\n",
       "    }\n",
       "</style>\n",
       "<table border=\"1\" class=\"dataframe\">\n",
       "  <thead>\n",
       "    <tr style=\"text-align: right;\">\n",
       "      <th></th>\n",
       "      <th>SeriousDlqin2yrs</th>\n",
       "      <th>RevolvingUtilizationOfUnsecuredLines</th>\n",
       "      <th>age</th>\n",
       "      <th>NumberOfTime30-59DaysPastDueNotWorse</th>\n",
       "      <th>DebtRatio</th>\n",
       "      <th>MonthlyIncome</th>\n",
       "      <th>NumberOfOpenCreditLinesAndLoans</th>\n",
       "      <th>NumberOfTimes90DaysLate</th>\n",
       "      <th>NumberRealEstateLoansOrLines</th>\n",
       "      <th>NumberOfTime60-89DaysPastDueNotWorse</th>\n",
       "      <th>NumberOfDependents</th>\n",
       "    </tr>\n",
       "  </thead>\n",
       "  <tbody>\n",
       "    <tr>\n",
       "      <th>1</th>\n",
       "      <td>1</td>\n",
       "      <td>0.766127</td>\n",
       "      <td>45</td>\n",
       "      <td>2</td>\n",
       "      <td>0.802982</td>\n",
       "      <td>9120.0</td>\n",
       "      <td>13</td>\n",
       "      <td>0</td>\n",
       "      <td>6</td>\n",
       "      <td>0</td>\n",
       "      <td>2.0</td>\n",
       "    </tr>\n",
       "    <tr>\n",
       "      <th>2</th>\n",
       "      <td>0</td>\n",
       "      <td>0.957151</td>\n",
       "      <td>40</td>\n",
       "      <td>0</td>\n",
       "      <td>0.121876</td>\n",
       "      <td>2600.0</td>\n",
       "      <td>4</td>\n",
       "      <td>0</td>\n",
       "      <td>0</td>\n",
       "      <td>0</td>\n",
       "      <td>1.0</td>\n",
       "    </tr>\n",
       "    <tr>\n",
       "      <th>3</th>\n",
       "      <td>0</td>\n",
       "      <td>0.658180</td>\n",
       "      <td>38</td>\n",
       "      <td>1</td>\n",
       "      <td>0.085113</td>\n",
       "      <td>3042.0</td>\n",
       "      <td>2</td>\n",
       "      <td>1</td>\n",
       "      <td>0</td>\n",
       "      <td>0</td>\n",
       "      <td>0.0</td>\n",
       "    </tr>\n",
       "    <tr>\n",
       "      <th>4</th>\n",
       "      <td>0</td>\n",
       "      <td>0.233810</td>\n",
       "      <td>30</td>\n",
       "      <td>0</td>\n",
       "      <td>0.036050</td>\n",
       "      <td>3300.0</td>\n",
       "      <td>5</td>\n",
       "      <td>0</td>\n",
       "      <td>0</td>\n",
       "      <td>0</td>\n",
       "      <td>0.0</td>\n",
       "    </tr>\n",
       "    <tr>\n",
       "      <th>5</th>\n",
       "      <td>0</td>\n",
       "      <td>0.907239</td>\n",
       "      <td>49</td>\n",
       "      <td>1</td>\n",
       "      <td>0.024926</td>\n",
       "      <td>63588.0</td>\n",
       "      <td>7</td>\n",
       "      <td>0</td>\n",
       "      <td>1</td>\n",
       "      <td>0</td>\n",
       "      <td>0.0</td>\n",
       "    </tr>\n",
       "  </tbody>\n",
       "</table>\n",
       "</div>"
      ],
      "text/plain": [
       "   SeriousDlqin2yrs  RevolvingUtilizationOfUnsecuredLines  age  \\\n",
       "1                 1                              0.766127   45   \n",
       "2                 0                              0.957151   40   \n",
       "3                 0                              0.658180   38   \n",
       "4                 0                              0.233810   30   \n",
       "5                 0                              0.907239   49   \n",
       "\n",
       "   NumberOfTime30-59DaysPastDueNotWorse  DebtRatio  MonthlyIncome  \\\n",
       "1                                     2   0.802982         9120.0   \n",
       "2                                     0   0.121876         2600.0   \n",
       "3                                     1   0.085113         3042.0   \n",
       "4                                     0   0.036050         3300.0   \n",
       "5                                     1   0.024926        63588.0   \n",
       "\n",
       "   NumberOfOpenCreditLinesAndLoans  NumberOfTimes90DaysLate  \\\n",
       "1                               13                        0   \n",
       "2                                4                        0   \n",
       "3                                2                        1   \n",
       "4                                5                        0   \n",
       "5                                7                        0   \n",
       "\n",
       "   NumberRealEstateLoansOrLines  NumberOfTime60-89DaysPastDueNotWorse  \\\n",
       "1                             6                                     0   \n",
       "2                             0                                     0   \n",
       "3                             0                                     0   \n",
       "4                             0                                     0   \n",
       "5                             1                                     0   \n",
       "\n",
       "   NumberOfDependents  \n",
       "1                 2.0  \n",
       "2                 1.0  \n",
       "3                 0.0  \n",
       "4                 0.0  \n",
       "5                 0.0  "
      ]
     },
     "execution_count": 5,
     "metadata": {},
     "output_type": "execute_result"
    }
   ],
   "source": [
    "train_data.head()"
   ]
  },
  {
   "cell_type": "code",
   "execution_count": 269,
   "metadata": {},
   "outputs": [
    {
     "name": "stdout",
     "output_type": "stream",
     "text": [
      "(150000, 11)\n"
     ]
    },
    {
     "data": {
      "text/html": [
       "<div>\n",
       "<style scoped>\n",
       "    .dataframe tbody tr th:only-of-type {\n",
       "        vertical-align: middle;\n",
       "    }\n",
       "\n",
       "    .dataframe tbody tr th {\n",
       "        vertical-align: top;\n",
       "    }\n",
       "\n",
       "    .dataframe thead th {\n",
       "        text-align: right;\n",
       "    }\n",
       "</style>\n",
       "<table border=\"1\" class=\"dataframe\">\n",
       "  <thead>\n",
       "    <tr style=\"text-align: right;\">\n",
       "      <th></th>\n",
       "      <th>count</th>\n",
       "      <th>mean</th>\n",
       "      <th>std</th>\n",
       "      <th>min</th>\n",
       "      <th>50%</th>\n",
       "      <th>max</th>\n",
       "    </tr>\n",
       "  </thead>\n",
       "  <tbody>\n",
       "    <tr>\n",
       "      <th>SeriousDlqin2yrs</th>\n",
       "      <td>150000.0</td>\n",
       "      <td>0.07</td>\n",
       "      <td>0.25</td>\n",
       "      <td>0.0</td>\n",
       "      <td>0.00</td>\n",
       "      <td>1.0</td>\n",
       "    </tr>\n",
       "    <tr>\n",
       "      <th>RevolvingUtilizationOfUnsecuredLines</th>\n",
       "      <td>150000.0</td>\n",
       "      <td>6.05</td>\n",
       "      <td>249.76</td>\n",
       "      <td>0.0</td>\n",
       "      <td>0.15</td>\n",
       "      <td>50708.0</td>\n",
       "    </tr>\n",
       "    <tr>\n",
       "      <th>age</th>\n",
       "      <td>150000.0</td>\n",
       "      <td>52.30</td>\n",
       "      <td>14.77</td>\n",
       "      <td>0.0</td>\n",
       "      <td>52.00</td>\n",
       "      <td>109.0</td>\n",
       "    </tr>\n",
       "    <tr>\n",
       "      <th>NumberOfTime30-59DaysPastDueNotWorse</th>\n",
       "      <td>150000.0</td>\n",
       "      <td>0.42</td>\n",
       "      <td>4.19</td>\n",
       "      <td>0.0</td>\n",
       "      <td>0.00</td>\n",
       "      <td>98.0</td>\n",
       "    </tr>\n",
       "    <tr>\n",
       "      <th>DebtRatio</th>\n",
       "      <td>150000.0</td>\n",
       "      <td>353.01</td>\n",
       "      <td>2037.82</td>\n",
       "      <td>0.0</td>\n",
       "      <td>0.37</td>\n",
       "      <td>329664.0</td>\n",
       "    </tr>\n",
       "    <tr>\n",
       "      <th>MonthlyIncome</th>\n",
       "      <td>120269.0</td>\n",
       "      <td>6670.22</td>\n",
       "      <td>14384.67</td>\n",
       "      <td>0.0</td>\n",
       "      <td>5400.00</td>\n",
       "      <td>3008750.0</td>\n",
       "    </tr>\n",
       "    <tr>\n",
       "      <th>NumberOfOpenCreditLinesAndLoans</th>\n",
       "      <td>150000.0</td>\n",
       "      <td>8.45</td>\n",
       "      <td>5.15</td>\n",
       "      <td>0.0</td>\n",
       "      <td>8.00</td>\n",
       "      <td>58.0</td>\n",
       "    </tr>\n",
       "    <tr>\n",
       "      <th>NumberOfTimes90DaysLate</th>\n",
       "      <td>150000.0</td>\n",
       "      <td>0.27</td>\n",
       "      <td>4.17</td>\n",
       "      <td>0.0</td>\n",
       "      <td>0.00</td>\n",
       "      <td>98.0</td>\n",
       "    </tr>\n",
       "    <tr>\n",
       "      <th>NumberRealEstateLoansOrLines</th>\n",
       "      <td>150000.0</td>\n",
       "      <td>1.02</td>\n",
       "      <td>1.13</td>\n",
       "      <td>0.0</td>\n",
       "      <td>1.00</td>\n",
       "      <td>54.0</td>\n",
       "    </tr>\n",
       "    <tr>\n",
       "      <th>NumberOfTime60-89DaysPastDueNotWorse</th>\n",
       "      <td>150000.0</td>\n",
       "      <td>0.24</td>\n",
       "      <td>4.16</td>\n",
       "      <td>0.0</td>\n",
       "      <td>0.00</td>\n",
       "      <td>98.0</td>\n",
       "    </tr>\n",
       "    <tr>\n",
       "      <th>NumberOfDependents</th>\n",
       "      <td>146076.0</td>\n",
       "      <td>0.76</td>\n",
       "      <td>1.12</td>\n",
       "      <td>0.0</td>\n",
       "      <td>0.00</td>\n",
       "      <td>20.0</td>\n",
       "    </tr>\n",
       "  </tbody>\n",
       "</table>\n",
       "</div>"
      ],
      "text/plain": [
       "                                         count     mean       std  min  \\\n",
       "SeriousDlqin2yrs                      150000.0     0.07      0.25  0.0   \n",
       "RevolvingUtilizationOfUnsecuredLines  150000.0     6.05    249.76  0.0   \n",
       "age                                   150000.0    52.30     14.77  0.0   \n",
       "NumberOfTime30-59DaysPastDueNotWorse  150000.0     0.42      4.19  0.0   \n",
       "DebtRatio                             150000.0   353.01   2037.82  0.0   \n",
       "MonthlyIncome                         120269.0  6670.22  14384.67  0.0   \n",
       "NumberOfOpenCreditLinesAndLoans       150000.0     8.45      5.15  0.0   \n",
       "NumberOfTimes90DaysLate               150000.0     0.27      4.17  0.0   \n",
       "NumberRealEstateLoansOrLines          150000.0     1.02      1.13  0.0   \n",
       "NumberOfTime60-89DaysPastDueNotWorse  150000.0     0.24      4.16  0.0   \n",
       "NumberOfDependents                    146076.0     0.76      1.12  0.0   \n",
       "\n",
       "                                          50%        max  \n",
       "SeriousDlqin2yrs                         0.00        1.0  \n",
       "RevolvingUtilizationOfUnsecuredLines     0.15    50708.0  \n",
       "age                                     52.00      109.0  \n",
       "NumberOfTime30-59DaysPastDueNotWorse     0.00       98.0  \n",
       "DebtRatio                                0.37   329664.0  \n",
       "MonthlyIncome                         5400.00  3008750.0  \n",
       "NumberOfOpenCreditLinesAndLoans          8.00       58.0  \n",
       "NumberOfTimes90DaysLate                  0.00       98.0  \n",
       "NumberRealEstateLoansOrLines             1.00       54.0  \n",
       "NumberOfTime60-89DaysPastDueNotWorse     0.00       98.0  \n",
       "NumberOfDependents                       0.00       20.0  "
      ]
     },
     "execution_count": 269,
     "metadata": {},
     "output_type": "execute_result"
    }
   ],
   "source": [
    "print(train_data.shape)\n",
    "train_data.describe(include='all',percentiles=[0.5]).T.round(2)"
   ]
  },
  {
   "cell_type": "markdown",
   "metadata": {},
   "source": [
    "修改列名:由于一些算法中,列名中的某些符号会带来问题甚至报错,例如这里的\"-\",会在回归公式中被认为是减号,所以换成\"_\""
   ]
  },
  {
   "cell_type": "code",
   "execution_count": 7,
   "metadata": {},
   "outputs": [],
   "source": [
    "train_data.columns=train_data.columns.map(lambda x:x.replace('-','_'))"
   ]
  },
  {
   "cell_type": "markdown",
   "metadata": {},
   "source": [
    "查看各列缺失值占比"
   ]
  },
  {
   "cell_type": "code",
   "execution_count": 272,
   "metadata": {
    "scrolled": true
   },
   "outputs": [
    {
     "data": {
      "text/plain": [
       "SeriousDlqin2yrs                        0.000000\n",
       "RevolvingUtilizationOfUnsecuredLines    0.000000\n",
       "age                                     0.000000\n",
       "NumberOfTime30_59DaysPastDueNotWorse    0.000000\n",
       "DebtRatio                               0.000000\n",
       "MonthlyIncome                           0.198207\n",
       "NumberOfOpenCreditLinesAndLoans         0.000000\n",
       "NumberOfTimes90DaysLate                 0.000000\n",
       "NumberRealEstateLoansOrLines            0.000000\n",
       "NumberOfTime60_89DaysPastDueNotWorse    0.000000\n",
       "NumberOfDependents                      0.026160\n",
       "dtype: float64"
      ]
     },
     "execution_count": 272,
     "metadata": {},
     "output_type": "execute_result"
    }
   ],
   "source": [
    "train_data.isnull().mean()"
   ]
  },
  {
   "cell_type": "markdown",
   "metadata": {},
   "source": [
    "### 去重\n",
    "- 对于一般模型影响不大,容易导致回归系数标准误降低,使得对应p值减小"
   ]
  },
  {
   "cell_type": "code",
   "execution_count": 8,
   "metadata": {},
   "outputs": [
    {
     "data": {
      "text/plain": [
       "(149391, 11)"
      ]
     },
     "execution_count": 8,
     "metadata": {},
     "output_type": "execute_result"
    }
   ],
   "source": [
    "train_data.drop_duplicates(inplace=True)\n",
    "train_data.shape"
   ]
  },
  {
   "cell_type": "markdown",
   "metadata": {},
   "source": [
    "- 可见数据中存在重复行"
   ]
  },
  {
   "cell_type": "markdown",
   "metadata": {},
   "source": [
    "## 缺失值处理"
   ]
  },
  {
   "cell_type": "markdown",
   "metadata": {},
   "source": [
    "缺失值处理方法的选择,主要依据是业务逻辑和缺失值占比,在对预测结果的影响尽可能小的情况下,对缺失值进行处理以满足算法需求,所以要理解每个缺失值处理方法带来的影响,下面的缺失值处理方法没有特殊说明均是对特征(列)的处理:\n",
    "\n",
    "1. 占比较多:如80%以上:删除缺失值所在的列\n",
    "    - 如果某些行缺失值占比较多,或者缺失值所在字段是苛刻的必须有值的,删除行\n",
    "2. 占比一般:如30%-80%:将缺失值作为单独的一个分类\n",
    "    - 如果特征是连续的,则其他已有值分箱\n",
    "    - 如果特征是分类的,考虑其他分类是否需要重分箱\n",
    "3. 占比少:10%-30%:多重插补:认为若干特征之间有相关性,则可以相互预测缺失值\n",
    "    - 需满足的假设:MAR:Missing At Random:数据缺失的概率仅和已观测的数据相关,即缺失的概率与未知的数据无关,即与变量的具体数值无关\n",
    "    - 迭代(循环)次数可能的话超过40,选择所有的变量甚至额外的辅助变量\n",
    "    - 详细的计算过程参考:[Multiple Imputation by Chained Equations: What is it and how does it work?](https://www.ncbi.nlm.nih.gov/pmc/articles/PMC3074241/)\n",
    "4. 占比较少:10%以下:单一值替换,如中位数,众数\n",
    "5. 在决策树中可以将缺失值处理融合到算法里:按比重分配\n",
    "\n",
    "这里的占比并不是固定的,例如缺失值占比只有5%,仍可以用第二种方法,主要依据业务逻辑和算法需求"
   ]
  },
  {
   "cell_type": "markdown",
   "metadata": {},
   "source": [
    "### 查看缺失值分布情况"
   ]
  },
  {
   "cell_type": "code",
   "execution_count": 384,
   "metadata": {},
   "outputs": [],
   "source": [
    "import missingno as msno\n",
    "# 处理缺失值的包,需要安装"
   ]
  },
  {
   "cell_type": "code",
   "execution_count": 277,
   "metadata": {
    "scrolled": true
   },
   "outputs": [
    {
     "data": {
      "text/plain": [
       "<matplotlib.axes._subplots.AxesSubplot at 0x16288804da0>"
      ]
     },
     "execution_count": 277,
     "metadata": {},
     "output_type": "execute_result"
    },
    {
     "data": {
      "image/png": "[encoded data removed]",
      "text/plain": [
       "<Figure size 1800x720 with 2 Axes>"
      ]
     },
     "metadata": {
      "needs_background": "light"
     },
     "output_type": "display_data"
    }
   ],
   "source": [
    "msno.matrix(train_data)\n",
    "plt.show()\n",
    "#展示列是否存在缺失值图形"
   ]
  },
  {
   "cell_type": "code",
   "execution_count": 282,
   "metadata": {},
   "outputs": [
    {
     "data": {
      "image/png": "[encoded data removed]",
      "text/plain": [
       "<Figure size 432x288 with 1 Axes>"
      ]
     },
     "metadata": {
      "needs_background": "light"
     },
     "output_type": "display_data"
    }
   ],
   "source": [
    "plt.imshow(~train_data.isnull(),aspect='auto')\n",
    "plt.gray()  #无背景色"
   ]
  },
  {
   "cell_type": "markdown",
   "metadata": {},
   "source": [
    "本数据的缺失值处理逻辑:\n",
    "\n",
    "- 对于信用评分卡来说,由于所有变量都需要分箱,故这里缺失值作为单独的箱子即可\n",
    "- 对于最后一列NumberOfDependents,缺失值占比只有2.56%,作为单独的箱子信息不够,故做单一值填补,这列表示家庭人口数,有右偏的倾向,且属于计数的数据,故使用中位数填补"
   ]
  },
  {
   "cell_type": "markdown",
   "metadata": {},
   "source": [
    "### 单一值替换\n",
    "- 将最后一列NumberOfDependents的缺失值替换成中位数"
   ]
  },
  {
   "cell_type": "code",
   "execution_count": 9,
   "metadata": {},
   "outputs": [],
   "source": [
    "#方法一：\n",
    "NOD_median=train_data['NumberOfDependents'].median()\n",
    "train_data['NumberOfDependents'].fillna(NOD_median,inplace=True)\n",
    "# fillna填补缺失值的函数,这里用中位数填补"
   ]
  },
  {
   "cell_type": "code",
   "execution_count": 294,
   "metadata": {},
   "outputs": [],
   "source": [
    "#方法二：\n",
    "from sklearn.impute import SimpleImputer\n",
    "si=SimpleImputer(missing_values=np.nan,strategy='median')\n",
    "si=si.fit(train_data['NumberOfDependents'])\n",
    "train_data['NumberOfDependents']=si.transform(train_data['NumberOfDependents'])"
   ]
  },
  {
   "cell_type": "markdown",
   "metadata": {},
   "source": [
    "## 异常值处理"
   ]
  },
  {
   "cell_type": "markdown",
   "metadata": {},
   "source": [
    "异常值常见的处理方法:\n",
    "\n",
    "1. 删除所在的行\n",
    "2. 替换成缺失值,与缺失值一起处理\n",
    "3. 盖帽法处理\n",
    "\n",
    "结合业务逻辑和算法需求判断是否需要处理异常值以及如何处理,一般情况下盖帽法即可,即将极端异常的值改成不那么异常的极值,当然一些算法例如决策树中连续变量的异常值也可以不做处理"
   ]
  },
  {
   "cell_type": "markdown",
   "metadata": {},
   "source": [
    "### 定义盖帽法函数"
   ]
  },
  {
   "cell_type": "code",
   "execution_count": 10,
   "metadata": {},
   "outputs": [],
   "source": [
    "def block(x,lower=True,upper=True):\n",
    "# x是输入的Series对象,lower表示是否替换1%分位数,upper表示是否替换99%分位数\n",
    "    ql=x.quantile(0.01)\n",
    "    qu=x.quantile(0.99)\n",
    "    if lower:\n",
    "        out=x.mask(x<ql,ql)\n",
    "    if upper:\n",
    "        out=x.mask(x>qu,qu)\n",
    "    return out"
   ]
  },
  {
   "cell_type": "markdown",
   "metadata": {},
   "source": [
    "- 互换y中的0,1"
   ]
  },
  {
   "cell_type": "code",
   "execution_count": 11,
   "metadata": {},
   "outputs": [],
   "source": [
    "train_data[\"SeriousDlqin2yrs\"]=-(train_data.SeriousDlqin2yrs-1)"
   ]
  },
  {
   "cell_type": "markdown",
   "metadata": {},
   "source": [
    "## 汇总清洗过程,生成函数"
   ]
  },
  {
   "cell_type": "code",
   "execution_count": 12,
   "metadata": {},
   "outputs": [],
   "source": [
    "def datacleaning(testdata,include_y=False):\n",
    "    testdata.columns=testdata.columns.map(lambda x:x.replace('-','_'))\n",
    "    testdata['NumberOfDependents'].fillna(NOD_median,inplace=True)      #新数据的缺失值需要用训练集的填充方式处理\n",
    "    if include_y:\n",
    "        testdata[\"SeriousDlqin2yrs\"]=-(testdata.SeriousDlqin2yrs-1)  #sklearn的pipeline或独热编码方式处理\n",
    "    return testdata"
   ]
  },
  {
   "cell_type": "markdown",
   "metadata": {},
   "source": [
    "## 对每个x生成分箱对象"
   ]
  },
  {
   "cell_type": "markdown",
   "metadata": {},
   "source": [
    "对每个x生成一个对象;记录IV值;生成WOE图"
   ]
  },
  {
   "cell_type": "markdown",
   "metadata": {},
   "source": [
    "- 运行自定义函数所在的文件"
   ]
  },
  {
   "cell_type": "code",
   "execution_count": 13,
   "metadata": {},
   "outputs": [],
   "source": [
    "%run custom_function/smob.py\n",
    "# 导入自定义函数文件smob.py，其中有生成树算法、自动WOE分箱方法"
   ]
  },
  {
   "cell_type": "markdown",
   "metadata": {},
   "source": [
    "- 定义y的名字\n",
    "- 初始化IV值对象"
   ]
  },
  {
   "cell_type": "code",
   "execution_count": 14,
   "metadata": {},
   "outputs": [],
   "source": [
    "y='SeriousDlqin2yrs'\n",
    "iv_all=pd.Series()"
   ]
  },
  {
   "cell_type": "markdown",
   "metadata": {},
   "source": [
    "### RevolvingUtilizationOfUnsecuredLines"
   ]
  },
  {
   "cell_type": "code",
   "execution_count": 15,
   "metadata": {},
   "outputs": [
    {
     "name": "stderr",
     "output_type": "stream",
     "text": [
      "D:\\tool\\anaconda\\lib\\importlib\\_bootstrap.py:219: RuntimeWarning: numpy.ufunc size changed, may indicate binary incompatibility. Expected 192 from C header, got 216 from PyObject\n",
      "  return f(*args, **kwds)\n"
     ]
    },
    {
     "data": {
      "image/png": "[encoded data removed]",
      "text/plain": [
       "<Figure size 1152x720 with 1 Axes>"
      ]
     },
     "metadata": {
      "needs_background": "light"
     },
     "output_type": "display_data"
    }
   ],
   "source": [
    "RUO=smbin(train_data,y,'RevolvingUtilizationOfUnsecuredLines')"
   ]
  },
  {
   "cell_type": "markdown",
   "metadata": {},
   "source": [
    "- 查看IVtable"
   ]
  },
  {
   "cell_type": "code",
   "execution_count": 393,
   "metadata": {},
   "outputs": [
    {
     "data": {
      "text/html": [
       "<div>\n",
       "<style scoped>\n",
       "    .dataframe tbody tr th:only-of-type {\n",
       "        vertical-align: middle;\n",
       "    }\n",
       "\n",
       "    .dataframe tbody tr th {\n",
       "        vertical-align: top;\n",
       "    }\n",
       "\n",
       "    .dataframe thead th {\n",
       "        text-align: right;\n",
       "    }\n",
       "</style>\n",
       "<table border=\"1\" class=\"dataframe\">\n",
       "  <thead>\n",
       "    <tr style=\"text-align: right;\">\n",
       "      <th></th>\n",
       "      <th>Bins</th>\n",
       "      <th>CntRec</th>\n",
       "      <th>CntGood</th>\n",
       "      <th>CntBad</th>\n",
       "      <th>PctRec</th>\n",
       "      <th>PctGood</th>\n",
       "      <th>PctBad</th>\n",
       "      <th>WOE</th>\n",
       "      <th>IV</th>\n",
       "    </tr>\n",
       "  </thead>\n",
       "  <tbody>\n",
       "    <tr>\n",
       "      <th>0</th>\n",
       "      <td>(-0.001, 0.132]</td>\n",
       "      <td>70734</td>\n",
       "      <td>69424</td>\n",
       "      <td>1310</td>\n",
       "      <td>0.473482</td>\n",
       "      <td>0.498084</td>\n",
       "      <td>0.130882</td>\n",
       "      <td>1.3365</td>\n",
       "      <td>0.4908</td>\n",
       "    </tr>\n",
       "    <tr>\n",
       "      <th>1</th>\n",
       "      <td>(0.132, 0.301]</td>\n",
       "      <td>21938</td>\n",
       "      <td>21185</td>\n",
       "      <td>753</td>\n",
       "      <td>0.146850</td>\n",
       "      <td>0.151992</td>\n",
       "      <td>0.075232</td>\n",
       "      <td>0.7032</td>\n",
       "      <td>0.0540</td>\n",
       "    </tr>\n",
       "    <tr>\n",
       "      <th>2</th>\n",
       "      <td>(0.301, 0.495]</td>\n",
       "      <td>15380</td>\n",
       "      <td>14486</td>\n",
       "      <td>894</td>\n",
       "      <td>0.102951</td>\n",
       "      <td>0.103930</td>\n",
       "      <td>0.089320</td>\n",
       "      <td>0.1515</td>\n",
       "      <td>0.0022</td>\n",
       "    </tr>\n",
       "    <tr>\n",
       "      <th>3</th>\n",
       "      <td>(0.495, 0.698]</td>\n",
       "      <td>11599</td>\n",
       "      <td>10499</td>\n",
       "      <td>1100</td>\n",
       "      <td>0.077642</td>\n",
       "      <td>0.075325</td>\n",
       "      <td>0.109901</td>\n",
       "      <td>-0.3778</td>\n",
       "      <td>0.0131</td>\n",
       "    </tr>\n",
       "    <tr>\n",
       "      <th>4</th>\n",
       "      <td>(0.698, 0.863]</td>\n",
       "      <td>7985</td>\n",
       "      <td>6860</td>\n",
       "      <td>1125</td>\n",
       "      <td>0.053450</td>\n",
       "      <td>0.049217</td>\n",
       "      <td>0.112399</td>\n",
       "      <td>-0.8258</td>\n",
       "      <td>0.0522</td>\n",
       "    </tr>\n",
       "    <tr>\n",
       "      <th>5</th>\n",
       "      <td>(0.863, 1.003]</td>\n",
       "      <td>18592</td>\n",
       "      <td>14962</td>\n",
       "      <td>3630</td>\n",
       "      <td>0.124452</td>\n",
       "      <td>0.107345</td>\n",
       "      <td>0.362674</td>\n",
       "      <td>-1.2175</td>\n",
       "      <td>0.3109</td>\n",
       "    </tr>\n",
       "    <tr>\n",
       "      <th>6</th>\n",
       "      <td>(1.003, 50708.0]</td>\n",
       "      <td>3163</td>\n",
       "      <td>1966</td>\n",
       "      <td>1197</td>\n",
       "      <td>0.021173</td>\n",
       "      <td>0.014105</td>\n",
       "      <td>0.119592</td>\n",
       "      <td>-2.1376</td>\n",
       "      <td>0.2255</td>\n",
       "    </tr>\n",
       "    <tr>\n",
       "      <th>7</th>\n",
       "      <td>Total</td>\n",
       "      <td>149391</td>\n",
       "      <td>139382</td>\n",
       "      <td>10009</td>\n",
       "      <td>1.000000</td>\n",
       "      <td>1.000000</td>\n",
       "      <td>1.000000</td>\n",
       "      <td>NaN</td>\n",
       "      <td>1.1487</td>\n",
       "    </tr>\n",
       "  </tbody>\n",
       "</table>\n",
       "</div>"
      ],
      "text/plain": [
       "               Bins  CntRec  CntGood  CntBad    PctRec   PctGood    PctBad  \\\n",
       "0   (-0.001, 0.132]   70734    69424    1310  0.473482  0.498084  0.130882   \n",
       "1    (0.132, 0.301]   21938    21185     753  0.146850  0.151992  0.075232   \n",
       "2    (0.301, 0.495]   15380    14486     894  0.102951  0.103930  0.089320   \n",
       "3    (0.495, 0.698]   11599    10499    1100  0.077642  0.075325  0.109901   \n",
       "4    (0.698, 0.863]    7985     6860    1125  0.053450  0.049217  0.112399   \n",
       "5    (0.863, 1.003]   18592    14962    3630  0.124452  0.107345  0.362674   \n",
       "6  (1.003, 50708.0]    3163     1966    1197  0.021173  0.014105  0.119592   \n",
       "7             Total  149391   139382   10009  1.000000  1.000000  1.000000   \n",
       "\n",
       "      WOE      IV  \n",
       "0  1.3365  0.4908  \n",
       "1  0.7032  0.0540  \n",
       "2  0.1515  0.0022  \n",
       "3 -0.3778  0.0131  \n",
       "4 -0.8258  0.0522  \n",
       "5 -1.2175  0.3109  \n",
       "6 -2.1376  0.2255  \n",
       "7     NaN  1.1487  "
      ]
     },
     "execution_count": 393,
     "metadata": {},
     "output_type": "execute_result"
    }
   ],
   "source": [
    "RUO.IVtable"
   ]
  },
  {
   "cell_type": "markdown",
   "metadata": {},
   "source": [
    "- 查看树结构"
   ]
  },
  {
   "cell_type": "code",
   "execution_count": 394,
   "metadata": {},
   "outputs": [
    {
     "name": "stdout",
     "output_type": "stream",
     "text": [
      "The cart tree structure has 13 nodes, tree structure: \n",
      "node = 0 test node: go to node 1 if RevolvingUtilizationOfUnsecuredLines <= 0.7 else to node 2.\n",
      "\tnode = 1 test node: go to node 5 if RevolvingUtilizationOfUnsecuredLines <= 0.3 else to node 6.\n",
      "\tnode = 2 test node: go to node 3 if RevolvingUtilizationOfUnsecuredLines <= 1.0 else to node 4.\n",
      "\t\tnode = 3 test node: go to node 7 if RevolvingUtilizationOfUnsecuredLines <= 0.86 else to node 8.\n",
      "\t\tnode = 4 leaf node.\n",
      "\t\tnode = 5 test node: go to node 11 if RevolvingUtilizationOfUnsecuredLines <= 0.13 else to node 12.\n",
      "\t\tnode = 6 test node: go to node 9 if RevolvingUtilizationOfUnsecuredLines <= 0.49 else to node 10.\n",
      "\t\t\tnode = 7 leaf node.\n",
      "\t\t\tnode = 8 leaf node.\n",
      "\t\t\tnode = 9 leaf node.\n",
      "\t\t\tnode = 10 leaf node.\n",
      "\t\t\tnode = 11 leaf node.\n",
      "\t\t\tnode = 12 leaf node.\n",
      "\n"
     ]
    }
   ],
   "source": [
    "print(RUO.Tree_structure)"
   ]
  },
  {
   "cell_type": "markdown",
   "metadata": {},
   "source": [
    "- 保存IV值"
   ]
  },
  {
   "cell_type": "code",
   "execution_count": 395,
   "metadata": {},
   "outputs": [
    {
     "data": {
      "text/plain": [
       "1.1487"
      ]
     },
     "execution_count": 395,
     "metadata": {},
     "output_type": "execute_result"
    }
   ],
   "source": [
    "RUO.IV"
   ]
  },
  {
   "cell_type": "code",
   "execution_count": 16,
   "metadata": {},
   "outputs": [],
   "source": [
    "iv_all=iv_all.append(pd.Series({'RevolvingUtilizationOfUnsecuredLines':RUO.IV}))"
   ]
  },
  {
   "cell_type": "markdown",
   "metadata": {},
   "source": [
    "### age"
   ]
  },
  {
   "cell_type": "code",
   "execution_count": 17,
   "metadata": {},
   "outputs": [
    {
     "data": {
      "image/png": "[encoded data removed]",
      "text/plain": [
       "<Figure size 1152x720 with 1 Axes>"
      ]
     },
     "metadata": {
      "needs_background": "light"
     },
     "output_type": "display_data"
    }
   ],
   "source": [
    "age=smbin(train_data,y,'age')"
   ]
  },
  {
   "cell_type": "markdown",
   "metadata": {},
   "source": [
    "- 查看IVtable"
   ]
  },
  {
   "cell_type": "code",
   "execution_count": 399,
   "metadata": {},
   "outputs": [
    {
     "data": {
      "text/html": [
       "<div>\n",
       "<style scoped>\n",
       "    .dataframe tbody tr th:only-of-type {\n",
       "        vertical-align: middle;\n",
       "    }\n",
       "\n",
       "    .dataframe tbody tr th {\n",
       "        vertical-align: top;\n",
       "    }\n",
       "\n",
       "    .dataframe thead th {\n",
       "        text-align: right;\n",
       "    }\n",
       "</style>\n",
       "<table border=\"1\" class=\"dataframe\">\n",
       "  <thead>\n",
       "    <tr style=\"text-align: right;\">\n",
       "      <th></th>\n",
       "      <th>Bins</th>\n",
       "      <th>CntRec</th>\n",
       "      <th>CntGood</th>\n",
       "      <th>CntBad</th>\n",
       "      <th>PctRec</th>\n",
       "      <th>PctGood</th>\n",
       "      <th>PctBad</th>\n",
       "      <th>WOE</th>\n",
       "      <th>IV</th>\n",
       "    </tr>\n",
       "  </thead>\n",
       "  <tbody>\n",
       "    <tr>\n",
       "      <th>0</th>\n",
       "      <td>(-0.001, 36.5]</td>\n",
       "      <td>23628</td>\n",
       "      <td>21011</td>\n",
       "      <td>2617</td>\n",
       "      <td>0.158162</td>\n",
       "      <td>0.150744</td>\n",
       "      <td>0.261465</td>\n",
       "      <td>-0.5507</td>\n",
       "      <td>0.0610</td>\n",
       "    </tr>\n",
       "    <tr>\n",
       "      <th>1</th>\n",
       "      <td>(36.5, 43.5]</td>\n",
       "      <td>20609</td>\n",
       "      <td>18746</td>\n",
       "      <td>1863</td>\n",
       "      <td>0.137953</td>\n",
       "      <td>0.134494</td>\n",
       "      <td>0.186132</td>\n",
       "      <td>-0.3249</td>\n",
       "      <td>0.0168</td>\n",
       "    </tr>\n",
       "    <tr>\n",
       "      <th>2</th>\n",
       "      <td>(43.5, 55.5]</td>\n",
       "      <td>43428</td>\n",
       "      <td>40119</td>\n",
       "      <td>3309</td>\n",
       "      <td>0.290700</td>\n",
       "      <td>0.287835</td>\n",
       "      <td>0.330602</td>\n",
       "      <td>-0.1385</td>\n",
       "      <td>0.0059</td>\n",
       "    </tr>\n",
       "    <tr>\n",
       "      <th>3</th>\n",
       "      <td>(55.5, 62.5]</td>\n",
       "      <td>23972</td>\n",
       "      <td>22764</td>\n",
       "      <td>1208</td>\n",
       "      <td>0.160465</td>\n",
       "      <td>0.163321</td>\n",
       "      <td>0.120691</td>\n",
       "      <td>0.3025</td>\n",
       "      <td>0.0129</td>\n",
       "    </tr>\n",
       "    <tr>\n",
       "      <th>4</th>\n",
       "      <td>(62.5, 109.0]</td>\n",
       "      <td>37754</td>\n",
       "      <td>36742</td>\n",
       "      <td>1012</td>\n",
       "      <td>0.252719</td>\n",
       "      <td>0.263606</td>\n",
       "      <td>0.101109</td>\n",
       "      <td>0.9583</td>\n",
       "      <td>0.1557</td>\n",
       "    </tr>\n",
       "    <tr>\n",
       "      <th>5</th>\n",
       "      <td>Total</td>\n",
       "      <td>149391</td>\n",
       "      <td>139382</td>\n",
       "      <td>10009</td>\n",
       "      <td>1.000000</td>\n",
       "      <td>1.000000</td>\n",
       "      <td>1.000000</td>\n",
       "      <td>NaN</td>\n",
       "      <td>0.2523</td>\n",
       "    </tr>\n",
       "  </tbody>\n",
       "</table>\n",
       "</div>"
      ],
      "text/plain": [
       "             Bins  CntRec  CntGood  CntBad    PctRec   PctGood    PctBad  \\\n",
       "0  (-0.001, 36.5]   23628    21011    2617  0.158162  0.150744  0.261465   \n",
       "1    (36.5, 43.5]   20609    18746    1863  0.137953  0.134494  0.186132   \n",
       "2    (43.5, 55.5]   43428    40119    3309  0.290700  0.287835  0.330602   \n",
       "3    (55.5, 62.5]   23972    22764    1208  0.160465  0.163321  0.120691   \n",
       "4   (62.5, 109.0]   37754    36742    1012  0.252719  0.263606  0.101109   \n",
       "5           Total  149391   139382   10009  1.000000  1.000000  1.000000   \n",
       "\n",
       "      WOE      IV  \n",
       "0 -0.5507  0.0610  \n",
       "1 -0.3249  0.0168  \n",
       "2 -0.1385  0.0059  \n",
       "3  0.3025  0.0129  \n",
       "4  0.9583  0.1557  \n",
       "5     NaN  0.2523  "
      ]
     },
     "execution_count": 399,
     "metadata": {},
     "output_type": "execute_result"
    }
   ],
   "source": [
    "age.IVtable"
   ]
  },
  {
   "cell_type": "markdown",
   "metadata": {},
   "source": [
    "- 保存IV值"
   ]
  },
  {
   "cell_type": "code",
   "execution_count": 401,
   "metadata": {},
   "outputs": [
    {
     "data": {
      "text/plain": [
       "0.25229999999999997"
      ]
     },
     "execution_count": 401,
     "metadata": {},
     "output_type": "execute_result"
    }
   ],
   "source": [
    "age.IV"
   ]
  },
  {
   "cell_type": "code",
   "execution_count": 18,
   "metadata": {},
   "outputs": [],
   "source": [
    "iv_all=iv_all.append(pd.Series({'age':age.IV}))"
   ]
  },
  {
   "cell_type": "markdown",
   "metadata": {},
   "source": [
    "### NumberOfTime30_59DaysPastDueNotWorse"
   ]
  },
  {
   "cell_type": "code",
   "execution_count": 19,
   "metadata": {},
   "outputs": [
    {
     "data": {
      "image/png": "[encoded data removed]",
      "text/plain": [
       "<Figure size 1152x720 with 1 Axes>"
      ]
     },
     "metadata": {
      "needs_background": "light"
     },
     "output_type": "display_data"
    }
   ],
   "source": [
    "NO3059=smbin(train_data,y,'NumberOfTime30_59DaysPastDueNotWorse')"
   ]
  },
  {
   "cell_type": "code",
   "execution_count": 406,
   "metadata": {},
   "outputs": [
    {
     "data": {
      "text/html": [
       "<div>\n",
       "<style scoped>\n",
       "    .dataframe tbody tr th:only-of-type {\n",
       "        vertical-align: middle;\n",
       "    }\n",
       "\n",
       "    .dataframe tbody tr th {\n",
       "        vertical-align: top;\n",
       "    }\n",
       "\n",
       "    .dataframe thead th {\n",
       "        text-align: right;\n",
       "    }\n",
       "</style>\n",
       "<table border=\"1\" class=\"dataframe\">\n",
       "  <thead>\n",
       "    <tr style=\"text-align: right;\">\n",
       "      <th></th>\n",
       "      <th>Bins</th>\n",
       "      <th>CntRec</th>\n",
       "      <th>CntGood</th>\n",
       "      <th>CntBad</th>\n",
       "      <th>PctRec</th>\n",
       "      <th>PctGood</th>\n",
       "      <th>PctBad</th>\n",
       "      <th>WOE</th>\n",
       "      <th>IV</th>\n",
       "    </tr>\n",
       "  </thead>\n",
       "  <tbody>\n",
       "    <tr>\n",
       "      <th>0</th>\n",
       "      <td>(-0.001, 0.5]</td>\n",
       "      <td>125453</td>\n",
       "      <td>120418</td>\n",
       "      <td>5035</td>\n",
       "      <td>0.839763</td>\n",
       "      <td>0.863942</td>\n",
       "      <td>0.503047</td>\n",
       "      <td>0.5408</td>\n",
       "      <td>0.1952</td>\n",
       "    </tr>\n",
       "    <tr>\n",
       "      <th>1</th>\n",
       "      <td>(0.5, 1.5]</td>\n",
       "      <td>16033</td>\n",
       "      <td>13624</td>\n",
       "      <td>2409</td>\n",
       "      <td>0.107322</td>\n",
       "      <td>0.097746</td>\n",
       "      <td>0.240683</td>\n",
       "      <td>-0.9011</td>\n",
       "      <td>0.1288</td>\n",
       "    </tr>\n",
       "    <tr>\n",
       "      <th>2</th>\n",
       "      <td>(1.5, 2.5]</td>\n",
       "      <td>4598</td>\n",
       "      <td>3379</td>\n",
       "      <td>1219</td>\n",
       "      <td>0.030778</td>\n",
       "      <td>0.024243</td>\n",
       "      <td>0.121790</td>\n",
       "      <td>-1.6142</td>\n",
       "      <td>0.1575</td>\n",
       "    </tr>\n",
       "    <tr>\n",
       "      <th>3</th>\n",
       "      <td>(2.5, 3.5]</td>\n",
       "      <td>1754</td>\n",
       "      <td>1136</td>\n",
       "      <td>618</td>\n",
       "      <td>0.011741</td>\n",
       "      <td>0.008150</td>\n",
       "      <td>0.061744</td>\n",
       "      <td>-2.0250</td>\n",
       "      <td>0.1085</td>\n",
       "    </tr>\n",
       "    <tr>\n",
       "      <th>4</th>\n",
       "      <td>(3.5, 98.0]</td>\n",
       "      <td>1553</td>\n",
       "      <td>825</td>\n",
       "      <td>728</td>\n",
       "      <td>0.010396</td>\n",
       "      <td>0.005919</td>\n",
       "      <td>0.072735</td>\n",
       "      <td>-2.5087</td>\n",
       "      <td>0.1676</td>\n",
       "    </tr>\n",
       "    <tr>\n",
       "      <th>5</th>\n",
       "      <td>Total</td>\n",
       "      <td>149391</td>\n",
       "      <td>139382</td>\n",
       "      <td>10009</td>\n",
       "      <td>1.000000</td>\n",
       "      <td>1.000000</td>\n",
       "      <td>1.000000</td>\n",
       "      <td>NaN</td>\n",
       "      <td>0.7576</td>\n",
       "    </tr>\n",
       "  </tbody>\n",
       "</table>\n",
       "</div>"
      ],
      "text/plain": [
       "            Bins  CntRec  CntGood  CntBad    PctRec   PctGood    PctBad  \\\n",
       "0  (-0.001, 0.5]  125453   120418    5035  0.839763  0.863942  0.503047   \n",
       "1     (0.5, 1.5]   16033    13624    2409  0.107322  0.097746  0.240683   \n",
       "2     (1.5, 2.5]    4598     3379    1219  0.030778  0.024243  0.121790   \n",
       "3     (2.5, 3.5]    1754     1136     618  0.011741  0.008150  0.061744   \n",
       "4    (3.5, 98.0]    1553      825     728  0.010396  0.005919  0.072735   \n",
       "5          Total  149391   139382   10009  1.000000  1.000000  1.000000   \n",
       "\n",
       "      WOE      IV  \n",
       "0  0.5408  0.1952  \n",
       "1 -0.9011  0.1288  \n",
       "2 -1.6142  0.1575  \n",
       "3 -2.0250  0.1085  \n",
       "4 -2.5087  0.1676  \n",
       "5     NaN  0.7576  "
      ]
     },
     "execution_count": 406,
     "metadata": {},
     "output_type": "execute_result"
    }
   ],
   "source": [
    "NO3059.IVtable"
   ]
  },
  {
   "cell_type": "code",
   "execution_count": 20,
   "metadata": {},
   "outputs": [],
   "source": [
    "iv_all=iv_all.append(pd.Series({'NumberOfTime30_59DaysPastDueNotWorse':NO3059.IV}))"
   ]
  },
  {
   "cell_type": "markdown",
   "metadata": {},
   "source": [
    "### DebtRatio"
   ]
  },
  {
   "cell_type": "code",
   "execution_count": 21,
   "metadata": {},
   "outputs": [
    {
     "data": {
      "image/png": "[encoded data removed]",
      "text/plain": [
       "<Figure size 1152x720 with 1 Axes>"
      ]
     },
     "metadata": {
      "needs_background": "light"
     },
     "output_type": "display_data"
    }
   ],
   "source": [
    "DebtRatio=smbin(train_data,y,'DebtRatio',10)"
   ]
  },
  {
   "cell_type": "code",
   "execution_count": 409,
   "metadata": {},
   "outputs": [
    {
     "data": {
      "text/html": [
       "<div>\n",
       "<style scoped>\n",
       "    .dataframe tbody tr th:only-of-type {\n",
       "        vertical-align: middle;\n",
       "    }\n",
       "\n",
       "    .dataframe tbody tr th {\n",
       "        vertical-align: top;\n",
       "    }\n",
       "\n",
       "    .dataframe thead th {\n",
       "        text-align: right;\n",
       "    }\n",
       "</style>\n",
       "<table border=\"1\" class=\"dataframe\">\n",
       "  <thead>\n",
       "    <tr style=\"text-align: right;\">\n",
       "      <th></th>\n",
       "      <th>Bins</th>\n",
       "      <th>CntRec</th>\n",
       "      <th>CntGood</th>\n",
       "      <th>CntBad</th>\n",
       "      <th>PctRec</th>\n",
       "      <th>PctGood</th>\n",
       "      <th>PctBad</th>\n",
       "      <th>WOE</th>\n",
       "      <th>IV</th>\n",
       "    </tr>\n",
       "  </thead>\n",
       "  <tbody>\n",
       "    <tr>\n",
       "      <th>0</th>\n",
       "      <td>(-0.001, 1.3e-05]</td>\n",
       "      <td>3515</td>\n",
       "      <td>3191</td>\n",
       "      <td>324</td>\n",
       "      <td>0.023529</td>\n",
       "      <td>0.022894</td>\n",
       "      <td>0.032371</td>\n",
       "      <td>-0.3464</td>\n",
       "      <td>0.0033</td>\n",
       "    </tr>\n",
       "    <tr>\n",
       "      <th>1</th>\n",
       "      <td>(1.3e-05, 0.0163]</td>\n",
       "      <td>8296</td>\n",
       "      <td>8009</td>\n",
       "      <td>287</td>\n",
       "      <td>0.055532</td>\n",
       "      <td>0.057461</td>\n",
       "      <td>0.028674</td>\n",
       "      <td>0.6951</td>\n",
       "      <td>0.0200</td>\n",
       "    </tr>\n",
       "    <tr>\n",
       "      <th>2</th>\n",
       "      <td>(0.0163, 0.423]</td>\n",
       "      <td>71689</td>\n",
       "      <td>67363</td>\n",
       "      <td>4326</td>\n",
       "      <td>0.479875</td>\n",
       "      <td>0.483298</td>\n",
       "      <td>0.432211</td>\n",
       "      <td>0.1117</td>\n",
       "      <td>0.0057</td>\n",
       "    </tr>\n",
       "    <tr>\n",
       "      <th>3</th>\n",
       "      <td>(0.423, 0.654]</td>\n",
       "      <td>21179</td>\n",
       "      <td>19451</td>\n",
       "      <td>1728</td>\n",
       "      <td>0.141769</td>\n",
       "      <td>0.139552</td>\n",
       "      <td>0.172645</td>\n",
       "      <td>-0.2128</td>\n",
       "      <td>0.0070</td>\n",
       "    </tr>\n",
       "    <tr>\n",
       "      <th>4</th>\n",
       "      <td>(0.654, 3.973]</td>\n",
       "      <td>14648</td>\n",
       "      <td>12961</td>\n",
       "      <td>1687</td>\n",
       "      <td>0.098051</td>\n",
       "      <td>0.092989</td>\n",
       "      <td>0.168548</td>\n",
       "      <td>-0.5947</td>\n",
       "      <td>0.0449</td>\n",
       "    </tr>\n",
       "    <tr>\n",
       "      <th>5</th>\n",
       "      <td>(3.973, 329664.0]</td>\n",
       "      <td>30064</td>\n",
       "      <td>28407</td>\n",
       "      <td>1657</td>\n",
       "      <td>0.201244</td>\n",
       "      <td>0.203807</td>\n",
       "      <td>0.165551</td>\n",
       "      <td>0.2079</td>\n",
       "      <td>0.0080</td>\n",
       "    </tr>\n",
       "    <tr>\n",
       "      <th>6</th>\n",
       "      <td>Total</td>\n",
       "      <td>149391</td>\n",
       "      <td>139382</td>\n",
       "      <td>10009</td>\n",
       "      <td>1.000000</td>\n",
       "      <td>1.000000</td>\n",
       "      <td>1.000000</td>\n",
       "      <td>NaN</td>\n",
       "      <td>0.0889</td>\n",
       "    </tr>\n",
       "  </tbody>\n",
       "</table>\n",
       "</div>"
      ],
      "text/plain": [
       "                Bins  CntRec  CntGood  CntBad    PctRec   PctGood    PctBad  \\\n",
       "0  (-0.001, 1.3e-05]    3515     3191     324  0.023529  0.022894  0.032371   \n",
       "1  (1.3e-05, 0.0163]    8296     8009     287  0.055532  0.057461  0.028674   \n",
       "2    (0.0163, 0.423]   71689    67363    4326  0.479875  0.483298  0.432211   \n",
       "3     (0.423, 0.654]   21179    19451    1728  0.141769  0.139552  0.172645   \n",
       "4     (0.654, 3.973]   14648    12961    1687  0.098051  0.092989  0.168548   \n",
       "5  (3.973, 329664.0]   30064    28407    1657  0.201244  0.203807  0.165551   \n",
       "6              Total  149391   139382   10009  1.000000  1.000000  1.000000   \n",
       "\n",
       "      WOE      IV  \n",
       "0 -0.3464  0.0033  \n",
       "1  0.6951  0.0200  \n",
       "2  0.1117  0.0057  \n",
       "3 -0.2128  0.0070  \n",
       "4 -0.5947  0.0449  \n",
       "5  0.2079  0.0080  \n",
       "6     NaN  0.0889  "
      ]
     },
     "execution_count": 409,
     "metadata": {},
     "output_type": "execute_result"
    }
   ],
   "source": [
    "DebtRatio.IVtable"
   ]
  },
  {
   "cell_type": "code",
   "execution_count": 22,
   "metadata": {},
   "outputs": [],
   "source": [
    "iv_all=iv_all.append(pd.Series({'DebtRatio':DebtRatio.IV}))"
   ]
  },
  {
   "cell_type": "markdown",
   "metadata": {},
   "source": [
    "### MonthlyIncome"
   ]
  },
  {
   "cell_type": "code",
   "execution_count": 23,
   "metadata": {},
   "outputs": [
    {
     "data": {
      "image/png": "[encoded data removed]",
      "text/plain": [
       "<Figure size 1152x720 with 1 Axes>"
      ]
     },
     "metadata": {
      "needs_background": "light"
     },
     "output_type": "display_data"
    }
   ],
   "source": [
    "MonthlyIncome=smbin(train_data,y,'MonthlyIncome')"
   ]
  },
  {
   "cell_type": "code",
   "execution_count": 413,
   "metadata": {},
   "outputs": [
    {
     "data": {
      "text/html": [
       "<div>\n",
       "<style scoped>\n",
       "    .dataframe tbody tr th:only-of-type {\n",
       "        vertical-align: middle;\n",
       "    }\n",
       "\n",
       "    .dataframe tbody tr th {\n",
       "        vertical-align: top;\n",
       "    }\n",
       "\n",
       "    .dataframe thead th {\n",
       "        text-align: right;\n",
       "    }\n",
       "</style>\n",
       "<table border=\"1\" class=\"dataframe\">\n",
       "  <thead>\n",
       "    <tr style=\"text-align: right;\">\n",
       "      <th></th>\n",
       "      <th>Bins</th>\n",
       "      <th>CntRec</th>\n",
       "      <th>CntGood</th>\n",
       "      <th>CntBad</th>\n",
       "      <th>PctRec</th>\n",
       "      <th>PctGood</th>\n",
       "      <th>PctBad</th>\n",
       "      <th>WOE</th>\n",
       "      <th>IV</th>\n",
       "    </tr>\n",
       "  </thead>\n",
       "  <tbody>\n",
       "    <tr>\n",
       "      <th>0</th>\n",
       "      <td>(-0.001, 930.5]</td>\n",
       "      <td>4229</td>\n",
       "      <td>4028</td>\n",
       "      <td>201</td>\n",
       "      <td>0.028308</td>\n",
       "      <td>0.028899</td>\n",
       "      <td>0.020082</td>\n",
       "      <td>0.3640</td>\n",
       "      <td>0.0032</td>\n",
       "    </tr>\n",
       "    <tr>\n",
       "      <th>1</th>\n",
       "      <td>(930.5, 3332.5]</td>\n",
       "      <td>24574</td>\n",
       "      <td>22105</td>\n",
       "      <td>2469</td>\n",
       "      <td>0.164495</td>\n",
       "      <td>0.158593</td>\n",
       "      <td>0.246678</td>\n",
       "      <td>-0.4417</td>\n",
       "      <td>0.0389</td>\n",
       "    </tr>\n",
       "    <tr>\n",
       "      <th>2</th>\n",
       "      <td>(3332.5, 5320.5]</td>\n",
       "      <td>30421</td>\n",
       "      <td>27994</td>\n",
       "      <td>2427</td>\n",
       "      <td>0.203633</td>\n",
       "      <td>0.200844</td>\n",
       "      <td>0.242482</td>\n",
       "      <td>-0.1884</td>\n",
       "      <td>0.0078</td>\n",
       "    </tr>\n",
       "    <tr>\n",
       "      <th>3</th>\n",
       "      <td>(5320.5, 6643.5]</td>\n",
       "      <td>16128</td>\n",
       "      <td>15050</td>\n",
       "      <td>1078</td>\n",
       "      <td>0.107958</td>\n",
       "      <td>0.107977</td>\n",
       "      <td>0.107703</td>\n",
       "      <td>0.0025</td>\n",
       "      <td>0.0000</td>\n",
       "    </tr>\n",
       "    <tr>\n",
       "      <th>4</th>\n",
       "      <td>(6643.5, 3008750.0]</td>\n",
       "      <td>44818</td>\n",
       "      <td>42638</td>\n",
       "      <td>2180</td>\n",
       "      <td>0.300005</td>\n",
       "      <td>0.305908</td>\n",
       "      <td>0.217804</td>\n",
       "      <td>0.3397</td>\n",
       "      <td>0.0299</td>\n",
       "    </tr>\n",
       "    <tr>\n",
       "      <th>5</th>\n",
       "      <td>nan</td>\n",
       "      <td>29221</td>\n",
       "      <td>27567</td>\n",
       "      <td>1654</td>\n",
       "      <td>0.195601</td>\n",
       "      <td>0.197780</td>\n",
       "      <td>0.165251</td>\n",
       "      <td>0.1797</td>\n",
       "      <td>0.0058</td>\n",
       "    </tr>\n",
       "    <tr>\n",
       "      <th>6</th>\n",
       "      <td>Total</td>\n",
       "      <td>149391</td>\n",
       "      <td>139382</td>\n",
       "      <td>10009</td>\n",
       "      <td>1.000000</td>\n",
       "      <td>1.000000</td>\n",
       "      <td>1.000000</td>\n",
       "      <td>NaN</td>\n",
       "      <td>0.0856</td>\n",
       "    </tr>\n",
       "  </tbody>\n",
       "</table>\n",
       "</div>"
      ],
      "text/plain": [
       "                  Bins  CntRec  CntGood  CntBad    PctRec   PctGood    PctBad  \\\n",
       "0      (-0.001, 930.5]    4229     4028     201  0.028308  0.028899  0.020082   \n",
       "1      (930.5, 3332.5]   24574    22105    2469  0.164495  0.158593  0.246678   \n",
       "2     (3332.5, 5320.5]   30421    27994    2427  0.203633  0.200844  0.242482   \n",
       "3     (5320.5, 6643.5]   16128    15050    1078  0.107958  0.107977  0.107703   \n",
       "4  (6643.5, 3008750.0]   44818    42638    2180  0.300005  0.305908  0.217804   \n",
       "5                  nan   29221    27567    1654  0.195601  0.197780  0.165251   \n",
       "6                Total  149391   139382   10009  1.000000  1.000000  1.000000   \n",
       "\n",
       "      WOE      IV  \n",
       "0  0.3640  0.0032  \n",
       "1 -0.4417  0.0389  \n",
       "2 -0.1884  0.0078  \n",
       "3  0.0025  0.0000  \n",
       "4  0.3397  0.0299  \n",
       "5  0.1797  0.0058  \n",
       "6     NaN  0.0856  "
      ]
     },
     "execution_count": 413,
     "metadata": {},
     "output_type": "execute_result"
    }
   ],
   "source": [
    "MonthlyIncome.IVtable"
   ]
  },
  {
   "cell_type": "code",
   "execution_count": 24,
   "metadata": {},
   "outputs": [],
   "source": [
    "iv_all=iv_all.append(pd.Series({'MonthlyIncome':MonthlyIncome.IV}))"
   ]
  },
  {
   "cell_type": "markdown",
   "metadata": {},
   "source": [
    "### NumberOfOpenCreditLinesAndLoans"
   ]
  },
  {
   "cell_type": "code",
   "execution_count": 25,
   "metadata": {},
   "outputs": [
    {
     "data": {
      "image/png": "[encoded data removed]",
      "text/plain": [
       "<Figure size 1152x720 with 1 Axes>"
      ]
     },
     "metadata": {
      "needs_background": "light"
     },
     "output_type": "display_data"
    }
   ],
   "source": [
    "NOO=smbin(train_data,y,'NumberOfOpenCreditLinesAndLoans')  "
   ]
  },
  {
   "cell_type": "code",
   "execution_count": 416,
   "metadata": {},
   "outputs": [
    {
     "data": {
      "text/html": [
       "<div>\n",
       "<style scoped>\n",
       "    .dataframe tbody tr th:only-of-type {\n",
       "        vertical-align: middle;\n",
       "    }\n",
       "\n",
       "    .dataframe tbody tr th {\n",
       "        vertical-align: top;\n",
       "    }\n",
       "\n",
       "    .dataframe thead th {\n",
       "        text-align: right;\n",
       "    }\n",
       "</style>\n",
       "<table border=\"1\" class=\"dataframe\">\n",
       "  <thead>\n",
       "    <tr style=\"text-align: right;\">\n",
       "      <th></th>\n",
       "      <th>Bins</th>\n",
       "      <th>CntRec</th>\n",
       "      <th>CntGood</th>\n",
       "      <th>CntBad</th>\n",
       "      <th>PctRec</th>\n",
       "      <th>PctGood</th>\n",
       "      <th>PctBad</th>\n",
       "      <th>WOE</th>\n",
       "      <th>IV</th>\n",
       "    </tr>\n",
       "  </thead>\n",
       "  <tbody>\n",
       "    <tr>\n",
       "      <th>0</th>\n",
       "      <td>(-0.001, 0.5]</td>\n",
       "      <td>1712</td>\n",
       "      <td>1244</td>\n",
       "      <td>468</td>\n",
       "      <td>0.011460</td>\n",
       "      <td>0.008925</td>\n",
       "      <td>0.046758</td>\n",
       "      <td>-1.6561</td>\n",
       "      <td>0.0627</td>\n",
       "    </tr>\n",
       "    <tr>\n",
       "      <th>1</th>\n",
       "      <td>(0.5, 1.5]</td>\n",
       "      <td>4251</td>\n",
       "      <td>3667</td>\n",
       "      <td>584</td>\n",
       "      <td>0.028456</td>\n",
       "      <td>0.026309</td>\n",
       "      <td>0.058347</td>\n",
       "      <td>-0.7965</td>\n",
       "      <td>0.0255</td>\n",
       "    </tr>\n",
       "    <tr>\n",
       "      <th>2</th>\n",
       "      <td>(1.5, 3.5]</td>\n",
       "      <td>15550</td>\n",
       "      <td>14259</td>\n",
       "      <td>1291</td>\n",
       "      <td>0.104089</td>\n",
       "      <td>0.102302</td>\n",
       "      <td>0.128984</td>\n",
       "      <td>-0.2318</td>\n",
       "      <td>0.0062</td>\n",
       "    </tr>\n",
       "    <tr>\n",
       "      <th>3</th>\n",
       "      <td>(3.5, 13.5]</td>\n",
       "      <td>105861</td>\n",
       "      <td>99732</td>\n",
       "      <td>6129</td>\n",
       "      <td>0.708617</td>\n",
       "      <td>0.715530</td>\n",
       "      <td>0.612349</td>\n",
       "      <td>0.1557</td>\n",
       "      <td>0.0161</td>\n",
       "    </tr>\n",
       "    <tr>\n",
       "      <th>4</th>\n",
       "      <td>(13.5, 58.0]</td>\n",
       "      <td>22017</td>\n",
       "      <td>20480</td>\n",
       "      <td>1537</td>\n",
       "      <td>0.147378</td>\n",
       "      <td>0.146934</td>\n",
       "      <td>0.153562</td>\n",
       "      <td>-0.0441</td>\n",
       "      <td>0.0003</td>\n",
       "    </tr>\n",
       "    <tr>\n",
       "      <th>5</th>\n",
       "      <td>Total</td>\n",
       "      <td>149391</td>\n",
       "      <td>139382</td>\n",
       "      <td>10009</td>\n",
       "      <td>1.000000</td>\n",
       "      <td>1.000000</td>\n",
       "      <td>1.000000</td>\n",
       "      <td>NaN</td>\n",
       "      <td>0.1108</td>\n",
       "    </tr>\n",
       "  </tbody>\n",
       "</table>\n",
       "</div>"
      ],
      "text/plain": [
       "            Bins  CntRec  CntGood  CntBad    PctRec   PctGood    PctBad  \\\n",
       "0  (-0.001, 0.5]    1712     1244     468  0.011460  0.008925  0.046758   \n",
       "1     (0.5, 1.5]    4251     3667     584  0.028456  0.026309  0.058347   \n",
       "2     (1.5, 3.5]   15550    14259    1291  0.104089  0.102302  0.128984   \n",
       "3    (3.5, 13.5]  105861    99732    6129  0.708617  0.715530  0.612349   \n",
       "4   (13.5, 58.0]   22017    20480    1537  0.147378  0.146934  0.153562   \n",
       "5          Total  149391   139382   10009  1.000000  1.000000  1.000000   \n",
       "\n",
       "      WOE      IV  \n",
       "0 -1.6561  0.0627  \n",
       "1 -0.7965  0.0255  \n",
       "2 -0.2318  0.0062  \n",
       "3  0.1557  0.0161  \n",
       "4 -0.0441  0.0003  \n",
       "5     NaN  0.1108  "
      ]
     },
     "execution_count": 416,
     "metadata": {},
     "output_type": "execute_result"
    }
   ],
   "source": [
    "NOO.IVtable"
   ]
  },
  {
   "cell_type": "code",
   "execution_count": 26,
   "metadata": {},
   "outputs": [],
   "source": [
    "iv_all=iv_all.append(pd.Series({'NumberOfOpenCreditLinesAndLoans':NOO.IV}))"
   ]
  },
  {
   "cell_type": "markdown",
   "metadata": {},
   "source": [
    "### NumberOfTimes90DaysLate"
   ]
  },
  {
   "cell_type": "code",
   "execution_count": 27,
   "metadata": {},
   "outputs": [
    {
     "data": {
      "image/png": "[encoded data removed]",
      "text/plain": [
       "<Figure size 1152x720 with 1 Axes>"
      ]
     },
     "metadata": {
      "needs_background": "light"
     },
     "output_type": "display_data"
    }
   ],
   "source": [
    "NO90=smbin(train_data,y,'NumberOfTimes90DaysLate')"
   ]
  },
  {
   "cell_type": "code",
   "execution_count": 419,
   "metadata": {},
   "outputs": [
    {
     "data": {
      "text/html": [
       "<div>\n",
       "<style scoped>\n",
       "    .dataframe tbody tr th:only-of-type {\n",
       "        vertical-align: middle;\n",
       "    }\n",
       "\n",
       "    .dataframe tbody tr th {\n",
       "        vertical-align: top;\n",
       "    }\n",
       "\n",
       "    .dataframe thead th {\n",
       "        text-align: right;\n",
       "    }\n",
       "</style>\n",
       "<table border=\"1\" class=\"dataframe\">\n",
       "  <thead>\n",
       "    <tr style=\"text-align: right;\">\n",
       "      <th></th>\n",
       "      <th>Bins</th>\n",
       "      <th>CntRec</th>\n",
       "      <th>CntGood</th>\n",
       "      <th>CntBad</th>\n",
       "      <th>PctRec</th>\n",
       "      <th>PctGood</th>\n",
       "      <th>PctBad</th>\n",
       "      <th>WOE</th>\n",
       "      <th>IV</th>\n",
       "    </tr>\n",
       "  </thead>\n",
       "  <tbody>\n",
       "    <tr>\n",
       "      <th>0</th>\n",
       "      <td>(-0.001, 0.5]</td>\n",
       "      <td>141108</td>\n",
       "      <td>134559</td>\n",
       "      <td>6549</td>\n",
       "      <td>0.944555</td>\n",
       "      <td>0.965397</td>\n",
       "      <td>0.654311</td>\n",
       "      <td>0.3890</td>\n",
       "      <td>0.1210</td>\n",
       "    </tr>\n",
       "    <tr>\n",
       "      <th>1</th>\n",
       "      <td>(0.5, 1.5]</td>\n",
       "      <td>5232</td>\n",
       "      <td>3468</td>\n",
       "      <td>1764</td>\n",
       "      <td>0.035022</td>\n",
       "      <td>0.024881</td>\n",
       "      <td>0.176241</td>\n",
       "      <td>-1.9577</td>\n",
       "      <td>0.2963</td>\n",
       "    </tr>\n",
       "    <tr>\n",
       "      <th>2</th>\n",
       "      <td>(1.5, 98.0]</td>\n",
       "      <td>3051</td>\n",
       "      <td>1355</td>\n",
       "      <td>1696</td>\n",
       "      <td>0.020423</td>\n",
       "      <td>0.009721</td>\n",
       "      <td>0.169447</td>\n",
       "      <td>-2.8582</td>\n",
       "      <td>0.4565</td>\n",
       "    </tr>\n",
       "    <tr>\n",
       "      <th>3</th>\n",
       "      <td>Total</td>\n",
       "      <td>149391</td>\n",
       "      <td>139382</td>\n",
       "      <td>10009</td>\n",
       "      <td>1.000000</td>\n",
       "      <td>1.000000</td>\n",
       "      <td>1.000000</td>\n",
       "      <td>NaN</td>\n",
       "      <td>0.8738</td>\n",
       "    </tr>\n",
       "  </tbody>\n",
       "</table>\n",
       "</div>"
      ],
      "text/plain": [
       "            Bins  CntRec  CntGood  CntBad    PctRec   PctGood    PctBad  \\\n",
       "0  (-0.001, 0.5]  141108   134559    6549  0.944555  0.965397  0.654311   \n",
       "1     (0.5, 1.5]    5232     3468    1764  0.035022  0.024881  0.176241   \n",
       "2    (1.5, 98.0]    3051     1355    1696  0.020423  0.009721  0.169447   \n",
       "3          Total  149391   139382   10009  1.000000  1.000000  1.000000   \n",
       "\n",
       "      WOE      IV  \n",
       "0  0.3890  0.1210  \n",
       "1 -1.9577  0.2963  \n",
       "2 -2.8582  0.4565  \n",
       "3     NaN  0.8738  "
      ]
     },
     "execution_count": 419,
     "metadata": {},
     "output_type": "execute_result"
    }
   ],
   "source": [
    "NO90.IVtable"
   ]
  },
  {
   "cell_type": "code",
   "execution_count": 28,
   "metadata": {},
   "outputs": [],
   "source": [
    "iv_all=iv_all.append(pd.Series({'NumberOfTimes90DaysLate':NO90.IV}))"
   ]
  },
  {
   "cell_type": "code",
   "execution_count": 29,
   "metadata": {},
   "outputs": [
    {
     "data": {
      "text/plain": [
       "<matplotlib.axes._subplots.AxesSubplot at 0x1e970a745f8>"
      ]
     },
     "execution_count": 29,
     "metadata": {},
     "output_type": "execute_result"
    },
    {
     "data": {
      "image/png": "[encoded data removed]",
      "text/plain": [
       "<Figure size 432x288 with 1 Axes>"
      ]
     },
     "metadata": {
      "needs_background": "light"
     },
     "output_type": "display_data"
    }
   ],
   "source": [
    "train_data.boxplot(column=['NumberOfTimes90DaysLate'],by=[y])"
   ]
  },
  {
   "cell_type": "code",
   "execution_count": 30,
   "metadata": {},
   "outputs": [
    {
     "data": {
      "text/plain": [
       "Ttest_indResult(statistic=-47.704547090568376, pvalue=0.0)"
      ]
     },
     "execution_count": 30,
     "metadata": {},
     "output_type": "execute_result"
    }
   ],
   "source": [
    "stats.ttest_ind(train_data.loc[train_data.SeriousDlqin2yrs==1,'NumberOfTimes90DaysLate'],\n",
    "               train_data.loc[train_data.SeriousDlqin2yrs==0,'NumberOfTimes90DaysLate'])"
   ]
  },
  {
   "cell_type": "code",
   "execution_count": 31,
   "metadata": {},
   "outputs": [],
   "source": [
    "t0=block(train_data['NumberOfTimes90DaysLate'])"
   ]
  },
  {
   "cell_type": "code",
   "execution_count": 32,
   "metadata": {},
   "outputs": [
    {
     "data": {
      "text/plain": [
       "<matplotlib.axes._subplots.AxesSubplot at 0x1e9711ae0b8>"
      ]
     },
     "execution_count": 32,
     "metadata": {},
     "output_type": "execute_result"
    },
    {
     "data": {
      "image/png": "[encoded data removed]",
      "text/plain": [
       "<Figure size 432x288 with 1 Axes>"
      ]
     },
     "metadata": {
      "needs_background": "light"
     },
     "output_type": "display_data"
    }
   ],
   "source": [
    "sns.boxplot(x=train_data[y],y=t0)"
   ]
  },
  {
   "cell_type": "markdown",
   "metadata": {},
   "source": [
    "### NumberRealEstateLoansOrLines "
   ]
  },
  {
   "cell_type": "code",
   "execution_count": 33,
   "metadata": {},
   "outputs": [
    {
     "data": {
      "image/png": "[encoded data removed]",
      "text/plain": [
       "<Figure size 1152x720 with 1 Axes>"
      ]
     },
     "metadata": {
      "needs_background": "light"
     },
     "output_type": "display_data"
    }
   ],
   "source": [
    "NRE=smbin(train_data,y,'NumberRealEstateLoansOrLines')"
   ]
  },
  {
   "cell_type": "code",
   "execution_count": 428,
   "metadata": {},
   "outputs": [
    {
     "data": {
      "text/html": [
       "<div>\n",
       "<style scoped>\n",
       "    .dataframe tbody tr th:only-of-type {\n",
       "        vertical-align: middle;\n",
       "    }\n",
       "\n",
       "    .dataframe tbody tr th {\n",
       "        vertical-align: top;\n",
       "    }\n",
       "\n",
       "    .dataframe thead th {\n",
       "        text-align: right;\n",
       "    }\n",
       "</style>\n",
       "<table border=\"1\" class=\"dataframe\">\n",
       "  <thead>\n",
       "    <tr style=\"text-align: right;\">\n",
       "      <th></th>\n",
       "      <th>Bins</th>\n",
       "      <th>CntRec</th>\n",
       "      <th>CntGood</th>\n",
       "      <th>CntBad</th>\n",
       "      <th>PctRec</th>\n",
       "      <th>PctGood</th>\n",
       "      <th>PctBad</th>\n",
       "      <th>WOE</th>\n",
       "      <th>IV</th>\n",
       "    </tr>\n",
       "  </thead>\n",
       "  <tbody>\n",
       "    <tr>\n",
       "      <th>0</th>\n",
       "      <td>(-0.001, 0.5]</td>\n",
       "      <td>55579</td>\n",
       "      <td>50924</td>\n",
       "      <td>4655</td>\n",
       "      <td>0.372037</td>\n",
       "      <td>0.365356</td>\n",
       "      <td>0.465081</td>\n",
       "      <td>-0.2413</td>\n",
       "      <td>0.0241</td>\n",
       "    </tr>\n",
       "    <tr>\n",
       "      <th>1</th>\n",
       "      <td>(0.5, 3.5]</td>\n",
       "      <td>90160</td>\n",
       "      <td>85225</td>\n",
       "      <td>4935</td>\n",
       "      <td>0.603517</td>\n",
       "      <td>0.611449</td>\n",
       "      <td>0.493056</td>\n",
       "      <td>0.2152</td>\n",
       "      <td>0.0255</td>\n",
       "    </tr>\n",
       "    <tr>\n",
       "      <th>2</th>\n",
       "      <td>(3.5, 54.0]</td>\n",
       "      <td>3652</td>\n",
       "      <td>3233</td>\n",
       "      <td>419</td>\n",
       "      <td>0.024446</td>\n",
       "      <td>0.023195</td>\n",
       "      <td>0.041862</td>\n",
       "      <td>-0.5904</td>\n",
       "      <td>0.0110</td>\n",
       "    </tr>\n",
       "    <tr>\n",
       "      <th>3</th>\n",
       "      <td>Total</td>\n",
       "      <td>149391</td>\n",
       "      <td>139382</td>\n",
       "      <td>10009</td>\n",
       "      <td>1.000000</td>\n",
       "      <td>1.000000</td>\n",
       "      <td>1.000000</td>\n",
       "      <td>NaN</td>\n",
       "      <td>0.0606</td>\n",
       "    </tr>\n",
       "  </tbody>\n",
       "</table>\n",
       "</div>"
      ],
      "text/plain": [
       "            Bins  CntRec  CntGood  CntBad    PctRec   PctGood    PctBad  \\\n",
       "0  (-0.001, 0.5]   55579    50924    4655  0.372037  0.365356  0.465081   \n",
       "1     (0.5, 3.5]   90160    85225    4935  0.603517  0.611449  0.493056   \n",
       "2    (3.5, 54.0]    3652     3233     419  0.024446  0.023195  0.041862   \n",
       "3          Total  149391   139382   10009  1.000000  1.000000  1.000000   \n",
       "\n",
       "      WOE      IV  \n",
       "0 -0.2413  0.0241  \n",
       "1  0.2152  0.0255  \n",
       "2 -0.5904  0.0110  \n",
       "3     NaN  0.0606  "
      ]
     },
     "execution_count": 428,
     "metadata": {},
     "output_type": "execute_result"
    }
   ],
   "source": [
    "NRE.IVtable"
   ]
  },
  {
   "cell_type": "code",
   "execution_count": 34,
   "metadata": {},
   "outputs": [],
   "source": [
    "iv_all=iv_all.append(pd.Series({'NumberRealEstateLoansOrLines':NRE.IV}))"
   ]
  },
  {
   "cell_type": "markdown",
   "metadata": {},
   "source": [
    "### NumberOfTime60_89DaysPastDueNotWorse"
   ]
  },
  {
   "cell_type": "code",
   "execution_count": 35,
   "metadata": {},
   "outputs": [
    {
     "data": {
      "image/png": "[encoded data removed]",
      "text/plain": [
       "<Figure size 1152x720 with 1 Axes>"
      ]
     },
     "metadata": {
      "needs_background": "light"
     },
     "output_type": "display_data"
    }
   ],
   "source": [
    "NO6089=smbin(train_data,y,'NumberOfTime60_89DaysPastDueNotWorse')"
   ]
  },
  {
   "cell_type": "code",
   "execution_count": 431,
   "metadata": {},
   "outputs": [
    {
     "data": {
      "text/html": [
       "<div>\n",
       "<style scoped>\n",
       "    .dataframe tbody tr th:only-of-type {\n",
       "        vertical-align: middle;\n",
       "    }\n",
       "\n",
       "    .dataframe tbody tr th {\n",
       "        vertical-align: top;\n",
       "    }\n",
       "\n",
       "    .dataframe thead th {\n",
       "        text-align: right;\n",
       "    }\n",
       "</style>\n",
       "<table border=\"1\" class=\"dataframe\">\n",
       "  <thead>\n",
       "    <tr style=\"text-align: right;\">\n",
       "      <th></th>\n",
       "      <th>Bins</th>\n",
       "      <th>CntRec</th>\n",
       "      <th>CntGood</th>\n",
       "      <th>CntBad</th>\n",
       "      <th>PctRec</th>\n",
       "      <th>PctGood</th>\n",
       "      <th>PctBad</th>\n",
       "      <th>WOE</th>\n",
       "      <th>IV</th>\n",
       "    </tr>\n",
       "  </thead>\n",
       "  <tbody>\n",
       "    <tr>\n",
       "      <th>0</th>\n",
       "      <td>(-0.001, 0.5]</td>\n",
       "      <td>141831</td>\n",
       "      <td>134581</td>\n",
       "      <td>7250</td>\n",
       "      <td>0.949395</td>\n",
       "      <td>0.965555</td>\n",
       "      <td>0.724348</td>\n",
       "      <td>0.2874</td>\n",
       "      <td>0.0693</td>\n",
       "    </tr>\n",
       "    <tr>\n",
       "      <th>1</th>\n",
       "      <td>(0.5, 1.5]</td>\n",
       "      <td>5731</td>\n",
       "      <td>3954</td>\n",
       "      <td>1777</td>\n",
       "      <td>0.038362</td>\n",
       "      <td>0.028368</td>\n",
       "      <td>0.177540</td>\n",
       "      <td>-1.8339</td>\n",
       "      <td>0.2736</td>\n",
       "    </tr>\n",
       "    <tr>\n",
       "      <th>2</th>\n",
       "      <td>(1.5, 98.0]</td>\n",
       "      <td>1829</td>\n",
       "      <td>847</td>\n",
       "      <td>982</td>\n",
       "      <td>0.012243</td>\n",
       "      <td>0.006077</td>\n",
       "      <td>0.098112</td>\n",
       "      <td>-2.7816</td>\n",
       "      <td>0.2560</td>\n",
       "    </tr>\n",
       "    <tr>\n",
       "      <th>3</th>\n",
       "      <td>Total</td>\n",
       "      <td>149391</td>\n",
       "      <td>139382</td>\n",
       "      <td>10009</td>\n",
       "      <td>1.000000</td>\n",
       "      <td>1.000000</td>\n",
       "      <td>1.000000</td>\n",
       "      <td>NaN</td>\n",
       "      <td>0.5989</td>\n",
       "    </tr>\n",
       "  </tbody>\n",
       "</table>\n",
       "</div>"
      ],
      "text/plain": [
       "            Bins  CntRec  CntGood  CntBad    PctRec   PctGood    PctBad  \\\n",
       "0  (-0.001, 0.5]  141831   134581    7250  0.949395  0.965555  0.724348   \n",
       "1     (0.5, 1.5]    5731     3954    1777  0.038362  0.028368  0.177540   \n",
       "2    (1.5, 98.0]    1829      847     982  0.012243  0.006077  0.098112   \n",
       "3          Total  149391   139382   10009  1.000000  1.000000  1.000000   \n",
       "\n",
       "      WOE      IV  \n",
       "0  0.2874  0.0693  \n",
       "1 -1.8339  0.2736  \n",
       "2 -2.7816  0.2560  \n",
       "3     NaN  0.5989  "
      ]
     },
     "execution_count": 431,
     "metadata": {},
     "output_type": "execute_result"
    }
   ],
   "source": [
    "NO6089.IVtable"
   ]
  },
  {
   "cell_type": "code",
   "execution_count": 36,
   "metadata": {},
   "outputs": [],
   "source": [
    "iv_all=iv_all.append(pd.Series({'NumberOfTime60_89DaysPastDueNotWorse':NO6089.IV}))"
   ]
  },
  {
   "cell_type": "markdown",
   "metadata": {},
   "source": [
    "### NumberOfDependents"
   ]
  },
  {
   "cell_type": "code",
   "execution_count": 37,
   "metadata": {},
   "outputs": [
    {
     "data": {
      "image/png": "[encoded data removed]",
      "text/plain": [
       "<Figure size 1152x720 with 1 Axes>"
      ]
     },
     "metadata": {
      "needs_background": "light"
     },
     "output_type": "display_data"
    }
   ],
   "source": [
    "NOD=smbin(train_data,y,'NumberOfDependents')"
   ]
  },
  {
   "cell_type": "code",
   "execution_count": 434,
   "metadata": {},
   "outputs": [
    {
     "data": {
      "text/html": [
       "<div>\n",
       "<style scoped>\n",
       "    .dataframe tbody tr th:only-of-type {\n",
       "        vertical-align: middle;\n",
       "    }\n",
       "\n",
       "    .dataframe tbody tr th {\n",
       "        vertical-align: top;\n",
       "    }\n",
       "\n",
       "    .dataframe thead th {\n",
       "        text-align: right;\n",
       "    }\n",
       "</style>\n",
       "<table border=\"1\" class=\"dataframe\">\n",
       "  <thead>\n",
       "    <tr style=\"text-align: right;\">\n",
       "      <th></th>\n",
       "      <th>Bins</th>\n",
       "      <th>CntRec</th>\n",
       "      <th>CntGood</th>\n",
       "      <th>CntBad</th>\n",
       "      <th>PctRec</th>\n",
       "      <th>PctGood</th>\n",
       "      <th>PctBad</th>\n",
       "      <th>WOE</th>\n",
       "      <th>IV</th>\n",
       "    </tr>\n",
       "  </thead>\n",
       "  <tbody>\n",
       "    <tr>\n",
       "      <th>0</th>\n",
       "      <td>(-0.001, 0.5]</td>\n",
       "      <td>90220</td>\n",
       "      <td>84963</td>\n",
       "      <td>5257</td>\n",
       "      <td>0.603919</td>\n",
       "      <td>0.609569</td>\n",
       "      <td>0.525227</td>\n",
       "      <td>0.1489</td>\n",
       "      <td>0.0126</td>\n",
       "    </tr>\n",
       "    <tr>\n",
       "      <th>1</th>\n",
       "      <td>(0.5, 1.5]</td>\n",
       "      <td>26314</td>\n",
       "      <td>24379</td>\n",
       "      <td>1935</td>\n",
       "      <td>0.176142</td>\n",
       "      <td>0.174908</td>\n",
       "      <td>0.193326</td>\n",
       "      <td>-0.1001</td>\n",
       "      <td>0.0018</td>\n",
       "    </tr>\n",
       "    <tr>\n",
       "      <th>2</th>\n",
       "      <td>(1.5, 2.5]</td>\n",
       "      <td>19521</td>\n",
       "      <td>17937</td>\n",
       "      <td>1584</td>\n",
       "      <td>0.130671</td>\n",
       "      <td>0.128690</td>\n",
       "      <td>0.158258</td>\n",
       "      <td>-0.2068</td>\n",
       "      <td>0.0061</td>\n",
       "    </tr>\n",
       "    <tr>\n",
       "      <th>3</th>\n",
       "      <td>(2.5, 3.5]</td>\n",
       "      <td>9483</td>\n",
       "      <td>8646</td>\n",
       "      <td>837</td>\n",
       "      <td>0.063478</td>\n",
       "      <td>0.062031</td>\n",
       "      <td>0.083625</td>\n",
       "      <td>-0.2987</td>\n",
       "      <td>0.0065</td>\n",
       "    </tr>\n",
       "    <tr>\n",
       "      <th>4</th>\n",
       "      <td>(3.5, 20.0]</td>\n",
       "      <td>3853</td>\n",
       "      <td>3457</td>\n",
       "      <td>396</td>\n",
       "      <td>0.025791</td>\n",
       "      <td>0.024802</td>\n",
       "      <td>0.039564</td>\n",
       "      <td>-0.4670</td>\n",
       "      <td>0.0069</td>\n",
       "    </tr>\n",
       "    <tr>\n",
       "      <th>5</th>\n",
       "      <td>Total</td>\n",
       "      <td>149391</td>\n",
       "      <td>139382</td>\n",
       "      <td>10009</td>\n",
       "      <td>1.000000</td>\n",
       "      <td>1.000000</td>\n",
       "      <td>1.000000</td>\n",
       "      <td>NaN</td>\n",
       "      <td>0.0339</td>\n",
       "    </tr>\n",
       "  </tbody>\n",
       "</table>\n",
       "</div>"
      ],
      "text/plain": [
       "            Bins  CntRec  CntGood  CntBad    PctRec   PctGood    PctBad  \\\n",
       "0  (-0.001, 0.5]   90220    84963    5257  0.603919  0.609569  0.525227   \n",
       "1     (0.5, 1.5]   26314    24379    1935  0.176142  0.174908  0.193326   \n",
       "2     (1.5, 2.5]   19521    17937    1584  0.130671  0.128690  0.158258   \n",
       "3     (2.5, 3.5]    9483     8646     837  0.063478  0.062031  0.083625   \n",
       "4    (3.5, 20.0]    3853     3457     396  0.025791  0.024802  0.039564   \n",
       "5          Total  149391   139382   10009  1.000000  1.000000  1.000000   \n",
       "\n",
       "      WOE      IV  \n",
       "0  0.1489  0.0126  \n",
       "1 -0.1001  0.0018  \n",
       "2 -0.2068  0.0061  \n",
       "3 -0.2987  0.0065  \n",
       "4 -0.4670  0.0069  \n",
       "5     NaN  0.0339  "
      ]
     },
     "execution_count": 434,
     "metadata": {},
     "output_type": "execute_result"
    }
   ],
   "source": [
    "NOD.IVtable"
   ]
  },
  {
   "cell_type": "code",
   "execution_count": 38,
   "metadata": {},
   "outputs": [],
   "source": [
    "iv_all=iv_all.append(pd.Series({'NumberOfDependents':NOD.IV}))"
   ]
  },
  {
   "cell_type": "markdown",
   "metadata": {},
   "source": [
    "## 查看所有变量IV值\n",
    "- IV值用于筛选变量,删除小于0.02的变量"
   ]
  },
  {
   "cell_type": "code",
   "execution_count": 438,
   "metadata": {
    "scrolled": true
   },
   "outputs": [
    {
     "data": {
      "text/plain": [
       "RevolvingUtilizationOfUnsecuredLines    1.1487\n",
       "NumberOfTimes90DaysLate                 0.8738\n",
       "NumberOfTime30_59DaysPastDueNotWorse    0.7576\n",
       "NumberOfTime60_89DaysPastDueNotWorse    0.5989\n",
       "age                                     0.2523\n",
       "NumberOfOpenCreditLinesAndLoans         0.1108\n",
       "DebtRatio                               0.0889\n",
       "MonthlyIncome                           0.0856\n",
       "NumberRealEstateLoansOrLines            0.0606\n",
       "NumberOfDependents                      0.0339\n",
       "dtype: float64"
      ]
     },
     "execution_count": 438,
     "metadata": {},
     "output_type": "execute_result"
    }
   ],
   "source": [
    "iv_all.sort_values(ascending=False)"
   ]
  },
  {
   "cell_type": "code",
   "execution_count": 441,
   "metadata": {},
   "outputs": [
    {
     "data": {
      "text/plain": [
       "<matplotlib.axes._subplots.AxesSubplot at 0x162d0102080>"
      ]
     },
     "execution_count": 441,
     "metadata": {},
     "output_type": "execute_result"
    },
    {
     "data": {
      "image/png": "[encoded data removed]",
      "text/plain": [
       "<Figure size 432x288 with 1 Axes>"
      ]
     },
     "metadata": {
      "needs_background": "light"
     },
     "output_type": "display_data"
    }
   ],
   "source": [
    "iv_all.sort_values().plot(kind='barh')"
   ]
  },
  {
   "cell_type": "markdown",
   "metadata": {},
   "source": [
    "- 可见所有的IV值均大于0.02,故这里使用所有变量"
   ]
  },
  {
   "cell_type": "markdown",
   "metadata": {},
   "source": [
    "## 生成WOE数据"
   ]
  },
  {
   "cell_type": "markdown",
   "metadata": {},
   "source": [
    "- 之前smbin和smbin_cu得到的对象根据IV值筛选后,放在一个列表中"
   ]
  },
  {
   "cell_type": "code",
   "execution_count": 39,
   "metadata": {},
   "outputs": [],
   "source": [
    "x_list = [RUO,age,NO3059,DebtRatio,MonthlyIncome,NOO,NO90,NRE,NO6089,NOD]"
   ]
  },
  {
   "cell_type": "markdown",
   "metadata": {},
   "source": [
    "- 使用smgen函数根据得到的列表生成新数据"
   ]
  },
  {
   "cell_type": "code",
   "execution_count": 40,
   "metadata": {},
   "outputs": [],
   "source": [
    "data_woe=smgen(train_data,x_list)"
   ]
  },
  {
   "cell_type": "code",
   "execution_count": 41,
   "metadata": {},
   "outputs": [
    {
     "data": {
      "text/html": [
       "<div>\n",
       "<style scoped>\n",
       "    .dataframe tbody tr th:only-of-type {\n",
       "        vertical-align: middle;\n",
       "    }\n",
       "\n",
       "    .dataframe tbody tr th {\n",
       "        vertical-align: top;\n",
       "    }\n",
       "\n",
       "    .dataframe thead th {\n",
       "        text-align: right;\n",
       "    }\n",
       "</style>\n",
       "<table border=\"1\" class=\"dataframe\">\n",
       "  <thead>\n",
       "    <tr style=\"text-align: right;\">\n",
       "      <th></th>\n",
       "      <th>SeriousDlqin2yrs</th>\n",
       "      <th>RevolvingUtilizationOfUnsecuredLines</th>\n",
       "      <th>age</th>\n",
       "      <th>NumberOfTime30_59DaysPastDueNotWorse</th>\n",
       "      <th>DebtRatio</th>\n",
       "      <th>MonthlyIncome</th>\n",
       "      <th>NumberOfOpenCreditLinesAndLoans</th>\n",
       "      <th>NumberOfTimes90DaysLate</th>\n",
       "      <th>NumberRealEstateLoansOrLines</th>\n",
       "      <th>NumberOfTime60_89DaysPastDueNotWorse</th>\n",
       "      <th>...</th>\n",
       "      <th>RevolvingUtilizationOfUnsecuredLines_woe</th>\n",
       "      <th>age_woe</th>\n",
       "      <th>NumberOfTime30_59DaysPastDueNotWorse_woe</th>\n",
       "      <th>DebtRatio_woe</th>\n",
       "      <th>MonthlyIncome_woe</th>\n",
       "      <th>NumberOfOpenCreditLinesAndLoans_woe</th>\n",
       "      <th>NumberOfTimes90DaysLate_woe</th>\n",
       "      <th>NumberRealEstateLoansOrLines_woe</th>\n",
       "      <th>NumberOfTime60_89DaysPastDueNotWorse_woe</th>\n",
       "      <th>NumberOfDependents_woe</th>\n",
       "    </tr>\n",
       "  </thead>\n",
       "  <tbody>\n",
       "    <tr>\n",
       "      <th>1</th>\n",
       "      <td>0</td>\n",
       "      <td>0.766127</td>\n",
       "      <td>45</td>\n",
       "      <td>2</td>\n",
       "      <td>0.802982</td>\n",
       "      <td>9120.0</td>\n",
       "      <td>13</td>\n",
       "      <td>0</td>\n",
       "      <td>6</td>\n",
       "      <td>0</td>\n",
       "      <td>...</td>\n",
       "      <td>-0.8258</td>\n",
       "      <td>-0.1385</td>\n",
       "      <td>-1.6142</td>\n",
       "      <td>-0.5947</td>\n",
       "      <td>0.3397</td>\n",
       "      <td>0.1557</td>\n",
       "      <td>0.3890</td>\n",
       "      <td>-0.5904</td>\n",
       "      <td>0.2874</td>\n",
       "      <td>-0.2068</td>\n",
       "    </tr>\n",
       "    <tr>\n",
       "      <th>2</th>\n",
       "      <td>1</td>\n",
       "      <td>0.957151</td>\n",
       "      <td>40</td>\n",
       "      <td>0</td>\n",
       "      <td>0.121876</td>\n",
       "      <td>2600.0</td>\n",
       "      <td>4</td>\n",
       "      <td>0</td>\n",
       "      <td>0</td>\n",
       "      <td>0</td>\n",
       "      <td>...</td>\n",
       "      <td>-1.2175</td>\n",
       "      <td>-0.3249</td>\n",
       "      <td>0.5408</td>\n",
       "      <td>0.1117</td>\n",
       "      <td>-0.4417</td>\n",
       "      <td>0.1557</td>\n",
       "      <td>0.3890</td>\n",
       "      <td>-0.2413</td>\n",
       "      <td>0.2874</td>\n",
       "      <td>-0.1001</td>\n",
       "    </tr>\n",
       "    <tr>\n",
       "      <th>3</th>\n",
       "      <td>1</td>\n",
       "      <td>0.658180</td>\n",
       "      <td>38</td>\n",
       "      <td>1</td>\n",
       "      <td>0.085113</td>\n",
       "      <td>3042.0</td>\n",
       "      <td>2</td>\n",
       "      <td>1</td>\n",
       "      <td>0</td>\n",
       "      <td>0</td>\n",
       "      <td>...</td>\n",
       "      <td>-0.3778</td>\n",
       "      <td>-0.3249</td>\n",
       "      <td>-0.9011</td>\n",
       "      <td>0.1117</td>\n",
       "      <td>-0.4417</td>\n",
       "      <td>-0.2318</td>\n",
       "      <td>-1.9577</td>\n",
       "      <td>-0.2413</td>\n",
       "      <td>0.2874</td>\n",
       "      <td>0.1489</td>\n",
       "    </tr>\n",
       "    <tr>\n",
       "      <th>4</th>\n",
       "      <td>1</td>\n",
       "      <td>0.233810</td>\n",
       "      <td>30</td>\n",
       "      <td>0</td>\n",
       "      <td>0.036050</td>\n",
       "      <td>3300.0</td>\n",
       "      <td>5</td>\n",
       "      <td>0</td>\n",
       "      <td>0</td>\n",
       "      <td>0</td>\n",
       "      <td>...</td>\n",
       "      <td>0.7032</td>\n",
       "      <td>-0.5507</td>\n",
       "      <td>0.5408</td>\n",
       "      <td>0.1117</td>\n",
       "      <td>-0.4417</td>\n",
       "      <td>0.1557</td>\n",
       "      <td>0.3890</td>\n",
       "      <td>-0.2413</td>\n",
       "      <td>0.2874</td>\n",
       "      <td>0.1489</td>\n",
       "    </tr>\n",
       "    <tr>\n",
       "      <th>5</th>\n",
       "      <td>1</td>\n",
       "      <td>0.907239</td>\n",
       "      <td>49</td>\n",
       "      <td>1</td>\n",
       "      <td>0.024926</td>\n",
       "      <td>63588.0</td>\n",
       "      <td>7</td>\n",
       "      <td>0</td>\n",
       "      <td>1</td>\n",
       "      <td>0</td>\n",
       "      <td>...</td>\n",
       "      <td>-1.2175</td>\n",
       "      <td>-0.1385</td>\n",
       "      <td>-0.9011</td>\n",
       "      <td>0.1117</td>\n",
       "      <td>0.3397</td>\n",
       "      <td>0.1557</td>\n",
       "      <td>0.3890</td>\n",
       "      <td>0.2152</td>\n",
       "      <td>0.2874</td>\n",
       "      <td>0.1489</td>\n",
       "    </tr>\n",
       "  </tbody>\n",
       "</table>\n",
       "<p>5 rows × 21 columns</p>\n",
       "</div>"
      ],
      "text/plain": [
       "   SeriousDlqin2yrs  RevolvingUtilizationOfUnsecuredLines  age  \\\n",
       "1                 0                              0.766127   45   \n",
       "2                 1                              0.957151   40   \n",
       "3                 1                              0.658180   38   \n",
       "4                 1                              0.233810   30   \n",
       "5                 1                              0.907239   49   \n",
       "\n",
       "   NumberOfTime30_59DaysPastDueNotWorse  DebtRatio  MonthlyIncome  \\\n",
       "1                                     2   0.802982         9120.0   \n",
       "2                                     0   0.121876         2600.0   \n",
       "3                                     1   0.085113         3042.0   \n",
       "4                                     0   0.036050         3300.0   \n",
       "5                                     1   0.024926        63588.0   \n",
       "\n",
       "   NumberOfOpenCreditLinesAndLoans  NumberOfTimes90DaysLate  \\\n",
       "1                               13                        0   \n",
       "2                                4                        0   \n",
       "3                                2                        1   \n",
       "4                                5                        0   \n",
       "5                                7                        0   \n",
       "\n",
       "   NumberRealEstateLoansOrLines  NumberOfTime60_89DaysPastDueNotWorse  ...  \\\n",
       "1                             6                                     0  ...   \n",
       "2                             0                                     0  ...   \n",
       "3                             0                                     0  ...   \n",
       "4                             0                                     0  ...   \n",
       "5                             1                                     0  ...   \n",
       "\n",
       "   RevolvingUtilizationOfUnsecuredLines_woe  age_woe  \\\n",
       "1                                   -0.8258  -0.1385   \n",
       "2                                   -1.2175  -0.3249   \n",
       "3                                   -0.3778  -0.3249   \n",
       "4                                    0.7032  -0.5507   \n",
       "5                                   -1.2175  -0.1385   \n",
       "\n",
       "   NumberOfTime30_59DaysPastDueNotWorse_woe  DebtRatio_woe  MonthlyIncome_woe  \\\n",
       "1                                   -1.6142        -0.5947             0.3397   \n",
       "2                                    0.5408         0.1117            -0.4417   \n",
       "3                                   -0.9011         0.1117            -0.4417   \n",
       "4                                    0.5408         0.1117            -0.4417   \n",
       "5                                   -0.9011         0.1117             0.3397   \n",
       "\n",
       "   NumberOfOpenCreditLinesAndLoans_woe  NumberOfTimes90DaysLate_woe  \\\n",
       "1                               0.1557                       0.3890   \n",
       "2                               0.1557                       0.3890   \n",
       "3                              -0.2318                      -1.9577   \n",
       "4                               0.1557                       0.3890   \n",
       "5                               0.1557                       0.3890   \n",
       "\n",
       "   NumberRealEstateLoansOrLines_woe  NumberOfTime60_89DaysPastDueNotWorse_woe  \\\n",
       "1                           -0.5904                                    0.2874   \n",
       "2                           -0.2413                                    0.2874   \n",
       "3                           -0.2413                                    0.2874   \n",
       "4                           -0.2413                                    0.2874   \n",
       "5                            0.2152                                    0.2874   \n",
       "\n",
       "   NumberOfDependents_woe  \n",
       "1                 -0.2068  \n",
       "2                 -0.1001  \n",
       "3                  0.1489  \n",
       "4                  0.1489  \n",
       "5                  0.1489  \n",
       "\n",
       "[5 rows x 21 columns]"
      ]
     },
     "execution_count": 41,
     "metadata": {},
     "output_type": "execute_result"
    }
   ],
   "source": [
    "data_woe.head()"
   ]
  },
  {
   "cell_type": "markdown",
   "metadata": {},
   "source": [
    "- 抽取WOE列作为预测数据X\n",
    "- 加常数项列\n",
    "- 抽取响应列作为Y"
   ]
  },
  {
   "cell_type": "code",
   "execution_count": 42,
   "metadata": {},
   "outputs": [
    {
     "name": "stderr",
     "output_type": "stream",
     "text": [
      "D:\\tool\\anaconda\\lib\\site-packages\\numpy\\core\\fromnumeric.py:2389: FutureWarning: Method .ptp is deprecated and will be removed in a future version. Use numpy.ptp instead.\n",
      "  return ptp(axis=axis, out=out, **kwargs)\n"
     ]
    }
   ],
   "source": [
    "X=data_woe.iloc[:,-len(x_list):]\n",
    "X=sm.add_constant(X)\n",
    "Y=data_woe[y]"
   ]
  },
  {
   "cell_type": "markdown",
   "metadata": {},
   "source": [
    "- 分训练集和测试集"
   ]
  },
  {
   "cell_type": "code",
   "execution_count": 48,
   "metadata": {},
   "outputs": [],
   "source": [
    "X_train,X_test,Y_train,Y_test=train_test_split(X,Y,test_size=0.3,random_state=1221)"
   ]
  },
  {
   "cell_type": "markdown",
   "metadata": {},
   "source": [
    "## 建模"
   ]
  },
  {
   "cell_type": "markdown",
   "metadata": {},
   "source": [
    "- 建立逻辑回归模型,拟合数据,查看回归结果"
   ]
  },
  {
   "cell_type": "code",
   "execution_count": 49,
   "metadata": {},
   "outputs": [],
   "source": [
    "glmodel=sm.GLM(Y_train,X_train,family=sm.families.Binomial()).fit()"
   ]
  },
  {
   "cell_type": "code",
   "execution_count": 50,
   "metadata": {},
   "outputs": [
    {
     "data": {
      "text/html": [
       "<table class=\"simpletable\">\n",
       "<caption>Generalized Linear Model Regression Results</caption>\n",
       "<tr>\n",
       "  <th>Dep. Variable:</th>  <td>SeriousDlqin2yrs</td> <th>  No. Observations:  </th>  <td>104573</td>  \n",
       "</tr>\n",
       "<tr>\n",
       "  <th>Model:</th>                 <td>GLM</td>       <th>  Df Residuals:      </th>  <td>104562</td>  \n",
       "</tr>\n",
       "<tr>\n",
       "  <th>Model Family:</th>       <td>Binomial</td>     <th>  Df Model:          </th>  <td>    10</td>  \n",
       "</tr>\n",
       "<tr>\n",
       "  <th>Link Function:</th>        <td>logit</td>      <th>  Scale:             </th> <td>  1.0000</td> \n",
       "</tr>\n",
       "<tr>\n",
       "  <th>Method:</th>               <td>IRLS</td>       <th>  Log-Likelihood:    </th> <td> -19183.</td> \n",
       "</tr>\n",
       "<tr>\n",
       "  <th>Date:</th>           <td>Tue, 01 Oct 2019</td> <th>  Deviance:          </th> <td>  38367.</td> \n",
       "</tr>\n",
       "<tr>\n",
       "  <th>Time:</th>               <td>20:37:45</td>     <th>  Pearson chi2:      </th> <td>9.05e+04</td> \n",
       "</tr>\n",
       "<tr>\n",
       "  <th>No. Iterations:</th>         <td>7</td>        <th>  Covariance Type:   </th> <td>nonrobust</td>\n",
       "</tr>\n",
       "</table>\n",
       "<table class=\"simpletable\">\n",
       "<tr>\n",
       "                      <td></td>                        <th>coef</th>     <th>std err</th>      <th>z</th>      <th>P>|z|</th>  <th>[0.025</th>    <th>0.975]</th>  \n",
       "</tr>\n",
       "<tr>\n",
       "  <th>const</th>                                    <td>    2.5902</td> <td>    0.015</td> <td>  172.105</td> <td> 0.000</td> <td>    2.561</td> <td>    2.620</td>\n",
       "</tr>\n",
       "<tr>\n",
       "  <th>RevolvingUtilizationOfUnsecuredLines_woe</th> <td>    0.5947</td> <td>    0.014</td> <td>   41.272</td> <td> 0.000</td> <td>    0.566</td> <td>    0.623</td>\n",
       "</tr>\n",
       "<tr>\n",
       "  <th>age_woe</th>                                  <td>    0.4297</td> <td>    0.032</td> <td>   13.510</td> <td> 0.000</td> <td>    0.367</td> <td>    0.492</td>\n",
       "</tr>\n",
       "<tr>\n",
       "  <th>NumberOfTime30_59DaysPastDueNotWorse_woe</th> <td>    0.5073</td> <td>    0.016</td> <td>   32.411</td> <td> 0.000</td> <td>    0.477</td> <td>    0.538</td>\n",
       "</tr>\n",
       "<tr>\n",
       "  <th>DebtRatio_woe</th>                            <td>    0.7051</td> <td>    0.050</td> <td>   14.076</td> <td> 0.000</td> <td>    0.607</td> <td>    0.803</td>\n",
       "</tr>\n",
       "<tr>\n",
       "  <th>MonthlyIncome_woe</th>                        <td>    0.1821</td> <td>    0.049</td> <td>    3.690</td> <td> 0.000</td> <td>    0.085</td> <td>    0.279</td>\n",
       "</tr>\n",
       "<tr>\n",
       "  <th>NumberOfOpenCreditLinesAndLoans_woe</th>      <td>    0.0059</td> <td>    0.041</td> <td>    0.142</td> <td> 0.887</td> <td>   -0.075</td> <td>    0.087</td>\n",
       "</tr>\n",
       "<tr>\n",
       "  <th>NumberOfTimes90DaysLate_woe</th>              <td>    0.5302</td> <td>    0.014</td> <td>   38.254</td> <td> 0.000</td> <td>    0.503</td> <td>    0.557</td>\n",
       "</tr>\n",
       "<tr>\n",
       "  <th>NumberRealEstateLoansOrLines_woe</th>         <td>    0.5383</td> <td>    0.062</td> <td>    8.642</td> <td> 0.000</td> <td>    0.416</td> <td>    0.660</td>\n",
       "</tr>\n",
       "<tr>\n",
       "  <th>NumberOfTime60_89DaysPastDueNotWorse_woe</th> <td>    0.3749</td> <td>    0.017</td> <td>   22.125</td> <td> 0.000</td> <td>    0.342</td> <td>    0.408</td>\n",
       "</tr>\n",
       "<tr>\n",
       "  <th>NumberOfDependents_woe</th>                   <td>    0.2624</td> <td>    0.077</td> <td>    3.388</td> <td> 0.001</td> <td>    0.111</td> <td>    0.414</td>\n",
       "</tr>\n",
       "</table>"
      ],
      "text/plain": [
       "<class 'statsmodels.iolib.summary.Summary'>\n",
       "\"\"\"\n",
       "                 Generalized Linear Model Regression Results                  \n",
       "==============================================================================\n",
       "Dep. Variable:       SeriousDlqin2yrs   No. Observations:               104573\n",
       "Model:                            GLM   Df Residuals:                   104562\n",
       "Model Family:                Binomial   Df Model:                           10\n",
       "Link Function:                  logit   Scale:                          1.0000\n",
       "Method:                          IRLS   Log-Likelihood:                -19183.\n",
       "Date:                Tue, 01 Oct 2019   Deviance:                       38367.\n",
       "Time:                        20:37:45   Pearson chi2:                 9.05e+04\n",
       "No. Iterations:                     7   Covariance Type:             nonrobust\n",
       "============================================================================================================\n",
       "                                               coef    std err          z      P>|z|      [0.025      0.975]\n",
       "------------------------------------------------------------------------------------------------------------\n",
       "const                                        2.5902      0.015    172.105      0.000       2.561       2.620\n",
       "RevolvingUtilizationOfUnsecuredLines_woe     0.5947      0.014     41.272      0.000       0.566       0.623\n",
       "age_woe                                      0.4297      0.032     13.510      0.000       0.367       0.492\n",
       "NumberOfTime30_59DaysPastDueNotWorse_woe     0.5073      0.016     32.411      0.000       0.477       0.538\n",
       "DebtRatio_woe                                0.7051      0.050     14.076      0.000       0.607       0.803\n",
       "MonthlyIncome_woe                            0.1821      0.049      3.690      0.000       0.085       0.279\n",
       "NumberOfOpenCreditLinesAndLoans_woe          0.0059      0.041      0.142      0.887      -0.075       0.087\n",
       "NumberOfTimes90DaysLate_woe                  0.5302      0.014     38.254      0.000       0.503       0.557\n",
       "NumberRealEstateLoansOrLines_woe             0.5383      0.062      8.642      0.000       0.416       0.660\n",
       "NumberOfTime60_89DaysPastDueNotWorse_woe     0.3749      0.017     22.125      0.000       0.342       0.408\n",
       "NumberOfDependents_woe                       0.2624      0.077      3.388      0.001       0.111       0.414\n",
       "============================================================================================================\n",
       "\"\"\""
      ]
     },
     "execution_count": 50,
     "metadata": {},
     "output_type": "execute_result"
    }
   ],
   "source": [
    "glmodel.summary()    \n",
    "#可以查看系数(coef)、系数标准误(std err)\n",
    "#P>|z|,就是P检验，小于0.05说明显著，说明变量是重要变量"
   ]
  },
  {
   "cell_type": "markdown",
   "metadata": {},
   "source": [
    "### 删除不重要的特征"
   ]
  },
  {
   "cell_type": "code",
   "execution_count": 53,
   "metadata": {
    "scrolled": true
   },
   "outputs": [],
   "source": [
    "x_list = [RUO,age,NO3059,DebtRatio,MonthlyIncome,NO90,NRE,NO6089,NOD]\n",
    "del X_train['NumberOfOpenCreditLinesAndLoans_woe']\n",
    "del X_test['NumberOfOpenCreditLinesAndLoans_woe']"
   ]
  },
  {
   "cell_type": "markdown",
   "metadata": {},
   "source": [
    "### 重新建模"
   ]
  },
  {
   "cell_type": "code",
   "execution_count": 54,
   "metadata": {},
   "outputs": [
    {
     "data": {
      "text/html": [
       "<table class=\"simpletable\">\n",
       "<caption>Generalized Linear Model Regression Results</caption>\n",
       "<tr>\n",
       "  <th>Dep. Variable:</th>  <td>SeriousDlqin2yrs</td> <th>  No. Observations:  </th>  <td>104573</td>  \n",
       "</tr>\n",
       "<tr>\n",
       "  <th>Model:</th>                 <td>GLM</td>       <th>  Df Residuals:      </th>  <td>104563</td>  \n",
       "</tr>\n",
       "<tr>\n",
       "  <th>Model Family:</th>       <td>Binomial</td>     <th>  Df Model:          </th>  <td>     9</td>  \n",
       "</tr>\n",
       "<tr>\n",
       "  <th>Link Function:</th>        <td>logit</td>      <th>  Scale:             </th> <td>  1.0000</td> \n",
       "</tr>\n",
       "<tr>\n",
       "  <th>Method:</th>               <td>IRLS</td>       <th>  Log-Likelihood:    </th> <td> -19183.</td> \n",
       "</tr>\n",
       "<tr>\n",
       "  <th>Date:</th>           <td>Tue, 01 Oct 2019</td> <th>  Deviance:          </th> <td>  38367.</td> \n",
       "</tr>\n",
       "<tr>\n",
       "  <th>Time:</th>               <td>20:40:44</td>     <th>  Pearson chi2:      </th> <td>9.05e+04</td> \n",
       "</tr>\n",
       "<tr>\n",
       "  <th>No. Iterations:</th>         <td>7</td>        <th>  Covariance Type:   </th> <td>nonrobust</td>\n",
       "</tr>\n",
       "</table>\n",
       "<table class=\"simpletable\">\n",
       "<tr>\n",
       "                      <td></td>                        <th>coef</th>     <th>std err</th>      <th>z</th>      <th>P>|z|</th>  <th>[0.025</th>    <th>0.975]</th>  \n",
       "</tr>\n",
       "<tr>\n",
       "  <th>const</th>                                    <td>    2.5902</td> <td>    0.015</td> <td>  172.108</td> <td> 0.000</td> <td>    2.561</td> <td>    2.620</td>\n",
       "</tr>\n",
       "<tr>\n",
       "  <th>RevolvingUtilizationOfUnsecuredLines_woe</th> <td>    0.5951</td> <td>    0.014</td> <td>   42.039</td> <td> 0.000</td> <td>    0.567</td> <td>    0.623</td>\n",
       "</tr>\n",
       "<tr>\n",
       "  <th>age_woe</th>                                  <td>    0.4298</td> <td>    0.032</td> <td>   13.518</td> <td> 0.000</td> <td>    0.367</td> <td>    0.492</td>\n",
       "</tr>\n",
       "<tr>\n",
       "  <th>NumberOfTime30_59DaysPastDueNotWorse_woe</th> <td>    0.5069</td> <td>    0.015</td> <td>   32.760</td> <td> 0.000</td> <td>    0.477</td> <td>    0.537</td>\n",
       "</tr>\n",
       "<tr>\n",
       "  <th>DebtRatio_woe</th>                            <td>    0.7049</td> <td>    0.050</td> <td>   14.074</td> <td> 0.000</td> <td>    0.607</td> <td>    0.803</td>\n",
       "</tr>\n",
       "<tr>\n",
       "  <th>MonthlyIncome_woe</th>                        <td>    0.1822</td> <td>    0.049</td> <td>    3.691</td> <td> 0.000</td> <td>    0.085</td> <td>    0.279</td>\n",
       "</tr>\n",
       "<tr>\n",
       "  <th>NumberOfTimes90DaysLate_woe</th>              <td>    0.5306</td> <td>    0.014</td> <td>   38.924</td> <td> 0.000</td> <td>    0.504</td> <td>    0.557</td>\n",
       "</tr>\n",
       "<tr>\n",
       "  <th>NumberRealEstateLoansOrLines_woe</th>         <td>    0.5402</td> <td>    0.061</td> <td>    8.881</td> <td> 0.000</td> <td>    0.421</td> <td>    0.659</td>\n",
       "</tr>\n",
       "<tr>\n",
       "  <th>NumberOfTime60_89DaysPastDueNotWorse_woe</th> <td>    0.3748</td> <td>    0.017</td> <td>   22.131</td> <td> 0.000</td> <td>    0.342</td> <td>    0.408</td>\n",
       "</tr>\n",
       "<tr>\n",
       "  <th>NumberOfDependents_woe</th>                   <td>    0.2616</td> <td>    0.077</td> <td>    3.387</td> <td> 0.001</td> <td>    0.110</td> <td>    0.413</td>\n",
       "</tr>\n",
       "</table>"
      ],
      "text/plain": [
       "<class 'statsmodels.iolib.summary.Summary'>\n",
       "\"\"\"\n",
       "                 Generalized Linear Model Regression Results                  \n",
       "==============================================================================\n",
       "Dep. Variable:       SeriousDlqin2yrs   No. Observations:               104573\n",
       "Model:                            GLM   Df Residuals:                   104563\n",
       "Model Family:                Binomial   Df Model:                            9\n",
       "Link Function:                  logit   Scale:                          1.0000\n",
       "Method:                          IRLS   Log-Likelihood:                -19183.\n",
       "Date:                Tue, 01 Oct 2019   Deviance:                       38367.\n",
       "Time:                        20:40:44   Pearson chi2:                 9.05e+04\n",
       "No. Iterations:                     7   Covariance Type:             nonrobust\n",
       "============================================================================================================\n",
       "                                               coef    std err          z      P>|z|      [0.025      0.975]\n",
       "------------------------------------------------------------------------------------------------------------\n",
       "const                                        2.5902      0.015    172.108      0.000       2.561       2.620\n",
       "RevolvingUtilizationOfUnsecuredLines_woe     0.5951      0.014     42.039      0.000       0.567       0.623\n",
       "age_woe                                      0.4298      0.032     13.518      0.000       0.367       0.492\n",
       "NumberOfTime30_59DaysPastDueNotWorse_woe     0.5069      0.015     32.760      0.000       0.477       0.537\n",
       "DebtRatio_woe                                0.7049      0.050     14.074      0.000       0.607       0.803\n",
       "MonthlyIncome_woe                            0.1822      0.049      3.691      0.000       0.085       0.279\n",
       "NumberOfTimes90DaysLate_woe                  0.5306      0.014     38.924      0.000       0.504       0.557\n",
       "NumberRealEstateLoansOrLines_woe             0.5402      0.061      8.881      0.000       0.421       0.659\n",
       "NumberOfTime60_89DaysPastDueNotWorse_woe     0.3748      0.017     22.131      0.000       0.342       0.408\n",
       "NumberOfDependents_woe                       0.2616      0.077      3.387      0.001       0.110       0.413\n",
       "============================================================================================================\n",
       "\"\"\""
      ]
     },
     "execution_count": 54,
     "metadata": {},
     "output_type": "execute_result"
    }
   ],
   "source": [
    "glmodel=sm.GLM(Y_train,X_train,family=sm.families.Binomial()).fit()\n",
    "glmodel.summary() "
   ]
  },
  {
   "cell_type": "markdown",
   "metadata": {},
   "source": [
    "### 查看共线性"
   ]
  },
  {
   "cell_type": "markdown",
   "metadata": {},
   "source": [
    "- 计算每个预测变量的vif值,查看变量间是否存在共线性\n",
    "- VIF值越大，系数标准误会越来越大，置信区间就特别小\n",
    "- VIF在[1,3]之间，变量可以直接用；[3,7]之间，需稍微处理数据才能用；[7,10]之间，数据必须处理才能使用；大于10，出现共线性现象，需改变变量\n",
    "- 各变量VIF计算公式=1/(1-R方)，如计算X1的VIF时，把X1当Y,其他变量当X变量对X1做回归。"
   ]
  },
  {
   "cell_type": "code",
   "execution_count": 55,
   "metadata": {},
   "outputs": [
    {
     "name": "stdout",
     "output_type": "stream",
     "text": [
      "RevolvingUtilizationOfUnsecuredLines_woe    1.466352\n",
      "age_woe                                     1.205423\n",
      "NumberOfTime30_59DaysPastDueNotWorse_woe    1.347478\n",
      "DebtRatio_woe                               1.181903\n",
      "MonthlyIncome_woe                           1.122015\n",
      "NumberOfTimes90DaysLate_woe                 1.393705\n",
      "NumberRealEstateLoansOrLines_woe            1.140564\n",
      "NumberOfTime60_89DaysPastDueNotWorse_woe    1.339212\n",
      "NumberOfDependents_woe                      1.124348\n",
      "dtype: float64\n"
     ]
    }
   ],
   "source": [
    "vif=[variance_inflation_factor(X_train.iloc[:,1:].values,i\n",
    "                              ) for i in range(X_train.shape[1]-1)]\n",
    "print(pd.Series(dict(zip(X_train.columns[1:],vif))))"
   ]
  },
  {
   "cell_type": "markdown",
   "metadata": {},
   "source": [
    "- 可见不存在共线性"
   ]
  },
  {
   "cell_type": "markdown",
   "metadata": {},
   "source": [
    "## 生成评分卡"
   ]
  },
  {
   "cell_type": "markdown",
   "metadata": {},
   "source": [
    "- 根据逻辑回归模型和之前筛选得到的列表,给定参数,生成评分卡\n",
    "- 调整参数,使得评分卡分数范围满足需求"
   ]
  },
  {
   "cell_type": "code",
   "execution_count": 116,
   "metadata": {},
   "outputs": [
    {
     "data": {
      "text/plain": [
       "[300, 843]"
      ]
     },
     "execution_count": 116,
     "metadata": {},
     "output_type": "execute_result"
    }
   ],
   "source": [
    "scorecard=smscale(glmodel,x_list,pdo=43,score=1151,odds=10)\n",
    "scorecard.minmaxscore        #分数的上下限\n",
    "\n",
    "#pdo、score、odds用于确定一条直线，即分数范围即offset,即scorecard.minmaxscore \n",
    "#pdo、score、odds三个参数是按业务给的scorecard.minmaxscore的值来调整"
   ]
  },
  {
   "cell_type": "markdown",
   "metadata": {},
   "source": [
    "- 查看最终的评分卡"
   ]
  },
  {
   "cell_type": "code",
   "execution_count": 117,
   "metadata": {},
   "outputs": [
    {
     "data": {
      "text/html": [
       "<div>\n",
       "<style scoped>\n",
       "    .dataframe tbody tr th:only-of-type {\n",
       "        vertical-align: middle;\n",
       "    }\n",
       "\n",
       "    .dataframe tbody tr th {\n",
       "        vertical-align: top;\n",
       "    }\n",
       "\n",
       "    .dataframe thead th {\n",
       "        text-align: right;\n",
       "    }\n",
       "</style>\n",
       "<table border=\"1\" class=\"dataframe\">\n",
       "  <thead>\n",
       "    <tr style=\"text-align: right;\">\n",
       "      <th></th>\n",
       "      <th>Characteristic</th>\n",
       "      <th>Attribute</th>\n",
       "      <th>Points</th>\n",
       "    </tr>\n",
       "  </thead>\n",
       "  <tbody>\n",
       "    <tr>\n",
       "      <th>0</th>\n",
       "      <td>RevolvingUtilizationOfUnsecuredLines</td>\n",
       "      <td>(-0.001, 0.132]</td>\n",
       "      <td>126</td>\n",
       "    </tr>\n",
       "    <tr>\n",
       "      <th>1</th>\n",
       "      <td>RevolvingUtilizationOfUnsecuredLines</td>\n",
       "      <td>(0.132, 0.301]</td>\n",
       "      <td>102</td>\n",
       "    </tr>\n",
       "    <tr>\n",
       "      <th>2</th>\n",
       "      <td>RevolvingUtilizationOfUnsecuredLines</td>\n",
       "      <td>(0.301, 0.495]</td>\n",
       "      <td>82</td>\n",
       "    </tr>\n",
       "    <tr>\n",
       "      <th>3</th>\n",
       "      <td>RevolvingUtilizationOfUnsecuredLines</td>\n",
       "      <td>(0.495, 0.698]</td>\n",
       "      <td>62</td>\n",
       "    </tr>\n",
       "    <tr>\n",
       "      <th>4</th>\n",
       "      <td>RevolvingUtilizationOfUnsecuredLines</td>\n",
       "      <td>(0.698, 0.863]</td>\n",
       "      <td>46</td>\n",
       "    </tr>\n",
       "    <tr>\n",
       "      <th>5</th>\n",
       "      <td>RevolvingUtilizationOfUnsecuredLines</td>\n",
       "      <td>(0.863, 1.003]</td>\n",
       "      <td>31</td>\n",
       "    </tr>\n",
       "    <tr>\n",
       "      <th>6</th>\n",
       "      <td>RevolvingUtilizationOfUnsecuredLines</td>\n",
       "      <td>(1.003, 50708.0]</td>\n",
       "      <td>-2</td>\n",
       "    </tr>\n",
       "    <tr>\n",
       "      <th>0</th>\n",
       "      <td>age</td>\n",
       "      <td>(-0.001, 36.5]</td>\n",
       "      <td>62</td>\n",
       "    </tr>\n",
       "    <tr>\n",
       "      <th>1</th>\n",
       "      <td>age</td>\n",
       "      <td>(36.5, 43.5]</td>\n",
       "      <td>68</td>\n",
       "    </tr>\n",
       "    <tr>\n",
       "      <th>2</th>\n",
       "      <td>age</td>\n",
       "      <td>(43.5, 55.5]</td>\n",
       "      <td>73</td>\n",
       "    </tr>\n",
       "    <tr>\n",
       "      <th>3</th>\n",
       "      <td>age</td>\n",
       "      <td>(55.5, 62.5]</td>\n",
       "      <td>84</td>\n",
       "    </tr>\n",
       "    <tr>\n",
       "      <th>4</th>\n",
       "      <td>age</td>\n",
       "      <td>(62.5, 109.0]</td>\n",
       "      <td>102</td>\n",
       "    </tr>\n",
       "    <tr>\n",
       "      <th>0</th>\n",
       "      <td>NumberOfTime30_59DaysPastDueNotWorse</td>\n",
       "      <td>(-0.001, 0.5]</td>\n",
       "      <td>93</td>\n",
       "    </tr>\n",
       "    <tr>\n",
       "      <th>1</th>\n",
       "      <td>NumberOfTime30_59DaysPastDueNotWorse</td>\n",
       "      <td>(0.5, 1.5]</td>\n",
       "      <td>48</td>\n",
       "    </tr>\n",
       "    <tr>\n",
       "      <th>2</th>\n",
       "      <td>NumberOfTime30_59DaysPastDueNotWorse</td>\n",
       "      <td>(1.5, 2.5]</td>\n",
       "      <td>26</td>\n",
       "    </tr>\n",
       "    <tr>\n",
       "      <th>3</th>\n",
       "      <td>NumberOfTime30_59DaysPastDueNotWorse</td>\n",
       "      <td>(2.5, 3.5]</td>\n",
       "      <td>13</td>\n",
       "    </tr>\n",
       "    <tr>\n",
       "      <th>4</th>\n",
       "      <td>NumberOfTime30_59DaysPastDueNotWorse</td>\n",
       "      <td>(3.5, 98.0]</td>\n",
       "      <td>-2</td>\n",
       "    </tr>\n",
       "    <tr>\n",
       "      <th>0</th>\n",
       "      <td>DebtRatio</td>\n",
       "      <td>(-0.001, 1.3e-05]</td>\n",
       "      <td>61</td>\n",
       "    </tr>\n",
       "    <tr>\n",
       "      <th>1</th>\n",
       "      <td>DebtRatio</td>\n",
       "      <td>(1.3e-05, 0.0163]</td>\n",
       "      <td>107</td>\n",
       "    </tr>\n",
       "    <tr>\n",
       "      <th>2</th>\n",
       "      <td>DebtRatio</td>\n",
       "      <td>(0.0163, 0.423]</td>\n",
       "      <td>81</td>\n",
       "    </tr>\n",
       "    <tr>\n",
       "      <th>3</th>\n",
       "      <td>DebtRatio</td>\n",
       "      <td>(0.423, 0.654]</td>\n",
       "      <td>67</td>\n",
       "    </tr>\n",
       "    <tr>\n",
       "      <th>4</th>\n",
       "      <td>DebtRatio</td>\n",
       "      <td>(0.654, 3.973]</td>\n",
       "      <td>50</td>\n",
       "    </tr>\n",
       "    <tr>\n",
       "      <th>5</th>\n",
       "      <td>DebtRatio</td>\n",
       "      <td>(3.973, 329664.0]</td>\n",
       "      <td>85</td>\n",
       "    </tr>\n",
       "    <tr>\n",
       "      <th>0</th>\n",
       "      <td>MonthlyIncome</td>\n",
       "      <td>(-0.001, 930.5]</td>\n",
       "      <td>80</td>\n",
       "    </tr>\n",
       "    <tr>\n",
       "      <th>1</th>\n",
       "      <td>MonthlyIncome</td>\n",
       "      <td>(930.5, 3332.5]</td>\n",
       "      <td>71</td>\n",
       "    </tr>\n",
       "    <tr>\n",
       "      <th>2</th>\n",
       "      <td>MonthlyIncome</td>\n",
       "      <td>(3332.5, 5320.5]</td>\n",
       "      <td>74</td>\n",
       "    </tr>\n",
       "    <tr>\n",
       "      <th>3</th>\n",
       "      <td>MonthlyIncome</td>\n",
       "      <td>(5320.5, 6643.5]</td>\n",
       "      <td>76</td>\n",
       "    </tr>\n",
       "    <tr>\n",
       "      <th>4</th>\n",
       "      <td>MonthlyIncome</td>\n",
       "      <td>(6643.5, 3008750.0]</td>\n",
       "      <td>80</td>\n",
       "    </tr>\n",
       "    <tr>\n",
       "      <th>5</th>\n",
       "      <td>MonthlyIncome</td>\n",
       "      <td>nan</td>\n",
       "      <td>78</td>\n",
       "    </tr>\n",
       "    <tr>\n",
       "      <th>0</th>\n",
       "      <td>NumberOfTimes90DaysLate</td>\n",
       "      <td>(-0.001, 0.5]</td>\n",
       "      <td>89</td>\n",
       "    </tr>\n",
       "    <tr>\n",
       "      <th>1</th>\n",
       "      <td>NumberOfTimes90DaysLate</td>\n",
       "      <td>(0.5, 1.5]</td>\n",
       "      <td>12</td>\n",
       "    </tr>\n",
       "    <tr>\n",
       "      <th>2</th>\n",
       "      <td>NumberOfTimes90DaysLate</td>\n",
       "      <td>(1.5, 98.0]</td>\n",
       "      <td>-17</td>\n",
       "    </tr>\n",
       "    <tr>\n",
       "      <th>0</th>\n",
       "      <td>NumberRealEstateLoansOrLines</td>\n",
       "      <td>(-0.001, 0.5]</td>\n",
       "      <td>68</td>\n",
       "    </tr>\n",
       "    <tr>\n",
       "      <th>1</th>\n",
       "      <td>NumberRealEstateLoansOrLines</td>\n",
       "      <td>(0.5, 3.5]</td>\n",
       "      <td>84</td>\n",
       "    </tr>\n",
       "    <tr>\n",
       "      <th>2</th>\n",
       "      <td>NumberRealEstateLoansOrLines</td>\n",
       "      <td>(3.5, 54.0]</td>\n",
       "      <td>57</td>\n",
       "    </tr>\n",
       "    <tr>\n",
       "      <th>0</th>\n",
       "      <td>NumberOfTime60_89DaysPastDueNotWorse</td>\n",
       "      <td>(-0.001, 0.5]</td>\n",
       "      <td>83</td>\n",
       "    </tr>\n",
       "    <tr>\n",
       "      <th>1</th>\n",
       "      <td>NumberOfTime60_89DaysPastDueNotWorse</td>\n",
       "      <td>(0.5, 1.5]</td>\n",
       "      <td>34</td>\n",
       "    </tr>\n",
       "    <tr>\n",
       "      <th>2</th>\n",
       "      <td>NumberOfTime60_89DaysPastDueNotWorse</td>\n",
       "      <td>(1.5, 98.0]</td>\n",
       "      <td>12</td>\n",
       "    </tr>\n",
       "    <tr>\n",
       "      <th>0</th>\n",
       "      <td>NumberOfDependents</td>\n",
       "      <td>(-0.001, 0.5]</td>\n",
       "      <td>79</td>\n",
       "    </tr>\n",
       "    <tr>\n",
       "      <th>1</th>\n",
       "      <td>NumberOfDependents</td>\n",
       "      <td>(0.5, 1.5]</td>\n",
       "      <td>75</td>\n",
       "    </tr>\n",
       "    <tr>\n",
       "      <th>2</th>\n",
       "      <td>NumberOfDependents</td>\n",
       "      <td>(1.5, 2.5]</td>\n",
       "      <td>73</td>\n",
       "    </tr>\n",
       "    <tr>\n",
       "      <th>3</th>\n",
       "      <td>NumberOfDependents</td>\n",
       "      <td>(2.5, 3.5]</td>\n",
       "      <td>71</td>\n",
       "    </tr>\n",
       "    <tr>\n",
       "      <th>4</th>\n",
       "      <td>NumberOfDependents</td>\n",
       "      <td>(3.5, 20.0]</td>\n",
       "      <td>69</td>\n",
       "    </tr>\n",
       "  </tbody>\n",
       "</table>\n",
       "</div>"
      ],
      "text/plain": [
       "                         Characteristic            Attribute  Points\n",
       "0  RevolvingUtilizationOfUnsecuredLines      (-0.001, 0.132]     126\n",
       "1  RevolvingUtilizationOfUnsecuredLines       (0.132, 0.301]     102\n",
       "2  RevolvingUtilizationOfUnsecuredLines       (0.301, 0.495]      82\n",
       "3  RevolvingUtilizationOfUnsecuredLines       (0.495, 0.698]      62\n",
       "4  RevolvingUtilizationOfUnsecuredLines       (0.698, 0.863]      46\n",
       "5  RevolvingUtilizationOfUnsecuredLines       (0.863, 1.003]      31\n",
       "6  RevolvingUtilizationOfUnsecuredLines     (1.003, 50708.0]      -2\n",
       "0                                   age       (-0.001, 36.5]      62\n",
       "1                                   age         (36.5, 43.5]      68\n",
       "2                                   age         (43.5, 55.5]      73\n",
       "3                                   age         (55.5, 62.5]      84\n",
       "4                                   age        (62.5, 109.0]     102\n",
       "0  NumberOfTime30_59DaysPastDueNotWorse        (-0.001, 0.5]      93\n",
       "1  NumberOfTime30_59DaysPastDueNotWorse           (0.5, 1.5]      48\n",
       "2  NumberOfTime30_59DaysPastDueNotWorse           (1.5, 2.5]      26\n",
       "3  NumberOfTime30_59DaysPastDueNotWorse           (2.5, 3.5]      13\n",
       "4  NumberOfTime30_59DaysPastDueNotWorse          (3.5, 98.0]      -2\n",
       "0                             DebtRatio    (-0.001, 1.3e-05]      61\n",
       "1                             DebtRatio    (1.3e-05, 0.0163]     107\n",
       "2                             DebtRatio      (0.0163, 0.423]      81\n",
       "3                             DebtRatio       (0.423, 0.654]      67\n",
       "4                             DebtRatio       (0.654, 3.973]      50\n",
       "5                             DebtRatio    (3.973, 329664.0]      85\n",
       "0                         MonthlyIncome      (-0.001, 930.5]      80\n",
       "1                         MonthlyIncome      (930.5, 3332.5]      71\n",
       "2                         MonthlyIncome     (3332.5, 5320.5]      74\n",
       "3                         MonthlyIncome     (5320.5, 6643.5]      76\n",
       "4                         MonthlyIncome  (6643.5, 3008750.0]      80\n",
       "5                         MonthlyIncome                  nan      78\n",
       "0               NumberOfTimes90DaysLate        (-0.001, 0.5]      89\n",
       "1               NumberOfTimes90DaysLate           (0.5, 1.5]      12\n",
       "2               NumberOfTimes90DaysLate          (1.5, 98.0]     -17\n",
       "0          NumberRealEstateLoansOrLines        (-0.001, 0.5]      68\n",
       "1          NumberRealEstateLoansOrLines           (0.5, 3.5]      84\n",
       "2          NumberRealEstateLoansOrLines          (3.5, 54.0]      57\n",
       "0  NumberOfTime60_89DaysPastDueNotWorse        (-0.001, 0.5]      83\n",
       "1  NumberOfTime60_89DaysPastDueNotWorse           (0.5, 1.5]      34\n",
       "2  NumberOfTime60_89DaysPastDueNotWorse          (1.5, 98.0]      12\n",
       "0                    NumberOfDependents        (-0.001, 0.5]      79\n",
       "1                    NumberOfDependents           (0.5, 1.5]      75\n",
       "2                    NumberOfDependents           (1.5, 2.5]      73\n",
       "3                    NumberOfDependents           (2.5, 3.5]      71\n",
       "4                    NumberOfDependents          (3.5, 20.0]      69"
      ]
     },
     "execution_count": 117,
     "metadata": {},
     "output_type": "execute_result"
    }
   ],
   "source": [
    "scorecard.ScoreCard\n",
    "\n",
    "#pdo:=factor*ln2\n",
    "#无pdo时：score=offset+factor*ln(odds)\n",
    "#有pdo时，score+pdo=offset+factor*ln(2*odds)\n",
    "#所以，score=offset+(pdo/ln2)*ln(odds)\n",
    "#计算offset:offset=score-(pdo/ln2)*ln(odds)=1150-(43/ln2)*ln10\n",
    "#计算各woe的分值offset/n-factor*(β0/n+β*WOE值)，其中n是特征数，factor=pdo/ln2,β0是模型常数，β是对应特征在模型中的系数"
   ]
  },
  {
   "cell_type": "markdown",
   "metadata": {},
   "source": [
    "- 评分卡写出到csv文件"
   ]
  },
  {
   "cell_type": "code",
   "execution_count": 118,
   "metadata": {},
   "outputs": [],
   "source": [
    "if not os.path.exists('scorecard_result'):\n",
    "    os.makedirs('scorecard_result')\n",
    "    \n",
    "scorecard.ScoreCard.to_csv('scorecard_result/ScoreCard.csv',index=False)"
   ]
  },
  {
   "cell_type": "markdown",
   "metadata": {},
   "source": [
    "## 模型评估"
   ]
  },
  {
   "cell_type": "markdown",
   "metadata": {},
   "source": [
    "- 根据之前的分卡对象得到测试集分数"
   ]
  },
  {
   "cell_type": "code",
   "execution_count": 119,
   "metadata": {},
   "outputs": [],
   "source": [
    "testscore=smscoregen(scorecard,X_test)"
   ]
  },
  {
   "cell_type": "code",
   "execution_count": 120,
   "metadata": {},
   "outputs": [
    {
     "data": {
      "text/html": [
       "<div>\n",
       "<style scoped>\n",
       "    .dataframe tbody tr th:only-of-type {\n",
       "        vertical-align: middle;\n",
       "    }\n",
       "\n",
       "    .dataframe tbody tr th {\n",
       "        vertical-align: top;\n",
       "    }\n",
       "\n",
       "    .dataframe thead th {\n",
       "        text-align: right;\n",
       "    }\n",
       "</style>\n",
       "<table border=\"1\" class=\"dataframe\">\n",
       "  <thead>\n",
       "    <tr style=\"text-align: right;\">\n",
       "      <th></th>\n",
       "      <th>const</th>\n",
       "      <th>RevolvingUtilizationOfUnsecuredLines_woe</th>\n",
       "      <th>age_woe</th>\n",
       "      <th>NumberOfTime30_59DaysPastDueNotWorse_woe</th>\n",
       "      <th>DebtRatio_woe</th>\n",
       "      <th>MonthlyIncome_woe</th>\n",
       "      <th>NumberOfTimes90DaysLate_woe</th>\n",
       "      <th>NumberRealEstateLoansOrLines_woe</th>\n",
       "      <th>NumberOfTime60_89DaysPastDueNotWorse_woe</th>\n",
       "      <th>NumberOfDependents_woe</th>\n",
       "      <th>RevolvingUtilizationOfUnsecuredLines_Score</th>\n",
       "      <th>age_Score</th>\n",
       "      <th>NumberOfTime30_59DaysPastDueNotWorse_Score</th>\n",
       "      <th>DebtRatio_Score</th>\n",
       "      <th>MonthlyIncome_Score</th>\n",
       "      <th>NumberOfTimes90DaysLate_Score</th>\n",
       "      <th>NumberRealEstateLoansOrLines_Score</th>\n",
       "      <th>NumberOfTime60_89DaysPastDueNotWorse_Score</th>\n",
       "      <th>NumberOfDependents_Score</th>\n",
       "      <th>Score</th>\n",
       "    </tr>\n",
       "  </thead>\n",
       "  <tbody>\n",
       "    <tr>\n",
       "      <th>0</th>\n",
       "      <td>1.0</td>\n",
       "      <td>1.3365</td>\n",
       "      <td>-0.1385</td>\n",
       "      <td>-0.9011</td>\n",
       "      <td>0.1117</td>\n",
       "      <td>0.3397</td>\n",
       "      <td>0.3890</td>\n",
       "      <td>0.2152</td>\n",
       "      <td>0.2874</td>\n",
       "      <td>-0.2987</td>\n",
       "      <td>126</td>\n",
       "      <td>73</td>\n",
       "      <td>48</td>\n",
       "      <td>81</td>\n",
       "      <td>80</td>\n",
       "      <td>89</td>\n",
       "      <td>84</td>\n",
       "      <td>83</td>\n",
       "      <td>71</td>\n",
       "      <td>735</td>\n",
       "    </tr>\n",
       "    <tr>\n",
       "      <th>1</th>\n",
       "      <td>1.0</td>\n",
       "      <td>1.3365</td>\n",
       "      <td>-0.3249</td>\n",
       "      <td>-0.9011</td>\n",
       "      <td>0.1117</td>\n",
       "      <td>0.3397</td>\n",
       "      <td>-1.9577</td>\n",
       "      <td>0.2152</td>\n",
       "      <td>-1.8339</td>\n",
       "      <td>-0.1001</td>\n",
       "      <td>126</td>\n",
       "      <td>68</td>\n",
       "      <td>48</td>\n",
       "      <td>81</td>\n",
       "      <td>80</td>\n",
       "      <td>12</td>\n",
       "      <td>84</td>\n",
       "      <td>34</td>\n",
       "      <td>75</td>\n",
       "      <td>608</td>\n",
       "    </tr>\n",
       "    <tr>\n",
       "      <th>2</th>\n",
       "      <td>1.0</td>\n",
       "      <td>1.3365</td>\n",
       "      <td>-0.1385</td>\n",
       "      <td>0.5408</td>\n",
       "      <td>0.6951</td>\n",
       "      <td>0.3397</td>\n",
       "      <td>0.3890</td>\n",
       "      <td>-0.2413</td>\n",
       "      <td>0.2874</td>\n",
       "      <td>-0.2987</td>\n",
       "      <td>126</td>\n",
       "      <td>73</td>\n",
       "      <td>93</td>\n",
       "      <td>107</td>\n",
       "      <td>80</td>\n",
       "      <td>89</td>\n",
       "      <td>68</td>\n",
       "      <td>83</td>\n",
       "      <td>71</td>\n",
       "      <td>790</td>\n",
       "    </tr>\n",
       "    <tr>\n",
       "      <th>3</th>\n",
       "      <td>1.0</td>\n",
       "      <td>-0.8258</td>\n",
       "      <td>-0.3249</td>\n",
       "      <td>0.5408</td>\n",
       "      <td>-0.5947</td>\n",
       "      <td>0.3397</td>\n",
       "      <td>0.3890</td>\n",
       "      <td>0.2152</td>\n",
       "      <td>0.2874</td>\n",
       "      <td>-0.2068</td>\n",
       "      <td>46</td>\n",
       "      <td>68</td>\n",
       "      <td>93</td>\n",
       "      <td>50</td>\n",
       "      <td>80</td>\n",
       "      <td>89</td>\n",
       "      <td>84</td>\n",
       "      <td>83</td>\n",
       "      <td>73</td>\n",
       "      <td>666</td>\n",
       "    </tr>\n",
       "    <tr>\n",
       "      <th>4</th>\n",
       "      <td>1.0</td>\n",
       "      <td>1.3365</td>\n",
       "      <td>0.9583</td>\n",
       "      <td>0.5408</td>\n",
       "      <td>0.1117</td>\n",
       "      <td>-0.1884</td>\n",
       "      <td>0.3890</td>\n",
       "      <td>0.2152</td>\n",
       "      <td>0.2874</td>\n",
       "      <td>0.1489</td>\n",
       "      <td>126</td>\n",
       "      <td>102</td>\n",
       "      <td>93</td>\n",
       "      <td>81</td>\n",
       "      <td>74</td>\n",
       "      <td>89</td>\n",
       "      <td>84</td>\n",
       "      <td>83</td>\n",
       "      <td>79</td>\n",
       "      <td>811</td>\n",
       "    </tr>\n",
       "  </tbody>\n",
       "</table>\n",
       "</div>"
      ],
      "text/plain": [
       "   const  RevolvingUtilizationOfUnsecuredLines_woe  age_woe  \\\n",
       "0    1.0                                    1.3365  -0.1385   \n",
       "1    1.0                                    1.3365  -0.3249   \n",
       "2    1.0                                    1.3365  -0.1385   \n",
       "3    1.0                                   -0.8258  -0.3249   \n",
       "4    1.0                                    1.3365   0.9583   \n",
       "\n",
       "   NumberOfTime30_59DaysPastDueNotWorse_woe  DebtRatio_woe  MonthlyIncome_woe  \\\n",
       "0                                   -0.9011         0.1117             0.3397   \n",
       "1                                   -0.9011         0.1117             0.3397   \n",
       "2                                    0.5408         0.6951             0.3397   \n",
       "3                                    0.5408        -0.5947             0.3397   \n",
       "4                                    0.5408         0.1117            -0.1884   \n",
       "\n",
       "   NumberOfTimes90DaysLate_woe  NumberRealEstateLoansOrLines_woe  \\\n",
       "0                       0.3890                            0.2152   \n",
       "1                      -1.9577                            0.2152   \n",
       "2                       0.3890                           -0.2413   \n",
       "3                       0.3890                            0.2152   \n",
       "4                       0.3890                            0.2152   \n",
       "\n",
       "   NumberOfTime60_89DaysPastDueNotWorse_woe  NumberOfDependents_woe  \\\n",
       "0                                    0.2874                 -0.2987   \n",
       "1                                   -1.8339                 -0.1001   \n",
       "2                                    0.2874                 -0.2987   \n",
       "3                                    0.2874                 -0.2068   \n",
       "4                                    0.2874                  0.1489   \n",
       "\n",
       "   RevolvingUtilizationOfUnsecuredLines_Score  age_Score  \\\n",
       "0                                         126         73   \n",
       "1                                         126         68   \n",
       "2                                         126         73   \n",
       "3                                          46         68   \n",
       "4                                         126        102   \n",
       "\n",
       "   NumberOfTime30_59DaysPastDueNotWorse_Score  DebtRatio_Score  \\\n",
       "0                                          48               81   \n",
       "1                                          48               81   \n",
       "2                                          93              107   \n",
       "3                                          93               50   \n",
       "4                                          93               81   \n",
       "\n",
       "   MonthlyIncome_Score  NumberOfTimes90DaysLate_Score  \\\n",
       "0                   80                             89   \n",
       "1                   80                             12   \n",
       "2                   80                             89   \n",
       "3                   80                             89   \n",
       "4                   74                             89   \n",
       "\n",
       "   NumberRealEstateLoansOrLines_Score  \\\n",
       "0                                  84   \n",
       "1                                  84   \n",
       "2                                  68   \n",
       "3                                  84   \n",
       "4                                  84   \n",
       "\n",
       "   NumberOfTime60_89DaysPastDueNotWorse_Score  NumberOfDependents_Score  Score  \n",
       "0                                          83                        71    735  \n",
       "1                                          34                        75    608  \n",
       "2                                          83                        71    790  \n",
       "3                                          83                        73    666  \n",
       "4                                          83                        79    811  "
      ]
     },
     "execution_count": 120,
     "metadata": {},
     "output_type": "execute_result"
    }
   ],
   "source": [
    "testscore.head()"
   ]
  },
  {
   "cell_type": "markdown",
   "metadata": {},
   "source": [
    "- 通过测试集中真实的y,和预测的分数,绘制ks曲线\n",
    "- 得到对应的最优阈值以及相关度量"
   ]
  },
  {
   "cell_type": "code",
   "execution_count": 121,
   "metadata": {},
   "outputs": [
    {
     "name": "stdout",
     "output_type": "stream",
     "text": [
      "The optimal cutoff(for ks) is 689.0\n",
      "The maximum value of ks is: 0.5636\n",
      "Score      689.000000\n",
      "TP       33512.000000\n",
      "FP         702.000000\n",
      "FN        8344.000000\n",
      "TN        2260.000000\n",
      "rpp          0.763399\n",
      "tpr          0.800650\n",
      "fpr          0.237002\n",
      "ppv          0.979482\n",
      "acc          0.798161\n",
      "f            0.881083\n",
      "ks           0.563648\n",
      "lift         1.048797\n",
      "Name: 34213, dtype: float64\n"
     ]
    },
    {
     "data": {
      "image/png": "[encoded data removed]",
      "text/plain": [
       "<Figure size 432x288 with 1 Axes>"
      ]
     },
     "metadata": {
      "needs_background": "light"
     },
     "output_type": "display_data"
    }
   ],
   "source": [
    "evaluate1=evaluate01(Y_test,testscore['Score'],index='ks',plot='ks')"
   ]
  },
  {
   "cell_type": "markdown",
   "metadata": {},
   "source": [
    "- 绘制ROC曲线"
   ]
  },
  {
   "cell_type": "code",
   "execution_count": 122,
   "metadata": {},
   "outputs": [
    {
     "name": "stdout",
     "output_type": "stream",
     "text": [
      "The optimal cutoff(for ks) is 689.0\n",
      "The maximum value of ks is: 0.5636\n",
      "Score      689.000000\n",
      "TP       33512.000000\n",
      "FP         702.000000\n",
      "FN        8344.000000\n",
      "TN        2260.000000\n",
      "rpp          0.763399\n",
      "tpr          0.800650\n",
      "fpr          0.237002\n",
      "ppv          0.979482\n",
      "acc          0.798161\n",
      "f            0.881083\n",
      "ks           0.563648\n",
      "lift         1.048797\n",
      "Name: 34213, dtype: float64\n"
     ]
    },
    {
     "data": {
      "image/png": "[encoded data removed]",
      "text/plain": [
       "<Figure size 432x288 with 1 Axes>"
      ]
     },
     "metadata": {
      "needs_background": "light"
     },
     "output_type": "display_data"
    }
   ],
   "source": [
    "evaluate2=evaluate01(Y_test,testscore['Score'],index='ks',plot='roc')"
   ]
  },
  {
   "cell_type": "markdown",
   "metadata": {},
   "source": [
    "## 新数据预测"
   ]
  },
  {
   "cell_type": "markdown",
   "metadata": {},
   "source": [
    "- 读取待预测的新数据"
   ]
  },
  {
   "cell_type": "code",
   "execution_count": 123,
   "metadata": {},
   "outputs": [],
   "source": [
    "test_data=pd.read_csv('data/CreditScore_data/give-me-some-credit-dataset/cs-test.csv',index_col=0)"
   ]
  },
  {
   "cell_type": "code",
   "execution_count": 124,
   "metadata": {},
   "outputs": [
    {
     "data": {
      "text/html": [
       "<div>\n",
       "<style scoped>\n",
       "    .dataframe tbody tr th:only-of-type {\n",
       "        vertical-align: middle;\n",
       "    }\n",
       "\n",
       "    .dataframe tbody tr th {\n",
       "        vertical-align: top;\n",
       "    }\n",
       "\n",
       "    .dataframe thead th {\n",
       "        text-align: right;\n",
       "    }\n",
       "</style>\n",
       "<table border=\"1\" class=\"dataframe\">\n",
       "  <thead>\n",
       "    <tr style=\"text-align: right;\">\n",
       "      <th></th>\n",
       "      <th>SeriousDlqin2yrs</th>\n",
       "      <th>RevolvingUtilizationOfUnsecuredLines</th>\n",
       "      <th>age</th>\n",
       "      <th>NumberOfTime30-59DaysPastDueNotWorse</th>\n",
       "      <th>DebtRatio</th>\n",
       "      <th>MonthlyIncome</th>\n",
       "      <th>NumberOfOpenCreditLinesAndLoans</th>\n",
       "      <th>NumberOfTimes90DaysLate</th>\n",
       "      <th>NumberRealEstateLoansOrLines</th>\n",
       "      <th>NumberOfTime60-89DaysPastDueNotWorse</th>\n",
       "      <th>NumberOfDependents</th>\n",
       "    </tr>\n",
       "  </thead>\n",
       "  <tbody>\n",
       "    <tr>\n",
       "      <th>1</th>\n",
       "      <td>NaN</td>\n",
       "      <td>0.885519</td>\n",
       "      <td>43</td>\n",
       "      <td>0</td>\n",
       "      <td>0.177513</td>\n",
       "      <td>5700.0</td>\n",
       "      <td>4</td>\n",
       "      <td>0</td>\n",
       "      <td>0</td>\n",
       "      <td>0</td>\n",
       "      <td>0.0</td>\n",
       "    </tr>\n",
       "    <tr>\n",
       "      <th>2</th>\n",
       "      <td>NaN</td>\n",
       "      <td>0.463295</td>\n",
       "      <td>57</td>\n",
       "      <td>0</td>\n",
       "      <td>0.527237</td>\n",
       "      <td>9141.0</td>\n",
       "      <td>15</td>\n",
       "      <td>0</td>\n",
       "      <td>4</td>\n",
       "      <td>0</td>\n",
       "      <td>2.0</td>\n",
       "    </tr>\n",
       "    <tr>\n",
       "      <th>3</th>\n",
       "      <td>NaN</td>\n",
       "      <td>0.043275</td>\n",
       "      <td>59</td>\n",
       "      <td>0</td>\n",
       "      <td>0.687648</td>\n",
       "      <td>5083.0</td>\n",
       "      <td>12</td>\n",
       "      <td>0</td>\n",
       "      <td>1</td>\n",
       "      <td>0</td>\n",
       "      <td>2.0</td>\n",
       "    </tr>\n",
       "    <tr>\n",
       "      <th>4</th>\n",
       "      <td>NaN</td>\n",
       "      <td>0.280308</td>\n",
       "      <td>38</td>\n",
       "      <td>1</td>\n",
       "      <td>0.925961</td>\n",
       "      <td>3200.0</td>\n",
       "      <td>7</td>\n",
       "      <td>0</td>\n",
       "      <td>2</td>\n",
       "      <td>0</td>\n",
       "      <td>0.0</td>\n",
       "    </tr>\n",
       "    <tr>\n",
       "      <th>5</th>\n",
       "      <td>NaN</td>\n",
       "      <td>1.000000</td>\n",
       "      <td>27</td>\n",
       "      <td>0</td>\n",
       "      <td>0.019917</td>\n",
       "      <td>3865.0</td>\n",
       "      <td>4</td>\n",
       "      <td>0</td>\n",
       "      <td>0</td>\n",
       "      <td>0</td>\n",
       "      <td>1.0</td>\n",
       "    </tr>\n",
       "  </tbody>\n",
       "</table>\n",
       "</div>"
      ],
      "text/plain": [
       "   SeriousDlqin2yrs  RevolvingUtilizationOfUnsecuredLines  age  \\\n",
       "1               NaN                              0.885519   43   \n",
       "2               NaN                              0.463295   57   \n",
       "3               NaN                              0.043275   59   \n",
       "4               NaN                              0.280308   38   \n",
       "5               NaN                              1.000000   27   \n",
       "\n",
       "   NumberOfTime30-59DaysPastDueNotWorse  DebtRatio  MonthlyIncome  \\\n",
       "1                                     0   0.177513         5700.0   \n",
       "2                                     0   0.527237         9141.0   \n",
       "3                                     0   0.687648         5083.0   \n",
       "4                                     1   0.925961         3200.0   \n",
       "5                                     0   0.019917         3865.0   \n",
       "\n",
       "   NumberOfOpenCreditLinesAndLoans  NumberOfTimes90DaysLate  \\\n",
       "1                                4                        0   \n",
       "2                               15                        0   \n",
       "3                               12                        0   \n",
       "4                                7                        0   \n",
       "5                                4                        0   \n",
       "\n",
       "   NumberRealEstateLoansOrLines  NumberOfTime60-89DaysPastDueNotWorse  \\\n",
       "1                             0                                     0   \n",
       "2                             4                                     0   \n",
       "3                             1                                     0   \n",
       "4                             2                                     0   \n",
       "5                             0                                     0   \n",
       "\n",
       "   NumberOfDependents  \n",
       "1                 0.0  \n",
       "2                 2.0  \n",
       "3                 2.0  \n",
       "4                 0.0  \n",
       "5                 1.0  "
      ]
     },
     "execution_count": 124,
     "metadata": {},
     "output_type": "execute_result"
    }
   ],
   "source": [
    "test_data.head()"
   ]
  },
  {
   "cell_type": "markdown",
   "metadata": {},
   "source": [
    "- 对数据进行与训练数据相同的清洗,即使用之前定义的清洗函数"
   ]
  },
  {
   "cell_type": "code",
   "execution_count": 488,
   "metadata": {},
   "outputs": [
    {
     "data": {
      "text/plain": [
       "(101503, 11)"
      ]
     },
     "execution_count": 488,
     "metadata": {},
     "output_type": "execute_result"
    }
   ],
   "source": [
    "test_data.shape"
   ]
  },
  {
   "cell_type": "code",
   "execution_count": 125,
   "metadata": {},
   "outputs": [],
   "source": [
    "test0=datacleaning(test_data)"
   ]
  },
  {
   "cell_type": "code",
   "execution_count": 490,
   "metadata": {},
   "outputs": [
    {
     "data": {
      "text/plain": [
       "(101503, 11)"
      ]
     },
     "execution_count": 490,
     "metadata": {},
     "output_type": "execute_result"
    }
   ],
   "source": [
    "test0.shape"
   ]
  },
  {
   "cell_type": "markdown",
   "metadata": {},
   "source": [
    "- 由之前得到的分箱对象生成包含woe列的数据"
   ]
  },
  {
   "cell_type": "code",
   "execution_count": 126,
   "metadata": {},
   "outputs": [
    {
     "data": {
      "text/html": [
       "<div>\n",
       "<style scoped>\n",
       "    .dataframe tbody tr th:only-of-type {\n",
       "        vertical-align: middle;\n",
       "    }\n",
       "\n",
       "    .dataframe tbody tr th {\n",
       "        vertical-align: top;\n",
       "    }\n",
       "\n",
       "    .dataframe thead th {\n",
       "        text-align: right;\n",
       "    }\n",
       "</style>\n",
       "<table border=\"1\" class=\"dataframe\">\n",
       "  <thead>\n",
       "    <tr style=\"text-align: right;\">\n",
       "      <th></th>\n",
       "      <th>SeriousDlqin2yrs</th>\n",
       "      <th>RevolvingUtilizationOfUnsecuredLines</th>\n",
       "      <th>age</th>\n",
       "      <th>NumberOfTime30_59DaysPastDueNotWorse</th>\n",
       "      <th>DebtRatio</th>\n",
       "      <th>MonthlyIncome</th>\n",
       "      <th>NumberOfOpenCreditLinesAndLoans</th>\n",
       "      <th>NumberOfTimes90DaysLate</th>\n",
       "      <th>NumberRealEstateLoansOrLines</th>\n",
       "      <th>NumberOfTime60_89DaysPastDueNotWorse</th>\n",
       "      <th>NumberOfDependents</th>\n",
       "      <th>RevolvingUtilizationOfUnsecuredLines_woe</th>\n",
       "      <th>age_woe</th>\n",
       "      <th>NumberOfTime30_59DaysPastDueNotWorse_woe</th>\n",
       "      <th>DebtRatio_woe</th>\n",
       "      <th>MonthlyIncome_woe</th>\n",
       "      <th>NumberOfTimes90DaysLate_woe</th>\n",
       "      <th>NumberRealEstateLoansOrLines_woe</th>\n",
       "      <th>NumberOfTime60_89DaysPastDueNotWorse_woe</th>\n",
       "      <th>NumberOfDependents_woe</th>\n",
       "    </tr>\n",
       "  </thead>\n",
       "  <tbody>\n",
       "    <tr>\n",
       "      <th>1</th>\n",
       "      <td>NaN</td>\n",
       "      <td>0.885519</td>\n",
       "      <td>43</td>\n",
       "      <td>0</td>\n",
       "      <td>0.177513</td>\n",
       "      <td>5700.0</td>\n",
       "      <td>4</td>\n",
       "      <td>0</td>\n",
       "      <td>0</td>\n",
       "      <td>0</td>\n",
       "      <td>0.0</td>\n",
       "      <td>-1.2175</td>\n",
       "      <td>-0.3249</td>\n",
       "      <td>0.5408</td>\n",
       "      <td>0.1117</td>\n",
       "      <td>0.0025</td>\n",
       "      <td>0.389</td>\n",
       "      <td>-0.2413</td>\n",
       "      <td>0.2874</td>\n",
       "      <td>0.1489</td>\n",
       "    </tr>\n",
       "    <tr>\n",
       "      <th>2</th>\n",
       "      <td>NaN</td>\n",
       "      <td>0.463295</td>\n",
       "      <td>57</td>\n",
       "      <td>0</td>\n",
       "      <td>0.527237</td>\n",
       "      <td>9141.0</td>\n",
       "      <td>15</td>\n",
       "      <td>0</td>\n",
       "      <td>4</td>\n",
       "      <td>0</td>\n",
       "      <td>2.0</td>\n",
       "      <td>0.1515</td>\n",
       "      <td>0.3025</td>\n",
       "      <td>0.5408</td>\n",
       "      <td>-0.2128</td>\n",
       "      <td>0.3397</td>\n",
       "      <td>0.389</td>\n",
       "      <td>-0.5904</td>\n",
       "      <td>0.2874</td>\n",
       "      <td>-0.2068</td>\n",
       "    </tr>\n",
       "    <tr>\n",
       "      <th>3</th>\n",
       "      <td>NaN</td>\n",
       "      <td>0.043275</td>\n",
       "      <td>59</td>\n",
       "      <td>0</td>\n",
       "      <td>0.687648</td>\n",
       "      <td>5083.0</td>\n",
       "      <td>12</td>\n",
       "      <td>0</td>\n",
       "      <td>1</td>\n",
       "      <td>0</td>\n",
       "      <td>2.0</td>\n",
       "      <td>1.3365</td>\n",
       "      <td>0.3025</td>\n",
       "      <td>0.5408</td>\n",
       "      <td>-0.5947</td>\n",
       "      <td>-0.1884</td>\n",
       "      <td>0.389</td>\n",
       "      <td>0.2152</td>\n",
       "      <td>0.2874</td>\n",
       "      <td>-0.2068</td>\n",
       "    </tr>\n",
       "    <tr>\n",
       "      <th>4</th>\n",
       "      <td>NaN</td>\n",
       "      <td>0.280308</td>\n",
       "      <td>38</td>\n",
       "      <td>1</td>\n",
       "      <td>0.925961</td>\n",
       "      <td>3200.0</td>\n",
       "      <td>7</td>\n",
       "      <td>0</td>\n",
       "      <td>2</td>\n",
       "      <td>0</td>\n",
       "      <td>0.0</td>\n",
       "      <td>0.7032</td>\n",
       "      <td>-0.3249</td>\n",
       "      <td>-0.9011</td>\n",
       "      <td>-0.5947</td>\n",
       "      <td>-0.4417</td>\n",
       "      <td>0.389</td>\n",
       "      <td>0.2152</td>\n",
       "      <td>0.2874</td>\n",
       "      <td>0.1489</td>\n",
       "    </tr>\n",
       "    <tr>\n",
       "      <th>5</th>\n",
       "      <td>NaN</td>\n",
       "      <td>1.000000</td>\n",
       "      <td>27</td>\n",
       "      <td>0</td>\n",
       "      <td>0.019917</td>\n",
       "      <td>3865.0</td>\n",
       "      <td>4</td>\n",
       "      <td>0</td>\n",
       "      <td>0</td>\n",
       "      <td>0</td>\n",
       "      <td>1.0</td>\n",
       "      <td>-1.2175</td>\n",
       "      <td>-0.5507</td>\n",
       "      <td>0.5408</td>\n",
       "      <td>0.1117</td>\n",
       "      <td>-0.1884</td>\n",
       "      <td>0.389</td>\n",
       "      <td>-0.2413</td>\n",
       "      <td>0.2874</td>\n",
       "      <td>-0.1001</td>\n",
       "    </tr>\n",
       "  </tbody>\n",
       "</table>\n",
       "</div>"
      ],
      "text/plain": [
       "   SeriousDlqin2yrs  RevolvingUtilizationOfUnsecuredLines  age  \\\n",
       "1               NaN                              0.885519   43   \n",
       "2               NaN                              0.463295   57   \n",
       "3               NaN                              0.043275   59   \n",
       "4               NaN                              0.280308   38   \n",
       "5               NaN                              1.000000   27   \n",
       "\n",
       "   NumberOfTime30_59DaysPastDueNotWorse  DebtRatio  MonthlyIncome  \\\n",
       "1                                     0   0.177513         5700.0   \n",
       "2                                     0   0.527237         9141.0   \n",
       "3                                     0   0.687648         5083.0   \n",
       "4                                     1   0.925961         3200.0   \n",
       "5                                     0   0.019917         3865.0   \n",
       "\n",
       "   NumberOfOpenCreditLinesAndLoans  NumberOfTimes90DaysLate  \\\n",
       "1                                4                        0   \n",
       "2                               15                        0   \n",
       "3                               12                        0   \n",
       "4                                7                        0   \n",
       "5                                4                        0   \n",
       "\n",
       "   NumberRealEstateLoansOrLines  NumberOfTime60_89DaysPastDueNotWorse  \\\n",
       "1                             0                                     0   \n",
       "2                             4                                     0   \n",
       "3                             1                                     0   \n",
       "4                             2                                     0   \n",
       "5                             0                                     0   \n",
       "\n",
       "   NumberOfDependents  RevolvingUtilizationOfUnsecuredLines_woe  age_woe  \\\n",
       "1                 0.0                                   -1.2175  -0.3249   \n",
       "2                 2.0                                    0.1515   0.3025   \n",
       "3                 2.0                                    1.3365   0.3025   \n",
       "4                 0.0                                    0.7032  -0.3249   \n",
       "5                 1.0                                   -1.2175  -0.5507   \n",
       "\n",
       "   NumberOfTime30_59DaysPastDueNotWorse_woe  DebtRatio_woe  MonthlyIncome_woe  \\\n",
       "1                                    0.5408         0.1117             0.0025   \n",
       "2                                    0.5408        -0.2128             0.3397   \n",
       "3                                    0.5408        -0.5947            -0.1884   \n",
       "4                                   -0.9011        -0.5947            -0.4417   \n",
       "5                                    0.5408         0.1117            -0.1884   \n",
       "\n",
       "   NumberOfTimes90DaysLate_woe  NumberRealEstateLoansOrLines_woe  \\\n",
       "1                        0.389                           -0.2413   \n",
       "2                        0.389                           -0.5904   \n",
       "3                        0.389                            0.2152   \n",
       "4                        0.389                            0.2152   \n",
       "5                        0.389                           -0.2413   \n",
       "\n",
       "   NumberOfTime60_89DaysPastDueNotWorse_woe  NumberOfDependents_woe  \n",
       "1                                    0.2874                  0.1489  \n",
       "2                                    0.2874                 -0.2068  \n",
       "3                                    0.2874                 -0.2068  \n",
       "4                                    0.2874                  0.1489  \n",
       "5                                    0.2874                 -0.1001  "
      ]
     },
     "execution_count": 126,
     "metadata": {},
     "output_type": "execute_result"
    }
   ],
   "source": [
    "test_woe=smgennew(test0,x_list)\n",
    "test_woe.head()"
   ]
  },
  {
   "cell_type": "markdown",
   "metadata": {},
   "source": [
    "- 抽取WOE数据生成预测用数据\n",
    "- 要加常数项列"
   ]
  },
  {
   "cell_type": "code",
   "execution_count": 128,
   "metadata": {},
   "outputs": [
    {
     "name": "stderr",
     "output_type": "stream",
     "text": [
      "D:\\tool\\anaconda\\lib\\site-packages\\numpy\\core\\fromnumeric.py:2389: FutureWarning: Method .ptp is deprecated and will be removed in a future version. Use numpy.ptp instead.\n",
      "  return ptp(axis=axis, out=out, **kwargs)\n"
     ]
    }
   ],
   "source": [
    "T=test_woe.iloc[:,-len(x_list):]\n",
    "T=sm.add_constant(T)"
   ]
  },
  {
   "cell_type": "code",
   "execution_count": 498,
   "metadata": {},
   "outputs": [
    {
     "data": {
      "text/html": [
       "<div>\n",
       "<style scoped>\n",
       "    .dataframe tbody tr th:only-of-type {\n",
       "        vertical-align: middle;\n",
       "    }\n",
       "\n",
       "    .dataframe tbody tr th {\n",
       "        vertical-align: top;\n",
       "    }\n",
       "\n",
       "    .dataframe thead th {\n",
       "        text-align: right;\n",
       "    }\n",
       "</style>\n",
       "<table border=\"1\" class=\"dataframe\">\n",
       "  <thead>\n",
       "    <tr style=\"text-align: right;\">\n",
       "      <th></th>\n",
       "      <th>const</th>\n",
       "      <th>RevolvingUtilizationOfUnsecuredLines_woe</th>\n",
       "      <th>age_woe</th>\n",
       "      <th>NumberOfTime30_59DaysPastDueNotWorse_woe</th>\n",
       "      <th>DebtRatio_woe</th>\n",
       "      <th>MonthlyIncome_woe</th>\n",
       "      <th>NumberOfOpenCreditLinesAndLoans_woe</th>\n",
       "      <th>NumberOfTimes90DaysLate_woe</th>\n",
       "      <th>NumberRealEstateLoansOrLines_woe</th>\n",
       "      <th>NumberOfTime60_89DaysPastDueNotWorse_woe</th>\n",
       "      <th>NumberOfDependents_woe</th>\n",
       "    </tr>\n",
       "  </thead>\n",
       "  <tbody>\n",
       "    <tr>\n",
       "      <th>1</th>\n",
       "      <td>1.0</td>\n",
       "      <td>-1.2175</td>\n",
       "      <td>-0.3249</td>\n",
       "      <td>0.5408</td>\n",
       "      <td>0.1117</td>\n",
       "      <td>0.0025</td>\n",
       "      <td>0.1557</td>\n",
       "      <td>0.389</td>\n",
       "      <td>-0.2413</td>\n",
       "      <td>0.2874</td>\n",
       "      <td>0.1489</td>\n",
       "    </tr>\n",
       "    <tr>\n",
       "      <th>2</th>\n",
       "      <td>1.0</td>\n",
       "      <td>0.1515</td>\n",
       "      <td>0.3025</td>\n",
       "      <td>0.5408</td>\n",
       "      <td>-0.2128</td>\n",
       "      <td>0.3397</td>\n",
       "      <td>-0.0441</td>\n",
       "      <td>0.389</td>\n",
       "      <td>-0.5904</td>\n",
       "      <td>0.2874</td>\n",
       "      <td>-0.2068</td>\n",
       "    </tr>\n",
       "    <tr>\n",
       "      <th>3</th>\n",
       "      <td>1.0</td>\n",
       "      <td>1.3365</td>\n",
       "      <td>0.3025</td>\n",
       "      <td>0.5408</td>\n",
       "      <td>-0.5947</td>\n",
       "      <td>-0.1884</td>\n",
       "      <td>0.1557</td>\n",
       "      <td>0.389</td>\n",
       "      <td>0.2152</td>\n",
       "      <td>0.2874</td>\n",
       "      <td>-0.2068</td>\n",
       "    </tr>\n",
       "    <tr>\n",
       "      <th>4</th>\n",
       "      <td>1.0</td>\n",
       "      <td>0.7032</td>\n",
       "      <td>-0.3249</td>\n",
       "      <td>-0.9011</td>\n",
       "      <td>-0.5947</td>\n",
       "      <td>-0.4417</td>\n",
       "      <td>0.1557</td>\n",
       "      <td>0.389</td>\n",
       "      <td>0.2152</td>\n",
       "      <td>0.2874</td>\n",
       "      <td>0.1489</td>\n",
       "    </tr>\n",
       "    <tr>\n",
       "      <th>5</th>\n",
       "      <td>1.0</td>\n",
       "      <td>-1.2175</td>\n",
       "      <td>-0.5507</td>\n",
       "      <td>0.5408</td>\n",
       "      <td>0.1117</td>\n",
       "      <td>-0.1884</td>\n",
       "      <td>0.1557</td>\n",
       "      <td>0.389</td>\n",
       "      <td>-0.2413</td>\n",
       "      <td>0.2874</td>\n",
       "      <td>-0.1001</td>\n",
       "    </tr>\n",
       "  </tbody>\n",
       "</table>\n",
       "</div>"
      ],
      "text/plain": [
       "   const  RevolvingUtilizationOfUnsecuredLines_woe  age_woe  \\\n",
       "1    1.0                                   -1.2175  -0.3249   \n",
       "2    1.0                                    0.1515   0.3025   \n",
       "3    1.0                                    1.3365   0.3025   \n",
       "4    1.0                                    0.7032  -0.3249   \n",
       "5    1.0                                   -1.2175  -0.5507   \n",
       "\n",
       "   NumberOfTime30_59DaysPastDueNotWorse_woe  DebtRatio_woe  MonthlyIncome_woe  \\\n",
       "1                                    0.5408         0.1117             0.0025   \n",
       "2                                    0.5408        -0.2128             0.3397   \n",
       "3                                    0.5408        -0.5947            -0.1884   \n",
       "4                                   -0.9011        -0.5947            -0.4417   \n",
       "5                                    0.5408         0.1117            -0.1884   \n",
       "\n",
       "   NumberOfOpenCreditLinesAndLoans_woe  NumberOfTimes90DaysLate_woe  \\\n",
       "1                               0.1557                        0.389   \n",
       "2                              -0.0441                        0.389   \n",
       "3                               0.1557                        0.389   \n",
       "4                               0.1557                        0.389   \n",
       "5                               0.1557                        0.389   \n",
       "\n",
       "   NumberRealEstateLoansOrLines_woe  NumberOfTime60_89DaysPastDueNotWorse_woe  \\\n",
       "1                           -0.2413                                    0.2874   \n",
       "2                           -0.5904                                    0.2874   \n",
       "3                            0.2152                                    0.2874   \n",
       "4                            0.2152                                    0.2874   \n",
       "5                           -0.2413                                    0.2874   \n",
       "\n",
       "   NumberOfDependents_woe  \n",
       "1                  0.1489  \n",
       "2                 -0.2068  \n",
       "3                 -0.2068  \n",
       "4                  0.1489  \n",
       "5                 -0.1001  "
      ]
     },
     "execution_count": 498,
     "metadata": {},
     "output_type": "execute_result"
    }
   ],
   "source": [
    "T.head()"
   ]
  },
  {
   "cell_type": "markdown",
   "metadata": {},
   "source": [
    "- 预测每一行数据是好客户的概率"
   ]
  },
  {
   "cell_type": "code",
   "execution_count": 129,
   "metadata": {},
   "outputs": [],
   "source": [
    "y_pred=glmodel.predict(T)"
   ]
  },
  {
   "cell_type": "code",
   "execution_count": 130,
   "metadata": {},
   "outputs": [
    {
     "data": {
      "text/plain": [
       "1    0.909053\n",
       "2    0.949668\n",
       "3    0.976163\n",
       "4    0.915432\n",
       "5    0.891403\n",
       "dtype: float64"
      ]
     },
     "execution_count": 130,
     "metadata": {},
     "output_type": "execute_result"
    }
   ],
   "source": [
    "y_pred.head()"
   ]
  },
  {
   "cell_type": "markdown",
   "metadata": {},
   "source": [
    "- 预测每行数据的分数,生成总分数和每个特征的分数"
   ]
  },
  {
   "cell_type": "code",
   "execution_count": 131,
   "metadata": {},
   "outputs": [],
   "source": [
    "Tscore=smscoregen(scorecard,T)"
   ]
  },
  {
   "cell_type": "code",
   "execution_count": 132,
   "metadata": {},
   "outputs": [
    {
     "data": {
      "text/html": [
       "<div>\n",
       "<style scoped>\n",
       "    .dataframe tbody tr th:only-of-type {\n",
       "        vertical-align: middle;\n",
       "    }\n",
       "\n",
       "    .dataframe tbody tr th {\n",
       "        vertical-align: top;\n",
       "    }\n",
       "\n",
       "    .dataframe thead th {\n",
       "        text-align: right;\n",
       "    }\n",
       "</style>\n",
       "<table border=\"1\" class=\"dataframe\">\n",
       "  <thead>\n",
       "    <tr style=\"text-align: right;\">\n",
       "      <th></th>\n",
       "      <th>const</th>\n",
       "      <th>RevolvingUtilizationOfUnsecuredLines_woe</th>\n",
       "      <th>age_woe</th>\n",
       "      <th>NumberOfTime30_59DaysPastDueNotWorse_woe</th>\n",
       "      <th>DebtRatio_woe</th>\n",
       "      <th>MonthlyIncome_woe</th>\n",
       "      <th>NumberOfTimes90DaysLate_woe</th>\n",
       "      <th>NumberRealEstateLoansOrLines_woe</th>\n",
       "      <th>NumberOfTime60_89DaysPastDueNotWorse_woe</th>\n",
       "      <th>NumberOfDependents_woe</th>\n",
       "      <th>RevolvingUtilizationOfUnsecuredLines_Score</th>\n",
       "      <th>age_Score</th>\n",
       "      <th>NumberOfTime30_59DaysPastDueNotWorse_Score</th>\n",
       "      <th>DebtRatio_Score</th>\n",
       "      <th>MonthlyIncome_Score</th>\n",
       "      <th>NumberOfTimes90DaysLate_Score</th>\n",
       "      <th>NumberRealEstateLoansOrLines_Score</th>\n",
       "      <th>NumberOfTime60_89DaysPastDueNotWorse_Score</th>\n",
       "      <th>NumberOfDependents_Score</th>\n",
       "      <th>Score</th>\n",
       "    </tr>\n",
       "  </thead>\n",
       "  <tbody>\n",
       "    <tr>\n",
       "      <th>0</th>\n",
       "      <td>1.0</td>\n",
       "      <td>-1.2175</td>\n",
       "      <td>-0.3249</td>\n",
       "      <td>0.5408</td>\n",
       "      <td>0.1117</td>\n",
       "      <td>0.0025</td>\n",
       "      <td>0.389</td>\n",
       "      <td>-0.2413</td>\n",
       "      <td>0.2874</td>\n",
       "      <td>0.1489</td>\n",
       "      <td>31</td>\n",
       "      <td>68</td>\n",
       "      <td>93</td>\n",
       "      <td>81</td>\n",
       "      <td>76</td>\n",
       "      <td>89</td>\n",
       "      <td>68</td>\n",
       "      <td>83</td>\n",
       "      <td>79</td>\n",
       "      <td>668</td>\n",
       "    </tr>\n",
       "    <tr>\n",
       "      <th>1</th>\n",
       "      <td>1.0</td>\n",
       "      <td>0.1515</td>\n",
       "      <td>0.3025</td>\n",
       "      <td>0.5408</td>\n",
       "      <td>-0.2128</td>\n",
       "      <td>0.3397</td>\n",
       "      <td>0.389</td>\n",
       "      <td>-0.5904</td>\n",
       "      <td>0.2874</td>\n",
       "      <td>-0.2068</td>\n",
       "      <td>82</td>\n",
       "      <td>84</td>\n",
       "      <td>93</td>\n",
       "      <td>67</td>\n",
       "      <td>80</td>\n",
       "      <td>89</td>\n",
       "      <td>57</td>\n",
       "      <td>83</td>\n",
       "      <td>73</td>\n",
       "      <td>708</td>\n",
       "    </tr>\n",
       "    <tr>\n",
       "      <th>2</th>\n",
       "      <td>1.0</td>\n",
       "      <td>1.3365</td>\n",
       "      <td>0.3025</td>\n",
       "      <td>0.5408</td>\n",
       "      <td>-0.5947</td>\n",
       "      <td>-0.1884</td>\n",
       "      <td>0.389</td>\n",
       "      <td>0.2152</td>\n",
       "      <td>0.2874</td>\n",
       "      <td>-0.2068</td>\n",
       "      <td>126</td>\n",
       "      <td>84</td>\n",
       "      <td>93</td>\n",
       "      <td>50</td>\n",
       "      <td>74</td>\n",
       "      <td>89</td>\n",
       "      <td>84</td>\n",
       "      <td>83</td>\n",
       "      <td>73</td>\n",
       "      <td>756</td>\n",
       "    </tr>\n",
       "    <tr>\n",
       "      <th>3</th>\n",
       "      <td>1.0</td>\n",
       "      <td>0.7032</td>\n",
       "      <td>-0.3249</td>\n",
       "      <td>-0.9011</td>\n",
       "      <td>-0.5947</td>\n",
       "      <td>-0.4417</td>\n",
       "      <td>0.389</td>\n",
       "      <td>0.2152</td>\n",
       "      <td>0.2874</td>\n",
       "      <td>0.1489</td>\n",
       "      <td>102</td>\n",
       "      <td>68</td>\n",
       "      <td>48</td>\n",
       "      <td>50</td>\n",
       "      <td>71</td>\n",
       "      <td>89</td>\n",
       "      <td>84</td>\n",
       "      <td>83</td>\n",
       "      <td>79</td>\n",
       "      <td>674</td>\n",
       "    </tr>\n",
       "    <tr>\n",
       "      <th>4</th>\n",
       "      <td>1.0</td>\n",
       "      <td>-1.2175</td>\n",
       "      <td>-0.5507</td>\n",
       "      <td>0.5408</td>\n",
       "      <td>0.1117</td>\n",
       "      <td>-0.1884</td>\n",
       "      <td>0.389</td>\n",
       "      <td>-0.2413</td>\n",
       "      <td>0.2874</td>\n",
       "      <td>-0.1001</td>\n",
       "      <td>31</td>\n",
       "      <td>62</td>\n",
       "      <td>93</td>\n",
       "      <td>81</td>\n",
       "      <td>74</td>\n",
       "      <td>89</td>\n",
       "      <td>68</td>\n",
       "      <td>83</td>\n",
       "      <td>75</td>\n",
       "      <td>656</td>\n",
       "    </tr>\n",
       "  </tbody>\n",
       "</table>\n",
       "</div>"
      ],
      "text/plain": [
       "   const  RevolvingUtilizationOfUnsecuredLines_woe  age_woe  \\\n",
       "0    1.0                                   -1.2175  -0.3249   \n",
       "1    1.0                                    0.1515   0.3025   \n",
       "2    1.0                                    1.3365   0.3025   \n",
       "3    1.0                                    0.7032  -0.3249   \n",
       "4    1.0                                   -1.2175  -0.5507   \n",
       "\n",
       "   NumberOfTime30_59DaysPastDueNotWorse_woe  DebtRatio_woe  MonthlyIncome_woe  \\\n",
       "0                                    0.5408         0.1117             0.0025   \n",
       "1                                    0.5408        -0.2128             0.3397   \n",
       "2                                    0.5408        -0.5947            -0.1884   \n",
       "3                                   -0.9011        -0.5947            -0.4417   \n",
       "4                                    0.5408         0.1117            -0.1884   \n",
       "\n",
       "   NumberOfTimes90DaysLate_woe  NumberRealEstateLoansOrLines_woe  \\\n",
       "0                        0.389                           -0.2413   \n",
       "1                        0.389                           -0.5904   \n",
       "2                        0.389                            0.2152   \n",
       "3                        0.389                            0.2152   \n",
       "4                        0.389                           -0.2413   \n",
       "\n",
       "   NumberOfTime60_89DaysPastDueNotWorse_woe  NumberOfDependents_woe  \\\n",
       "0                                    0.2874                  0.1489   \n",
       "1                                    0.2874                 -0.2068   \n",
       "2                                    0.2874                 -0.2068   \n",
       "3                                    0.2874                  0.1489   \n",
       "4                                    0.2874                 -0.1001   \n",
       "\n",
       "   RevolvingUtilizationOfUnsecuredLines_Score  age_Score  \\\n",
       "0                                          31         68   \n",
       "1                                          82         84   \n",
       "2                                         126         84   \n",
       "3                                         102         68   \n",
       "4                                          31         62   \n",
       "\n",
       "   NumberOfTime30_59DaysPastDueNotWorse_Score  DebtRatio_Score  \\\n",
       "0                                          93               81   \n",
       "1                                          93               67   \n",
       "2                                          93               50   \n",
       "3                                          48               50   \n",
       "4                                          93               81   \n",
       "\n",
       "   MonthlyIncome_Score  NumberOfTimes90DaysLate_Score  \\\n",
       "0                   76                             89   \n",
       "1                   80                             89   \n",
       "2                   74                             89   \n",
       "3                   71                             89   \n",
       "4                   74                             89   \n",
       "\n",
       "   NumberRealEstateLoansOrLines_Score  \\\n",
       "0                                  68   \n",
       "1                                  57   \n",
       "2                                  84   \n",
       "3                                  84   \n",
       "4                                  68   \n",
       "\n",
       "   NumberOfTime60_89DaysPastDueNotWorse_Score  NumberOfDependents_Score  Score  \n",
       "0                                          83                        79    668  \n",
       "1                                          83                        73    708  \n",
       "2                                          83                        73    756  \n",
       "3                                          83                        79    674  \n",
       "4                                          83                        75    656  "
      ]
     },
     "execution_count": 132,
     "metadata": {},
     "output_type": "execute_result"
    }
   ],
   "source": [
    "Tscore.head()"
   ]
  },
  {
   "cell_type": "markdown",
   "metadata": {},
   "source": [
    "- 根据分数和训练得到的阈值判断客户的好坏,好客户是1,坏客户是0"
   ]
  },
  {
   "cell_type": "code",
   "execution_count": 133,
   "metadata": {},
   "outputs": [
    {
     "data": {
      "text/html": [
       "<div>\n",
       "<style scoped>\n",
       "    .dataframe tbody tr th:only-of-type {\n",
       "        vertical-align: middle;\n",
       "    }\n",
       "\n",
       "    .dataframe tbody tr th {\n",
       "        vertical-align: top;\n",
       "    }\n",
       "\n",
       "    .dataframe thead th {\n",
       "        text-align: right;\n",
       "    }\n",
       "</style>\n",
       "<table border=\"1\" class=\"dataframe\">\n",
       "  <thead>\n",
       "    <tr style=\"text-align: right;\">\n",
       "      <th></th>\n",
       "      <th>SeriousDlqin2yrs</th>\n",
       "      <th>RevolvingUtilizationOfUnsecuredLines</th>\n",
       "      <th>age</th>\n",
       "      <th>NumberOfTime30_59DaysPastDueNotWorse</th>\n",
       "      <th>DebtRatio</th>\n",
       "      <th>MonthlyIncome</th>\n",
       "      <th>NumberOfOpenCreditLinesAndLoans</th>\n",
       "      <th>NumberOfTimes90DaysLate</th>\n",
       "      <th>NumberRealEstateLoansOrLines</th>\n",
       "      <th>NumberOfTime60_89DaysPastDueNotWorse</th>\n",
       "      <th>NumberOfDependents</th>\n",
       "    </tr>\n",
       "  </thead>\n",
       "  <tbody>\n",
       "    <tr>\n",
       "      <th>1</th>\n",
       "      <td>1.0</td>\n",
       "      <td>0.885519</td>\n",
       "      <td>43</td>\n",
       "      <td>0</td>\n",
       "      <td>0.177513</td>\n",
       "      <td>5700.0</td>\n",
       "      <td>4</td>\n",
       "      <td>0</td>\n",
       "      <td>0</td>\n",
       "      <td>0</td>\n",
       "      <td>0.0</td>\n",
       "    </tr>\n",
       "    <tr>\n",
       "      <th>2</th>\n",
       "      <td>1.0</td>\n",
       "      <td>0.463295</td>\n",
       "      <td>57</td>\n",
       "      <td>0</td>\n",
       "      <td>0.527237</td>\n",
       "      <td>9141.0</td>\n",
       "      <td>15</td>\n",
       "      <td>0</td>\n",
       "      <td>4</td>\n",
       "      <td>0</td>\n",
       "      <td>2.0</td>\n",
       "    </tr>\n",
       "    <tr>\n",
       "      <th>3</th>\n",
       "      <td>0.0</td>\n",
       "      <td>0.043275</td>\n",
       "      <td>59</td>\n",
       "      <td>0</td>\n",
       "      <td>0.687648</td>\n",
       "      <td>5083.0</td>\n",
       "      <td>12</td>\n",
       "      <td>0</td>\n",
       "      <td>1</td>\n",
       "      <td>0</td>\n",
       "      <td>2.0</td>\n",
       "    </tr>\n",
       "    <tr>\n",
       "      <th>4</th>\n",
       "      <td>0.0</td>\n",
       "      <td>0.280308</td>\n",
       "      <td>38</td>\n",
       "      <td>1</td>\n",
       "      <td>0.925961</td>\n",
       "      <td>3200.0</td>\n",
       "      <td>7</td>\n",
       "      <td>0</td>\n",
       "      <td>2</td>\n",
       "      <td>0</td>\n",
       "      <td>0.0</td>\n",
       "    </tr>\n",
       "    <tr>\n",
       "      <th>5</th>\n",
       "      <td>1.0</td>\n",
       "      <td>1.000000</td>\n",
       "      <td>27</td>\n",
       "      <td>0</td>\n",
       "      <td>0.019917</td>\n",
       "      <td>3865.0</td>\n",
       "      <td>4</td>\n",
       "      <td>0</td>\n",
       "      <td>0</td>\n",
       "      <td>0</td>\n",
       "      <td>1.0</td>\n",
       "    </tr>\n",
       "  </tbody>\n",
       "</table>\n",
       "</div>"
      ],
      "text/plain": [
       "   SeriousDlqin2yrs  RevolvingUtilizationOfUnsecuredLines  age  \\\n",
       "1               1.0                              0.885519   43   \n",
       "2               1.0                              0.463295   57   \n",
       "3               0.0                              0.043275   59   \n",
       "4               0.0                              0.280308   38   \n",
       "5               1.0                              1.000000   27   \n",
       "\n",
       "   NumberOfTime30_59DaysPastDueNotWorse  DebtRatio  MonthlyIncome  \\\n",
       "1                                     0   0.177513         5700.0   \n",
       "2                                     0   0.527237         9141.0   \n",
       "3                                     0   0.687648         5083.0   \n",
       "4                                     1   0.925961         3200.0   \n",
       "5                                     0   0.019917         3865.0   \n",
       "\n",
       "   NumberOfOpenCreditLinesAndLoans  NumberOfTimes90DaysLate  \\\n",
       "1                                4                        0   \n",
       "2                               15                        0   \n",
       "3                               12                        0   \n",
       "4                                7                        0   \n",
       "5                                4                        0   \n",
       "\n",
       "   NumberRealEstateLoansOrLines  NumberOfTime60_89DaysPastDueNotWorse  \\\n",
       "1                             0                                     0   \n",
       "2                             4                                     0   \n",
       "3                             1                                     0   \n",
       "4                             2                                     0   \n",
       "5                             0                                     0   \n",
       "\n",
       "   NumberOfDependents  \n",
       "1                 0.0  \n",
       "2                 2.0  \n",
       "3                 2.0  \n",
       "4                 0.0  \n",
       "5                 1.0  "
      ]
     },
     "execution_count": 133,
     "metadata": {},
     "output_type": "execute_result"
    }
   ],
   "source": [
    "test0[y]=(Tscore.Score>evaluate1.cutoff)*1\n",
    "test0.head()"
   ]
  },
  {
   "cell_type": "code",
   "execution_count": 134,
   "metadata": {},
   "outputs": [
    {
     "data": {
      "text/plain": [
       "0.8609421718165055"
      ]
     },
     "execution_count": 134,
     "metadata": {},
     "output_type": "execute_result"
    }
   ],
   "source": [
    "evaluate1.AUC"
   ]
  }
 ],
 "metadata": {
  "kernelspec": {
   "display_name": "Python 3",
   "language": "python",
   "name": "python3"
  },
  "language_info": {
   "codemirror_mode": {
    "name": "ipython",
    "version": 3
   },
   "file_extension": ".py",
   "mimetype": "text/x-python",
   "name": "python",
   "nbconvert_exporter": "python",
   "pygments_lexer": "ipython3",
   "version": "3.7.3"
  },
  "toc": {
   "base_numbering": 1,
   "nav_menu": {},
   "number_sections": true,
   "sideBar": true,
   "skip_h1_title": false,
   "title_cell": "Table of Contents",
   "title_sidebar": "Contents",
   "toc_cell": false,
   "toc_position": {},
   "toc_section_display": true,
   "toc_window_display": true
  }
 },
 "nbformat": 4,
 "nbformat_minor": 2
}
